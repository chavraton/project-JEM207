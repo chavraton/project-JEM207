{
 "cells": [
  {
   "cell_type": "markdown",
   "metadata": {},
   "source": [
    "# Python Project: World Surf League Championship Tour 2019 Analysis\n",
    "\n",
    "### JEM207, IES UK, 2019/20\n",
    "### Authors: Ondřej Charvát, Richard Karolík"
   ]
  },
  {
   "cell_type": "markdown",
   "metadata": {},
   "source": [
    "### 1. Setting the scraper"
   ]
  },
  {
   "cell_type": "code",
   "execution_count": 1,
   "metadata": {},
   "outputs": [],
   "source": [
    "# importing packages\n",
    "\n",
    "%matplotlib inline\n",
    "import requests\n",
    "import re\n",
    "import numpy as np\n",
    "import pandas as pd\n",
    "from bs4 import BeautifulSoup as bs"
   ]
  },
  {
   "cell_type": "code",
   "execution_count": 2,
   "metadata": {},
   "outputs": [],
   "source": [
    "class Athlete():\n",
    "    '''This is a class for 35 top athletes competing in the WSL Championship tour 2019.'''\n",
    "    def __init__(self,link):\n",
    "        self.link = link\n",
    "        self.request = requests.get(link)\n",
    "        self.request.encoding='UTF-8'\n",
    "        self.soup = bs(self.request.text,'lxml')\n",
    "        self.name = self.soup.find('span',{'class':'athlete-name'}).text\n",
    "        self.country = self.soup.find('div',{'class':'country-name'}).text\n",
    "        \n",
    "        self.characteristics = self.getChars()    \n",
    "        self.stats = self.getStats()   \n",
    "        self.events = self.getEvents()\n",
    "    \n",
    "    def getChars(self):\n",
    "        '''This gets the characteristics of each surfer.'''\n",
    "        \n",
    "        labels = ['Stance','First season','Age','Height (cm)','Weight (kg)','Country']\n",
    "        values=[]\n",
    "        \n",
    "        lis = self.soup.find('div',{'class':'new-athlete-bio-stats'}).find_all('li')\n",
    "        \n",
    "        i = 1\n",
    "        #there are some irregularities in the code and a few specific conditions were needed\n",
    "        for li in lis:\n",
    "            value = None\n",
    "            if i == 3:\n",
    "                value = int(li.find_all('div')[1].text.split('\\n')[1].replace(\" \",\"\"))\n",
    "            elif i == 4:\n",
    "                value = int(li.find_all('div')[1].text.split('\\n')[-1].replace(\" \",\"\").replace('cm',''))\n",
    "            elif i == 5:\n",
    "                value = int(li.find_all('div')[1].text.split('lbs')[-1].replace(\" \",\"\").replace('kg',''))\n",
    "            elif i == 6:\n",
    "                value = str(self.country)\n",
    "            else:\n",
    "                value = li.find_all('div')[1].text\n",
    "            values.append(value)\n",
    "            i+=1\n",
    "         \n",
    "        d = {}\n",
    "        for i in range(0, 6):\n",
    "            d[labels[i]] = values[i]\n",
    "        chars = pd.Series(d)\n",
    "        chars.loc['Athlete'] = self.name\n",
    "        return chars\n",
    "\n",
    "    def getStats(self):\n",
    "        '''This gets the 2019 statistics of each surfer.'''\n",
    "        \n",
    "        labels = [\"Men's CT 2019 Ranking\", \"Heat wins\", \"Avg. heat score\", \"Rookie year\"]\n",
    "        values = []\n",
    "        \n",
    "        lis = self.soup.find('ul',{'class':'new-athlete-stat-bar__stats stat-bar__stats'}).find_all('li')\n",
    "        for li in lis:\n",
    "            values.append(li.find('div',{'class':'value'}).text)\n",
    "       \n",
    "        d = {}\n",
    "        #there are some irregularities in the code and a few specific conditions were needed\n",
    "        for i in range(0, 4):\n",
    "            if i == 0:\n",
    "                d[labels[i]] = int(str(values[i]).replace('#',''))\n",
    "            elif i == 1:\n",
    "                d[labels[i]] = int(values[i])\n",
    "            else:\n",
    "                d[labels[i]] = float(values[i])\n",
    "        stats = pd.Series(d)\n",
    "        stats.loc['Athlete'] = self.name\n",
    "        return stats\n",
    "\n",
    "    \n",
    "    def getEvents(self):\n",
    "        '''This gets the information about 2019 events of each surfer.'''\n",
    "        \n",
    "        labels1 = ['Event {}: Place'.format(i) for i in range(1, 12)]\n",
    "        labels2 = ['Event {}: Points'.format(i) for i in range(1, 12)]\n",
    "        values1 = []\n",
    "        values2 = []\n",
    "        \n",
    "                \n",
    "        div = self.soup.find('div',{'class':'table-wrap table-wrap--athletes'})\n",
    "        trs = self.soup.find('div',{'class':'table-wrap table-wrap--athletes'}).find_all('tr')[1:]\n",
    "        \n",
    "        #there are some irregularities in the code and a few specific conditions were needed\n",
    "\n",
    "        codes = [2908,2909,2912,2913,2916,2917,2919,2920,2923,2924,2927]\n",
    "        j=0\n",
    "        matching = []\n",
    "\n",
    "        for i in range(0, 11):\n",
    "            matching.append('athlete-event-{}'.format(codes[i]) in str(div))\n",
    "            if matching[i]:              \n",
    "                if 'INJ' in trs[j].find_all('td')[1].text:\n",
    "                    values1.append('INJ')\n",
    "                else:\n",
    "                    values1.append(str(trs[j].find_all('td')[1].text))\n",
    "                values2.append(int(str(trs[j].find_all('td')[2].text).replace(',','')))\n",
    "                j+=1\n",
    "            else:\n",
    "                values1.append(\"-\")\n",
    "                values2.append(0)\n",
    "                           \n",
    "        labels = labels1+labels2\n",
    "        values = values1+values2\n",
    "        \n",
    "        d = {}\n",
    "        for i in range(0, 22):\n",
    "            d[labels[i]] = values[i]\n",
    "        events = pd.Series(d)\n",
    "        events.loc['Athlete'] = self.name\n",
    "                           \n",
    "        return events"
   ]
  },
  {
   "cell_type": "markdown",
   "metadata": {},
   "source": [
    "### 2. Scraping all athletes data:"
   ]
  },
  {
   "cell_type": "code",
   "execution_count": 27,
   "metadata": {},
   "outputs": [
    {
     "name": "stdout",
     "output_type": "stream",
     "text": [
      "Success: Italo Ferreira, Brazil, (0)\n",
      "Success: Gabriel Medina, Brazil, (1)\n",
      "Success: Jordy Smith, South Africa, (2)\n",
      "Success: Filipe Toledo, Brazil, (3)\n",
      "Success: Kolohe Andino, United States, (4)\n",
      "Success: Kanoa Igarashi, Japan, (5)\n",
      "Success: John John Florence, Hawaii, (6)\n",
      "Success: Kelly Slater, United States, (7)\n",
      "Success: Owen Wright, Australia, (8)\n",
      "Success: Jeremy Flores, France, (9)\n",
      "Success: Julian Wilson, Australia, (10)\n",
      "Success: Seth Moniz, Hawaii, (11)\n",
      "Success: Michel Bourez, France, (12)\n",
      "Success: Ryan Callinan, Australia, (13)\n",
      "Success: Jack Freestone, Australia, (14)\n",
      "Success: Griffin Colapinto, United States, (15)\n",
      "Success: Caio Ibelli, Brazil, (16)\n",
      "Success: Wade Carmichael, Australia, (17)\n",
      "Success: Adrian Buchan, Australia, (18)\n",
      "Success: Conner Coffin, United States, (19)\n",
      "Success: Peterson Crisanto, Brazil, (20)\n",
      "Success: Yago Dora, Brazil, (21)\n",
      "Success: Deivid Silva, Brazil, (22)\n",
      "Success: Willian Cardoso, Brazil, (23)\n",
      "Success: Jesse Mendes, Brazil, (24)\n",
      "Success: Michael Rodrigues, Brazil, (25)\n",
      "Success: Sebastian Zietz, Hawaii, (26)\n",
      "Success: Ezekiel Lau, Hawaii, (27)\n",
      "Success: Joan Duru, France, (28)\n",
      "Success: Soli Bailey, Australia, (29)\n",
      "Success: Leonardo Fioravanti, Italy, (30)\n",
      "Success: Jadson Andre, Brazil, (31)\n",
      "Success: Ricardo Christie, New Zealand, (32)\n",
      "Success: Frederico Morais, Portugal, (33)\n",
      "Success: Adriano de Souza, Brazil, (34)\n",
      "Success: Mikey Wright, Australia, (35)\n"
     ]
    }
   ],
   "source": [
    "# setting the source link to the list of athletes based on the 2019 ranking\n",
    "\n",
    "r = requests.get('https://www.worldsurfleague.com/athletes/tour/mct?year=2019')\n",
    "r.encoding = 'UTF-8'\n",
    "soup = bs(r.text,'lxml')\n",
    "tds = soup.find_all('td',{'class':'athlete-headshot-and-name'})\n",
    "links = ['http://www.worldsurfleague.com' + td.a['href'] for td in tds]\n",
    "\n",
    "athletes = []\n",
    "lchars = []\n",
    "lstats = []\n",
    "levents = []\n",
    "\n",
    "# The athletes in the bottom of the ranking table had missing and different information on their webpages, hence we ignored them.\n",
    "i=0\n",
    "for link in links[0:36]:     \n",
    "    ath = Athlete(link)\n",
    "    athletes.append(ath.name)\n",
    "    lstats.append(ath.stats)\n",
    "    levents.append(ath.events)\n",
    "    lchars.append(ath.characteristics)\n",
    "    print('Success: {}, {}, ({})'.format(ath.name,ath.country,i))\n",
    "    i += 1\n",
    "\n",
    "# We merge the statistics, characteristics and events information of all surfers separately and then into one large dataframe    \n",
    "    \n",
    "aaa = pd.concat(lstats,axis=1).T\n",
    "bbb = pd.concat(lchars,axis=1).T\n",
    "ccc = pd.concat(levents,axis=1).T\n",
    "\n",
    "ddd = pd.merge(aaa,bbb, how='outer')\n",
    "\n",
    "eee = pd.merge(ddd,ccc, how='outer')\n",
    "eee = eee.set_index('Athlete')           # we set the indexes to the athletes' names"
   ]
  },
  {
   "cell_type": "markdown",
   "metadata": {},
   "source": [
    "### 3. Data inspection and preparation:"
   ]
  },
  {
   "cell_type": "code",
   "execution_count": 4,
   "metadata": {},
   "outputs": [
    {
     "data": {
      "text/html": [
       "<div>\n",
       "<style scoped>\n",
       "    .dataframe tbody tr th:only-of-type {\n",
       "        vertical-align: middle;\n",
       "    }\n",
       "\n",
       "    .dataframe tbody tr th {\n",
       "        vertical-align: top;\n",
       "    }\n",
       "\n",
       "    .dataframe thead th {\n",
       "        text-align: right;\n",
       "    }\n",
       "</style>\n",
       "<table border=\"1\" class=\"dataframe\">\n",
       "  <thead>\n",
       "    <tr style=\"text-align: right;\">\n",
       "      <th></th>\n",
       "      <th>Men's CT 2019 Ranking</th>\n",
       "      <th>Heat wins</th>\n",
       "      <th>Avg. heat score</th>\n",
       "      <th>Rookie year</th>\n",
       "      <th>Stance</th>\n",
       "      <th>First season</th>\n",
       "      <th>Age</th>\n",
       "      <th>Height (cm)</th>\n",
       "      <th>Weight (kg)</th>\n",
       "      <th>Country</th>\n",
       "      <th>...</th>\n",
       "      <th>Event 2: Points</th>\n",
       "      <th>Event 3: Points</th>\n",
       "      <th>Event 4: Points</th>\n",
       "      <th>Event 5: Points</th>\n",
       "      <th>Event 6: Points</th>\n",
       "      <th>Event 7: Points</th>\n",
       "      <th>Event 8: Points</th>\n",
       "      <th>Event 9: Points</th>\n",
       "      <th>Event 10: Points</th>\n",
       "      <th>Event 11: Points</th>\n",
       "    </tr>\n",
       "    <tr>\n",
       "      <th>Athlete</th>\n",
       "      <th></th>\n",
       "      <th></th>\n",
       "      <th></th>\n",
       "      <th></th>\n",
       "      <th></th>\n",
       "      <th></th>\n",
       "      <th></th>\n",
       "      <th></th>\n",
       "      <th></th>\n",
       "      <th></th>\n",
       "      <th></th>\n",
       "      <th></th>\n",
       "      <th></th>\n",
       "      <th></th>\n",
       "      <th></th>\n",
       "      <th></th>\n",
       "      <th></th>\n",
       "      <th></th>\n",
       "      <th></th>\n",
       "      <th></th>\n",
       "      <th></th>\n",
       "    </tr>\n",
       "  </thead>\n",
       "  <tbody>\n",
       "    <tr>\n",
       "      <th>Italo Ferreira</th>\n",
       "      <td>1</td>\n",
       "      <td>33</td>\n",
       "      <td>13.35</td>\n",
       "      <td>2015</td>\n",
       "      <td>Goofy</td>\n",
       "      <td>2009 Men's QS</td>\n",
       "      <td>25</td>\n",
       "      <td>168</td>\n",
       "      <td>68</td>\n",
       "      <td>Brazil</td>\n",
       "      <td>...</td>\n",
       "      <td>4745</td>\n",
       "      <td>1330</td>\n",
       "      <td>4745</td>\n",
       "      <td>1330</td>\n",
       "      <td>7800</td>\n",
       "      <td>1330</td>\n",
       "      <td>3320</td>\n",
       "      <td>7800</td>\n",
       "      <td>10000</td>\n",
       "      <td>10000</td>\n",
       "    </tr>\n",
       "    <tr>\n",
       "      <th>Gabriel Medina</th>\n",
       "      <td>2</td>\n",
       "      <td>31</td>\n",
       "      <td>13.64</td>\n",
       "      <td>2012</td>\n",
       "      <td>Goofy</td>\n",
       "      <td>2008 Men's QS</td>\n",
       "      <td>26</td>\n",
       "      <td>180</td>\n",
       "      <td>77</td>\n",
       "      <td>Brazil</td>\n",
       "      <td>...</td>\n",
       "      <td>4745</td>\n",
       "      <td>1330</td>\n",
       "      <td>1330</td>\n",
       "      <td>4745</td>\n",
       "      <td>10000</td>\n",
       "      <td>7800</td>\n",
       "      <td>10000</td>\n",
       "      <td>3320</td>\n",
       "      <td>3320</td>\n",
       "      <td>7800</td>\n",
       "    </tr>\n",
       "    <tr>\n",
       "      <th>Jordy Smith</th>\n",
       "      <td>3</td>\n",
       "      <td>25</td>\n",
       "      <td>12.1</td>\n",
       "      <td>2008</td>\n",
       "      <td>Regular</td>\n",
       "      <td>2006 Men's CT</td>\n",
       "      <td>31</td>\n",
       "      <td>190</td>\n",
       "      <td>88</td>\n",
       "      <td>South Africa</td>\n",
       "      <td>...</td>\n",
       "      <td>6085</td>\n",
       "      <td>1330</td>\n",
       "      <td>4745</td>\n",
       "      <td>7800</td>\n",
       "      <td>3320</td>\n",
       "      <td>6085</td>\n",
       "      <td>4745</td>\n",
       "      <td>3320</td>\n",
       "      <td>7800</td>\n",
       "      <td>1330</td>\n",
       "    </tr>\n",
       "    <tr>\n",
       "      <th>Filipe Toledo</th>\n",
       "      <td>4</td>\n",
       "      <td>27</td>\n",
       "      <td>13.62</td>\n",
       "      <td>2013</td>\n",
       "      <td>Regular</td>\n",
       "      <td>2009 Men's QS</td>\n",
       "      <td>24</td>\n",
       "      <td>175</td>\n",
       "      <td>70</td>\n",
       "      <td>Brazil</td>\n",
       "      <td>...</td>\n",
       "      <td>7800</td>\n",
       "      <td>4745</td>\n",
       "      <td>1330</td>\n",
       "      <td>10000</td>\n",
       "      <td>6085</td>\n",
       "      <td>3320</td>\n",
       "      <td>7800</td>\n",
       "      <td>1330</td>\n",
       "      <td>4745</td>\n",
       "      <td>1330</td>\n",
       "    </tr>\n",
       "    <tr>\n",
       "      <th>Kolohe Andino</th>\n",
       "      <td>5</td>\n",
       "      <td>28</td>\n",
       "      <td>11.98</td>\n",
       "      <td>2012</td>\n",
       "      <td>Regular</td>\n",
       "      <td>2008 Men's QS</td>\n",
       "      <td>25</td>\n",
       "      <td>180</td>\n",
       "      <td>79</td>\n",
       "      <td>United States</td>\n",
       "      <td>...</td>\n",
       "      <td>1330</td>\n",
       "      <td>4745</td>\n",
       "      <td>7800</td>\n",
       "      <td>6085</td>\n",
       "      <td>6085</td>\n",
       "      <td>1330</td>\n",
       "      <td>1330</td>\n",
       "      <td>4745</td>\n",
       "      <td>4745</td>\n",
       "      <td>3320</td>\n",
       "    </tr>\n",
       "  </tbody>\n",
       "</table>\n",
       "<p>5 rows × 32 columns</p>\n",
       "</div>"
      ],
      "text/plain": [
       "               Men's CT 2019 Ranking Heat wins Avg. heat score Rookie year  \\\n",
       "Athlete                                                                      \n",
       "Italo Ferreira                     1        33           13.35        2015   \n",
       "Gabriel Medina                     2        31           13.64        2012   \n",
       "Jordy Smith                        3        25            12.1        2008   \n",
       "Filipe Toledo                      4        27           13.62        2013   \n",
       "Kolohe Andino                      5        28           11.98        2012   \n",
       "\n",
       "                 Stance   First season Age Height (cm) Weight (kg)  \\\n",
       "Athlete                                                              \n",
       "Italo Ferreira    Goofy  2009 Men's QS  25         168          68   \n",
       "Gabriel Medina    Goofy  2008 Men's QS  26         180          77   \n",
       "Jordy Smith     Regular  2006 Men's CT  31         190          88   \n",
       "Filipe Toledo   Regular  2009 Men's QS  24         175          70   \n",
       "Kolohe Andino   Regular  2008 Men's QS  25         180          79   \n",
       "\n",
       "                      Country  ... Event 2: Points Event 3: Points  \\\n",
       "Athlete                        ...                                   \n",
       "Italo Ferreira         Brazil  ...            4745            1330   \n",
       "Gabriel Medina         Brazil  ...            4745            1330   \n",
       "Jordy Smith      South Africa  ...            6085            1330   \n",
       "Filipe Toledo          Brazil  ...            7800            4745   \n",
       "Kolohe Andino   United States  ...            1330            4745   \n",
       "\n",
       "               Event 4: Points Event 5: Points Event 6: Points  \\\n",
       "Athlete                                                          \n",
       "Italo Ferreira            4745            1330            7800   \n",
       "Gabriel Medina            1330            4745           10000   \n",
       "Jordy Smith               4745            7800            3320   \n",
       "Filipe Toledo             1330           10000            6085   \n",
       "Kolohe Andino             7800            6085            6085   \n",
       "\n",
       "               Event 7: Points Event 8: Points Event 9: Points  \\\n",
       "Athlete                                                          \n",
       "Italo Ferreira            1330            3320            7800   \n",
       "Gabriel Medina            7800           10000            3320   \n",
       "Jordy Smith               6085            4745            3320   \n",
       "Filipe Toledo             3320            7800            1330   \n",
       "Kolohe Andino             1330            1330            4745   \n",
       "\n",
       "               Event 10: Points Event 11: Points  \n",
       "Athlete                                           \n",
       "Italo Ferreira            10000            10000  \n",
       "Gabriel Medina             3320             7800  \n",
       "Jordy Smith                7800             1330  \n",
       "Filipe Toledo              4745             1330  \n",
       "Kolohe Andino              4745             3320  \n",
       "\n",
       "[5 rows x 32 columns]"
      ]
     },
     "execution_count": 4,
     "metadata": {},
     "output_type": "execute_result"
    }
   ],
   "source": [
    "eee.head()"
   ]
  },
  {
   "cell_type": "markdown",
   "metadata": {},
   "source": [
    "First 5 rows suggest the data frame is set correctly."
   ]
  },
  {
   "cell_type": "code",
   "execution_count": 5,
   "metadata": {},
   "outputs": [
    {
     "data": {
      "text/html": [
       "<div>\n",
       "<style scoped>\n",
       "    .dataframe tbody tr th:only-of-type {\n",
       "        vertical-align: middle;\n",
       "    }\n",
       "\n",
       "    .dataframe tbody tr th {\n",
       "        vertical-align: top;\n",
       "    }\n",
       "\n",
       "    .dataframe thead th {\n",
       "        text-align: right;\n",
       "    }\n",
       "</style>\n",
       "<table border=\"1\" class=\"dataframe\">\n",
       "  <thead>\n",
       "    <tr style=\"text-align: right;\">\n",
       "      <th></th>\n",
       "      <th>Men's CT 2019 Ranking</th>\n",
       "      <th>Heat wins</th>\n",
       "      <th>Avg. heat score</th>\n",
       "      <th>Rookie year</th>\n",
       "      <th>Stance</th>\n",
       "      <th>First season</th>\n",
       "      <th>Age</th>\n",
       "      <th>Height (cm)</th>\n",
       "      <th>Weight (kg)</th>\n",
       "      <th>Country</th>\n",
       "      <th>...</th>\n",
       "      <th>Event 2: Points</th>\n",
       "      <th>Event 3: Points</th>\n",
       "      <th>Event 4: Points</th>\n",
       "      <th>Event 5: Points</th>\n",
       "      <th>Event 6: Points</th>\n",
       "      <th>Event 7: Points</th>\n",
       "      <th>Event 8: Points</th>\n",
       "      <th>Event 9: Points</th>\n",
       "      <th>Event 10: Points</th>\n",
       "      <th>Event 11: Points</th>\n",
       "    </tr>\n",
       "    <tr>\n",
       "      <th>Athlete</th>\n",
       "      <th></th>\n",
       "      <th></th>\n",
       "      <th></th>\n",
       "      <th></th>\n",
       "      <th></th>\n",
       "      <th></th>\n",
       "      <th></th>\n",
       "      <th></th>\n",
       "      <th></th>\n",
       "      <th></th>\n",
       "      <th></th>\n",
       "      <th></th>\n",
       "      <th></th>\n",
       "      <th></th>\n",
       "      <th></th>\n",
       "      <th></th>\n",
       "      <th></th>\n",
       "      <th></th>\n",
       "      <th></th>\n",
       "      <th></th>\n",
       "      <th></th>\n",
       "    </tr>\n",
       "  </thead>\n",
       "  <tbody>\n",
       "    <tr>\n",
       "      <th>Jadson Andre</th>\n",
       "      <td>32</td>\n",
       "      <td>4</td>\n",
       "      <td>9.98</td>\n",
       "      <td>2010</td>\n",
       "      <td>Goofy</td>\n",
       "      <td>2008 Men's QS</td>\n",
       "      <td>29</td>\n",
       "      <td>170</td>\n",
       "      <td>70</td>\n",
       "      <td>Brazil</td>\n",
       "      <td>...</td>\n",
       "      <td>1330</td>\n",
       "      <td>1330</td>\n",
       "      <td>1330</td>\n",
       "      <td>1330</td>\n",
       "      <td>265</td>\n",
       "      <td>4745</td>\n",
       "      <td>1330</td>\n",
       "      <td>265</td>\n",
       "      <td>1330</td>\n",
       "      <td>1330</td>\n",
       "    </tr>\n",
       "    <tr>\n",
       "      <th>Ricardo Christie</th>\n",
       "      <td>123</td>\n",
       "      <td>1</td>\n",
       "      <td>11.17</td>\n",
       "      <td>3.56</td>\n",
       "      <td>Regular</td>\n",
       "      <td>2008 Men's QS</td>\n",
       "      <td>31</td>\n",
       "      <td>185</td>\n",
       "      <td>84</td>\n",
       "      <td>New Zealand</td>\n",
       "      <td>...</td>\n",
       "      <td>1330</td>\n",
       "      <td>1330</td>\n",
       "      <td>1330</td>\n",
       "      <td>1330</td>\n",
       "      <td>1330</td>\n",
       "      <td>1330</td>\n",
       "      <td>1330</td>\n",
       "      <td>265</td>\n",
       "      <td>265</td>\n",
       "      <td>3320</td>\n",
       "    </tr>\n",
       "    <tr>\n",
       "      <th>Frederico Morais</th>\n",
       "      <td>34</td>\n",
       "      <td>3</td>\n",
       "      <td>10.4</td>\n",
       "      <td>2.99</td>\n",
       "      <td>Regular</td>\n",
       "      <td>2008 Men's QS</td>\n",
       "      <td>28</td>\n",
       "      <td>185</td>\n",
       "      <td>81</td>\n",
       "      <td>Portugal</td>\n",
       "      <td>...</td>\n",
       "      <td>0</td>\n",
       "      <td>0</td>\n",
       "      <td>265</td>\n",
       "      <td>6085</td>\n",
       "      <td>1330</td>\n",
       "      <td>265</td>\n",
       "      <td>0</td>\n",
       "      <td>1330</td>\n",
       "      <td>1330</td>\n",
       "      <td>265</td>\n",
       "    </tr>\n",
       "    <tr>\n",
       "      <th>Adriano de Souza</th>\n",
       "      <td>35</td>\n",
       "      <td>2</td>\n",
       "      <td>11.03</td>\n",
       "      <td>2005</td>\n",
       "      <td>Regular</td>\n",
       "      <td>2006 Men's CT</td>\n",
       "      <td>32</td>\n",
       "      <td>170</td>\n",
       "      <td>66</td>\n",
       "      <td>Brazil</td>\n",
       "      <td>...</td>\n",
       "      <td>265</td>\n",
       "      <td>265</td>\n",
       "      <td>265</td>\n",
       "      <td>1330</td>\n",
       "      <td>1330</td>\n",
       "      <td>4745</td>\n",
       "      <td>265</td>\n",
       "      <td>265</td>\n",
       "      <td>265</td>\n",
       "      <td>265</td>\n",
       "    </tr>\n",
       "    <tr>\n",
       "      <th>Mikey Wright</th>\n",
       "      <td>36</td>\n",
       "      <td>3</td>\n",
       "      <td>10.66</td>\n",
       "      <td>2.74</td>\n",
       "      <td>Regular</td>\n",
       "      <td>2012 Men's JUN</td>\n",
       "      <td>23</td>\n",
       "      <td>183</td>\n",
       "      <td>80</td>\n",
       "      <td>Australia</td>\n",
       "      <td>...</td>\n",
       "      <td>1330</td>\n",
       "      <td>1330</td>\n",
       "      <td>265</td>\n",
       "      <td>265</td>\n",
       "      <td>265</td>\n",
       "      <td>265</td>\n",
       "      <td>265</td>\n",
       "      <td>265</td>\n",
       "      <td>265</td>\n",
       "      <td>265</td>\n",
       "    </tr>\n",
       "  </tbody>\n",
       "</table>\n",
       "<p>5 rows × 32 columns</p>\n",
       "</div>"
      ],
      "text/plain": [
       "                 Men's CT 2019 Ranking Heat wins Avg. heat score Rookie year  \\\n",
       "Athlete                                                                        \n",
       "Jadson Andre                        32         4            9.98        2010   \n",
       "Ricardo Christie                   123         1           11.17        3.56   \n",
       "Frederico Morais                    34         3            10.4        2.99   \n",
       "Adriano de Souza                    35         2           11.03        2005   \n",
       "Mikey Wright                        36         3           10.66        2.74   \n",
       "\n",
       "                   Stance    First season Age Height (cm) Weight (kg)  \\\n",
       "Athlete                                                                 \n",
       "Jadson Andre        Goofy   2008 Men's QS  29         170          70   \n",
       "Ricardo Christie  Regular   2008 Men's QS  31         185          84   \n",
       "Frederico Morais  Regular   2008 Men's QS  28         185          81   \n",
       "Adriano de Souza  Regular   2006 Men's CT  32         170          66   \n",
       "Mikey Wright      Regular  2012 Men's JUN  23         183          80   \n",
       "\n",
       "                      Country  ... Event 2: Points Event 3: Points  \\\n",
       "Athlete                        ...                                   \n",
       "Jadson Andre           Brazil  ...            1330            1330   \n",
       "Ricardo Christie  New Zealand  ...            1330            1330   \n",
       "Frederico Morais     Portugal  ...               0               0   \n",
       "Adriano de Souza       Brazil  ...             265             265   \n",
       "Mikey Wright        Australia  ...            1330            1330   \n",
       "\n",
       "                 Event 4: Points Event 5: Points Event 6: Points  \\\n",
       "Athlete                                                            \n",
       "Jadson Andre                1330            1330             265   \n",
       "Ricardo Christie            1330            1330            1330   \n",
       "Frederico Morais             265            6085            1330   \n",
       "Adriano de Souza             265            1330            1330   \n",
       "Mikey Wright                 265             265             265   \n",
       "\n",
       "                 Event 7: Points Event 8: Points Event 9: Points  \\\n",
       "Athlete                                                            \n",
       "Jadson Andre                4745            1330             265   \n",
       "Ricardo Christie            1330            1330             265   \n",
       "Frederico Morais             265               0            1330   \n",
       "Adriano de Souza            4745             265             265   \n",
       "Mikey Wright                 265             265             265   \n",
       "\n",
       "                 Event 10: Points Event 11: Points  \n",
       "Athlete                                             \n",
       "Jadson Andre                 1330             1330  \n",
       "Ricardo Christie              265             3320  \n",
       "Frederico Morais             1330              265  \n",
       "Adriano de Souza              265              265  \n",
       "Mikey Wright                  265              265  \n",
       "\n",
       "[5 rows x 32 columns]"
      ]
     },
     "execution_count": 5,
     "metadata": {},
     "output_type": "execute_result"
    }
   ],
   "source": [
    "eee.tail()"
   ]
  },
  {
   "cell_type": "markdown",
   "metadata": {},
   "source": [
    "The last 5 rows, however, indicate a few mistakes: \n",
    "\n",
    "- Ricardo Christie is placed 123rd (1st column) out of 36 athletes, which does not make sense.\n",
    "\n",
    "- Some surfers have a non-integer value in the 'Rookie year' column (4th), which indicates a different values than a year. "
   ]
  },
  {
   "cell_type": "code",
   "execution_count": 6,
   "metadata": {},
   "outputs": [
    {
     "data": {
      "text/html": [
       "<div>\n",
       "<style scoped>\n",
       "    .dataframe tbody tr th:only-of-type {\n",
       "        vertical-align: middle;\n",
       "    }\n",
       "\n",
       "    .dataframe tbody tr th {\n",
       "        vertical-align: top;\n",
       "    }\n",
       "\n",
       "    .dataframe thead th {\n",
       "        text-align: right;\n",
       "    }\n",
       "</style>\n",
       "<table border=\"1\" class=\"dataframe\">\n",
       "  <thead>\n",
       "    <tr style=\"text-align: right;\">\n",
       "      <th></th>\n",
       "      <th>Men's CT 2019 Ranking</th>\n",
       "      <th>Heat wins</th>\n",
       "      <th>Avg. heat score</th>\n",
       "      <th>Rookie year</th>\n",
       "      <th>Stance</th>\n",
       "      <th>First season</th>\n",
       "      <th>Age</th>\n",
       "      <th>Height (cm)</th>\n",
       "      <th>Weight (kg)</th>\n",
       "      <th>Country</th>\n",
       "      <th>...</th>\n",
       "      <th>Event 2: Points</th>\n",
       "      <th>Event 3: Points</th>\n",
       "      <th>Event 4: Points</th>\n",
       "      <th>Event 5: Points</th>\n",
       "      <th>Event 6: Points</th>\n",
       "      <th>Event 7: Points</th>\n",
       "      <th>Event 8: Points</th>\n",
       "      <th>Event 9: Points</th>\n",
       "      <th>Event 10: Points</th>\n",
       "      <th>Event 11: Points</th>\n",
       "    </tr>\n",
       "  </thead>\n",
       "  <tbody>\n",
       "    <tr>\n",
       "      <th>count</th>\n",
       "      <td>36.0</td>\n",
       "      <td>36.0</td>\n",
       "      <td>36.00</td>\n",
       "      <td>36.0</td>\n",
       "      <td>36</td>\n",
       "      <td>36</td>\n",
       "      <td>36</td>\n",
       "      <td>36</td>\n",
       "      <td>36</td>\n",
       "      <td>36</td>\n",
       "      <td>...</td>\n",
       "      <td>36</td>\n",
       "      <td>36</td>\n",
       "      <td>36</td>\n",
       "      <td>36</td>\n",
       "      <td>36</td>\n",
       "      <td>36</td>\n",
       "      <td>36</td>\n",
       "      <td>36</td>\n",
       "      <td>36</td>\n",
       "      <td>36</td>\n",
       "    </tr>\n",
       "    <tr>\n",
       "      <th>unique</th>\n",
       "      <td>31.0</td>\n",
       "      <td>21.0</td>\n",
       "      <td>36.00</td>\n",
       "      <td>29.0</td>\n",
       "      <td>2</td>\n",
       "      <td>9</td>\n",
       "      <td>16</td>\n",
       "      <td>16</td>\n",
       "      <td>18</td>\n",
       "      <td>10</td>\n",
       "      <td>...</td>\n",
       "      <td>8</td>\n",
       "      <td>8</td>\n",
       "      <td>7</td>\n",
       "      <td>7</td>\n",
       "      <td>7</td>\n",
       "      <td>7</td>\n",
       "      <td>8</td>\n",
       "      <td>7</td>\n",
       "      <td>7</td>\n",
       "      <td>7</td>\n",
       "    </tr>\n",
       "    <tr>\n",
       "      <th>top</th>\n",
       "      <td>17.0</td>\n",
       "      <td>3.0</td>\n",
       "      <td>9.98</td>\n",
       "      <td>2016.0</td>\n",
       "      <td>Regular</td>\n",
       "      <td>2008 Men's QS</td>\n",
       "      <td>27</td>\n",
       "      <td>183</td>\n",
       "      <td>80</td>\n",
       "      <td>Brazil</td>\n",
       "      <td>...</td>\n",
       "      <td>1330</td>\n",
       "      <td>1330</td>\n",
       "      <td>1330</td>\n",
       "      <td>1330</td>\n",
       "      <td>1330</td>\n",
       "      <td>1330</td>\n",
       "      <td>1330</td>\n",
       "      <td>1330</td>\n",
       "      <td>1330</td>\n",
       "      <td>1330</td>\n",
       "    </tr>\n",
       "    <tr>\n",
       "      <th>freq</th>\n",
       "      <td>3.0</td>\n",
       "      <td>5.0</td>\n",
       "      <td>1.00</td>\n",
       "      <td>5.0</td>\n",
       "      <td>26</td>\n",
       "      <td>13</td>\n",
       "      <td>6</td>\n",
       "      <td>5</td>\n",
       "      <td>4</td>\n",
       "      <td>12</td>\n",
       "      <td>...</td>\n",
       "      <td>15</td>\n",
       "      <td>15</td>\n",
       "      <td>16</td>\n",
       "      <td>15</td>\n",
       "      <td>15</td>\n",
       "      <td>16</td>\n",
       "      <td>12</td>\n",
       "      <td>14</td>\n",
       "      <td>13</td>\n",
       "      <td>14</td>\n",
       "    </tr>\n",
       "  </tbody>\n",
       "</table>\n",
       "<p>4 rows × 32 columns</p>\n",
       "</div>"
      ],
      "text/plain": [
       "        Men's CT 2019 Ranking  Heat wins  Avg. heat score  Rookie year  \\\n",
       "count                    36.0       36.0            36.00         36.0   \n",
       "unique                   31.0       21.0            36.00         29.0   \n",
       "top                      17.0        3.0             9.98       2016.0   \n",
       "freq                      3.0        5.0             1.00          5.0   \n",
       "\n",
       "         Stance   First season  Age  Height (cm)  Weight (kg) Country  ...  \\\n",
       "count        36             36   36           36           36      36  ...   \n",
       "unique        2              9   16           16           18      10  ...   \n",
       "top     Regular  2008 Men's QS   27          183           80  Brazil  ...   \n",
       "freq         26             13    6            5            4      12  ...   \n",
       "\n",
       "       Event 2: Points Event 3: Points Event 4: Points Event 5: Points  \\\n",
       "count               36              36              36              36   \n",
       "unique               8               8               7               7   \n",
       "top               1330            1330            1330            1330   \n",
       "freq                15              15              16              15   \n",
       "\n",
       "       Event 6: Points Event 7: Points Event 8: Points Event 9: Points  \\\n",
       "count               36              36              36              36   \n",
       "unique               7               7               8               7   \n",
       "top               1330            1330            1330            1330   \n",
       "freq                15              16              12              14   \n",
       "\n",
       "       Event 10: Points Event 11: Points  \n",
       "count                36               36  \n",
       "unique                7                7  \n",
       "top                1330             1330  \n",
       "freq                 13               14  \n",
       "\n",
       "[4 rows x 32 columns]"
      ]
     },
     "execution_count": 6,
     "metadata": {},
     "output_type": "execute_result"
    }
   ],
   "source": [
    "eee.describe()"
   ]
  },
  {
   "cell_type": "markdown",
   "metadata": {},
   "source": [
    "From this description, we can see there are surfers of 10 nationalities and 12 out of 36 are Brazilians.\n",
    "Another observation is that 26 surfers have a regular stance and only 10 surfers have goofy stance (as there are only 2 options). But we can find out even more if we specify the type of data in this dataframe."
   ]
  },
  {
   "cell_type": "code",
   "execution_count": 7,
   "metadata": {},
   "outputs": [],
   "source": [
    "# we can set a different data type for each column\n",
    "eee[['Avg. heat score']]=eee[['Avg. heat score']].astype(float)\n",
    "eee[['Event {}: Points'.format(i) for i in range(1, 12)]]=eee[['Event {}: Points'.format(i) for i in range(1, 12)]].astype(int)\n",
    "eee[[\"Men's CT 2019 Ranking\", 'Heat wins', 'Rookie year', 'Age', 'Height (cm)', 'Weight (kg)']]=eee[[\"Men's CT 2019 Ranking\", 'Heat wins', 'Rookie year', 'Age', 'Height (cm)', 'Weight (kg)']].astype(int)\n",
    "eee[[\"Men's CT 2019 Ranking\"]]=[i for i in range(1, 37)]"
   ]
  },
  {
   "cell_type": "code",
   "execution_count": 8,
   "metadata": {},
   "outputs": [
    {
     "data": {
      "text/html": [
       "<div>\n",
       "<style scoped>\n",
       "    .dataframe tbody tr th:only-of-type {\n",
       "        vertical-align: middle;\n",
       "    }\n",
       "\n",
       "    .dataframe tbody tr th {\n",
       "        vertical-align: top;\n",
       "    }\n",
       "\n",
       "    .dataframe thead th {\n",
       "        text-align: right;\n",
       "    }\n",
       "</style>\n",
       "<table border=\"1\" class=\"dataframe\">\n",
       "  <thead>\n",
       "    <tr style=\"text-align: right;\">\n",
       "      <th></th>\n",
       "      <th>Men's CT 2019 Ranking</th>\n",
       "      <th>Heat wins</th>\n",
       "      <th>Avg. heat score</th>\n",
       "      <th>Rookie year</th>\n",
       "      <th>Age</th>\n",
       "      <th>Height (cm)</th>\n",
       "      <th>Weight (kg)</th>\n",
       "      <th>Event 1: Points</th>\n",
       "      <th>Event 2: Points</th>\n",
       "      <th>Event 3: Points</th>\n",
       "      <th>Event 4: Points</th>\n",
       "      <th>Event 5: Points</th>\n",
       "      <th>Event 6: Points</th>\n",
       "      <th>Event 7: Points</th>\n",
       "      <th>Event 8: Points</th>\n",
       "      <th>Event 9: Points</th>\n",
       "      <th>Event 10: Points</th>\n",
       "      <th>Event 11: Points</th>\n",
       "    </tr>\n",
       "  </thead>\n",
       "  <tbody>\n",
       "    <tr>\n",
       "      <th>count</th>\n",
       "      <td>36.000000</td>\n",
       "      <td>36.000000</td>\n",
       "      <td>36.000000</td>\n",
       "      <td>36.000000</td>\n",
       "      <td>36.000000</td>\n",
       "      <td>36.000000</td>\n",
       "      <td>36.000000</td>\n",
       "      <td>36.000000</td>\n",
       "      <td>36.000000</td>\n",
       "      <td>36.000000</td>\n",
       "      <td>36.000000</td>\n",
       "      <td>36.000000</td>\n",
       "      <td>36.000000</td>\n",
       "      <td>36.000000</td>\n",
       "      <td>36.000000</td>\n",
       "      <td>36.000000</td>\n",
       "      <td>36.000000</td>\n",
       "      <td>36.000000</td>\n",
       "    </tr>\n",
       "    <tr>\n",
       "      <th>mean</th>\n",
       "      <td>18.500000</td>\n",
       "      <td>12.138889</td>\n",
       "      <td>11.378611</td>\n",
       "      <td>1062.444444</td>\n",
       "      <td>27.805556</td>\n",
       "      <td>178.388889</td>\n",
       "      <td>77.666667</td>\n",
       "      <td>2596.250000</td>\n",
       "      <td>2556.666667</td>\n",
       "      <td>2681.111111</td>\n",
       "      <td>2633.194444</td>\n",
       "      <td>2688.472222</td>\n",
       "      <td>2688.472222</td>\n",
       "      <td>2633.194444</td>\n",
       "      <td>2592.361111</td>\n",
       "      <td>2534.444444</td>\n",
       "      <td>2629.305556</td>\n",
       "      <td>2658.888889</td>\n",
       "    </tr>\n",
       "    <tr>\n",
       "      <th>std</th>\n",
       "      <td>10.535654</td>\n",
       "      <td>8.903138</td>\n",
       "      <td>1.026270</td>\n",
       "      <td>1016.528362</td>\n",
       "      <td>5.001825</td>\n",
       "      <td>6.634446</td>\n",
       "      <td>6.628941</td>\n",
       "      <td>2307.363794</td>\n",
       "      <td>2281.526744</td>\n",
       "      <td>2275.128289</td>\n",
       "      <td>2275.027206</td>\n",
       "      <td>2266.618570</td>\n",
       "      <td>2266.618570</td>\n",
       "      <td>2275.027206</td>\n",
       "      <td>2347.765042</td>\n",
       "      <td>2296.781530</td>\n",
       "      <td>2316.056424</td>\n",
       "      <td>2291.667238</td>\n",
       "    </tr>\n",
       "    <tr>\n",
       "      <th>min</th>\n",
       "      <td>1.000000</td>\n",
       "      <td>1.000000</td>\n",
       "      <td>9.730000</td>\n",
       "      <td>2.000000</td>\n",
       "      <td>21.000000</td>\n",
       "      <td>166.000000</td>\n",
       "      <td>66.000000</td>\n",
       "      <td>0.000000</td>\n",
       "      <td>0.000000</td>\n",
       "      <td>0.000000</td>\n",
       "      <td>265.000000</td>\n",
       "      <td>265.000000</td>\n",
       "      <td>265.000000</td>\n",
       "      <td>265.000000</td>\n",
       "      <td>0.000000</td>\n",
       "      <td>265.000000</td>\n",
       "      <td>265.000000</td>\n",
       "      <td>265.000000</td>\n",
       "    </tr>\n",
       "    <tr>\n",
       "      <th>25%</th>\n",
       "      <td>9.750000</td>\n",
       "      <td>3.750000</td>\n",
       "      <td>10.737500</td>\n",
       "      <td>3.000000</td>\n",
       "      <td>24.750000</td>\n",
       "      <td>174.500000</td>\n",
       "      <td>72.750000</td>\n",
       "      <td>1330.000000</td>\n",
       "      <td>1330.000000</td>\n",
       "      <td>1330.000000</td>\n",
       "      <td>1330.000000</td>\n",
       "      <td>1330.000000</td>\n",
       "      <td>1330.000000</td>\n",
       "      <td>1330.000000</td>\n",
       "      <td>1330.000000</td>\n",
       "      <td>1330.000000</td>\n",
       "      <td>1330.000000</td>\n",
       "      <td>1330.000000</td>\n",
       "    </tr>\n",
       "    <tr>\n",
       "      <th>50%</th>\n",
       "      <td>18.500000</td>\n",
       "      <td>11.000000</td>\n",
       "      <td>11.125000</td>\n",
       "      <td>1997.500000</td>\n",
       "      <td>27.000000</td>\n",
       "      <td>180.000000</td>\n",
       "      <td>77.500000</td>\n",
       "      <td>1330.000000</td>\n",
       "      <td>1330.000000</td>\n",
       "      <td>1330.000000</td>\n",
       "      <td>1330.000000</td>\n",
       "      <td>1330.000000</td>\n",
       "      <td>1330.000000</td>\n",
       "      <td>1330.000000</td>\n",
       "      <td>1330.000000</td>\n",
       "      <td>1330.000000</td>\n",
       "      <td>1330.000000</td>\n",
       "      <td>1330.000000</td>\n",
       "    </tr>\n",
       "    <tr>\n",
       "      <th>75%</th>\n",
       "      <td>27.250000</td>\n",
       "      <td>16.250000</td>\n",
       "      <td>11.982500</td>\n",
       "      <td>2012.000000</td>\n",
       "      <td>31.000000</td>\n",
       "      <td>183.000000</td>\n",
       "      <td>80.250000</td>\n",
       "      <td>3320.000000</td>\n",
       "      <td>3320.000000</td>\n",
       "      <td>3320.000000</td>\n",
       "      <td>3320.000000</td>\n",
       "      <td>3320.000000</td>\n",
       "      <td>3320.000000</td>\n",
       "      <td>3320.000000</td>\n",
       "      <td>3320.000000</td>\n",
       "      <td>3320.000000</td>\n",
       "      <td>3320.000000</td>\n",
       "      <td>3320.000000</td>\n",
       "    </tr>\n",
       "    <tr>\n",
       "      <th>max</th>\n",
       "      <td>36.000000</td>\n",
       "      <td>33.000000</td>\n",
       "      <td>13.640000</td>\n",
       "      <td>2016.000000</td>\n",
       "      <td>47.000000</td>\n",
       "      <td>190.000000</td>\n",
       "      <td>95.000000</td>\n",
       "      <td>10000.000000</td>\n",
       "      <td>10000.000000</td>\n",
       "      <td>10000.000000</td>\n",
       "      <td>10000.000000</td>\n",
       "      <td>10000.000000</td>\n",
       "      <td>10000.000000</td>\n",
       "      <td>10000.000000</td>\n",
       "      <td>10000.000000</td>\n",
       "      <td>10000.000000</td>\n",
       "      <td>10000.000000</td>\n",
       "      <td>10000.000000</td>\n",
       "    </tr>\n",
       "  </tbody>\n",
       "</table>\n",
       "</div>"
      ],
      "text/plain": [
       "       Men's CT 2019 Ranking  Heat wins  Avg. heat score  Rookie year  \\\n",
       "count              36.000000  36.000000        36.000000    36.000000   \n",
       "mean               18.500000  12.138889        11.378611  1062.444444   \n",
       "std                10.535654   8.903138         1.026270  1016.528362   \n",
       "min                 1.000000   1.000000         9.730000     2.000000   \n",
       "25%                 9.750000   3.750000        10.737500     3.000000   \n",
       "50%                18.500000  11.000000        11.125000  1997.500000   \n",
       "75%                27.250000  16.250000        11.982500  2012.000000   \n",
       "max                36.000000  33.000000        13.640000  2016.000000   \n",
       "\n",
       "             Age  Height (cm)  Weight (kg)  Event 1: Points  Event 2: Points  \\\n",
       "count  36.000000    36.000000    36.000000        36.000000        36.000000   \n",
       "mean   27.805556   178.388889    77.666667      2596.250000      2556.666667   \n",
       "std     5.001825     6.634446     6.628941      2307.363794      2281.526744   \n",
       "min    21.000000   166.000000    66.000000         0.000000         0.000000   \n",
       "25%    24.750000   174.500000    72.750000      1330.000000      1330.000000   \n",
       "50%    27.000000   180.000000    77.500000      1330.000000      1330.000000   \n",
       "75%    31.000000   183.000000    80.250000      3320.000000      3320.000000   \n",
       "max    47.000000   190.000000    95.000000     10000.000000     10000.000000   \n",
       "\n",
       "       Event 3: Points  Event 4: Points  Event 5: Points  Event 6: Points  \\\n",
       "count        36.000000        36.000000        36.000000        36.000000   \n",
       "mean       2681.111111      2633.194444      2688.472222      2688.472222   \n",
       "std        2275.128289      2275.027206      2266.618570      2266.618570   \n",
       "min           0.000000       265.000000       265.000000       265.000000   \n",
       "25%        1330.000000      1330.000000      1330.000000      1330.000000   \n",
       "50%        1330.000000      1330.000000      1330.000000      1330.000000   \n",
       "75%        3320.000000      3320.000000      3320.000000      3320.000000   \n",
       "max       10000.000000     10000.000000     10000.000000     10000.000000   \n",
       "\n",
       "       Event 7: Points  Event 8: Points  Event 9: Points  Event 10: Points  \\\n",
       "count        36.000000        36.000000        36.000000         36.000000   \n",
       "mean       2633.194444      2592.361111      2534.444444       2629.305556   \n",
       "std        2275.027206      2347.765042      2296.781530       2316.056424   \n",
       "min         265.000000         0.000000       265.000000        265.000000   \n",
       "25%        1330.000000      1330.000000      1330.000000       1330.000000   \n",
       "50%        1330.000000      1330.000000      1330.000000       1330.000000   \n",
       "75%        3320.000000      3320.000000      3320.000000       3320.000000   \n",
       "max       10000.000000     10000.000000     10000.000000      10000.000000   \n",
       "\n",
       "       Event 11: Points  \n",
       "count         36.000000  \n",
       "mean        2658.888889  \n",
       "std         2291.667238  \n",
       "min          265.000000  \n",
       "25%         1330.000000  \n",
       "50%         1330.000000  \n",
       "75%         3320.000000  \n",
       "max        10000.000000  "
      ]
     },
     "execution_count": 8,
     "metadata": {},
     "output_type": "execute_result"
    }
   ],
   "source": [
    "eee.describe()"
   ]
  },
  {
   "cell_type": "markdown",
   "metadata": {},
   "source": [
    "Now we can even see some information about the distributions of each column.\n",
    "\n",
    "But there are only numerical columns, because quantiles and means of strings make little sense. "
   ]
  },
  {
   "cell_type": "code",
   "execution_count": 9,
   "metadata": {},
   "outputs": [
    {
     "data": {
      "text/html": [
       "<div>\n",
       "<style scoped>\n",
       "    .dataframe tbody tr th:only-of-type {\n",
       "        vertical-align: middle;\n",
       "    }\n",
       "\n",
       "    .dataframe tbody tr th {\n",
       "        vertical-align: top;\n",
       "    }\n",
       "\n",
       "    .dataframe thead th {\n",
       "        text-align: right;\n",
       "    }\n",
       "</style>\n",
       "<table border=\"1\" class=\"dataframe\">\n",
       "  <thead>\n",
       "    <tr style=\"text-align: right;\">\n",
       "      <th></th>\n",
       "      <th>Stance</th>\n",
       "      <th>First season</th>\n",
       "      <th>Country</th>\n",
       "      <th>Event 1: Place</th>\n",
       "      <th>Event 2: Place</th>\n",
       "      <th>Event 3: Place</th>\n",
       "      <th>Event 4: Place</th>\n",
       "      <th>Event 5: Place</th>\n",
       "      <th>Event 6: Place</th>\n",
       "      <th>Event 7: Place</th>\n",
       "      <th>Event 8: Place</th>\n",
       "      <th>Event 9: Place</th>\n",
       "      <th>Event 10: Place</th>\n",
       "      <th>Event 11: Place</th>\n",
       "    </tr>\n",
       "  </thead>\n",
       "  <tbody>\n",
       "    <tr>\n",
       "      <th>count</th>\n",
       "      <td>36</td>\n",
       "      <td>36</td>\n",
       "      <td>36</td>\n",
       "      <td>36</td>\n",
       "      <td>36</td>\n",
       "      <td>36</td>\n",
       "      <td>36</td>\n",
       "      <td>36</td>\n",
       "      <td>36</td>\n",
       "      <td>36</td>\n",
       "      <td>36</td>\n",
       "      <td>36</td>\n",
       "      <td>36</td>\n",
       "      <td>36</td>\n",
       "    </tr>\n",
       "    <tr>\n",
       "      <th>unique</th>\n",
       "      <td>2</td>\n",
       "      <td>9</td>\n",
       "      <td>10</td>\n",
       "      <td>9</td>\n",
       "      <td>10</td>\n",
       "      <td>9</td>\n",
       "      <td>8</td>\n",
       "      <td>8</td>\n",
       "      <td>8</td>\n",
       "      <td>8</td>\n",
       "      <td>9</td>\n",
       "      <td>8</td>\n",
       "      <td>8</td>\n",
       "      <td>8</td>\n",
       "    </tr>\n",
       "    <tr>\n",
       "      <th>top</th>\n",
       "      <td>Regular</td>\n",
       "      <td>2008 Men's QS</td>\n",
       "      <td>Brazil</td>\n",
       "      <td>17th</td>\n",
       "      <td>17th</td>\n",
       "      <td>17th</td>\n",
       "      <td>17th</td>\n",
       "      <td>17th</td>\n",
       "      <td>17th</td>\n",
       "      <td>17th</td>\n",
       "      <td>17th</td>\n",
       "      <td>17th</td>\n",
       "      <td>17th</td>\n",
       "      <td>17th</td>\n",
       "    </tr>\n",
       "    <tr>\n",
       "      <th>freq</th>\n",
       "      <td>26</td>\n",
       "      <td>13</td>\n",
       "      <td>12</td>\n",
       "      <td>15</td>\n",
       "      <td>15</td>\n",
       "      <td>15</td>\n",
       "      <td>15</td>\n",
       "      <td>15</td>\n",
       "      <td>15</td>\n",
       "      <td>16</td>\n",
       "      <td>12</td>\n",
       "      <td>14</td>\n",
       "      <td>13</td>\n",
       "      <td>14</td>\n",
       "    </tr>\n",
       "  </tbody>\n",
       "</table>\n",
       "</div>"
      ],
      "text/plain": [
       "         Stance   First season Country Event 1: Place Event 2: Place  \\\n",
       "count        36             36      36             36             36   \n",
       "unique        2              9      10              9             10   \n",
       "top     Regular  2008 Men's QS  Brazil           17th           17th   \n",
       "freq         26             13      12             15             15   \n",
       "\n",
       "       Event 3: Place Event 4: Place Event 5: Place Event 6: Place  \\\n",
       "count              36             36             36             36   \n",
       "unique              9              8              8              8   \n",
       "top              17th           17th           17th           17th   \n",
       "freq               15             15             15             15   \n",
       "\n",
       "       Event 7: Place Event 8: Place Event 9: Place Event 10: Place  \\\n",
       "count              36             36             36              36   \n",
       "unique              8              9              8               8   \n",
       "top              17th           17th           17th            17th   \n",
       "freq               16             12             14              13   \n",
       "\n",
       "       Event 11: Place  \n",
       "count               36  \n",
       "unique               8  \n",
       "top               17th  \n",
       "freq                14  "
      ]
     },
     "execution_count": 9,
     "metadata": {},
     "output_type": "execute_result"
    }
   ],
   "source": [
    "eee.describe(include='object')"
   ]
  },
  {
   "cell_type": "markdown",
   "metadata": {},
   "source": [
    "This table describes the non-numerical variables. \n",
    "\n",
    "These are:\n",
    "\n",
    "- Stance (Goofy or Regular)\n",
    "- First season (Year and Competition)\n",
    "- Country (Country of origin)\n",
    "- Event i: Place (Placement on each of the 11 events in 2019) for i from 1 to 11\n",
    "\n",
    "First, it seems that some data are still saved incorrectly as most frequent placement in all events is 17th place. But that is due to the fact that 17th place is shared by surfers, who drop out of the event in the first elimination round (this group is always largest because other shared places are shared among less and less surfers)."
   ]
  },
  {
   "cell_type": "markdown",
   "metadata": {},
   "source": [
    "### 4. Data Visualisation:\n",
    "\n",
    "Now, we can proceed to the visualisation of the data."
   ]
  },
  {
   "cell_type": "code",
   "execution_count": 13,
   "metadata": {},
   "outputs": [],
   "source": [
    "# importing plotly\n",
    "\n",
    "import plotly.express as px\n",
    "import plotly.graph_objects as go"
   ]
  },
  {
   "cell_type": "code",
   "execution_count": 26,
   "metadata": {},
   "outputs": [
    {
     "data": {
      "application/vnd.plotly.v1+json": {
       "config": {
        "plotlyServerURL": "https://plot.ly"
       },
       "data": [
        {
         "hoverlabel": {
          "namelength": 0
         },
         "hovertemplate": "Athlete=Italo Ferreira<br>Country=%{x}<br>Heat wins=%{y}",
         "legendgroup": "Athlete=Italo Ferreira",
         "marker": {
          "color": "#636efa",
          "symbol": "circle"
         },
         "mode": "markers",
         "name": "Athlete=Italo Ferreira",
         "showlegend": true,
         "type": "scatter",
         "x": [
          "Brazil"
         ],
         "xaxis": "x",
         "y": [
          33
         ],
         "yaxis": "y"
        },
        {
         "hoverlabel": {
          "namelength": 0
         },
         "hovertemplate": "Athlete=Gabriel Medina<br>Country=%{x}<br>Heat wins=%{y}",
         "legendgroup": "Athlete=Gabriel Medina",
         "marker": {
          "color": "#EF553B",
          "symbol": "circle"
         },
         "mode": "markers",
         "name": "Athlete=Gabriel Medina",
         "showlegend": true,
         "type": "scatter",
         "x": [
          "Brazil"
         ],
         "xaxis": "x",
         "y": [
          31
         ],
         "yaxis": "y"
        },
        {
         "hoverlabel": {
          "namelength": 0
         },
         "hovertemplate": "Athlete=Jordy Smith<br>Country=%{x}<br>Heat wins=%{y}",
         "legendgroup": "Athlete=Jordy Smith",
         "marker": {
          "color": "#00cc96",
          "symbol": "circle"
         },
         "mode": "markers",
         "name": "Athlete=Jordy Smith",
         "showlegend": true,
         "type": "scatter",
         "x": [
          "South Africa"
         ],
         "xaxis": "x",
         "y": [
          25
         ],
         "yaxis": "y"
        },
        {
         "hoverlabel": {
          "namelength": 0
         },
         "hovertemplate": "Athlete=Filipe Toledo<br>Country=%{x}<br>Heat wins=%{y}",
         "legendgroup": "Athlete=Filipe Toledo",
         "marker": {
          "color": "#ab63fa",
          "symbol": "circle"
         },
         "mode": "markers",
         "name": "Athlete=Filipe Toledo",
         "showlegend": true,
         "type": "scatter",
         "x": [
          "Brazil"
         ],
         "xaxis": "x",
         "y": [
          27
         ],
         "yaxis": "y"
        },
        {
         "hoverlabel": {
          "namelength": 0
         },
         "hovertemplate": "Athlete=Kolohe Andino<br>Country=%{x}<br>Heat wins=%{y}",
         "legendgroup": "Athlete=Kolohe Andino",
         "marker": {
          "color": "#FFA15A",
          "symbol": "circle"
         },
         "mode": "markers",
         "name": "Athlete=Kolohe Andino",
         "showlegend": true,
         "type": "scatter",
         "x": [
          "United States"
         ],
         "xaxis": "x",
         "y": [
          28
         ],
         "yaxis": "y"
        },
        {
         "hoverlabel": {
          "namelength": 0
         },
         "hovertemplate": "Athlete=Kanoa Igarashi<br>Country=%{x}<br>Heat wins=%{y}",
         "legendgroup": "Athlete=Kanoa Igarashi",
         "marker": {
          "color": "#19d3f3",
          "symbol": "circle"
         },
         "mode": "markers",
         "name": "Athlete=Kanoa Igarashi",
         "showlegend": true,
         "type": "scatter",
         "x": [
          "Japan"
         ],
         "xaxis": "x",
         "y": [
          22
         ],
         "yaxis": "y"
        },
        {
         "hoverlabel": {
          "namelength": 0
         },
         "hovertemplate": "Athlete=John John Florence<br>Country=%{x}<br>Heat wins=%{y}",
         "legendgroup": "Athlete=John John Florence",
         "marker": {
          "color": "#FF6692",
          "symbol": "circle"
         },
         "mode": "markers",
         "name": "Athlete=John John Florence",
         "showlegend": true,
         "type": "scatter",
         "x": [
          "Hawaii"
         ],
         "xaxis": "x",
         "y": [
          22
         ],
         "yaxis": "y"
        },
        {
         "hoverlabel": {
          "namelength": 0
         },
         "hovertemplate": "Athlete=Kelly Slater<br>Country=%{x}<br>Heat wins=%{y}",
         "legendgroup": "Athlete=Kelly Slater",
         "marker": {
          "color": "#B6E880",
          "symbol": "circle"
         },
         "mode": "markers",
         "name": "Athlete=Kelly Slater",
         "showlegend": true,
         "type": "scatter",
         "x": [
          "United States"
         ],
         "xaxis": "x",
         "y": [
          17
         ],
         "yaxis": "y"
        },
        {
         "hoverlabel": {
          "namelength": 0
         },
         "hovertemplate": "Athlete=Owen Wright<br>Country=%{x}<br>Heat wins=%{y}",
         "legendgroup": "Athlete=Owen Wright",
         "marker": {
          "color": "#FF97FF",
          "symbol": "circle"
         },
         "mode": "markers",
         "name": "Athlete=Owen Wright",
         "showlegend": true,
         "type": "scatter",
         "x": [
          "Australia"
         ],
         "xaxis": "x",
         "y": [
          18
         ],
         "yaxis": "y"
        },
        {
         "hoverlabel": {
          "namelength": 0
         },
         "hovertemplate": "Athlete=Jeremy Flores<br>Country=%{x}<br>Heat wins=%{y}",
         "legendgroup": "Athlete=Jeremy Flores",
         "marker": {
          "color": "#FECB52",
          "symbol": "circle"
         },
         "mode": "markers",
         "name": "Athlete=Jeremy Flores",
         "showlegend": true,
         "type": "scatter",
         "x": [
          "France"
         ],
         "xaxis": "x",
         "y": [
          13
         ],
         "yaxis": "y"
        },
        {
         "hoverlabel": {
          "namelength": 0
         },
         "hovertemplate": "Athlete=Julian Wilson<br>Country=%{x}<br>Heat wins=%{y}",
         "legendgroup": "Athlete=Julian Wilson",
         "marker": {
          "color": "#636efa",
          "symbol": "circle"
         },
         "mode": "markers",
         "name": "Athlete=Julian Wilson",
         "showlegend": true,
         "type": "scatter",
         "x": [
          "Australia"
         ],
         "xaxis": "x",
         "y": [
          15
         ],
         "yaxis": "y"
        },
        {
         "hoverlabel": {
          "namelength": 0
         },
         "hovertemplate": "Athlete=Seth Moniz<br>Country=%{x}<br>Heat wins=%{y}",
         "legendgroup": "Athlete=Seth Moniz",
         "marker": {
          "color": "#EF553B",
          "symbol": "circle"
         },
         "mode": "markers",
         "name": "Athlete=Seth Moniz",
         "showlegend": true,
         "type": "scatter",
         "x": [
          "Hawaii"
         ],
         "xaxis": "x",
         "y": [
          16
         ],
         "yaxis": "y"
        },
        {
         "hoverlabel": {
          "namelength": 0
         },
         "hovertemplate": "Athlete=Michel Bourez<br>Country=%{x}<br>Heat wins=%{y}",
         "legendgroup": "Athlete=Michel Bourez",
         "marker": {
          "color": "#00cc96",
          "symbol": "circle"
         },
         "mode": "markers",
         "name": "Athlete=Michel Bourez",
         "showlegend": true,
         "type": "scatter",
         "x": [
          "France"
         ],
         "xaxis": "x",
         "y": [
          14
         ],
         "yaxis": "y"
        },
        {
         "hoverlabel": {
          "namelength": 0
         },
         "hovertemplate": "Athlete=Ryan Callinan<br>Country=%{x}<br>Heat wins=%{y}",
         "legendgroup": "Athlete=Ryan Callinan",
         "marker": {
          "color": "#ab63fa",
          "symbol": "circle"
         },
         "mode": "markers",
         "name": "Athlete=Ryan Callinan",
         "showlegend": true,
         "type": "scatter",
         "x": [
          "Australia"
         ],
         "xaxis": "x",
         "y": [
          13
         ],
         "yaxis": "y"
        },
        {
         "hoverlabel": {
          "namelength": 0
         },
         "hovertemplate": "Athlete=Jack Freestone<br>Country=%{x}<br>Heat wins=%{y}",
         "legendgroup": "Athlete=Jack Freestone",
         "marker": {
          "color": "#FFA15A",
          "symbol": "circle"
         },
         "mode": "markers",
         "name": "Athlete=Jack Freestone",
         "showlegend": true,
         "type": "scatter",
         "x": [
          "Australia"
         ],
         "xaxis": "x",
         "y": [
          13
         ],
         "yaxis": "y"
        },
        {
         "hoverlabel": {
          "namelength": 0
         },
         "hovertemplate": "Athlete=Griffin Colapinto<br>Country=%{x}<br>Heat wins=%{y}",
         "legendgroup": "Athlete=Griffin Colapinto",
         "marker": {
          "color": "#19d3f3",
          "symbol": "circle"
         },
         "mode": "markers",
         "name": "Athlete=Griffin Colapinto",
         "showlegend": true,
         "type": "scatter",
         "x": [
          "United States"
         ],
         "xaxis": "x",
         "y": [
          11
         ],
         "yaxis": "y"
        },
        {
         "hoverlabel": {
          "namelength": 0
         },
         "hovertemplate": "Athlete=Caio Ibelli<br>Country=%{x}<br>Heat wins=%{y}",
         "legendgroup": "Athlete=Caio Ibelli",
         "marker": {
          "color": "#FF6692",
          "symbol": "circle"
         },
         "mode": "markers",
         "name": "Athlete=Caio Ibelli",
         "showlegend": true,
         "type": "scatter",
         "x": [
          "Brazil"
         ],
         "xaxis": "x",
         "y": [
          10
         ],
         "yaxis": "y"
        },
        {
         "hoverlabel": {
          "namelength": 0
         },
         "hovertemplate": "Athlete=Wade Carmichael<br>Country=%{x}<br>Heat wins=%{y}",
         "legendgroup": "Athlete=Wade Carmichael",
         "marker": {
          "color": "#B6E880",
          "symbol": "circle"
         },
         "mode": "markers",
         "name": "Athlete=Wade Carmichael",
         "showlegend": true,
         "type": "scatter",
         "x": [
          "Australia"
         ],
         "xaxis": "x",
         "y": [
          9
         ],
         "yaxis": "y"
        },
        {
         "hoverlabel": {
          "namelength": 0
         },
         "hovertemplate": "Athlete=Adrian Buchan<br>Country=%{x}<br>Heat wins=%{y}",
         "legendgroup": "Athlete=Adrian Buchan",
         "marker": {
          "color": "#FF97FF",
          "symbol": "circle"
         },
         "mode": "markers",
         "name": "Athlete=Adrian Buchan",
         "showlegend": true,
         "type": "scatter",
         "x": [
          "Australia"
         ],
         "xaxis": "x",
         "y": [
          11
         ],
         "yaxis": "y"
        },
        {
         "hoverlabel": {
          "namelength": 0
         },
         "hovertemplate": "Athlete=Conner Coffin<br>Country=%{x}<br>Heat wins=%{y}",
         "legendgroup": "Athlete=Conner Coffin",
         "marker": {
          "color": "#FECB52",
          "symbol": "circle"
         },
         "mode": "markers",
         "name": "Athlete=Conner Coffin",
         "showlegend": true,
         "type": "scatter",
         "x": [
          "United States"
         ],
         "xaxis": "x",
         "y": [
          11
         ],
         "yaxis": "y"
        },
        {
         "hoverlabel": {
          "namelength": 0
         },
         "hovertemplate": "Athlete=Peterson Crisanto<br>Country=%{x}<br>Heat wins=%{y}",
         "legendgroup": "Athlete=Peterson Crisanto",
         "marker": {
          "color": "#636efa",
          "symbol": "circle"
         },
         "mode": "markers",
         "name": "Athlete=Peterson Crisanto",
         "showlegend": true,
         "type": "scatter",
         "x": [
          "Brazil"
         ],
         "xaxis": "x",
         "y": [
          13
         ],
         "yaxis": "y"
        },
        {
         "hoverlabel": {
          "namelength": 0
         },
         "hovertemplate": "Athlete=Yago Dora<br>Country=%{x}<br>Heat wins=%{y}",
         "legendgroup": "Athlete=Yago Dora",
         "marker": {
          "color": "#EF553B",
          "symbol": "circle"
         },
         "mode": "markers",
         "name": "Athlete=Yago Dora",
         "showlegend": true,
         "type": "scatter",
         "x": [
          "Brazil"
         ],
         "xaxis": "x",
         "y": [
          11
         ],
         "yaxis": "y"
        },
        {
         "hoverlabel": {
          "namelength": 0
         },
         "hovertemplate": "Athlete=Deivid Silva<br>Country=%{x}<br>Heat wins=%{y}",
         "legendgroup": "Athlete=Deivid Silva",
         "marker": {
          "color": "#00cc96",
          "symbol": "circle"
         },
         "mode": "markers",
         "name": "Athlete=Deivid Silva",
         "showlegend": true,
         "type": "scatter",
         "x": [
          "Brazil"
         ],
         "xaxis": "x",
         "y": [
          6
         ],
         "yaxis": "y"
        },
        {
         "hoverlabel": {
          "namelength": 0
         },
         "hovertemplate": "Athlete=Willian Cardoso<br>Country=%{x}<br>Heat wins=%{y}",
         "legendgroup": "Athlete=Willian Cardoso",
         "marker": {
          "color": "#ab63fa",
          "symbol": "circle"
         },
         "mode": "markers",
         "name": "Athlete=Willian Cardoso",
         "showlegend": true,
         "type": "scatter",
         "x": [
          "Brazil"
         ],
         "xaxis": "x",
         "y": [
          1
         ],
         "yaxis": "y"
        },
        {
         "hoverlabel": {
          "namelength": 0
         },
         "hovertemplate": "Athlete=Jesse Mendes<br>Country=%{x}<br>Heat wins=%{y}",
         "legendgroup": "Athlete=Jesse Mendes",
         "marker": {
          "color": "#FFA15A",
          "symbol": "circle"
         },
         "mode": "markers",
         "name": "Athlete=Jesse Mendes",
         "showlegend": true,
         "type": "scatter",
         "x": [
          "Brazil"
         ],
         "xaxis": "x",
         "y": [
          10
         ],
         "yaxis": "y"
        },
        {
         "hoverlabel": {
          "namelength": 0
         },
         "hovertemplate": "Athlete=Michael Rodrigues<br>Country=%{x}<br>Heat wins=%{y}",
         "legendgroup": "Athlete=Michael Rodrigues",
         "marker": {
          "color": "#19d3f3",
          "symbol": "circle"
         },
         "mode": "markers",
         "name": "Athlete=Michael Rodrigues",
         "showlegend": true,
         "type": "scatter",
         "x": [
          "Brazil"
         ],
         "xaxis": "x",
         "y": [
          3
         ],
         "yaxis": "y"
        },
        {
         "hoverlabel": {
          "namelength": 0
         },
         "hovertemplate": "Athlete=Sebastian Zietz<br>Country=%{x}<br>Heat wins=%{y}",
         "legendgroup": "Athlete=Sebastian Zietz",
         "marker": {
          "color": "#FF6692",
          "symbol": "circle"
         },
         "mode": "markers",
         "name": "Athlete=Sebastian Zietz",
         "showlegend": true,
         "type": "scatter",
         "x": [
          "Hawaii"
         ],
         "xaxis": "x",
         "y": [
          3
         ],
         "yaxis": "y"
        },
        {
         "hoverlabel": {
          "namelength": 0
         },
         "hovertemplate": "Athlete=Ezekiel Lau<br>Country=%{x}<br>Heat wins=%{y}",
         "legendgroup": "Athlete=Ezekiel Lau",
         "marker": {
          "color": "#B6E880",
          "symbol": "circle"
         },
         "mode": "markers",
         "name": "Athlete=Ezekiel Lau",
         "showlegend": true,
         "type": "scatter",
         "x": [
          "Hawaii"
         ],
         "xaxis": "x",
         "y": [
          7
         ],
         "yaxis": "y"
        },
        {
         "hoverlabel": {
          "namelength": 0
         },
         "hovertemplate": "Athlete=Joan Duru<br>Country=%{x}<br>Heat wins=%{y}",
         "legendgroup": "Athlete=Joan Duru",
         "marker": {
          "color": "#FF97FF",
          "symbol": "circle"
         },
         "mode": "markers",
         "name": "Athlete=Joan Duru",
         "showlegend": true,
         "type": "scatter",
         "x": [
          "France"
         ],
         "xaxis": "x",
         "y": [
          2
         ],
         "yaxis": "y"
        },
        {
         "hoverlabel": {
          "namelength": 0
         },
         "hovertemplate": "Athlete=Soli Bailey<br>Country=%{x}<br>Heat wins=%{y}",
         "legendgroup": "Athlete=Soli Bailey",
         "marker": {
          "color": "#FECB52",
          "symbol": "circle"
         },
         "mode": "markers",
         "name": "Athlete=Soli Bailey",
         "showlegend": true,
         "type": "scatter",
         "x": [
          "Australia"
         ],
         "xaxis": "x",
         "y": [
          3
         ],
         "yaxis": "y"
        },
        {
         "hoverlabel": {
          "namelength": 0
         },
         "hovertemplate": "Athlete=Leonardo Fioravanti<br>Country=%{x}<br>Heat wins=%{y}",
         "legendgroup": "Athlete=Leonardo Fioravanti",
         "marker": {
          "color": "#636efa",
          "symbol": "circle"
         },
         "mode": "markers",
         "name": "Athlete=Leonardo Fioravanti",
         "showlegend": true,
         "type": "scatter",
         "x": [
          "Italy"
         ],
         "xaxis": "x",
         "y": [
          6
         ],
         "yaxis": "y"
        },
        {
         "hoverlabel": {
          "namelength": 0
         },
         "hovertemplate": "Athlete=Jadson Andre<br>Country=%{x}<br>Heat wins=%{y}",
         "legendgroup": "Athlete=Jadson Andre",
         "marker": {
          "color": "#EF553B",
          "symbol": "circle"
         },
         "mode": "markers",
         "name": "Athlete=Jadson Andre",
         "showlegend": true,
         "type": "scatter",
         "x": [
          "Brazil"
         ],
         "xaxis": "x",
         "y": [
          4
         ],
         "yaxis": "y"
        },
        {
         "hoverlabel": {
          "namelength": 0
         },
         "hovertemplate": "Athlete=Ricardo Christie<br>Country=%{x}<br>Heat wins=%{y}",
         "legendgroup": "Athlete=Ricardo Christie",
         "marker": {
          "color": "#00cc96",
          "symbol": "circle"
         },
         "mode": "markers",
         "name": "Athlete=Ricardo Christie",
         "showlegend": true,
         "type": "scatter",
         "x": [
          "New Zealand"
         ],
         "xaxis": "x",
         "y": [
          1
         ],
         "yaxis": "y"
        },
        {
         "hoverlabel": {
          "namelength": 0
         },
         "hovertemplate": "Athlete=Frederico Morais<br>Country=%{x}<br>Heat wins=%{y}",
         "legendgroup": "Athlete=Frederico Morais",
         "marker": {
          "color": "#ab63fa",
          "symbol": "circle"
         },
         "mode": "markers",
         "name": "Athlete=Frederico Morais",
         "showlegend": true,
         "type": "scatter",
         "x": [
          "Portugal"
         ],
         "xaxis": "x",
         "y": [
          3
         ],
         "yaxis": "y"
        },
        {
         "hoverlabel": {
          "namelength": 0
         },
         "hovertemplate": "Athlete=Adriano de Souza<br>Country=%{x}<br>Heat wins=%{y}",
         "legendgroup": "Athlete=Adriano de Souza",
         "marker": {
          "color": "#FFA15A",
          "symbol": "circle"
         },
         "mode": "markers",
         "name": "Athlete=Adriano de Souza",
         "showlegend": true,
         "type": "scatter",
         "x": [
          "Brazil"
         ],
         "xaxis": "x",
         "y": [
          2
         ],
         "yaxis": "y"
        },
        {
         "hoverlabel": {
          "namelength": 0
         },
         "hovertemplate": "Athlete=Mikey Wright<br>Country=%{x}<br>Heat wins=%{y}",
         "legendgroup": "Athlete=Mikey Wright",
         "marker": {
          "color": "#19d3f3",
          "symbol": "circle"
         },
         "mode": "markers",
         "name": "Athlete=Mikey Wright",
         "showlegend": true,
         "type": "scatter",
         "x": [
          "Australia"
         ],
         "xaxis": "x",
         "y": [
          3
         ],
         "yaxis": "y"
        }
       ],
       "layout": {
        "legend": {
         "tracegroupgap": 0
        },
        "template": {
         "data": {
          "bar": [
           {
            "error_x": {
             "color": "#2a3f5f"
            },
            "error_y": {
             "color": "#2a3f5f"
            },
            "marker": {
             "line": {
              "color": "#E5ECF6",
              "width": 0.5
             }
            },
            "type": "bar"
           }
          ],
          "barpolar": [
           {
            "marker": {
             "line": {
              "color": "#E5ECF6",
              "width": 0.5
             }
            },
            "type": "barpolar"
           }
          ],
          "carpet": [
           {
            "aaxis": {
             "endlinecolor": "#2a3f5f",
             "gridcolor": "white",
             "linecolor": "white",
             "minorgridcolor": "white",
             "startlinecolor": "#2a3f5f"
            },
            "baxis": {
             "endlinecolor": "#2a3f5f",
             "gridcolor": "white",
             "linecolor": "white",
             "minorgridcolor": "white",
             "startlinecolor": "#2a3f5f"
            },
            "type": "carpet"
           }
          ],
          "choropleth": [
           {
            "colorbar": {
             "outlinewidth": 0,
             "ticks": ""
            },
            "type": "choropleth"
           }
          ],
          "contour": [
           {
            "colorbar": {
             "outlinewidth": 0,
             "ticks": ""
            },
            "colorscale": [
             [
              0,
              "#0d0887"
             ],
             [
              0.1111111111111111,
              "#46039f"
             ],
             [
              0.2222222222222222,
              "#7201a8"
             ],
             [
              0.3333333333333333,
              "#9c179e"
             ],
             [
              0.4444444444444444,
              "#bd3786"
             ],
             [
              0.5555555555555556,
              "#d8576b"
             ],
             [
              0.6666666666666666,
              "#ed7953"
             ],
             [
              0.7777777777777778,
              "#fb9f3a"
             ],
             [
              0.8888888888888888,
              "#fdca26"
             ],
             [
              1,
              "#f0f921"
             ]
            ],
            "type": "contour"
           }
          ],
          "contourcarpet": [
           {
            "colorbar": {
             "outlinewidth": 0,
             "ticks": ""
            },
            "type": "contourcarpet"
           }
          ],
          "heatmap": [
           {
            "colorbar": {
             "outlinewidth": 0,
             "ticks": ""
            },
            "colorscale": [
             [
              0,
              "#0d0887"
             ],
             [
              0.1111111111111111,
              "#46039f"
             ],
             [
              0.2222222222222222,
              "#7201a8"
             ],
             [
              0.3333333333333333,
              "#9c179e"
             ],
             [
              0.4444444444444444,
              "#bd3786"
             ],
             [
              0.5555555555555556,
              "#d8576b"
             ],
             [
              0.6666666666666666,
              "#ed7953"
             ],
             [
              0.7777777777777778,
              "#fb9f3a"
             ],
             [
              0.8888888888888888,
              "#fdca26"
             ],
             [
              1,
              "#f0f921"
             ]
            ],
            "type": "heatmap"
           }
          ],
          "heatmapgl": [
           {
            "colorbar": {
             "outlinewidth": 0,
             "ticks": ""
            },
            "colorscale": [
             [
              0,
              "#0d0887"
             ],
             [
              0.1111111111111111,
              "#46039f"
             ],
             [
              0.2222222222222222,
              "#7201a8"
             ],
             [
              0.3333333333333333,
              "#9c179e"
             ],
             [
              0.4444444444444444,
              "#bd3786"
             ],
             [
              0.5555555555555556,
              "#d8576b"
             ],
             [
              0.6666666666666666,
              "#ed7953"
             ],
             [
              0.7777777777777778,
              "#fb9f3a"
             ],
             [
              0.8888888888888888,
              "#fdca26"
             ],
             [
              1,
              "#f0f921"
             ]
            ],
            "type": "heatmapgl"
           }
          ],
          "histogram": [
           {
            "marker": {
             "colorbar": {
              "outlinewidth": 0,
              "ticks": ""
             }
            },
            "type": "histogram"
           }
          ],
          "histogram2d": [
           {
            "colorbar": {
             "outlinewidth": 0,
             "ticks": ""
            },
            "colorscale": [
             [
              0,
              "#0d0887"
             ],
             [
              0.1111111111111111,
              "#46039f"
             ],
             [
              0.2222222222222222,
              "#7201a8"
             ],
             [
              0.3333333333333333,
              "#9c179e"
             ],
             [
              0.4444444444444444,
              "#bd3786"
             ],
             [
              0.5555555555555556,
              "#d8576b"
             ],
             [
              0.6666666666666666,
              "#ed7953"
             ],
             [
              0.7777777777777778,
              "#fb9f3a"
             ],
             [
              0.8888888888888888,
              "#fdca26"
             ],
             [
              1,
              "#f0f921"
             ]
            ],
            "type": "histogram2d"
           }
          ],
          "histogram2dcontour": [
           {
            "colorbar": {
             "outlinewidth": 0,
             "ticks": ""
            },
            "colorscale": [
             [
              0,
              "#0d0887"
             ],
             [
              0.1111111111111111,
              "#46039f"
             ],
             [
              0.2222222222222222,
              "#7201a8"
             ],
             [
              0.3333333333333333,
              "#9c179e"
             ],
             [
              0.4444444444444444,
              "#bd3786"
             ],
             [
              0.5555555555555556,
              "#d8576b"
             ],
             [
              0.6666666666666666,
              "#ed7953"
             ],
             [
              0.7777777777777778,
              "#fb9f3a"
             ],
             [
              0.8888888888888888,
              "#fdca26"
             ],
             [
              1,
              "#f0f921"
             ]
            ],
            "type": "histogram2dcontour"
           }
          ],
          "mesh3d": [
           {
            "colorbar": {
             "outlinewidth": 0,
             "ticks": ""
            },
            "type": "mesh3d"
           }
          ],
          "parcoords": [
           {
            "line": {
             "colorbar": {
              "outlinewidth": 0,
              "ticks": ""
             }
            },
            "type": "parcoords"
           }
          ],
          "pie": [
           {
            "automargin": true,
            "type": "pie"
           }
          ],
          "scatter": [
           {
            "marker": {
             "colorbar": {
              "outlinewidth": 0,
              "ticks": ""
             }
            },
            "type": "scatter"
           }
          ],
          "scatter3d": [
           {
            "line": {
             "colorbar": {
              "outlinewidth": 0,
              "ticks": ""
             }
            },
            "marker": {
             "colorbar": {
              "outlinewidth": 0,
              "ticks": ""
             }
            },
            "type": "scatter3d"
           }
          ],
          "scattercarpet": [
           {
            "marker": {
             "colorbar": {
              "outlinewidth": 0,
              "ticks": ""
             }
            },
            "type": "scattercarpet"
           }
          ],
          "scattergeo": [
           {
            "marker": {
             "colorbar": {
              "outlinewidth": 0,
              "ticks": ""
             }
            },
            "type": "scattergeo"
           }
          ],
          "scattergl": [
           {
            "marker": {
             "colorbar": {
              "outlinewidth": 0,
              "ticks": ""
             }
            },
            "type": "scattergl"
           }
          ],
          "scattermapbox": [
           {
            "marker": {
             "colorbar": {
              "outlinewidth": 0,
              "ticks": ""
             }
            },
            "type": "scattermapbox"
           }
          ],
          "scatterpolar": [
           {
            "marker": {
             "colorbar": {
              "outlinewidth": 0,
              "ticks": ""
             }
            },
            "type": "scatterpolar"
           }
          ],
          "scatterpolargl": [
           {
            "marker": {
             "colorbar": {
              "outlinewidth": 0,
              "ticks": ""
             }
            },
            "type": "scatterpolargl"
           }
          ],
          "scatterternary": [
           {
            "marker": {
             "colorbar": {
              "outlinewidth": 0,
              "ticks": ""
             }
            },
            "type": "scatterternary"
           }
          ],
          "surface": [
           {
            "colorbar": {
             "outlinewidth": 0,
             "ticks": ""
            },
            "colorscale": [
             [
              0,
              "#0d0887"
             ],
             [
              0.1111111111111111,
              "#46039f"
             ],
             [
              0.2222222222222222,
              "#7201a8"
             ],
             [
              0.3333333333333333,
              "#9c179e"
             ],
             [
              0.4444444444444444,
              "#bd3786"
             ],
             [
              0.5555555555555556,
              "#d8576b"
             ],
             [
              0.6666666666666666,
              "#ed7953"
             ],
             [
              0.7777777777777778,
              "#fb9f3a"
             ],
             [
              0.8888888888888888,
              "#fdca26"
             ],
             [
              1,
              "#f0f921"
             ]
            ],
            "type": "surface"
           }
          ],
          "table": [
           {
            "cells": {
             "fill": {
              "color": "#EBF0F8"
             },
             "line": {
              "color": "white"
             }
            },
            "header": {
             "fill": {
              "color": "#C8D4E3"
             },
             "line": {
              "color": "white"
             }
            },
            "type": "table"
           }
          ]
         },
         "layout": {
          "annotationdefaults": {
           "arrowcolor": "#2a3f5f",
           "arrowhead": 0,
           "arrowwidth": 1
          },
          "coloraxis": {
           "colorbar": {
            "outlinewidth": 0,
            "ticks": ""
           }
          },
          "colorscale": {
           "diverging": [
            [
             0,
             "#8e0152"
            ],
            [
             0.1,
             "#c51b7d"
            ],
            [
             0.2,
             "#de77ae"
            ],
            [
             0.3,
             "#f1b6da"
            ],
            [
             0.4,
             "#fde0ef"
            ],
            [
             0.5,
             "#f7f7f7"
            ],
            [
             0.6,
             "#e6f5d0"
            ],
            [
             0.7,
             "#b8e186"
            ],
            [
             0.8,
             "#7fbc41"
            ],
            [
             0.9,
             "#4d9221"
            ],
            [
             1,
             "#276419"
            ]
           ],
           "sequential": [
            [
             0,
             "#0d0887"
            ],
            [
             0.1111111111111111,
             "#46039f"
            ],
            [
             0.2222222222222222,
             "#7201a8"
            ],
            [
             0.3333333333333333,
             "#9c179e"
            ],
            [
             0.4444444444444444,
             "#bd3786"
            ],
            [
             0.5555555555555556,
             "#d8576b"
            ],
            [
             0.6666666666666666,
             "#ed7953"
            ],
            [
             0.7777777777777778,
             "#fb9f3a"
            ],
            [
             0.8888888888888888,
             "#fdca26"
            ],
            [
             1,
             "#f0f921"
            ]
           ],
           "sequentialminus": [
            [
             0,
             "#0d0887"
            ],
            [
             0.1111111111111111,
             "#46039f"
            ],
            [
             0.2222222222222222,
             "#7201a8"
            ],
            [
             0.3333333333333333,
             "#9c179e"
            ],
            [
             0.4444444444444444,
             "#bd3786"
            ],
            [
             0.5555555555555556,
             "#d8576b"
            ],
            [
             0.6666666666666666,
             "#ed7953"
            ],
            [
             0.7777777777777778,
             "#fb9f3a"
            ],
            [
             0.8888888888888888,
             "#fdca26"
            ],
            [
             1,
             "#f0f921"
            ]
           ]
          },
          "colorway": [
           "#636efa",
           "#EF553B",
           "#00cc96",
           "#ab63fa",
           "#FFA15A",
           "#19d3f3",
           "#FF6692",
           "#B6E880",
           "#FF97FF",
           "#FECB52"
          ],
          "font": {
           "color": "#2a3f5f"
          },
          "geo": {
           "bgcolor": "white",
           "lakecolor": "white",
           "landcolor": "#E5ECF6",
           "showlakes": true,
           "showland": true,
           "subunitcolor": "white"
          },
          "hoverlabel": {
           "align": "left"
          },
          "hovermode": "closest",
          "mapbox": {
           "style": "light"
          },
          "paper_bgcolor": "white",
          "plot_bgcolor": "#E5ECF6",
          "polar": {
           "angularaxis": {
            "gridcolor": "white",
            "linecolor": "white",
            "ticks": ""
           },
           "bgcolor": "#E5ECF6",
           "radialaxis": {
            "gridcolor": "white",
            "linecolor": "white",
            "ticks": ""
           }
          },
          "scene": {
           "xaxis": {
            "backgroundcolor": "#E5ECF6",
            "gridcolor": "white",
            "gridwidth": 2,
            "linecolor": "white",
            "showbackground": true,
            "ticks": "",
            "zerolinecolor": "white"
           },
           "yaxis": {
            "backgroundcolor": "#E5ECF6",
            "gridcolor": "white",
            "gridwidth": 2,
            "linecolor": "white",
            "showbackground": true,
            "ticks": "",
            "zerolinecolor": "white"
           },
           "zaxis": {
            "backgroundcolor": "#E5ECF6",
            "gridcolor": "white",
            "gridwidth": 2,
            "linecolor": "white",
            "showbackground": true,
            "ticks": "",
            "zerolinecolor": "white"
           }
          },
          "shapedefaults": {
           "line": {
            "color": "#2a3f5f"
           }
          },
          "ternary": {
           "aaxis": {
            "gridcolor": "white",
            "linecolor": "white",
            "ticks": ""
           },
           "baxis": {
            "gridcolor": "white",
            "linecolor": "white",
            "ticks": ""
           },
           "bgcolor": "#E5ECF6",
           "caxis": {
            "gridcolor": "white",
            "linecolor": "white",
            "ticks": ""
           }
          },
          "title": {
           "x": 0.05
          },
          "xaxis": {
           "automargin": true,
           "gridcolor": "white",
           "linecolor": "white",
           "ticks": "",
           "title": {
            "standoff": 15
           },
           "zerolinecolor": "white",
           "zerolinewidth": 2
          },
          "yaxis": {
           "automargin": true,
           "gridcolor": "white",
           "linecolor": "white",
           "ticks": "",
           "title": {
            "standoff": 15
           },
           "zerolinecolor": "white",
           "zerolinewidth": 2
          }
         }
        },
        "title": {
         "text": "Heat wins by Country and Athlete"
        },
        "xaxis": {
         "anchor": "y",
         "domain": [
          0,
          1
         ],
         "title": {
          "text": "Country"
         }
        },
        "yaxis": {
         "anchor": "x",
         "domain": [
          0,
          1
         ],
         "title": {
          "text": "Heat wins"
         }
        }
       }
      },
      "text/html": [
       "<div>\n",
       "        \n",
       "        \n",
       "            <div id=\"ac7a34f4-9781-46ac-a4dc-60d5e4d896bb\" class=\"plotly-graph-div\" style=\"height:525px; width:100%;\"></div>\n",
       "            <script type=\"text/javascript\">\n",
       "                require([\"plotly\"], function(Plotly) {\n",
       "                    window.PLOTLYENV=window.PLOTLYENV || {};\n",
       "                    \n",
       "                if (document.getElementById(\"ac7a34f4-9781-46ac-a4dc-60d5e4d896bb\")) {\n",
       "                    Plotly.newPlot(\n",
       "                        'ac7a34f4-9781-46ac-a4dc-60d5e4d896bb',\n",
       "                        [{\"hoverlabel\": {\"namelength\": 0}, \"hovertemplate\": \"Athlete=Italo Ferreira<br>Country=%{x}<br>Heat wins=%{y}\", \"legendgroup\": \"Athlete=Italo Ferreira\", \"marker\": {\"color\": \"#636efa\", \"symbol\": \"circle\"}, \"mode\": \"markers\", \"name\": \"Athlete=Italo Ferreira\", \"showlegend\": true, \"type\": \"scatter\", \"x\": [\"Brazil\"], \"xaxis\": \"x\", \"y\": [33], \"yaxis\": \"y\"}, {\"hoverlabel\": {\"namelength\": 0}, \"hovertemplate\": \"Athlete=Gabriel Medina<br>Country=%{x}<br>Heat wins=%{y}\", \"legendgroup\": \"Athlete=Gabriel Medina\", \"marker\": {\"color\": \"#EF553B\", \"symbol\": \"circle\"}, \"mode\": \"markers\", \"name\": \"Athlete=Gabriel Medina\", \"showlegend\": true, \"type\": \"scatter\", \"x\": [\"Brazil\"], \"xaxis\": \"x\", \"y\": [31], \"yaxis\": \"y\"}, {\"hoverlabel\": {\"namelength\": 0}, \"hovertemplate\": \"Athlete=Jordy Smith<br>Country=%{x}<br>Heat wins=%{y}\", \"legendgroup\": \"Athlete=Jordy Smith\", \"marker\": {\"color\": \"#00cc96\", \"symbol\": \"circle\"}, \"mode\": \"markers\", \"name\": \"Athlete=Jordy Smith\", \"showlegend\": true, \"type\": \"scatter\", \"x\": [\"South Africa\"], \"xaxis\": \"x\", \"y\": [25], \"yaxis\": \"y\"}, {\"hoverlabel\": {\"namelength\": 0}, \"hovertemplate\": \"Athlete=Filipe Toledo<br>Country=%{x}<br>Heat wins=%{y}\", \"legendgroup\": \"Athlete=Filipe Toledo\", \"marker\": {\"color\": \"#ab63fa\", \"symbol\": \"circle\"}, \"mode\": \"markers\", \"name\": \"Athlete=Filipe Toledo\", \"showlegend\": true, \"type\": \"scatter\", \"x\": [\"Brazil\"], \"xaxis\": \"x\", \"y\": [27], \"yaxis\": \"y\"}, {\"hoverlabel\": {\"namelength\": 0}, \"hovertemplate\": \"Athlete=Kolohe Andino<br>Country=%{x}<br>Heat wins=%{y}\", \"legendgroup\": \"Athlete=Kolohe Andino\", \"marker\": {\"color\": \"#FFA15A\", \"symbol\": \"circle\"}, \"mode\": \"markers\", \"name\": \"Athlete=Kolohe Andino\", \"showlegend\": true, \"type\": \"scatter\", \"x\": [\"United States\"], \"xaxis\": \"x\", \"y\": [28], \"yaxis\": \"y\"}, {\"hoverlabel\": {\"namelength\": 0}, \"hovertemplate\": \"Athlete=Kanoa Igarashi<br>Country=%{x}<br>Heat wins=%{y}\", \"legendgroup\": \"Athlete=Kanoa Igarashi\", \"marker\": {\"color\": \"#19d3f3\", \"symbol\": \"circle\"}, \"mode\": \"markers\", \"name\": \"Athlete=Kanoa Igarashi\", \"showlegend\": true, \"type\": \"scatter\", \"x\": [\"Japan\"], \"xaxis\": \"x\", \"y\": [22], \"yaxis\": \"y\"}, {\"hoverlabel\": {\"namelength\": 0}, \"hovertemplate\": \"Athlete=John John Florence<br>Country=%{x}<br>Heat wins=%{y}\", \"legendgroup\": \"Athlete=John John Florence\", \"marker\": {\"color\": \"#FF6692\", \"symbol\": \"circle\"}, \"mode\": \"markers\", \"name\": \"Athlete=John John Florence\", \"showlegend\": true, \"type\": \"scatter\", \"x\": [\"Hawaii\"], \"xaxis\": \"x\", \"y\": [22], \"yaxis\": \"y\"}, {\"hoverlabel\": {\"namelength\": 0}, \"hovertemplate\": \"Athlete=Kelly Slater<br>Country=%{x}<br>Heat wins=%{y}\", \"legendgroup\": \"Athlete=Kelly Slater\", \"marker\": {\"color\": \"#B6E880\", \"symbol\": \"circle\"}, \"mode\": \"markers\", \"name\": \"Athlete=Kelly Slater\", \"showlegend\": true, \"type\": \"scatter\", \"x\": [\"United States\"], \"xaxis\": \"x\", \"y\": [17], \"yaxis\": \"y\"}, {\"hoverlabel\": {\"namelength\": 0}, \"hovertemplate\": \"Athlete=Owen Wright<br>Country=%{x}<br>Heat wins=%{y}\", \"legendgroup\": \"Athlete=Owen Wright\", \"marker\": {\"color\": \"#FF97FF\", \"symbol\": \"circle\"}, \"mode\": \"markers\", \"name\": \"Athlete=Owen Wright\", \"showlegend\": true, \"type\": \"scatter\", \"x\": [\"Australia\"], \"xaxis\": \"x\", \"y\": [18], \"yaxis\": \"y\"}, {\"hoverlabel\": {\"namelength\": 0}, \"hovertemplate\": \"Athlete=Jeremy Flores<br>Country=%{x}<br>Heat wins=%{y}\", \"legendgroup\": \"Athlete=Jeremy Flores\", \"marker\": {\"color\": \"#FECB52\", \"symbol\": \"circle\"}, \"mode\": \"markers\", \"name\": \"Athlete=Jeremy Flores\", \"showlegend\": true, \"type\": \"scatter\", \"x\": [\"France\"], \"xaxis\": \"x\", \"y\": [13], \"yaxis\": \"y\"}, {\"hoverlabel\": {\"namelength\": 0}, \"hovertemplate\": \"Athlete=Julian Wilson<br>Country=%{x}<br>Heat wins=%{y}\", \"legendgroup\": \"Athlete=Julian Wilson\", \"marker\": {\"color\": \"#636efa\", \"symbol\": \"circle\"}, \"mode\": \"markers\", \"name\": \"Athlete=Julian Wilson\", \"showlegend\": true, \"type\": \"scatter\", \"x\": [\"Australia\"], \"xaxis\": \"x\", \"y\": [15], \"yaxis\": \"y\"}, {\"hoverlabel\": {\"namelength\": 0}, \"hovertemplate\": \"Athlete=Seth Moniz<br>Country=%{x}<br>Heat wins=%{y}\", \"legendgroup\": \"Athlete=Seth Moniz\", \"marker\": {\"color\": \"#EF553B\", \"symbol\": \"circle\"}, \"mode\": \"markers\", \"name\": \"Athlete=Seth Moniz\", \"showlegend\": true, \"type\": \"scatter\", \"x\": [\"Hawaii\"], \"xaxis\": \"x\", \"y\": [16], \"yaxis\": \"y\"}, {\"hoverlabel\": {\"namelength\": 0}, \"hovertemplate\": \"Athlete=Michel Bourez<br>Country=%{x}<br>Heat wins=%{y}\", \"legendgroup\": \"Athlete=Michel Bourez\", \"marker\": {\"color\": \"#00cc96\", \"symbol\": \"circle\"}, \"mode\": \"markers\", \"name\": \"Athlete=Michel Bourez\", \"showlegend\": true, \"type\": \"scatter\", \"x\": [\"France\"], \"xaxis\": \"x\", \"y\": [14], \"yaxis\": \"y\"}, {\"hoverlabel\": {\"namelength\": 0}, \"hovertemplate\": \"Athlete=Ryan Callinan<br>Country=%{x}<br>Heat wins=%{y}\", \"legendgroup\": \"Athlete=Ryan Callinan\", \"marker\": {\"color\": \"#ab63fa\", \"symbol\": \"circle\"}, \"mode\": \"markers\", \"name\": \"Athlete=Ryan Callinan\", \"showlegend\": true, \"type\": \"scatter\", \"x\": [\"Australia\"], \"xaxis\": \"x\", \"y\": [13], \"yaxis\": \"y\"}, {\"hoverlabel\": {\"namelength\": 0}, \"hovertemplate\": \"Athlete=Jack Freestone<br>Country=%{x}<br>Heat wins=%{y}\", \"legendgroup\": \"Athlete=Jack Freestone\", \"marker\": {\"color\": \"#FFA15A\", \"symbol\": \"circle\"}, \"mode\": \"markers\", \"name\": \"Athlete=Jack Freestone\", \"showlegend\": true, \"type\": \"scatter\", \"x\": [\"Australia\"], \"xaxis\": \"x\", \"y\": [13], \"yaxis\": \"y\"}, {\"hoverlabel\": {\"namelength\": 0}, \"hovertemplate\": \"Athlete=Griffin Colapinto<br>Country=%{x}<br>Heat wins=%{y}\", \"legendgroup\": \"Athlete=Griffin Colapinto\", \"marker\": {\"color\": \"#19d3f3\", \"symbol\": \"circle\"}, \"mode\": \"markers\", \"name\": \"Athlete=Griffin Colapinto\", \"showlegend\": true, \"type\": \"scatter\", \"x\": [\"United States\"], \"xaxis\": \"x\", \"y\": [11], \"yaxis\": \"y\"}, {\"hoverlabel\": {\"namelength\": 0}, \"hovertemplate\": \"Athlete=Caio Ibelli<br>Country=%{x}<br>Heat wins=%{y}\", \"legendgroup\": \"Athlete=Caio Ibelli\", \"marker\": {\"color\": \"#FF6692\", \"symbol\": \"circle\"}, \"mode\": \"markers\", \"name\": \"Athlete=Caio Ibelli\", \"showlegend\": true, \"type\": \"scatter\", \"x\": [\"Brazil\"], \"xaxis\": \"x\", \"y\": [10], \"yaxis\": \"y\"}, {\"hoverlabel\": {\"namelength\": 0}, \"hovertemplate\": \"Athlete=Wade Carmichael<br>Country=%{x}<br>Heat wins=%{y}\", \"legendgroup\": \"Athlete=Wade Carmichael\", \"marker\": {\"color\": \"#B6E880\", \"symbol\": \"circle\"}, \"mode\": \"markers\", \"name\": \"Athlete=Wade Carmichael\", \"showlegend\": true, \"type\": \"scatter\", \"x\": [\"Australia\"], \"xaxis\": \"x\", \"y\": [9], \"yaxis\": \"y\"}, {\"hoverlabel\": {\"namelength\": 0}, \"hovertemplate\": \"Athlete=Adrian Buchan<br>Country=%{x}<br>Heat wins=%{y}\", \"legendgroup\": \"Athlete=Adrian Buchan\", \"marker\": {\"color\": \"#FF97FF\", \"symbol\": \"circle\"}, \"mode\": \"markers\", \"name\": \"Athlete=Adrian Buchan\", \"showlegend\": true, \"type\": \"scatter\", \"x\": [\"Australia\"], \"xaxis\": \"x\", \"y\": [11], \"yaxis\": \"y\"}, {\"hoverlabel\": {\"namelength\": 0}, \"hovertemplate\": \"Athlete=Conner Coffin<br>Country=%{x}<br>Heat wins=%{y}\", \"legendgroup\": \"Athlete=Conner Coffin\", \"marker\": {\"color\": \"#FECB52\", \"symbol\": \"circle\"}, \"mode\": \"markers\", \"name\": \"Athlete=Conner Coffin\", \"showlegend\": true, \"type\": \"scatter\", \"x\": [\"United States\"], \"xaxis\": \"x\", \"y\": [11], \"yaxis\": \"y\"}, {\"hoverlabel\": {\"namelength\": 0}, \"hovertemplate\": \"Athlete=Peterson Crisanto<br>Country=%{x}<br>Heat wins=%{y}\", \"legendgroup\": \"Athlete=Peterson Crisanto\", \"marker\": {\"color\": \"#636efa\", \"symbol\": \"circle\"}, \"mode\": \"markers\", \"name\": \"Athlete=Peterson Crisanto\", \"showlegend\": true, \"type\": \"scatter\", \"x\": [\"Brazil\"], \"xaxis\": \"x\", \"y\": [13], \"yaxis\": \"y\"}, {\"hoverlabel\": {\"namelength\": 0}, \"hovertemplate\": \"Athlete=Yago Dora<br>Country=%{x}<br>Heat wins=%{y}\", \"legendgroup\": \"Athlete=Yago Dora\", \"marker\": {\"color\": \"#EF553B\", \"symbol\": \"circle\"}, \"mode\": \"markers\", \"name\": \"Athlete=Yago Dora\", \"showlegend\": true, \"type\": \"scatter\", \"x\": [\"Brazil\"], \"xaxis\": \"x\", \"y\": [11], \"yaxis\": \"y\"}, {\"hoverlabel\": {\"namelength\": 0}, \"hovertemplate\": \"Athlete=Deivid Silva<br>Country=%{x}<br>Heat wins=%{y}\", \"legendgroup\": \"Athlete=Deivid Silva\", \"marker\": {\"color\": \"#00cc96\", \"symbol\": \"circle\"}, \"mode\": \"markers\", \"name\": \"Athlete=Deivid Silva\", \"showlegend\": true, \"type\": \"scatter\", \"x\": [\"Brazil\"], \"xaxis\": \"x\", \"y\": [6], \"yaxis\": \"y\"}, {\"hoverlabel\": {\"namelength\": 0}, \"hovertemplate\": \"Athlete=Willian Cardoso<br>Country=%{x}<br>Heat wins=%{y}\", \"legendgroup\": \"Athlete=Willian Cardoso\", \"marker\": {\"color\": \"#ab63fa\", \"symbol\": \"circle\"}, \"mode\": \"markers\", \"name\": \"Athlete=Willian Cardoso\", \"showlegend\": true, \"type\": \"scatter\", \"x\": [\"Brazil\"], \"xaxis\": \"x\", \"y\": [1], \"yaxis\": \"y\"}, {\"hoverlabel\": {\"namelength\": 0}, \"hovertemplate\": \"Athlete=Jesse Mendes<br>Country=%{x}<br>Heat wins=%{y}\", \"legendgroup\": \"Athlete=Jesse Mendes\", \"marker\": {\"color\": \"#FFA15A\", \"symbol\": \"circle\"}, \"mode\": \"markers\", \"name\": \"Athlete=Jesse Mendes\", \"showlegend\": true, \"type\": \"scatter\", \"x\": [\"Brazil\"], \"xaxis\": \"x\", \"y\": [10], \"yaxis\": \"y\"}, {\"hoverlabel\": {\"namelength\": 0}, \"hovertemplate\": \"Athlete=Michael Rodrigues<br>Country=%{x}<br>Heat wins=%{y}\", \"legendgroup\": \"Athlete=Michael Rodrigues\", \"marker\": {\"color\": \"#19d3f3\", \"symbol\": \"circle\"}, \"mode\": \"markers\", \"name\": \"Athlete=Michael Rodrigues\", \"showlegend\": true, \"type\": \"scatter\", \"x\": [\"Brazil\"], \"xaxis\": \"x\", \"y\": [3], \"yaxis\": \"y\"}, {\"hoverlabel\": {\"namelength\": 0}, \"hovertemplate\": \"Athlete=Sebastian Zietz<br>Country=%{x}<br>Heat wins=%{y}\", \"legendgroup\": \"Athlete=Sebastian Zietz\", \"marker\": {\"color\": \"#FF6692\", \"symbol\": \"circle\"}, \"mode\": \"markers\", \"name\": \"Athlete=Sebastian Zietz\", \"showlegend\": true, \"type\": \"scatter\", \"x\": [\"Hawaii\"], \"xaxis\": \"x\", \"y\": [3], \"yaxis\": \"y\"}, {\"hoverlabel\": {\"namelength\": 0}, \"hovertemplate\": \"Athlete=Ezekiel Lau<br>Country=%{x}<br>Heat wins=%{y}\", \"legendgroup\": \"Athlete=Ezekiel Lau\", \"marker\": {\"color\": \"#B6E880\", \"symbol\": \"circle\"}, \"mode\": \"markers\", \"name\": \"Athlete=Ezekiel Lau\", \"showlegend\": true, \"type\": \"scatter\", \"x\": [\"Hawaii\"], \"xaxis\": \"x\", \"y\": [7], \"yaxis\": \"y\"}, {\"hoverlabel\": {\"namelength\": 0}, \"hovertemplate\": \"Athlete=Joan Duru<br>Country=%{x}<br>Heat wins=%{y}\", \"legendgroup\": \"Athlete=Joan Duru\", \"marker\": {\"color\": \"#FF97FF\", \"symbol\": \"circle\"}, \"mode\": \"markers\", \"name\": \"Athlete=Joan Duru\", \"showlegend\": true, \"type\": \"scatter\", \"x\": [\"France\"], \"xaxis\": \"x\", \"y\": [2], \"yaxis\": \"y\"}, {\"hoverlabel\": {\"namelength\": 0}, \"hovertemplate\": \"Athlete=Soli Bailey<br>Country=%{x}<br>Heat wins=%{y}\", \"legendgroup\": \"Athlete=Soli Bailey\", \"marker\": {\"color\": \"#FECB52\", \"symbol\": \"circle\"}, \"mode\": \"markers\", \"name\": \"Athlete=Soli Bailey\", \"showlegend\": true, \"type\": \"scatter\", \"x\": [\"Australia\"], \"xaxis\": \"x\", \"y\": [3], \"yaxis\": \"y\"}, {\"hoverlabel\": {\"namelength\": 0}, \"hovertemplate\": \"Athlete=Leonardo Fioravanti<br>Country=%{x}<br>Heat wins=%{y}\", \"legendgroup\": \"Athlete=Leonardo Fioravanti\", \"marker\": {\"color\": \"#636efa\", \"symbol\": \"circle\"}, \"mode\": \"markers\", \"name\": \"Athlete=Leonardo Fioravanti\", \"showlegend\": true, \"type\": \"scatter\", \"x\": [\"Italy\"], \"xaxis\": \"x\", \"y\": [6], \"yaxis\": \"y\"}, {\"hoverlabel\": {\"namelength\": 0}, \"hovertemplate\": \"Athlete=Jadson Andre<br>Country=%{x}<br>Heat wins=%{y}\", \"legendgroup\": \"Athlete=Jadson Andre\", \"marker\": {\"color\": \"#EF553B\", \"symbol\": \"circle\"}, \"mode\": \"markers\", \"name\": \"Athlete=Jadson Andre\", \"showlegend\": true, \"type\": \"scatter\", \"x\": [\"Brazil\"], \"xaxis\": \"x\", \"y\": [4], \"yaxis\": \"y\"}, {\"hoverlabel\": {\"namelength\": 0}, \"hovertemplate\": \"Athlete=Ricardo Christie<br>Country=%{x}<br>Heat wins=%{y}\", \"legendgroup\": \"Athlete=Ricardo Christie\", \"marker\": {\"color\": \"#00cc96\", \"symbol\": \"circle\"}, \"mode\": \"markers\", \"name\": \"Athlete=Ricardo Christie\", \"showlegend\": true, \"type\": \"scatter\", \"x\": [\"New Zealand\"], \"xaxis\": \"x\", \"y\": [1], \"yaxis\": \"y\"}, {\"hoverlabel\": {\"namelength\": 0}, \"hovertemplate\": \"Athlete=Frederico Morais<br>Country=%{x}<br>Heat wins=%{y}\", \"legendgroup\": \"Athlete=Frederico Morais\", \"marker\": {\"color\": \"#ab63fa\", \"symbol\": \"circle\"}, \"mode\": \"markers\", \"name\": \"Athlete=Frederico Morais\", \"showlegend\": true, \"type\": \"scatter\", \"x\": [\"Portugal\"], \"xaxis\": \"x\", \"y\": [3], \"yaxis\": \"y\"}, {\"hoverlabel\": {\"namelength\": 0}, \"hovertemplate\": \"Athlete=Adriano de Souza<br>Country=%{x}<br>Heat wins=%{y}\", \"legendgroup\": \"Athlete=Adriano de Souza\", \"marker\": {\"color\": \"#FFA15A\", \"symbol\": \"circle\"}, \"mode\": \"markers\", \"name\": \"Athlete=Adriano de Souza\", \"showlegend\": true, \"type\": \"scatter\", \"x\": [\"Brazil\"], \"xaxis\": \"x\", \"y\": [2], \"yaxis\": \"y\"}, {\"hoverlabel\": {\"namelength\": 0}, \"hovertemplate\": \"Athlete=Mikey Wright<br>Country=%{x}<br>Heat wins=%{y}\", \"legendgroup\": \"Athlete=Mikey Wright\", \"marker\": {\"color\": \"#19d3f3\", \"symbol\": \"circle\"}, \"mode\": \"markers\", \"name\": \"Athlete=Mikey Wright\", \"showlegend\": true, \"type\": \"scatter\", \"x\": [\"Australia\"], \"xaxis\": \"x\", \"y\": [3], \"yaxis\": \"y\"}],\n",
       "                        {\"legend\": {\"tracegroupgap\": 0}, \"template\": {\"data\": {\"bar\": [{\"error_x\": {\"color\": \"#2a3f5f\"}, \"error_y\": {\"color\": \"#2a3f5f\"}, \"marker\": {\"line\": {\"color\": \"#E5ECF6\", \"width\": 0.5}}, \"type\": \"bar\"}], \"barpolar\": [{\"marker\": {\"line\": {\"color\": \"#E5ECF6\", \"width\": 0.5}}, \"type\": \"barpolar\"}], \"carpet\": [{\"aaxis\": {\"endlinecolor\": \"#2a3f5f\", \"gridcolor\": \"white\", \"linecolor\": \"white\", \"minorgridcolor\": \"white\", \"startlinecolor\": \"#2a3f5f\"}, \"baxis\": {\"endlinecolor\": \"#2a3f5f\", \"gridcolor\": \"white\", \"linecolor\": \"white\", \"minorgridcolor\": \"white\", \"startlinecolor\": \"#2a3f5f\"}, \"type\": \"carpet\"}], \"choropleth\": [{\"colorbar\": {\"outlinewidth\": 0, \"ticks\": \"\"}, \"type\": \"choropleth\"}], \"contour\": [{\"colorbar\": {\"outlinewidth\": 0, \"ticks\": \"\"}, \"colorscale\": [[0.0, \"#0d0887\"], [0.1111111111111111, \"#46039f\"], [0.2222222222222222, \"#7201a8\"], [0.3333333333333333, \"#9c179e\"], [0.4444444444444444, \"#bd3786\"], [0.5555555555555556, \"#d8576b\"], [0.6666666666666666, \"#ed7953\"], [0.7777777777777778, \"#fb9f3a\"], [0.8888888888888888, \"#fdca26\"], [1.0, \"#f0f921\"]], \"type\": \"contour\"}], \"contourcarpet\": [{\"colorbar\": {\"outlinewidth\": 0, \"ticks\": \"\"}, \"type\": \"contourcarpet\"}], \"heatmap\": [{\"colorbar\": {\"outlinewidth\": 0, \"ticks\": \"\"}, \"colorscale\": [[0.0, \"#0d0887\"], [0.1111111111111111, \"#46039f\"], [0.2222222222222222, \"#7201a8\"], [0.3333333333333333, \"#9c179e\"], [0.4444444444444444, \"#bd3786\"], [0.5555555555555556, \"#d8576b\"], [0.6666666666666666, \"#ed7953\"], [0.7777777777777778, \"#fb9f3a\"], [0.8888888888888888, \"#fdca26\"], [1.0, \"#f0f921\"]], \"type\": \"heatmap\"}], \"heatmapgl\": [{\"colorbar\": {\"outlinewidth\": 0, \"ticks\": \"\"}, \"colorscale\": [[0.0, \"#0d0887\"], [0.1111111111111111, \"#46039f\"], [0.2222222222222222, \"#7201a8\"], [0.3333333333333333, \"#9c179e\"], [0.4444444444444444, \"#bd3786\"], [0.5555555555555556, \"#d8576b\"], [0.6666666666666666, \"#ed7953\"], [0.7777777777777778, \"#fb9f3a\"], [0.8888888888888888, \"#fdca26\"], [1.0, \"#f0f921\"]], \"type\": \"heatmapgl\"}], \"histogram\": [{\"marker\": {\"colorbar\": {\"outlinewidth\": 0, \"ticks\": \"\"}}, \"type\": \"histogram\"}], \"histogram2d\": [{\"colorbar\": {\"outlinewidth\": 0, \"ticks\": \"\"}, \"colorscale\": [[0.0, \"#0d0887\"], [0.1111111111111111, \"#46039f\"], [0.2222222222222222, \"#7201a8\"], [0.3333333333333333, \"#9c179e\"], [0.4444444444444444, \"#bd3786\"], [0.5555555555555556, \"#d8576b\"], [0.6666666666666666, \"#ed7953\"], [0.7777777777777778, \"#fb9f3a\"], [0.8888888888888888, \"#fdca26\"], [1.0, \"#f0f921\"]], \"type\": \"histogram2d\"}], \"histogram2dcontour\": [{\"colorbar\": {\"outlinewidth\": 0, \"ticks\": \"\"}, \"colorscale\": [[0.0, \"#0d0887\"], [0.1111111111111111, \"#46039f\"], [0.2222222222222222, \"#7201a8\"], [0.3333333333333333, \"#9c179e\"], [0.4444444444444444, \"#bd3786\"], [0.5555555555555556, \"#d8576b\"], [0.6666666666666666, \"#ed7953\"], [0.7777777777777778, \"#fb9f3a\"], [0.8888888888888888, \"#fdca26\"], [1.0, \"#f0f921\"]], \"type\": \"histogram2dcontour\"}], \"mesh3d\": [{\"colorbar\": {\"outlinewidth\": 0, \"ticks\": \"\"}, \"type\": \"mesh3d\"}], \"parcoords\": [{\"line\": {\"colorbar\": {\"outlinewidth\": 0, \"ticks\": \"\"}}, \"type\": \"parcoords\"}], \"pie\": [{\"automargin\": true, \"type\": \"pie\"}], \"scatter\": [{\"marker\": {\"colorbar\": {\"outlinewidth\": 0, \"ticks\": \"\"}}, \"type\": \"scatter\"}], \"scatter3d\": [{\"line\": {\"colorbar\": {\"outlinewidth\": 0, \"ticks\": \"\"}}, \"marker\": {\"colorbar\": {\"outlinewidth\": 0, \"ticks\": \"\"}}, \"type\": \"scatter3d\"}], \"scattercarpet\": [{\"marker\": {\"colorbar\": {\"outlinewidth\": 0, \"ticks\": \"\"}}, \"type\": \"scattercarpet\"}], \"scattergeo\": [{\"marker\": {\"colorbar\": {\"outlinewidth\": 0, \"ticks\": \"\"}}, \"type\": \"scattergeo\"}], \"scattergl\": [{\"marker\": {\"colorbar\": {\"outlinewidth\": 0, \"ticks\": \"\"}}, \"type\": \"scattergl\"}], \"scattermapbox\": [{\"marker\": {\"colorbar\": {\"outlinewidth\": 0, \"ticks\": \"\"}}, \"type\": \"scattermapbox\"}], \"scatterpolar\": [{\"marker\": {\"colorbar\": {\"outlinewidth\": 0, \"ticks\": \"\"}}, \"type\": \"scatterpolar\"}], \"scatterpolargl\": [{\"marker\": {\"colorbar\": {\"outlinewidth\": 0, \"ticks\": \"\"}}, \"type\": \"scatterpolargl\"}], \"scatterternary\": [{\"marker\": {\"colorbar\": {\"outlinewidth\": 0, \"ticks\": \"\"}}, \"type\": \"scatterternary\"}], \"surface\": [{\"colorbar\": {\"outlinewidth\": 0, \"ticks\": \"\"}, \"colorscale\": [[0.0, \"#0d0887\"], [0.1111111111111111, \"#46039f\"], [0.2222222222222222, \"#7201a8\"], [0.3333333333333333, \"#9c179e\"], [0.4444444444444444, \"#bd3786\"], [0.5555555555555556, \"#d8576b\"], [0.6666666666666666, \"#ed7953\"], [0.7777777777777778, \"#fb9f3a\"], [0.8888888888888888, \"#fdca26\"], [1.0, \"#f0f921\"]], \"type\": \"surface\"}], \"table\": [{\"cells\": {\"fill\": {\"color\": \"#EBF0F8\"}, \"line\": {\"color\": \"white\"}}, \"header\": {\"fill\": {\"color\": \"#C8D4E3\"}, \"line\": {\"color\": \"white\"}}, \"type\": \"table\"}]}, \"layout\": {\"annotationdefaults\": {\"arrowcolor\": \"#2a3f5f\", \"arrowhead\": 0, \"arrowwidth\": 1}, \"coloraxis\": {\"colorbar\": {\"outlinewidth\": 0, \"ticks\": \"\"}}, \"colorscale\": {\"diverging\": [[0, \"#8e0152\"], [0.1, \"#c51b7d\"], [0.2, \"#de77ae\"], [0.3, \"#f1b6da\"], [0.4, \"#fde0ef\"], [0.5, \"#f7f7f7\"], [0.6, \"#e6f5d0\"], [0.7, \"#b8e186\"], [0.8, \"#7fbc41\"], [0.9, \"#4d9221\"], [1, \"#276419\"]], \"sequential\": [[0.0, \"#0d0887\"], [0.1111111111111111, \"#46039f\"], [0.2222222222222222, \"#7201a8\"], [0.3333333333333333, \"#9c179e\"], [0.4444444444444444, \"#bd3786\"], [0.5555555555555556, \"#d8576b\"], [0.6666666666666666, \"#ed7953\"], [0.7777777777777778, \"#fb9f3a\"], [0.8888888888888888, \"#fdca26\"], [1.0, \"#f0f921\"]], \"sequentialminus\": [[0.0, \"#0d0887\"], [0.1111111111111111, \"#46039f\"], [0.2222222222222222, \"#7201a8\"], [0.3333333333333333, \"#9c179e\"], [0.4444444444444444, \"#bd3786\"], [0.5555555555555556, \"#d8576b\"], [0.6666666666666666, \"#ed7953\"], [0.7777777777777778, \"#fb9f3a\"], [0.8888888888888888, \"#fdca26\"], [1.0, \"#f0f921\"]]}, \"colorway\": [\"#636efa\", \"#EF553B\", \"#00cc96\", \"#ab63fa\", \"#FFA15A\", \"#19d3f3\", \"#FF6692\", \"#B6E880\", \"#FF97FF\", \"#FECB52\"], \"font\": {\"color\": \"#2a3f5f\"}, \"geo\": {\"bgcolor\": \"white\", \"lakecolor\": \"white\", \"landcolor\": \"#E5ECF6\", \"showlakes\": true, \"showland\": true, \"subunitcolor\": \"white\"}, \"hoverlabel\": {\"align\": \"left\"}, \"hovermode\": \"closest\", \"mapbox\": {\"style\": \"light\"}, \"paper_bgcolor\": \"white\", \"plot_bgcolor\": \"#E5ECF6\", \"polar\": {\"angularaxis\": {\"gridcolor\": \"white\", \"linecolor\": \"white\", \"ticks\": \"\"}, \"bgcolor\": \"#E5ECF6\", \"radialaxis\": {\"gridcolor\": \"white\", \"linecolor\": \"white\", \"ticks\": \"\"}}, \"scene\": {\"xaxis\": {\"backgroundcolor\": \"#E5ECF6\", \"gridcolor\": \"white\", \"gridwidth\": 2, \"linecolor\": \"white\", \"showbackground\": true, \"ticks\": \"\", \"zerolinecolor\": \"white\"}, \"yaxis\": {\"backgroundcolor\": \"#E5ECF6\", \"gridcolor\": \"white\", \"gridwidth\": 2, \"linecolor\": \"white\", \"showbackground\": true, \"ticks\": \"\", \"zerolinecolor\": \"white\"}, \"zaxis\": {\"backgroundcolor\": \"#E5ECF6\", \"gridcolor\": \"white\", \"gridwidth\": 2, \"linecolor\": \"white\", \"showbackground\": true, \"ticks\": \"\", \"zerolinecolor\": \"white\"}}, \"shapedefaults\": {\"line\": {\"color\": \"#2a3f5f\"}}, \"ternary\": {\"aaxis\": {\"gridcolor\": \"white\", \"linecolor\": \"white\", \"ticks\": \"\"}, \"baxis\": {\"gridcolor\": \"white\", \"linecolor\": \"white\", \"ticks\": \"\"}, \"bgcolor\": \"#E5ECF6\", \"caxis\": {\"gridcolor\": \"white\", \"linecolor\": \"white\", \"ticks\": \"\"}}, \"title\": {\"x\": 0.05}, \"xaxis\": {\"automargin\": true, \"gridcolor\": \"white\", \"linecolor\": \"white\", \"ticks\": \"\", \"title\": {\"standoff\": 15}, \"zerolinecolor\": \"white\", \"zerolinewidth\": 2}, \"yaxis\": {\"automargin\": true, \"gridcolor\": \"white\", \"linecolor\": \"white\", \"ticks\": \"\", \"title\": {\"standoff\": 15}, \"zerolinecolor\": \"white\", \"zerolinewidth\": 2}}}, \"title\": {\"text\": \"Heat wins by Country and Athlete\"}, \"xaxis\": {\"anchor\": \"y\", \"domain\": [0.0, 1.0], \"title\": {\"text\": \"Country\"}}, \"yaxis\": {\"anchor\": \"x\", \"domain\": [0.0, 1.0], \"title\": {\"text\": \"Heat wins\"}}},\n",
       "                        {\"responsive\": true}\n",
       "                    ).then(function(){\n",
       "                            \n",
       "var gd = document.getElementById('ac7a34f4-9781-46ac-a4dc-60d5e4d896bb');\n",
       "var x = new MutationObserver(function (mutations, observer) {{\n",
       "        var display = window.getComputedStyle(gd).display;\n",
       "        if (!display || display === 'none') {{\n",
       "            console.log([gd, 'removed!']);\n",
       "            Plotly.purge(gd);\n",
       "            observer.disconnect();\n",
       "        }}\n",
       "}});\n",
       "\n",
       "// Listen for the removal of the full notebook cells\n",
       "var notebookContainer = gd.closest('#notebook-container');\n",
       "if (notebookContainer) {{\n",
       "    x.observe(notebookContainer, {childList: true});\n",
       "}}\n",
       "\n",
       "// Listen for the clearing of the current output cell\n",
       "var outputEl = gd.closest('.output');\n",
       "if (outputEl) {{\n",
       "    x.observe(outputEl, {childList: true});\n",
       "}}\n",
       "\n",
       "                        })\n",
       "                };\n",
       "                });\n",
       "            </script>\n",
       "        </div>"
      ]
     },
     "metadata": {},
     "output_type": "display_data"
    }
   ],
   "source": [
    "fig = px.scatter(eee.reset_index(), x='Country',y='Heat wins', color='Athlete', title='Heat wins by Country and Athlete')\n",
    "fig.show()"
   ]
  },
  {
   "cell_type": "markdown",
   "metadata": {},
   "source": [
    "Here we can see all athletes divided by Country of origin and a number of Heat wins. A Heat is basically a duel between 2 surfers. One interesting observation is that Brazil is the most represented country by far, but on the other hand, most of these surfers have lower ranking. There are 3 exceptions among Brazilians, which are all in the top 5 sufers. Judging simply from the graph, the highest average Heat wins would be for South Africa and Japan, as these two countries have only one representing athlete, who is winning a lot of heats.\n",
    "\n",
    "Another interesting observation is the fact, that even though Kolohe Andino (the best performing surfer of the United States) has 28 heat wins, he was ranked 5th in the Championship tour behind a Brazilian, Felipe Toledo, and a South African, Jordy Smith, who won 27 and 25 heats, respectively. This only confirms that some heats are more important than others, because the points for placements are increasing unproportionally for the top placements. Winning a heat to improve placement from 2nd to 1st (the final heat) increases the points by 2200 (10000-7800), whereas winning a heat that improves one's placement from 9th to 5th (the quarterfinal heat) increases the received points by 1425 (4745-3320). "
   ]
  },
  {
   "cell_type": "code",
   "execution_count": 12,
   "metadata": {},
   "outputs": [
    {
     "data": {
      "text/plain": [
       "Country\n",
       "Australia         8\n",
       "Brazil           12\n",
       "France            3\n",
       "Hawaii            4\n",
       "Italy             1\n",
       "Japan             1\n",
       "New Zealand       1\n",
       "Portugal          1\n",
       "South Africa      1\n",
       "United States     4\n",
       "Name: Men's CT 2019 Ranking, dtype: int64"
      ]
     },
     "execution_count": 12,
     "metadata": {},
     "output_type": "execute_result"
    }
   ],
   "source": [
    "eee.groupby('Country')[\"Men's CT 2019 Ranking\"].count()"
   ]
  },
  {
   "cell_type": "code",
   "execution_count": 15,
   "metadata": {},
   "outputs": [
    {
     "data": {
      "application/vnd.plotly.v1+json": {
       "config": {
        "plotlyServerURL": "https://plot.ly"
       },
       "data": [
        {
         "domain": {
          "x": [
           0,
           1
          ],
          "y": [
           0,
           1
          ]
         },
         "hoverlabel": {
          "namelength": 0
         },
         "hovertemplate": "label=%{label}<br>value=%{value}",
         "labels": [
          "Australia",
          "Brazil",
          "France",
          "Hawaii",
          "Italy",
          "Japan",
          "New Zealand",
          "Portugal",
          "South Africa",
          "United States"
         ],
         "legendgroup": "",
         "name": "",
         "showlegend": true,
         "type": "pie",
         "values": [
          8,
          12,
          3,
          4,
          1,
          1,
          1,
          1,
          1,
          4
         ]
        }
       ],
       "layout": {
        "legend": {
         "tracegroupgap": 0
        },
        "template": {
         "data": {
          "bar": [
           {
            "error_x": {
             "color": "#2a3f5f"
            },
            "error_y": {
             "color": "#2a3f5f"
            },
            "marker": {
             "line": {
              "color": "#E5ECF6",
              "width": 0.5
             }
            },
            "type": "bar"
           }
          ],
          "barpolar": [
           {
            "marker": {
             "line": {
              "color": "#E5ECF6",
              "width": 0.5
             }
            },
            "type": "barpolar"
           }
          ],
          "carpet": [
           {
            "aaxis": {
             "endlinecolor": "#2a3f5f",
             "gridcolor": "white",
             "linecolor": "white",
             "minorgridcolor": "white",
             "startlinecolor": "#2a3f5f"
            },
            "baxis": {
             "endlinecolor": "#2a3f5f",
             "gridcolor": "white",
             "linecolor": "white",
             "minorgridcolor": "white",
             "startlinecolor": "#2a3f5f"
            },
            "type": "carpet"
           }
          ],
          "choropleth": [
           {
            "colorbar": {
             "outlinewidth": 0,
             "ticks": ""
            },
            "type": "choropleth"
           }
          ],
          "contour": [
           {
            "colorbar": {
             "outlinewidth": 0,
             "ticks": ""
            },
            "colorscale": [
             [
              0,
              "#0d0887"
             ],
             [
              0.1111111111111111,
              "#46039f"
             ],
             [
              0.2222222222222222,
              "#7201a8"
             ],
             [
              0.3333333333333333,
              "#9c179e"
             ],
             [
              0.4444444444444444,
              "#bd3786"
             ],
             [
              0.5555555555555556,
              "#d8576b"
             ],
             [
              0.6666666666666666,
              "#ed7953"
             ],
             [
              0.7777777777777778,
              "#fb9f3a"
             ],
             [
              0.8888888888888888,
              "#fdca26"
             ],
             [
              1,
              "#f0f921"
             ]
            ],
            "type": "contour"
           }
          ],
          "contourcarpet": [
           {
            "colorbar": {
             "outlinewidth": 0,
             "ticks": ""
            },
            "type": "contourcarpet"
           }
          ],
          "heatmap": [
           {
            "colorbar": {
             "outlinewidth": 0,
             "ticks": ""
            },
            "colorscale": [
             [
              0,
              "#0d0887"
             ],
             [
              0.1111111111111111,
              "#46039f"
             ],
             [
              0.2222222222222222,
              "#7201a8"
             ],
             [
              0.3333333333333333,
              "#9c179e"
             ],
             [
              0.4444444444444444,
              "#bd3786"
             ],
             [
              0.5555555555555556,
              "#d8576b"
             ],
             [
              0.6666666666666666,
              "#ed7953"
             ],
             [
              0.7777777777777778,
              "#fb9f3a"
             ],
             [
              0.8888888888888888,
              "#fdca26"
             ],
             [
              1,
              "#f0f921"
             ]
            ],
            "type": "heatmap"
           }
          ],
          "heatmapgl": [
           {
            "colorbar": {
             "outlinewidth": 0,
             "ticks": ""
            },
            "colorscale": [
             [
              0,
              "#0d0887"
             ],
             [
              0.1111111111111111,
              "#46039f"
             ],
             [
              0.2222222222222222,
              "#7201a8"
             ],
             [
              0.3333333333333333,
              "#9c179e"
             ],
             [
              0.4444444444444444,
              "#bd3786"
             ],
             [
              0.5555555555555556,
              "#d8576b"
             ],
             [
              0.6666666666666666,
              "#ed7953"
             ],
             [
              0.7777777777777778,
              "#fb9f3a"
             ],
             [
              0.8888888888888888,
              "#fdca26"
             ],
             [
              1,
              "#f0f921"
             ]
            ],
            "type": "heatmapgl"
           }
          ],
          "histogram": [
           {
            "marker": {
             "colorbar": {
              "outlinewidth": 0,
              "ticks": ""
             }
            },
            "type": "histogram"
           }
          ],
          "histogram2d": [
           {
            "colorbar": {
             "outlinewidth": 0,
             "ticks": ""
            },
            "colorscale": [
             [
              0,
              "#0d0887"
             ],
             [
              0.1111111111111111,
              "#46039f"
             ],
             [
              0.2222222222222222,
              "#7201a8"
             ],
             [
              0.3333333333333333,
              "#9c179e"
             ],
             [
              0.4444444444444444,
              "#bd3786"
             ],
             [
              0.5555555555555556,
              "#d8576b"
             ],
             [
              0.6666666666666666,
              "#ed7953"
             ],
             [
              0.7777777777777778,
              "#fb9f3a"
             ],
             [
              0.8888888888888888,
              "#fdca26"
             ],
             [
              1,
              "#f0f921"
             ]
            ],
            "type": "histogram2d"
           }
          ],
          "histogram2dcontour": [
           {
            "colorbar": {
             "outlinewidth": 0,
             "ticks": ""
            },
            "colorscale": [
             [
              0,
              "#0d0887"
             ],
             [
              0.1111111111111111,
              "#46039f"
             ],
             [
              0.2222222222222222,
              "#7201a8"
             ],
             [
              0.3333333333333333,
              "#9c179e"
             ],
             [
              0.4444444444444444,
              "#bd3786"
             ],
             [
              0.5555555555555556,
              "#d8576b"
             ],
             [
              0.6666666666666666,
              "#ed7953"
             ],
             [
              0.7777777777777778,
              "#fb9f3a"
             ],
             [
              0.8888888888888888,
              "#fdca26"
             ],
             [
              1,
              "#f0f921"
             ]
            ],
            "type": "histogram2dcontour"
           }
          ],
          "mesh3d": [
           {
            "colorbar": {
             "outlinewidth": 0,
             "ticks": ""
            },
            "type": "mesh3d"
           }
          ],
          "parcoords": [
           {
            "line": {
             "colorbar": {
              "outlinewidth": 0,
              "ticks": ""
             }
            },
            "type": "parcoords"
           }
          ],
          "pie": [
           {
            "automargin": true,
            "type": "pie"
           }
          ],
          "scatter": [
           {
            "marker": {
             "colorbar": {
              "outlinewidth": 0,
              "ticks": ""
             }
            },
            "type": "scatter"
           }
          ],
          "scatter3d": [
           {
            "line": {
             "colorbar": {
              "outlinewidth": 0,
              "ticks": ""
             }
            },
            "marker": {
             "colorbar": {
              "outlinewidth": 0,
              "ticks": ""
             }
            },
            "type": "scatter3d"
           }
          ],
          "scattercarpet": [
           {
            "marker": {
             "colorbar": {
              "outlinewidth": 0,
              "ticks": ""
             }
            },
            "type": "scattercarpet"
           }
          ],
          "scattergeo": [
           {
            "marker": {
             "colorbar": {
              "outlinewidth": 0,
              "ticks": ""
             }
            },
            "type": "scattergeo"
           }
          ],
          "scattergl": [
           {
            "marker": {
             "colorbar": {
              "outlinewidth": 0,
              "ticks": ""
             }
            },
            "type": "scattergl"
           }
          ],
          "scattermapbox": [
           {
            "marker": {
             "colorbar": {
              "outlinewidth": 0,
              "ticks": ""
             }
            },
            "type": "scattermapbox"
           }
          ],
          "scatterpolar": [
           {
            "marker": {
             "colorbar": {
              "outlinewidth": 0,
              "ticks": ""
             }
            },
            "type": "scatterpolar"
           }
          ],
          "scatterpolargl": [
           {
            "marker": {
             "colorbar": {
              "outlinewidth": 0,
              "ticks": ""
             }
            },
            "type": "scatterpolargl"
           }
          ],
          "scatterternary": [
           {
            "marker": {
             "colorbar": {
              "outlinewidth": 0,
              "ticks": ""
             }
            },
            "type": "scatterternary"
           }
          ],
          "surface": [
           {
            "colorbar": {
             "outlinewidth": 0,
             "ticks": ""
            },
            "colorscale": [
             [
              0,
              "#0d0887"
             ],
             [
              0.1111111111111111,
              "#46039f"
             ],
             [
              0.2222222222222222,
              "#7201a8"
             ],
             [
              0.3333333333333333,
              "#9c179e"
             ],
             [
              0.4444444444444444,
              "#bd3786"
             ],
             [
              0.5555555555555556,
              "#d8576b"
             ],
             [
              0.6666666666666666,
              "#ed7953"
             ],
             [
              0.7777777777777778,
              "#fb9f3a"
             ],
             [
              0.8888888888888888,
              "#fdca26"
             ],
             [
              1,
              "#f0f921"
             ]
            ],
            "type": "surface"
           }
          ],
          "table": [
           {
            "cells": {
             "fill": {
              "color": "#EBF0F8"
             },
             "line": {
              "color": "white"
             }
            },
            "header": {
             "fill": {
              "color": "#C8D4E3"
             },
             "line": {
              "color": "white"
             }
            },
            "type": "table"
           }
          ]
         },
         "layout": {
          "annotationdefaults": {
           "arrowcolor": "#2a3f5f",
           "arrowhead": 0,
           "arrowwidth": 1
          },
          "coloraxis": {
           "colorbar": {
            "outlinewidth": 0,
            "ticks": ""
           }
          },
          "colorscale": {
           "diverging": [
            [
             0,
             "#8e0152"
            ],
            [
             0.1,
             "#c51b7d"
            ],
            [
             0.2,
             "#de77ae"
            ],
            [
             0.3,
             "#f1b6da"
            ],
            [
             0.4,
             "#fde0ef"
            ],
            [
             0.5,
             "#f7f7f7"
            ],
            [
             0.6,
             "#e6f5d0"
            ],
            [
             0.7,
             "#b8e186"
            ],
            [
             0.8,
             "#7fbc41"
            ],
            [
             0.9,
             "#4d9221"
            ],
            [
             1,
             "#276419"
            ]
           ],
           "sequential": [
            [
             0,
             "#0d0887"
            ],
            [
             0.1111111111111111,
             "#46039f"
            ],
            [
             0.2222222222222222,
             "#7201a8"
            ],
            [
             0.3333333333333333,
             "#9c179e"
            ],
            [
             0.4444444444444444,
             "#bd3786"
            ],
            [
             0.5555555555555556,
             "#d8576b"
            ],
            [
             0.6666666666666666,
             "#ed7953"
            ],
            [
             0.7777777777777778,
             "#fb9f3a"
            ],
            [
             0.8888888888888888,
             "#fdca26"
            ],
            [
             1,
             "#f0f921"
            ]
           ],
           "sequentialminus": [
            [
             0,
             "#0d0887"
            ],
            [
             0.1111111111111111,
             "#46039f"
            ],
            [
             0.2222222222222222,
             "#7201a8"
            ],
            [
             0.3333333333333333,
             "#9c179e"
            ],
            [
             0.4444444444444444,
             "#bd3786"
            ],
            [
             0.5555555555555556,
             "#d8576b"
            ],
            [
             0.6666666666666666,
             "#ed7953"
            ],
            [
             0.7777777777777778,
             "#fb9f3a"
            ],
            [
             0.8888888888888888,
             "#fdca26"
            ],
            [
             1,
             "#f0f921"
            ]
           ]
          },
          "colorway": [
           "#636efa",
           "#EF553B",
           "#00cc96",
           "#ab63fa",
           "#FFA15A",
           "#19d3f3",
           "#FF6692",
           "#B6E880",
           "#FF97FF",
           "#FECB52"
          ],
          "font": {
           "color": "#2a3f5f"
          },
          "geo": {
           "bgcolor": "white",
           "lakecolor": "white",
           "landcolor": "#E5ECF6",
           "showlakes": true,
           "showland": true,
           "subunitcolor": "white"
          },
          "hoverlabel": {
           "align": "left"
          },
          "hovermode": "closest",
          "mapbox": {
           "style": "light"
          },
          "paper_bgcolor": "white",
          "plot_bgcolor": "#E5ECF6",
          "polar": {
           "angularaxis": {
            "gridcolor": "white",
            "linecolor": "white",
            "ticks": ""
           },
           "bgcolor": "#E5ECF6",
           "radialaxis": {
            "gridcolor": "white",
            "linecolor": "white",
            "ticks": ""
           }
          },
          "scene": {
           "xaxis": {
            "backgroundcolor": "#E5ECF6",
            "gridcolor": "white",
            "gridwidth": 2,
            "linecolor": "white",
            "showbackground": true,
            "ticks": "",
            "zerolinecolor": "white"
           },
           "yaxis": {
            "backgroundcolor": "#E5ECF6",
            "gridcolor": "white",
            "gridwidth": 2,
            "linecolor": "white",
            "showbackground": true,
            "ticks": "",
            "zerolinecolor": "white"
           },
           "zaxis": {
            "backgroundcolor": "#E5ECF6",
            "gridcolor": "white",
            "gridwidth": 2,
            "linecolor": "white",
            "showbackground": true,
            "ticks": "",
            "zerolinecolor": "white"
           }
          },
          "shapedefaults": {
           "line": {
            "color": "#2a3f5f"
           }
          },
          "ternary": {
           "aaxis": {
            "gridcolor": "white",
            "linecolor": "white",
            "ticks": ""
           },
           "baxis": {
            "gridcolor": "white",
            "linecolor": "white",
            "ticks": ""
           },
           "bgcolor": "#E5ECF6",
           "caxis": {
            "gridcolor": "white",
            "linecolor": "white",
            "ticks": ""
           }
          },
          "title": {
           "x": 0.05
          },
          "xaxis": {
           "automargin": true,
           "gridcolor": "white",
           "linecolor": "white",
           "ticks": "",
           "title": {
            "standoff": 15
           },
           "zerolinecolor": "white",
           "zerolinewidth": 2
          },
          "yaxis": {
           "automargin": true,
           "gridcolor": "white",
           "linecolor": "white",
           "ticks": "",
           "title": {
            "standoff": 15
           },
           "zerolinecolor": "white",
           "zerolinewidth": 2
          }
         }
        },
        "title": {
         "text": "Country representation on the Tour"
        }
       }
      },
      "text/html": [
       "<div>\n",
       "        \n",
       "        \n",
       "            <div id=\"ed35a6ac-d31f-46ef-ba21-71bf04419160\" class=\"plotly-graph-div\" style=\"height:525px; width:100%;\"></div>\n",
       "            <script type=\"text/javascript\">\n",
       "                require([\"plotly\"], function(Plotly) {\n",
       "                    window.PLOTLYENV=window.PLOTLYENV || {};\n",
       "                    \n",
       "                if (document.getElementById(\"ed35a6ac-d31f-46ef-ba21-71bf04419160\")) {\n",
       "                    Plotly.newPlot(\n",
       "                        'ed35a6ac-d31f-46ef-ba21-71bf04419160',\n",
       "                        [{\"domain\": {\"x\": [0.0, 1.0], \"y\": [0.0, 1.0]}, \"hoverlabel\": {\"namelength\": 0}, \"hovertemplate\": \"label=%{label}<br>value=%{value}\", \"labels\": [\"Australia\", \"Brazil\", \"France\", \"Hawaii\", \"Italy\", \"Japan\", \"New Zealand\", \"Portugal\", \"South Africa\", \"United States\"], \"legendgroup\": \"\", \"name\": \"\", \"showlegend\": true, \"type\": \"pie\", \"values\": [8, 12, 3, 4, 1, 1, 1, 1, 1, 4]}],\n",
       "                        {\"legend\": {\"tracegroupgap\": 0}, \"template\": {\"data\": {\"bar\": [{\"error_x\": {\"color\": \"#2a3f5f\"}, \"error_y\": {\"color\": \"#2a3f5f\"}, \"marker\": {\"line\": {\"color\": \"#E5ECF6\", \"width\": 0.5}}, \"type\": \"bar\"}], \"barpolar\": [{\"marker\": {\"line\": {\"color\": \"#E5ECF6\", \"width\": 0.5}}, \"type\": \"barpolar\"}], \"carpet\": [{\"aaxis\": {\"endlinecolor\": \"#2a3f5f\", \"gridcolor\": \"white\", \"linecolor\": \"white\", \"minorgridcolor\": \"white\", \"startlinecolor\": \"#2a3f5f\"}, \"baxis\": {\"endlinecolor\": \"#2a3f5f\", \"gridcolor\": \"white\", \"linecolor\": \"white\", \"minorgridcolor\": \"white\", \"startlinecolor\": \"#2a3f5f\"}, \"type\": \"carpet\"}], \"choropleth\": [{\"colorbar\": {\"outlinewidth\": 0, \"ticks\": \"\"}, \"type\": \"choropleth\"}], \"contour\": [{\"colorbar\": {\"outlinewidth\": 0, \"ticks\": \"\"}, \"colorscale\": [[0.0, \"#0d0887\"], [0.1111111111111111, \"#46039f\"], [0.2222222222222222, \"#7201a8\"], [0.3333333333333333, \"#9c179e\"], [0.4444444444444444, \"#bd3786\"], [0.5555555555555556, \"#d8576b\"], [0.6666666666666666, \"#ed7953\"], [0.7777777777777778, \"#fb9f3a\"], [0.8888888888888888, \"#fdca26\"], [1.0, \"#f0f921\"]], \"type\": \"contour\"}], \"contourcarpet\": [{\"colorbar\": {\"outlinewidth\": 0, \"ticks\": \"\"}, \"type\": \"contourcarpet\"}], \"heatmap\": [{\"colorbar\": {\"outlinewidth\": 0, \"ticks\": \"\"}, \"colorscale\": [[0.0, \"#0d0887\"], [0.1111111111111111, \"#46039f\"], [0.2222222222222222, \"#7201a8\"], [0.3333333333333333, \"#9c179e\"], [0.4444444444444444, \"#bd3786\"], [0.5555555555555556, \"#d8576b\"], [0.6666666666666666, \"#ed7953\"], [0.7777777777777778, \"#fb9f3a\"], [0.8888888888888888, \"#fdca26\"], [1.0, \"#f0f921\"]], \"type\": \"heatmap\"}], \"heatmapgl\": [{\"colorbar\": {\"outlinewidth\": 0, \"ticks\": \"\"}, \"colorscale\": [[0.0, \"#0d0887\"], [0.1111111111111111, \"#46039f\"], [0.2222222222222222, \"#7201a8\"], [0.3333333333333333, \"#9c179e\"], [0.4444444444444444, \"#bd3786\"], [0.5555555555555556, \"#d8576b\"], [0.6666666666666666, \"#ed7953\"], [0.7777777777777778, \"#fb9f3a\"], [0.8888888888888888, \"#fdca26\"], [1.0, \"#f0f921\"]], \"type\": \"heatmapgl\"}], \"histogram\": [{\"marker\": {\"colorbar\": {\"outlinewidth\": 0, \"ticks\": \"\"}}, \"type\": \"histogram\"}], \"histogram2d\": [{\"colorbar\": {\"outlinewidth\": 0, \"ticks\": \"\"}, \"colorscale\": [[0.0, \"#0d0887\"], [0.1111111111111111, \"#46039f\"], [0.2222222222222222, \"#7201a8\"], [0.3333333333333333, \"#9c179e\"], [0.4444444444444444, \"#bd3786\"], [0.5555555555555556, \"#d8576b\"], [0.6666666666666666, \"#ed7953\"], [0.7777777777777778, \"#fb9f3a\"], [0.8888888888888888, \"#fdca26\"], [1.0, \"#f0f921\"]], \"type\": \"histogram2d\"}], \"histogram2dcontour\": [{\"colorbar\": {\"outlinewidth\": 0, \"ticks\": \"\"}, \"colorscale\": [[0.0, \"#0d0887\"], [0.1111111111111111, \"#46039f\"], [0.2222222222222222, \"#7201a8\"], [0.3333333333333333, \"#9c179e\"], [0.4444444444444444, \"#bd3786\"], [0.5555555555555556, \"#d8576b\"], [0.6666666666666666, \"#ed7953\"], [0.7777777777777778, \"#fb9f3a\"], [0.8888888888888888, \"#fdca26\"], [1.0, \"#f0f921\"]], \"type\": \"histogram2dcontour\"}], \"mesh3d\": [{\"colorbar\": {\"outlinewidth\": 0, \"ticks\": \"\"}, \"type\": \"mesh3d\"}], \"parcoords\": [{\"line\": {\"colorbar\": {\"outlinewidth\": 0, \"ticks\": \"\"}}, \"type\": \"parcoords\"}], \"pie\": [{\"automargin\": true, \"type\": \"pie\"}], \"scatter\": [{\"marker\": {\"colorbar\": {\"outlinewidth\": 0, \"ticks\": \"\"}}, \"type\": \"scatter\"}], \"scatter3d\": [{\"line\": {\"colorbar\": {\"outlinewidth\": 0, \"ticks\": \"\"}}, \"marker\": {\"colorbar\": {\"outlinewidth\": 0, \"ticks\": \"\"}}, \"type\": \"scatter3d\"}], \"scattercarpet\": [{\"marker\": {\"colorbar\": {\"outlinewidth\": 0, \"ticks\": \"\"}}, \"type\": \"scattercarpet\"}], \"scattergeo\": [{\"marker\": {\"colorbar\": {\"outlinewidth\": 0, \"ticks\": \"\"}}, \"type\": \"scattergeo\"}], \"scattergl\": [{\"marker\": {\"colorbar\": {\"outlinewidth\": 0, \"ticks\": \"\"}}, \"type\": \"scattergl\"}], \"scattermapbox\": [{\"marker\": {\"colorbar\": {\"outlinewidth\": 0, \"ticks\": \"\"}}, \"type\": \"scattermapbox\"}], \"scatterpolar\": [{\"marker\": {\"colorbar\": {\"outlinewidth\": 0, \"ticks\": \"\"}}, \"type\": \"scatterpolar\"}], \"scatterpolargl\": [{\"marker\": {\"colorbar\": {\"outlinewidth\": 0, \"ticks\": \"\"}}, \"type\": \"scatterpolargl\"}], \"scatterternary\": [{\"marker\": {\"colorbar\": {\"outlinewidth\": 0, \"ticks\": \"\"}}, \"type\": \"scatterternary\"}], \"surface\": [{\"colorbar\": {\"outlinewidth\": 0, \"ticks\": \"\"}, \"colorscale\": [[0.0, \"#0d0887\"], [0.1111111111111111, \"#46039f\"], [0.2222222222222222, \"#7201a8\"], [0.3333333333333333, \"#9c179e\"], [0.4444444444444444, \"#bd3786\"], [0.5555555555555556, \"#d8576b\"], [0.6666666666666666, \"#ed7953\"], [0.7777777777777778, \"#fb9f3a\"], [0.8888888888888888, \"#fdca26\"], [1.0, \"#f0f921\"]], \"type\": \"surface\"}], \"table\": [{\"cells\": {\"fill\": {\"color\": \"#EBF0F8\"}, \"line\": {\"color\": \"white\"}}, \"header\": {\"fill\": {\"color\": \"#C8D4E3\"}, \"line\": {\"color\": \"white\"}}, \"type\": \"table\"}]}, \"layout\": {\"annotationdefaults\": {\"arrowcolor\": \"#2a3f5f\", \"arrowhead\": 0, \"arrowwidth\": 1}, \"coloraxis\": {\"colorbar\": {\"outlinewidth\": 0, \"ticks\": \"\"}}, \"colorscale\": {\"diverging\": [[0, \"#8e0152\"], [0.1, \"#c51b7d\"], [0.2, \"#de77ae\"], [0.3, \"#f1b6da\"], [0.4, \"#fde0ef\"], [0.5, \"#f7f7f7\"], [0.6, \"#e6f5d0\"], [0.7, \"#b8e186\"], [0.8, \"#7fbc41\"], [0.9, \"#4d9221\"], [1, \"#276419\"]], \"sequential\": [[0.0, \"#0d0887\"], [0.1111111111111111, \"#46039f\"], [0.2222222222222222, \"#7201a8\"], [0.3333333333333333, \"#9c179e\"], [0.4444444444444444, \"#bd3786\"], [0.5555555555555556, \"#d8576b\"], [0.6666666666666666, \"#ed7953\"], [0.7777777777777778, \"#fb9f3a\"], [0.8888888888888888, \"#fdca26\"], [1.0, \"#f0f921\"]], \"sequentialminus\": [[0.0, \"#0d0887\"], [0.1111111111111111, \"#46039f\"], [0.2222222222222222, \"#7201a8\"], [0.3333333333333333, \"#9c179e\"], [0.4444444444444444, \"#bd3786\"], [0.5555555555555556, \"#d8576b\"], [0.6666666666666666, \"#ed7953\"], [0.7777777777777778, \"#fb9f3a\"], [0.8888888888888888, \"#fdca26\"], [1.0, \"#f0f921\"]]}, \"colorway\": [\"#636efa\", \"#EF553B\", \"#00cc96\", \"#ab63fa\", \"#FFA15A\", \"#19d3f3\", \"#FF6692\", \"#B6E880\", \"#FF97FF\", \"#FECB52\"], \"font\": {\"color\": \"#2a3f5f\"}, \"geo\": {\"bgcolor\": \"white\", \"lakecolor\": \"white\", \"landcolor\": \"#E5ECF6\", \"showlakes\": true, \"showland\": true, \"subunitcolor\": \"white\"}, \"hoverlabel\": {\"align\": \"left\"}, \"hovermode\": \"closest\", \"mapbox\": {\"style\": \"light\"}, \"paper_bgcolor\": \"white\", \"plot_bgcolor\": \"#E5ECF6\", \"polar\": {\"angularaxis\": {\"gridcolor\": \"white\", \"linecolor\": \"white\", \"ticks\": \"\"}, \"bgcolor\": \"#E5ECF6\", \"radialaxis\": {\"gridcolor\": \"white\", \"linecolor\": \"white\", \"ticks\": \"\"}}, \"scene\": {\"xaxis\": {\"backgroundcolor\": \"#E5ECF6\", \"gridcolor\": \"white\", \"gridwidth\": 2, \"linecolor\": \"white\", \"showbackground\": true, \"ticks\": \"\", \"zerolinecolor\": \"white\"}, \"yaxis\": {\"backgroundcolor\": \"#E5ECF6\", \"gridcolor\": \"white\", \"gridwidth\": 2, \"linecolor\": \"white\", \"showbackground\": true, \"ticks\": \"\", \"zerolinecolor\": \"white\"}, \"zaxis\": {\"backgroundcolor\": \"#E5ECF6\", \"gridcolor\": \"white\", \"gridwidth\": 2, \"linecolor\": \"white\", \"showbackground\": true, \"ticks\": \"\", \"zerolinecolor\": \"white\"}}, \"shapedefaults\": {\"line\": {\"color\": \"#2a3f5f\"}}, \"ternary\": {\"aaxis\": {\"gridcolor\": \"white\", \"linecolor\": \"white\", \"ticks\": \"\"}, \"baxis\": {\"gridcolor\": \"white\", \"linecolor\": \"white\", \"ticks\": \"\"}, \"bgcolor\": \"#E5ECF6\", \"caxis\": {\"gridcolor\": \"white\", \"linecolor\": \"white\", \"ticks\": \"\"}}, \"title\": {\"x\": 0.05}, \"xaxis\": {\"automargin\": true, \"gridcolor\": \"white\", \"linecolor\": \"white\", \"ticks\": \"\", \"title\": {\"standoff\": 15}, \"zerolinecolor\": \"white\", \"zerolinewidth\": 2}, \"yaxis\": {\"automargin\": true, \"gridcolor\": \"white\", \"linecolor\": \"white\", \"ticks\": \"\", \"title\": {\"standoff\": 15}, \"zerolinecolor\": \"white\", \"zerolinewidth\": 2}}}, \"title\": {\"text\": \"Country representation on the Tour\"}},\n",
       "                        {\"responsive\": true}\n",
       "                    ).then(function(){\n",
       "                            \n",
       "var gd = document.getElementById('ed35a6ac-d31f-46ef-ba21-71bf04419160');\n",
       "var x = new MutationObserver(function (mutations, observer) {{\n",
       "        var display = window.getComputedStyle(gd).display;\n",
       "        if (!display || display === 'none') {{\n",
       "            console.log([gd, 'removed!']);\n",
       "            Plotly.purge(gd);\n",
       "            observer.disconnect();\n",
       "        }}\n",
       "}});\n",
       "\n",
       "// Listen for the removal of the full notebook cells\n",
       "var notebookContainer = gd.closest('#notebook-container');\n",
       "if (notebookContainer) {{\n",
       "    x.observe(notebookContainer, {childList: true});\n",
       "}}\n",
       "\n",
       "// Listen for the clearing of the current output cell\n",
       "var outputEl = gd.closest('.output');\n",
       "if (outputEl) {{\n",
       "    x.observe(outputEl, {childList: true});\n",
       "}}\n",
       "\n",
       "                        })\n",
       "                };\n",
       "                });\n",
       "            </script>\n",
       "        </div>"
      ]
     },
     "metadata": {},
     "output_type": "display_data"
    }
   ],
   "source": [
    "df = eee.groupby('Country')[\"Men's CT 2019 Ranking\"].count()\n",
    "fig = px.pie(df, values=df[:], names=df.index, title='Country representation on the Tour')\n",
    "fig.show()"
   ]
  },
  {
   "cell_type": "markdown",
   "metadata": {},
   "source": [
    "WSL is every year becoming more and more diverse. Countries as Portugal, Italy or Japan are bringing 'new blood' into the competition and are pushing that big surfing countries as Brazil or Australia forward. Looking at the next pie chart we are going to analyse performances of the countries at the Tour."
   ]
  },
  {
   "cell_type": "code",
   "execution_count": 17,
   "metadata": {},
   "outputs": [],
   "source": [
    "accumulation = eee[['Event {}: Points'.format(i) for i in range(1, 12)]].T.cumsum().T\n",
    "accumulation.columns = ['Points after event {}'.format(i) for i in range(1, 12)]\n",
    "\n",
    "top10 = accumulation[:10]\n",
    "top10 = top10.T"
   ]
  },
  {
   "cell_type": "code",
   "execution_count": 20,
   "metadata": {
    "scrolled": false
   },
   "outputs": [
    {
     "data": {
      "application/vnd.plotly.v1+json": {
       "config": {
        "plotlyServerURL": "https://plot.ly"
       },
       "data": [
        {
         "domain": {
          "x": [
           0,
           1
          ],
          "y": [
           0,
           1
          ]
         },
         "hoverlabel": {
          "namelength": 0
         },
         "hovertemplate": "label=%{label}<br>value=%{value}",
         "labels": [
          "Australia",
          "Brazil",
          "France",
          "Hawaii",
          "Italy",
          "Japan",
          "New Zealand",
          "Portugal",
          "South Africa",
          "United States"
         ],
         "legendgroup": "",
         "name": "",
         "showlegend": true,
         "textinfo": "percent+label",
         "textposition": "inside",
         "type": "pie",
         "values": [
          211100,
          362245,
          83490,
          106650,
          14985,
          42845,
          14490,
          10870,
          52645,
          140805
         ]
        }
       ],
       "layout": {
        "legend": {
         "tracegroupgap": 0
        },
        "template": {
         "data": {
          "bar": [
           {
            "error_x": {
             "color": "#2a3f5f"
            },
            "error_y": {
             "color": "#2a3f5f"
            },
            "marker": {
             "line": {
              "color": "#E5ECF6",
              "width": 0.5
             }
            },
            "type": "bar"
           }
          ],
          "barpolar": [
           {
            "marker": {
             "line": {
              "color": "#E5ECF6",
              "width": 0.5
             }
            },
            "type": "barpolar"
           }
          ],
          "carpet": [
           {
            "aaxis": {
             "endlinecolor": "#2a3f5f",
             "gridcolor": "white",
             "linecolor": "white",
             "minorgridcolor": "white",
             "startlinecolor": "#2a3f5f"
            },
            "baxis": {
             "endlinecolor": "#2a3f5f",
             "gridcolor": "white",
             "linecolor": "white",
             "minorgridcolor": "white",
             "startlinecolor": "#2a3f5f"
            },
            "type": "carpet"
           }
          ],
          "choropleth": [
           {
            "colorbar": {
             "outlinewidth": 0,
             "ticks": ""
            },
            "type": "choropleth"
           }
          ],
          "contour": [
           {
            "colorbar": {
             "outlinewidth": 0,
             "ticks": ""
            },
            "colorscale": [
             [
              0,
              "#0d0887"
             ],
             [
              0.1111111111111111,
              "#46039f"
             ],
             [
              0.2222222222222222,
              "#7201a8"
             ],
             [
              0.3333333333333333,
              "#9c179e"
             ],
             [
              0.4444444444444444,
              "#bd3786"
             ],
             [
              0.5555555555555556,
              "#d8576b"
             ],
             [
              0.6666666666666666,
              "#ed7953"
             ],
             [
              0.7777777777777778,
              "#fb9f3a"
             ],
             [
              0.8888888888888888,
              "#fdca26"
             ],
             [
              1,
              "#f0f921"
             ]
            ],
            "type": "contour"
           }
          ],
          "contourcarpet": [
           {
            "colorbar": {
             "outlinewidth": 0,
             "ticks": ""
            },
            "type": "contourcarpet"
           }
          ],
          "heatmap": [
           {
            "colorbar": {
             "outlinewidth": 0,
             "ticks": ""
            },
            "colorscale": [
             [
              0,
              "#0d0887"
             ],
             [
              0.1111111111111111,
              "#46039f"
             ],
             [
              0.2222222222222222,
              "#7201a8"
             ],
             [
              0.3333333333333333,
              "#9c179e"
             ],
             [
              0.4444444444444444,
              "#bd3786"
             ],
             [
              0.5555555555555556,
              "#d8576b"
             ],
             [
              0.6666666666666666,
              "#ed7953"
             ],
             [
              0.7777777777777778,
              "#fb9f3a"
             ],
             [
              0.8888888888888888,
              "#fdca26"
             ],
             [
              1,
              "#f0f921"
             ]
            ],
            "type": "heatmap"
           }
          ],
          "heatmapgl": [
           {
            "colorbar": {
             "outlinewidth": 0,
             "ticks": ""
            },
            "colorscale": [
             [
              0,
              "#0d0887"
             ],
             [
              0.1111111111111111,
              "#46039f"
             ],
             [
              0.2222222222222222,
              "#7201a8"
             ],
             [
              0.3333333333333333,
              "#9c179e"
             ],
             [
              0.4444444444444444,
              "#bd3786"
             ],
             [
              0.5555555555555556,
              "#d8576b"
             ],
             [
              0.6666666666666666,
              "#ed7953"
             ],
             [
              0.7777777777777778,
              "#fb9f3a"
             ],
             [
              0.8888888888888888,
              "#fdca26"
             ],
             [
              1,
              "#f0f921"
             ]
            ],
            "type": "heatmapgl"
           }
          ],
          "histogram": [
           {
            "marker": {
             "colorbar": {
              "outlinewidth": 0,
              "ticks": ""
             }
            },
            "type": "histogram"
           }
          ],
          "histogram2d": [
           {
            "colorbar": {
             "outlinewidth": 0,
             "ticks": ""
            },
            "colorscale": [
             [
              0,
              "#0d0887"
             ],
             [
              0.1111111111111111,
              "#46039f"
             ],
             [
              0.2222222222222222,
              "#7201a8"
             ],
             [
              0.3333333333333333,
              "#9c179e"
             ],
             [
              0.4444444444444444,
              "#bd3786"
             ],
             [
              0.5555555555555556,
              "#d8576b"
             ],
             [
              0.6666666666666666,
              "#ed7953"
             ],
             [
              0.7777777777777778,
              "#fb9f3a"
             ],
             [
              0.8888888888888888,
              "#fdca26"
             ],
             [
              1,
              "#f0f921"
             ]
            ],
            "type": "histogram2d"
           }
          ],
          "histogram2dcontour": [
           {
            "colorbar": {
             "outlinewidth": 0,
             "ticks": ""
            },
            "colorscale": [
             [
              0,
              "#0d0887"
             ],
             [
              0.1111111111111111,
              "#46039f"
             ],
             [
              0.2222222222222222,
              "#7201a8"
             ],
             [
              0.3333333333333333,
              "#9c179e"
             ],
             [
              0.4444444444444444,
              "#bd3786"
             ],
             [
              0.5555555555555556,
              "#d8576b"
             ],
             [
              0.6666666666666666,
              "#ed7953"
             ],
             [
              0.7777777777777778,
              "#fb9f3a"
             ],
             [
              0.8888888888888888,
              "#fdca26"
             ],
             [
              1,
              "#f0f921"
             ]
            ],
            "type": "histogram2dcontour"
           }
          ],
          "mesh3d": [
           {
            "colorbar": {
             "outlinewidth": 0,
             "ticks": ""
            },
            "type": "mesh3d"
           }
          ],
          "parcoords": [
           {
            "line": {
             "colorbar": {
              "outlinewidth": 0,
              "ticks": ""
             }
            },
            "type": "parcoords"
           }
          ],
          "pie": [
           {
            "automargin": true,
            "type": "pie"
           }
          ],
          "scatter": [
           {
            "marker": {
             "colorbar": {
              "outlinewidth": 0,
              "ticks": ""
             }
            },
            "type": "scatter"
           }
          ],
          "scatter3d": [
           {
            "line": {
             "colorbar": {
              "outlinewidth": 0,
              "ticks": ""
             }
            },
            "marker": {
             "colorbar": {
              "outlinewidth": 0,
              "ticks": ""
             }
            },
            "type": "scatter3d"
           }
          ],
          "scattercarpet": [
           {
            "marker": {
             "colorbar": {
              "outlinewidth": 0,
              "ticks": ""
             }
            },
            "type": "scattercarpet"
           }
          ],
          "scattergeo": [
           {
            "marker": {
             "colorbar": {
              "outlinewidth": 0,
              "ticks": ""
             }
            },
            "type": "scattergeo"
           }
          ],
          "scattergl": [
           {
            "marker": {
             "colorbar": {
              "outlinewidth": 0,
              "ticks": ""
             }
            },
            "type": "scattergl"
           }
          ],
          "scattermapbox": [
           {
            "marker": {
             "colorbar": {
              "outlinewidth": 0,
              "ticks": ""
             }
            },
            "type": "scattermapbox"
           }
          ],
          "scatterpolar": [
           {
            "marker": {
             "colorbar": {
              "outlinewidth": 0,
              "ticks": ""
             }
            },
            "type": "scatterpolar"
           }
          ],
          "scatterpolargl": [
           {
            "marker": {
             "colorbar": {
              "outlinewidth": 0,
              "ticks": ""
             }
            },
            "type": "scatterpolargl"
           }
          ],
          "scatterternary": [
           {
            "marker": {
             "colorbar": {
              "outlinewidth": 0,
              "ticks": ""
             }
            },
            "type": "scatterternary"
           }
          ],
          "surface": [
           {
            "colorbar": {
             "outlinewidth": 0,
             "ticks": ""
            },
            "colorscale": [
             [
              0,
              "#0d0887"
             ],
             [
              0.1111111111111111,
              "#46039f"
             ],
             [
              0.2222222222222222,
              "#7201a8"
             ],
             [
              0.3333333333333333,
              "#9c179e"
             ],
             [
              0.4444444444444444,
              "#bd3786"
             ],
             [
              0.5555555555555556,
              "#d8576b"
             ],
             [
              0.6666666666666666,
              "#ed7953"
             ],
             [
              0.7777777777777778,
              "#fb9f3a"
             ],
             [
              0.8888888888888888,
              "#fdca26"
             ],
             [
              1,
              "#f0f921"
             ]
            ],
            "type": "surface"
           }
          ],
          "table": [
           {
            "cells": {
             "fill": {
              "color": "#EBF0F8"
             },
             "line": {
              "color": "white"
             }
            },
            "header": {
             "fill": {
              "color": "#C8D4E3"
             },
             "line": {
              "color": "white"
             }
            },
            "type": "table"
           }
          ]
         },
         "layout": {
          "annotationdefaults": {
           "arrowcolor": "#2a3f5f",
           "arrowhead": 0,
           "arrowwidth": 1
          },
          "coloraxis": {
           "colorbar": {
            "outlinewidth": 0,
            "ticks": ""
           }
          },
          "colorscale": {
           "diverging": [
            [
             0,
             "#8e0152"
            ],
            [
             0.1,
             "#c51b7d"
            ],
            [
             0.2,
             "#de77ae"
            ],
            [
             0.3,
             "#f1b6da"
            ],
            [
             0.4,
             "#fde0ef"
            ],
            [
             0.5,
             "#f7f7f7"
            ],
            [
             0.6,
             "#e6f5d0"
            ],
            [
             0.7,
             "#b8e186"
            ],
            [
             0.8,
             "#7fbc41"
            ],
            [
             0.9,
             "#4d9221"
            ],
            [
             1,
             "#276419"
            ]
           ],
           "sequential": [
            [
             0,
             "#0d0887"
            ],
            [
             0.1111111111111111,
             "#46039f"
            ],
            [
             0.2222222222222222,
             "#7201a8"
            ],
            [
             0.3333333333333333,
             "#9c179e"
            ],
            [
             0.4444444444444444,
             "#bd3786"
            ],
            [
             0.5555555555555556,
             "#d8576b"
            ],
            [
             0.6666666666666666,
             "#ed7953"
            ],
            [
             0.7777777777777778,
             "#fb9f3a"
            ],
            [
             0.8888888888888888,
             "#fdca26"
            ],
            [
             1,
             "#f0f921"
            ]
           ],
           "sequentialminus": [
            [
             0,
             "#0d0887"
            ],
            [
             0.1111111111111111,
             "#46039f"
            ],
            [
             0.2222222222222222,
             "#7201a8"
            ],
            [
             0.3333333333333333,
             "#9c179e"
            ],
            [
             0.4444444444444444,
             "#bd3786"
            ],
            [
             0.5555555555555556,
             "#d8576b"
            ],
            [
             0.6666666666666666,
             "#ed7953"
            ],
            [
             0.7777777777777778,
             "#fb9f3a"
            ],
            [
             0.8888888888888888,
             "#fdca26"
            ],
            [
             1,
             "#f0f921"
            ]
           ]
          },
          "colorway": [
           "#636efa",
           "#EF553B",
           "#00cc96",
           "#ab63fa",
           "#FFA15A",
           "#19d3f3",
           "#FF6692",
           "#B6E880",
           "#FF97FF",
           "#FECB52"
          ],
          "font": {
           "color": "#2a3f5f"
          },
          "geo": {
           "bgcolor": "white",
           "lakecolor": "white",
           "landcolor": "#E5ECF6",
           "showlakes": true,
           "showland": true,
           "subunitcolor": "white"
          },
          "hoverlabel": {
           "align": "left"
          },
          "hovermode": "closest",
          "mapbox": {
           "style": "light"
          },
          "paper_bgcolor": "white",
          "plot_bgcolor": "#E5ECF6",
          "polar": {
           "angularaxis": {
            "gridcolor": "white",
            "linecolor": "white",
            "ticks": ""
           },
           "bgcolor": "#E5ECF6",
           "radialaxis": {
            "gridcolor": "white",
            "linecolor": "white",
            "ticks": ""
           }
          },
          "scene": {
           "xaxis": {
            "backgroundcolor": "#E5ECF6",
            "gridcolor": "white",
            "gridwidth": 2,
            "linecolor": "white",
            "showbackground": true,
            "ticks": "",
            "zerolinecolor": "white"
           },
           "yaxis": {
            "backgroundcolor": "#E5ECF6",
            "gridcolor": "white",
            "gridwidth": 2,
            "linecolor": "white",
            "showbackground": true,
            "ticks": "",
            "zerolinecolor": "white"
           },
           "zaxis": {
            "backgroundcolor": "#E5ECF6",
            "gridcolor": "white",
            "gridwidth": 2,
            "linecolor": "white",
            "showbackground": true,
            "ticks": "",
            "zerolinecolor": "white"
           }
          },
          "shapedefaults": {
           "line": {
            "color": "#2a3f5f"
           }
          },
          "ternary": {
           "aaxis": {
            "gridcolor": "white",
            "linecolor": "white",
            "ticks": ""
           },
           "baxis": {
            "gridcolor": "white",
            "linecolor": "white",
            "ticks": ""
           },
           "bgcolor": "#E5ECF6",
           "caxis": {
            "gridcolor": "white",
            "linecolor": "white",
            "ticks": ""
           }
          },
          "title": {
           "x": 0.05
          },
          "xaxis": {
           "automargin": true,
           "gridcolor": "white",
           "linecolor": "white",
           "ticks": "",
           "title": {
            "standoff": 15
           },
           "zerolinecolor": "white",
           "zerolinewidth": 2
          },
          "yaxis": {
           "automargin": true,
           "gridcolor": "white",
           "linecolor": "white",
           "ticks": "",
           "title": {
            "standoff": 15
           },
           "zerolinecolor": "white",
           "zerolinewidth": 2
          }
         }
        },
        "title": {
         "text": "Total points achieved by representants of indivitual country"
        }
       }
      },
      "text/html": [
       "<div>\n",
       "        \n",
       "        \n",
       "            <div id=\"b6ddfae5-6863-4178-b1fd-bf2d8ab45ab0\" class=\"plotly-graph-div\" style=\"height:525px; width:100%;\"></div>\n",
       "            <script type=\"text/javascript\">\n",
       "                require([\"plotly\"], function(Plotly) {\n",
       "                    window.PLOTLYENV=window.PLOTLYENV || {};\n",
       "                    \n",
       "                if (document.getElementById(\"b6ddfae5-6863-4178-b1fd-bf2d8ab45ab0\")) {\n",
       "                    Plotly.newPlot(\n",
       "                        'b6ddfae5-6863-4178-b1fd-bf2d8ab45ab0',\n",
       "                        [{\"domain\": {\"x\": [0.0, 1.0], \"y\": [0.0, 1.0]}, \"hoverlabel\": {\"namelength\": 0}, \"hovertemplate\": \"label=%{label}<br>value=%{value}\", \"labels\": [\"Australia\", \"Brazil\", \"France\", \"Hawaii\", \"Italy\", \"Japan\", \"New Zealand\", \"Portugal\", \"South Africa\", \"United States\"], \"legendgroup\": \"\", \"name\": \"\", \"showlegend\": true, \"textinfo\": \"percent+label\", \"textposition\": \"inside\", \"type\": \"pie\", \"values\": [211100, 362245, 83490, 106650, 14985, 42845, 14490, 10870, 52645, 140805]}],\n",
       "                        {\"legend\": {\"tracegroupgap\": 0}, \"template\": {\"data\": {\"bar\": [{\"error_x\": {\"color\": \"#2a3f5f\"}, \"error_y\": {\"color\": \"#2a3f5f\"}, \"marker\": {\"line\": {\"color\": \"#E5ECF6\", \"width\": 0.5}}, \"type\": \"bar\"}], \"barpolar\": [{\"marker\": {\"line\": {\"color\": \"#E5ECF6\", \"width\": 0.5}}, \"type\": \"barpolar\"}], \"carpet\": [{\"aaxis\": {\"endlinecolor\": \"#2a3f5f\", \"gridcolor\": \"white\", \"linecolor\": \"white\", \"minorgridcolor\": \"white\", \"startlinecolor\": \"#2a3f5f\"}, \"baxis\": {\"endlinecolor\": \"#2a3f5f\", \"gridcolor\": \"white\", \"linecolor\": \"white\", \"minorgridcolor\": \"white\", \"startlinecolor\": \"#2a3f5f\"}, \"type\": \"carpet\"}], \"choropleth\": [{\"colorbar\": {\"outlinewidth\": 0, \"ticks\": \"\"}, \"type\": \"choropleth\"}], \"contour\": [{\"colorbar\": {\"outlinewidth\": 0, \"ticks\": \"\"}, \"colorscale\": [[0.0, \"#0d0887\"], [0.1111111111111111, \"#46039f\"], [0.2222222222222222, \"#7201a8\"], [0.3333333333333333, \"#9c179e\"], [0.4444444444444444, \"#bd3786\"], [0.5555555555555556, \"#d8576b\"], [0.6666666666666666, \"#ed7953\"], [0.7777777777777778, \"#fb9f3a\"], [0.8888888888888888, \"#fdca26\"], [1.0, \"#f0f921\"]], \"type\": \"contour\"}], \"contourcarpet\": [{\"colorbar\": {\"outlinewidth\": 0, \"ticks\": \"\"}, \"type\": \"contourcarpet\"}], \"heatmap\": [{\"colorbar\": {\"outlinewidth\": 0, \"ticks\": \"\"}, \"colorscale\": [[0.0, \"#0d0887\"], [0.1111111111111111, \"#46039f\"], [0.2222222222222222, \"#7201a8\"], [0.3333333333333333, \"#9c179e\"], [0.4444444444444444, \"#bd3786\"], [0.5555555555555556, \"#d8576b\"], [0.6666666666666666, \"#ed7953\"], [0.7777777777777778, \"#fb9f3a\"], [0.8888888888888888, \"#fdca26\"], [1.0, \"#f0f921\"]], \"type\": \"heatmap\"}], \"heatmapgl\": [{\"colorbar\": {\"outlinewidth\": 0, \"ticks\": \"\"}, \"colorscale\": [[0.0, \"#0d0887\"], [0.1111111111111111, \"#46039f\"], [0.2222222222222222, \"#7201a8\"], [0.3333333333333333, \"#9c179e\"], [0.4444444444444444, \"#bd3786\"], [0.5555555555555556, \"#d8576b\"], [0.6666666666666666, \"#ed7953\"], [0.7777777777777778, \"#fb9f3a\"], [0.8888888888888888, \"#fdca26\"], [1.0, \"#f0f921\"]], \"type\": \"heatmapgl\"}], \"histogram\": [{\"marker\": {\"colorbar\": {\"outlinewidth\": 0, \"ticks\": \"\"}}, \"type\": \"histogram\"}], \"histogram2d\": [{\"colorbar\": {\"outlinewidth\": 0, \"ticks\": \"\"}, \"colorscale\": [[0.0, \"#0d0887\"], [0.1111111111111111, \"#46039f\"], [0.2222222222222222, \"#7201a8\"], [0.3333333333333333, \"#9c179e\"], [0.4444444444444444, \"#bd3786\"], [0.5555555555555556, \"#d8576b\"], [0.6666666666666666, \"#ed7953\"], [0.7777777777777778, \"#fb9f3a\"], [0.8888888888888888, \"#fdca26\"], [1.0, \"#f0f921\"]], \"type\": \"histogram2d\"}], \"histogram2dcontour\": [{\"colorbar\": {\"outlinewidth\": 0, \"ticks\": \"\"}, \"colorscale\": [[0.0, \"#0d0887\"], [0.1111111111111111, \"#46039f\"], [0.2222222222222222, \"#7201a8\"], [0.3333333333333333, \"#9c179e\"], [0.4444444444444444, \"#bd3786\"], [0.5555555555555556, \"#d8576b\"], [0.6666666666666666, \"#ed7953\"], [0.7777777777777778, \"#fb9f3a\"], [0.8888888888888888, \"#fdca26\"], [1.0, \"#f0f921\"]], \"type\": \"histogram2dcontour\"}], \"mesh3d\": [{\"colorbar\": {\"outlinewidth\": 0, \"ticks\": \"\"}, \"type\": \"mesh3d\"}], \"parcoords\": [{\"line\": {\"colorbar\": {\"outlinewidth\": 0, \"ticks\": \"\"}}, \"type\": \"parcoords\"}], \"pie\": [{\"automargin\": true, \"type\": \"pie\"}], \"scatter\": [{\"marker\": {\"colorbar\": {\"outlinewidth\": 0, \"ticks\": \"\"}}, \"type\": \"scatter\"}], \"scatter3d\": [{\"line\": {\"colorbar\": {\"outlinewidth\": 0, \"ticks\": \"\"}}, \"marker\": {\"colorbar\": {\"outlinewidth\": 0, \"ticks\": \"\"}}, \"type\": \"scatter3d\"}], \"scattercarpet\": [{\"marker\": {\"colorbar\": {\"outlinewidth\": 0, \"ticks\": \"\"}}, \"type\": \"scattercarpet\"}], \"scattergeo\": [{\"marker\": {\"colorbar\": {\"outlinewidth\": 0, \"ticks\": \"\"}}, \"type\": \"scattergeo\"}], \"scattergl\": [{\"marker\": {\"colorbar\": {\"outlinewidth\": 0, \"ticks\": \"\"}}, \"type\": \"scattergl\"}], \"scattermapbox\": [{\"marker\": {\"colorbar\": {\"outlinewidth\": 0, \"ticks\": \"\"}}, \"type\": \"scattermapbox\"}], \"scatterpolar\": [{\"marker\": {\"colorbar\": {\"outlinewidth\": 0, \"ticks\": \"\"}}, \"type\": \"scatterpolar\"}], \"scatterpolargl\": [{\"marker\": {\"colorbar\": {\"outlinewidth\": 0, \"ticks\": \"\"}}, \"type\": \"scatterpolargl\"}], \"scatterternary\": [{\"marker\": {\"colorbar\": {\"outlinewidth\": 0, \"ticks\": \"\"}}, \"type\": \"scatterternary\"}], \"surface\": [{\"colorbar\": {\"outlinewidth\": 0, \"ticks\": \"\"}, \"colorscale\": [[0.0, \"#0d0887\"], [0.1111111111111111, \"#46039f\"], [0.2222222222222222, \"#7201a8\"], [0.3333333333333333, \"#9c179e\"], [0.4444444444444444, \"#bd3786\"], [0.5555555555555556, \"#d8576b\"], [0.6666666666666666, \"#ed7953\"], [0.7777777777777778, \"#fb9f3a\"], [0.8888888888888888, \"#fdca26\"], [1.0, \"#f0f921\"]], \"type\": \"surface\"}], \"table\": [{\"cells\": {\"fill\": {\"color\": \"#EBF0F8\"}, \"line\": {\"color\": \"white\"}}, \"header\": {\"fill\": {\"color\": \"#C8D4E3\"}, \"line\": {\"color\": \"white\"}}, \"type\": \"table\"}]}, \"layout\": {\"annotationdefaults\": {\"arrowcolor\": \"#2a3f5f\", \"arrowhead\": 0, \"arrowwidth\": 1}, \"coloraxis\": {\"colorbar\": {\"outlinewidth\": 0, \"ticks\": \"\"}}, \"colorscale\": {\"diverging\": [[0, \"#8e0152\"], [0.1, \"#c51b7d\"], [0.2, \"#de77ae\"], [0.3, \"#f1b6da\"], [0.4, \"#fde0ef\"], [0.5, \"#f7f7f7\"], [0.6, \"#e6f5d0\"], [0.7, \"#b8e186\"], [0.8, \"#7fbc41\"], [0.9, \"#4d9221\"], [1, \"#276419\"]], \"sequential\": [[0.0, \"#0d0887\"], [0.1111111111111111, \"#46039f\"], [0.2222222222222222, \"#7201a8\"], [0.3333333333333333, \"#9c179e\"], [0.4444444444444444, \"#bd3786\"], [0.5555555555555556, \"#d8576b\"], [0.6666666666666666, \"#ed7953\"], [0.7777777777777778, \"#fb9f3a\"], [0.8888888888888888, \"#fdca26\"], [1.0, \"#f0f921\"]], \"sequentialminus\": [[0.0, \"#0d0887\"], [0.1111111111111111, \"#46039f\"], [0.2222222222222222, \"#7201a8\"], [0.3333333333333333, \"#9c179e\"], [0.4444444444444444, \"#bd3786\"], [0.5555555555555556, \"#d8576b\"], [0.6666666666666666, \"#ed7953\"], [0.7777777777777778, \"#fb9f3a\"], [0.8888888888888888, \"#fdca26\"], [1.0, \"#f0f921\"]]}, \"colorway\": [\"#636efa\", \"#EF553B\", \"#00cc96\", \"#ab63fa\", \"#FFA15A\", \"#19d3f3\", \"#FF6692\", \"#B6E880\", \"#FF97FF\", \"#FECB52\"], \"font\": {\"color\": \"#2a3f5f\"}, \"geo\": {\"bgcolor\": \"white\", \"lakecolor\": \"white\", \"landcolor\": \"#E5ECF6\", \"showlakes\": true, \"showland\": true, \"subunitcolor\": \"white\"}, \"hoverlabel\": {\"align\": \"left\"}, \"hovermode\": \"closest\", \"mapbox\": {\"style\": \"light\"}, \"paper_bgcolor\": \"white\", \"plot_bgcolor\": \"#E5ECF6\", \"polar\": {\"angularaxis\": {\"gridcolor\": \"white\", \"linecolor\": \"white\", \"ticks\": \"\"}, \"bgcolor\": \"#E5ECF6\", \"radialaxis\": {\"gridcolor\": \"white\", \"linecolor\": \"white\", \"ticks\": \"\"}}, \"scene\": {\"xaxis\": {\"backgroundcolor\": \"#E5ECF6\", \"gridcolor\": \"white\", \"gridwidth\": 2, \"linecolor\": \"white\", \"showbackground\": true, \"ticks\": \"\", \"zerolinecolor\": \"white\"}, \"yaxis\": {\"backgroundcolor\": \"#E5ECF6\", \"gridcolor\": \"white\", \"gridwidth\": 2, \"linecolor\": \"white\", \"showbackground\": true, \"ticks\": \"\", \"zerolinecolor\": \"white\"}, \"zaxis\": {\"backgroundcolor\": \"#E5ECF6\", \"gridcolor\": \"white\", \"gridwidth\": 2, \"linecolor\": \"white\", \"showbackground\": true, \"ticks\": \"\", \"zerolinecolor\": \"white\"}}, \"shapedefaults\": {\"line\": {\"color\": \"#2a3f5f\"}}, \"ternary\": {\"aaxis\": {\"gridcolor\": \"white\", \"linecolor\": \"white\", \"ticks\": \"\"}, \"baxis\": {\"gridcolor\": \"white\", \"linecolor\": \"white\", \"ticks\": \"\"}, \"bgcolor\": \"#E5ECF6\", \"caxis\": {\"gridcolor\": \"white\", \"linecolor\": \"white\", \"ticks\": \"\"}}, \"title\": {\"x\": 0.05}, \"xaxis\": {\"automargin\": true, \"gridcolor\": \"white\", \"linecolor\": \"white\", \"ticks\": \"\", \"title\": {\"standoff\": 15}, \"zerolinecolor\": \"white\", \"zerolinewidth\": 2}, \"yaxis\": {\"automargin\": true, \"gridcolor\": \"white\", \"linecolor\": \"white\", \"ticks\": \"\", \"title\": {\"standoff\": 15}, \"zerolinecolor\": \"white\", \"zerolinewidth\": 2}}}, \"title\": {\"text\": \"Total points achieved by representants of indivitual country\"}},\n",
       "                        {\"responsive\": true}\n",
       "                    ).then(function(){\n",
       "                            \n",
       "var gd = document.getElementById('b6ddfae5-6863-4178-b1fd-bf2d8ab45ab0');\n",
       "var x = new MutationObserver(function (mutations, observer) {{\n",
       "        var display = window.getComputedStyle(gd).display;\n",
       "        if (!display || display === 'none') {{\n",
       "            console.log([gd, 'removed!']);\n",
       "            Plotly.purge(gd);\n",
       "            observer.disconnect();\n",
       "        }}\n",
       "}});\n",
       "\n",
       "// Listen for the removal of the full notebook cells\n",
       "var notebookContainer = gd.closest('#notebook-container');\n",
       "if (notebookContainer) {{\n",
       "    x.observe(notebookContainer, {childList: true});\n",
       "}}\n",
       "\n",
       "// Listen for the clearing of the current output cell\n",
       "var outputEl = gd.closest('.output');\n",
       "if (outputEl) {{\n",
       "    x.observe(outputEl, {childList: true});\n",
       "}}\n",
       "\n",
       "                        })\n",
       "                };\n",
       "                });\n",
       "            </script>\n",
       "        </div>"
      ]
     },
     "metadata": {},
     "output_type": "display_data"
    }
   ],
   "source": [
    "eee['Total Points'] = accumulation['Points after event 11']\n",
    "country_performance = eee.groupby('Country')['Total Points'].sum()\n",
    "fig = px.pie(country_performance, values = country_performance[:], names = country_performance.index, title='Total points achieved by representants of indivitual country')\n",
    "fig.update_traces(textposition='inside', textinfo='percent+label', )\n",
    "fig.show()"
   ]
  },
  {
   "cell_type": "markdown",
   "metadata": {},
   "source": [
    "Brazilia was dominating last season rating. Three of top five contestants were from Brazil and Brazil also won in terms of biggest representation at the WSL Championship Tour circle, as is also visible from the first pie chart. Looking at both pie charts we can tell, that United states slightly outperformed their neighbours and colleagues from Hawaii, when coming into competition with same represantation, the United Stated took more points for themselves. Countries as Portugal, Italy or Japan have it difficult, regarding total points by contry statistics, because they have only one contestant on the tour."
   ]
  },
  {
   "cell_type": "code",
   "execution_count": 21,
   "metadata": {},
   "outputs": [
    {
     "data": {
      "application/vnd.plotly.v1+json": {
       "config": {
        "plotlyServerURL": "https://plot.ly"
       },
       "data": [
        {
         "line": {
          "color": "#f2a81a"
         },
         "name": "Italo Ferreira",
         "type": "scatter",
         "x": [
          "Points after event 1",
          "Points after event 2",
          "Points after event 3",
          "Points after event 4",
          "Points after event 5",
          "Points after event 6",
          "Points after event 7",
          "Points after event 8",
          "Points after event 9",
          "Points after event 10",
          "Points after event 11"
         ],
         "y": [
          10000,
          14745,
          16075,
          20820,
          22150,
          29950,
          31280,
          34600,
          42400,
          52400,
          62400
         ]
        },
        {
         "line": {
          "color": "#ff0000"
         },
         "name": "Gabriel Medina",
         "type": "scatter",
         "x": [
          "Points after event 1",
          "Points after event 2",
          "Points after event 3",
          "Points after event 4",
          "Points after event 5",
          "Points after event 6",
          "Points after event 7",
          "Points after event 8",
          "Points after event 9",
          "Points after event 10",
          "Points after event 11"
         ],
         "y": [
          4745,
          9490,
          10820,
          12150,
          16895,
          26895,
          34695,
          44695,
          48015,
          51335,
          59135
         ]
        },
        {
         "line": {
          "color": "#0051ff"
         },
         "name": "Jordy Smith",
         "type": "scatter",
         "x": [
          "Points after event 1",
          "Points after event 2",
          "Points after event 3",
          "Points after event 4",
          "Points after event 5",
          "Points after event 6",
          "Points after event 7",
          "Points after event 8",
          "Points after event 9",
          "Points after event 10",
          "Points after event 11"
         ],
         "y": [
          6085,
          12170,
          13500,
          18245,
          26045,
          29365,
          35450,
          40195,
          43515,
          51315,
          52645
         ]
        },
        {
         "line": {
          "color": "#1ddb00"
         },
         "name": "Filipe Toledo",
         "type": "scatter",
         "x": [
          "Points after event 1",
          "Points after event 2",
          "Points after event 3",
          "Points after event 4",
          "Points after event 5",
          "Points after event 6",
          "Points after event 7",
          "Points after event 8",
          "Points after event 9",
          "Points after event 10",
          "Points after event 11"
         ],
         "y": [
          3320,
          11120,
          15865,
          17195,
          27195,
          33280,
          36600,
          44400,
          45730,
          50475,
          51805
         ]
        },
        {
         "line": {
          "color": "#db00d1"
         },
         "name": "Kolohe Andino",
         "type": "scatter",
         "x": [
          "Points after event 1",
          "Points after event 2",
          "Points after event 3",
          "Points after event 4",
          "Points after event 5",
          "Points after event 6",
          "Points after event 7",
          "Points after event 8",
          "Points after event 9",
          "Points after event 10",
          "Points after event 11"
         ],
         "y": [
          7800,
          9130,
          13875,
          21675,
          27760,
          33845,
          35175,
          36505,
          41250,
          45995,
          49315
         ]
        },
        {
         "line": {
          "color": "#00ffdf"
         },
         "name": "Kanoa Igarashi",
         "type": "scatter",
         "visible": false,
         "x": [
          "Points after event 1",
          "Points after event 2",
          "Points after event 3",
          "Points after event 4",
          "Points after event 5",
          "Points after event 6",
          "Points after event 7",
          "Points after event 8",
          "Points after event 9",
          "Points after event 10",
          "Points after event 11"
         ],
         "y": [
          3320,
          6640,
          16640,
          19960,
          24705,
          29450,
          30780,
          34100,
          35430,
          41515,
          42845
         ]
        },
        {
         "line": {
          "color": "#ff6700"
         },
         "name": "John John Florence",
         "type": "scatter",
         "visible": false,
         "x": [
          "Points after event 1",
          "Points after event 2",
          "Points after event 3",
          "Points after event 4",
          "Points after event 5",
          "Points after event 6",
          "Points after event 7",
          "Points after event 8",
          "Points after event 9",
          "Points after event 10",
          "Points after event 11"
         ],
         "y": [
          6085,
          16085,
          17415,
          27415,
          32160,
          32425,
          32690,
          32955,
          33220,
          33485,
          38230
         ]
        },
        {
         "line": {
          "color": "#9bff85"
         },
         "name": "Kelly Slater",
         "type": "scatter",
         "visible": false,
         "x": [
          "Points after event 1",
          "Points after event 2",
          "Points after event 3",
          "Points after event 4",
          "Points after event 5",
          "Points after event 6",
          "Points after event 7",
          "Points after event 8",
          "Points after event 9",
          "Points after event 10",
          "Points after event 11"
         ],
         "y": [
          265,
          5010,
          11095,
          14415,
          17735,
          21055,
          22385,
          25705,
          27035,
          30355,
          36440
         ]
        },
        {
         "line": {
          "color": "#ff85f4"
         },
         "name": "Owen Wright",
         "type": "scatter",
         "visible": false,
         "x": [
          "Points after event 1",
          "Points after event 2",
          "Points after event 3",
          "Points after event 4",
          "Points after event 5",
          "Points after event 6",
          "Points after event 7",
          "Points after event 8",
          "Points after event 9",
          "Points after event 10",
          "Points after event 11"
         ],
         "y": [
          3320,
          6640,
          7970,
          11290,
          12620,
          17365,
          27365,
          33450,
          34780,
          36110,
          37440
         ]
        },
        {
         "line": {
          "color": "#9aa6ff"
         },
         "name": "Jeremy Flores",
         "type": "scatter",
         "visible": false,
         "x": [
          "Points after event 1",
          "Points after event 2",
          "Points after event 3",
          "Points after event 4",
          "Points after event 5",
          "Points after event 6",
          "Points after event 7",
          "Points after event 8",
          "Points after event 9",
          "Points after event 10",
          "Points after event 11"
         ],
         "y": [
          1330,
          4650,
          12450,
          13780,
          14045,
          15375,
          20120,
          21450,
          31450,
          32780,
          33045
         ]
        }
       ],
       "layout": {
        "template": {
         "data": {
          "bar": [
           {
            "error_x": {
             "color": "#2a3f5f"
            },
            "error_y": {
             "color": "#2a3f5f"
            },
            "marker": {
             "line": {
              "color": "#E5ECF6",
              "width": 0.5
             }
            },
            "type": "bar"
           }
          ],
          "barpolar": [
           {
            "marker": {
             "line": {
              "color": "#E5ECF6",
              "width": 0.5
             }
            },
            "type": "barpolar"
           }
          ],
          "carpet": [
           {
            "aaxis": {
             "endlinecolor": "#2a3f5f",
             "gridcolor": "white",
             "linecolor": "white",
             "minorgridcolor": "white",
             "startlinecolor": "#2a3f5f"
            },
            "baxis": {
             "endlinecolor": "#2a3f5f",
             "gridcolor": "white",
             "linecolor": "white",
             "minorgridcolor": "white",
             "startlinecolor": "#2a3f5f"
            },
            "type": "carpet"
           }
          ],
          "choropleth": [
           {
            "colorbar": {
             "outlinewidth": 0,
             "ticks": ""
            },
            "type": "choropleth"
           }
          ],
          "contour": [
           {
            "colorbar": {
             "outlinewidth": 0,
             "ticks": ""
            },
            "colorscale": [
             [
              0,
              "#0d0887"
             ],
             [
              0.1111111111111111,
              "#46039f"
             ],
             [
              0.2222222222222222,
              "#7201a8"
             ],
             [
              0.3333333333333333,
              "#9c179e"
             ],
             [
              0.4444444444444444,
              "#bd3786"
             ],
             [
              0.5555555555555556,
              "#d8576b"
             ],
             [
              0.6666666666666666,
              "#ed7953"
             ],
             [
              0.7777777777777778,
              "#fb9f3a"
             ],
             [
              0.8888888888888888,
              "#fdca26"
             ],
             [
              1,
              "#f0f921"
             ]
            ],
            "type": "contour"
           }
          ],
          "contourcarpet": [
           {
            "colorbar": {
             "outlinewidth": 0,
             "ticks": ""
            },
            "type": "contourcarpet"
           }
          ],
          "heatmap": [
           {
            "colorbar": {
             "outlinewidth": 0,
             "ticks": ""
            },
            "colorscale": [
             [
              0,
              "#0d0887"
             ],
             [
              0.1111111111111111,
              "#46039f"
             ],
             [
              0.2222222222222222,
              "#7201a8"
             ],
             [
              0.3333333333333333,
              "#9c179e"
             ],
             [
              0.4444444444444444,
              "#bd3786"
             ],
             [
              0.5555555555555556,
              "#d8576b"
             ],
             [
              0.6666666666666666,
              "#ed7953"
             ],
             [
              0.7777777777777778,
              "#fb9f3a"
             ],
             [
              0.8888888888888888,
              "#fdca26"
             ],
             [
              1,
              "#f0f921"
             ]
            ],
            "type": "heatmap"
           }
          ],
          "heatmapgl": [
           {
            "colorbar": {
             "outlinewidth": 0,
             "ticks": ""
            },
            "colorscale": [
             [
              0,
              "#0d0887"
             ],
             [
              0.1111111111111111,
              "#46039f"
             ],
             [
              0.2222222222222222,
              "#7201a8"
             ],
             [
              0.3333333333333333,
              "#9c179e"
             ],
             [
              0.4444444444444444,
              "#bd3786"
             ],
             [
              0.5555555555555556,
              "#d8576b"
             ],
             [
              0.6666666666666666,
              "#ed7953"
             ],
             [
              0.7777777777777778,
              "#fb9f3a"
             ],
             [
              0.8888888888888888,
              "#fdca26"
             ],
             [
              1,
              "#f0f921"
             ]
            ],
            "type": "heatmapgl"
           }
          ],
          "histogram": [
           {
            "marker": {
             "colorbar": {
              "outlinewidth": 0,
              "ticks": ""
             }
            },
            "type": "histogram"
           }
          ],
          "histogram2d": [
           {
            "colorbar": {
             "outlinewidth": 0,
             "ticks": ""
            },
            "colorscale": [
             [
              0,
              "#0d0887"
             ],
             [
              0.1111111111111111,
              "#46039f"
             ],
             [
              0.2222222222222222,
              "#7201a8"
             ],
             [
              0.3333333333333333,
              "#9c179e"
             ],
             [
              0.4444444444444444,
              "#bd3786"
             ],
             [
              0.5555555555555556,
              "#d8576b"
             ],
             [
              0.6666666666666666,
              "#ed7953"
             ],
             [
              0.7777777777777778,
              "#fb9f3a"
             ],
             [
              0.8888888888888888,
              "#fdca26"
             ],
             [
              1,
              "#f0f921"
             ]
            ],
            "type": "histogram2d"
           }
          ],
          "histogram2dcontour": [
           {
            "colorbar": {
             "outlinewidth": 0,
             "ticks": ""
            },
            "colorscale": [
             [
              0,
              "#0d0887"
             ],
             [
              0.1111111111111111,
              "#46039f"
             ],
             [
              0.2222222222222222,
              "#7201a8"
             ],
             [
              0.3333333333333333,
              "#9c179e"
             ],
             [
              0.4444444444444444,
              "#bd3786"
             ],
             [
              0.5555555555555556,
              "#d8576b"
             ],
             [
              0.6666666666666666,
              "#ed7953"
             ],
             [
              0.7777777777777778,
              "#fb9f3a"
             ],
             [
              0.8888888888888888,
              "#fdca26"
             ],
             [
              1,
              "#f0f921"
             ]
            ],
            "type": "histogram2dcontour"
           }
          ],
          "mesh3d": [
           {
            "colorbar": {
             "outlinewidth": 0,
             "ticks": ""
            },
            "type": "mesh3d"
           }
          ],
          "parcoords": [
           {
            "line": {
             "colorbar": {
              "outlinewidth": 0,
              "ticks": ""
             }
            },
            "type": "parcoords"
           }
          ],
          "pie": [
           {
            "automargin": true,
            "type": "pie"
           }
          ],
          "scatter": [
           {
            "marker": {
             "colorbar": {
              "outlinewidth": 0,
              "ticks": ""
             }
            },
            "type": "scatter"
           }
          ],
          "scatter3d": [
           {
            "line": {
             "colorbar": {
              "outlinewidth": 0,
              "ticks": ""
             }
            },
            "marker": {
             "colorbar": {
              "outlinewidth": 0,
              "ticks": ""
             }
            },
            "type": "scatter3d"
           }
          ],
          "scattercarpet": [
           {
            "marker": {
             "colorbar": {
              "outlinewidth": 0,
              "ticks": ""
             }
            },
            "type": "scattercarpet"
           }
          ],
          "scattergeo": [
           {
            "marker": {
             "colorbar": {
              "outlinewidth": 0,
              "ticks": ""
             }
            },
            "type": "scattergeo"
           }
          ],
          "scattergl": [
           {
            "marker": {
             "colorbar": {
              "outlinewidth": 0,
              "ticks": ""
             }
            },
            "type": "scattergl"
           }
          ],
          "scattermapbox": [
           {
            "marker": {
             "colorbar": {
              "outlinewidth": 0,
              "ticks": ""
             }
            },
            "type": "scattermapbox"
           }
          ],
          "scatterpolar": [
           {
            "marker": {
             "colorbar": {
              "outlinewidth": 0,
              "ticks": ""
             }
            },
            "type": "scatterpolar"
           }
          ],
          "scatterpolargl": [
           {
            "marker": {
             "colorbar": {
              "outlinewidth": 0,
              "ticks": ""
             }
            },
            "type": "scatterpolargl"
           }
          ],
          "scatterternary": [
           {
            "marker": {
             "colorbar": {
              "outlinewidth": 0,
              "ticks": ""
             }
            },
            "type": "scatterternary"
           }
          ],
          "surface": [
           {
            "colorbar": {
             "outlinewidth": 0,
             "ticks": ""
            },
            "colorscale": [
             [
              0,
              "#0d0887"
             ],
             [
              0.1111111111111111,
              "#46039f"
             ],
             [
              0.2222222222222222,
              "#7201a8"
             ],
             [
              0.3333333333333333,
              "#9c179e"
             ],
             [
              0.4444444444444444,
              "#bd3786"
             ],
             [
              0.5555555555555556,
              "#d8576b"
             ],
             [
              0.6666666666666666,
              "#ed7953"
             ],
             [
              0.7777777777777778,
              "#fb9f3a"
             ],
             [
              0.8888888888888888,
              "#fdca26"
             ],
             [
              1,
              "#f0f921"
             ]
            ],
            "type": "surface"
           }
          ],
          "table": [
           {
            "cells": {
             "fill": {
              "color": "#EBF0F8"
             },
             "line": {
              "color": "white"
             }
            },
            "header": {
             "fill": {
              "color": "#C8D4E3"
             },
             "line": {
              "color": "white"
             }
            },
            "type": "table"
           }
          ]
         },
         "layout": {
          "annotationdefaults": {
           "arrowcolor": "#2a3f5f",
           "arrowhead": 0,
           "arrowwidth": 1
          },
          "coloraxis": {
           "colorbar": {
            "outlinewidth": 0,
            "ticks": ""
           }
          },
          "colorscale": {
           "diverging": [
            [
             0,
             "#8e0152"
            ],
            [
             0.1,
             "#c51b7d"
            ],
            [
             0.2,
             "#de77ae"
            ],
            [
             0.3,
             "#f1b6da"
            ],
            [
             0.4,
             "#fde0ef"
            ],
            [
             0.5,
             "#f7f7f7"
            ],
            [
             0.6,
             "#e6f5d0"
            ],
            [
             0.7,
             "#b8e186"
            ],
            [
             0.8,
             "#7fbc41"
            ],
            [
             0.9,
             "#4d9221"
            ],
            [
             1,
             "#276419"
            ]
           ],
           "sequential": [
            [
             0,
             "#0d0887"
            ],
            [
             0.1111111111111111,
             "#46039f"
            ],
            [
             0.2222222222222222,
             "#7201a8"
            ],
            [
             0.3333333333333333,
             "#9c179e"
            ],
            [
             0.4444444444444444,
             "#bd3786"
            ],
            [
             0.5555555555555556,
             "#d8576b"
            ],
            [
             0.6666666666666666,
             "#ed7953"
            ],
            [
             0.7777777777777778,
             "#fb9f3a"
            ],
            [
             0.8888888888888888,
             "#fdca26"
            ],
            [
             1,
             "#f0f921"
            ]
           ],
           "sequentialminus": [
            [
             0,
             "#0d0887"
            ],
            [
             0.1111111111111111,
             "#46039f"
            ],
            [
             0.2222222222222222,
             "#7201a8"
            ],
            [
             0.3333333333333333,
             "#9c179e"
            ],
            [
             0.4444444444444444,
             "#bd3786"
            ],
            [
             0.5555555555555556,
             "#d8576b"
            ],
            [
             0.6666666666666666,
             "#ed7953"
            ],
            [
             0.7777777777777778,
             "#fb9f3a"
            ],
            [
             0.8888888888888888,
             "#fdca26"
            ],
            [
             1,
             "#f0f921"
            ]
           ]
          },
          "colorway": [
           "#636efa",
           "#EF553B",
           "#00cc96",
           "#ab63fa",
           "#FFA15A",
           "#19d3f3",
           "#FF6692",
           "#B6E880",
           "#FF97FF",
           "#FECB52"
          ],
          "font": {
           "color": "#2a3f5f"
          },
          "geo": {
           "bgcolor": "white",
           "lakecolor": "white",
           "landcolor": "#E5ECF6",
           "showlakes": true,
           "showland": true,
           "subunitcolor": "white"
          },
          "hoverlabel": {
           "align": "left"
          },
          "hovermode": "closest",
          "mapbox": {
           "style": "light"
          },
          "paper_bgcolor": "white",
          "plot_bgcolor": "#E5ECF6",
          "polar": {
           "angularaxis": {
            "gridcolor": "white",
            "linecolor": "white",
            "ticks": ""
           },
           "bgcolor": "#E5ECF6",
           "radialaxis": {
            "gridcolor": "white",
            "linecolor": "white",
            "ticks": ""
           }
          },
          "scene": {
           "xaxis": {
            "backgroundcolor": "#E5ECF6",
            "gridcolor": "white",
            "gridwidth": 2,
            "linecolor": "white",
            "showbackground": true,
            "ticks": "",
            "zerolinecolor": "white"
           },
           "yaxis": {
            "backgroundcolor": "#E5ECF6",
            "gridcolor": "white",
            "gridwidth": 2,
            "linecolor": "white",
            "showbackground": true,
            "ticks": "",
            "zerolinecolor": "white"
           },
           "zaxis": {
            "backgroundcolor": "#E5ECF6",
            "gridcolor": "white",
            "gridwidth": 2,
            "linecolor": "white",
            "showbackground": true,
            "ticks": "",
            "zerolinecolor": "white"
           }
          },
          "shapedefaults": {
           "line": {
            "color": "#2a3f5f"
           }
          },
          "ternary": {
           "aaxis": {
            "gridcolor": "white",
            "linecolor": "white",
            "ticks": ""
           },
           "baxis": {
            "gridcolor": "white",
            "linecolor": "white",
            "ticks": ""
           },
           "bgcolor": "#E5ECF6",
           "caxis": {
            "gridcolor": "white",
            "linecolor": "white",
            "ticks": ""
           }
          },
          "title": {
           "x": 0.05
          },
          "xaxis": {
           "automargin": true,
           "gridcolor": "white",
           "linecolor": "white",
           "ticks": "",
           "title": {
            "standoff": 15
           },
           "zerolinecolor": "white",
           "zerolinewidth": 2
          },
          "yaxis": {
           "automargin": true,
           "gridcolor": "white",
           "linecolor": "white",
           "ticks": "",
           "title": {
            "standoff": 15
           },
           "zerolinecolor": "white",
           "zerolinewidth": 2
          }
         }
        },
        "title": {
         "text": "Cummulative points Top 5"
        },
        "updatemenus": [
         {
          "active": 0,
          "buttons": [
           {
            "args": [
             {
              "visible": [
               true,
               true,
               true,
               true,
               true,
               false,
               false,
               false,
               false,
               false
              ]
             },
             {
              "annotations": [],
              "title": "Cummulative points Top 5"
             }
            ],
            "label": "Top 5 athletes",
            "method": "update"
           },
           {
            "args": [
             {
              "visible": [
               true,
               true,
               true,
               true,
               true,
               true,
               true,
               true,
               true,
               true
              ]
             },
             {
              "annotations": [],
              "title": "Cummulative points Top 10"
             }
            ],
            "label": "Top 10 athletes",
            "method": "update"
           }
          ],
          "direction": "right",
          "type": "buttons",
          "x": 0.65,
          "y": 1.2
         }
        ],
        "xaxis": {
         "domain": [
          0.05,
          1
         ]
        }
       }
      },
      "text/html": [
       "<div>\n",
       "        \n",
       "        \n",
       "            <div id=\"98b89cf8-1c48-4637-bb32-97de9f7ae469\" class=\"plotly-graph-div\" style=\"height:525px; width:100%;\"></div>\n",
       "            <script type=\"text/javascript\">\n",
       "                require([\"plotly\"], function(Plotly) {\n",
       "                    window.PLOTLYENV=window.PLOTLYENV || {};\n",
       "                    \n",
       "                if (document.getElementById(\"98b89cf8-1c48-4637-bb32-97de9f7ae469\")) {\n",
       "                    Plotly.newPlot(\n",
       "                        '98b89cf8-1c48-4637-bb32-97de9f7ae469',\n",
       "                        [{\"line\": {\"color\": \"#f2a81a\"}, \"name\": \"Italo Ferreira\", \"type\": \"scatter\", \"x\": [\"Points after event 1\", \"Points after event 2\", \"Points after event 3\", \"Points after event 4\", \"Points after event 5\", \"Points after event 6\", \"Points after event 7\", \"Points after event 8\", \"Points after event 9\", \"Points after event 10\", \"Points after event 11\"], \"y\": [10000, 14745, 16075, 20820, 22150, 29950, 31280, 34600, 42400, 52400, 62400]}, {\"line\": {\"color\": \"#ff0000\"}, \"name\": \"Gabriel Medina\", \"type\": \"scatter\", \"x\": [\"Points after event 1\", \"Points after event 2\", \"Points after event 3\", \"Points after event 4\", \"Points after event 5\", \"Points after event 6\", \"Points after event 7\", \"Points after event 8\", \"Points after event 9\", \"Points after event 10\", \"Points after event 11\"], \"y\": [4745, 9490, 10820, 12150, 16895, 26895, 34695, 44695, 48015, 51335, 59135]}, {\"line\": {\"color\": \"#0051ff\"}, \"name\": \"Jordy Smith\", \"type\": \"scatter\", \"x\": [\"Points after event 1\", \"Points after event 2\", \"Points after event 3\", \"Points after event 4\", \"Points after event 5\", \"Points after event 6\", \"Points after event 7\", \"Points after event 8\", \"Points after event 9\", \"Points after event 10\", \"Points after event 11\"], \"y\": [6085, 12170, 13500, 18245, 26045, 29365, 35450, 40195, 43515, 51315, 52645]}, {\"line\": {\"color\": \"#1ddb00\"}, \"name\": \"Filipe Toledo\", \"type\": \"scatter\", \"x\": [\"Points after event 1\", \"Points after event 2\", \"Points after event 3\", \"Points after event 4\", \"Points after event 5\", \"Points after event 6\", \"Points after event 7\", \"Points after event 8\", \"Points after event 9\", \"Points after event 10\", \"Points after event 11\"], \"y\": [3320, 11120, 15865, 17195, 27195, 33280, 36600, 44400, 45730, 50475, 51805]}, {\"line\": {\"color\": \"#db00d1\"}, \"name\": \"Kolohe Andino\", \"type\": \"scatter\", \"x\": [\"Points after event 1\", \"Points after event 2\", \"Points after event 3\", \"Points after event 4\", \"Points after event 5\", \"Points after event 6\", \"Points after event 7\", \"Points after event 8\", \"Points after event 9\", \"Points after event 10\", \"Points after event 11\"], \"y\": [7800, 9130, 13875, 21675, 27760, 33845, 35175, 36505, 41250, 45995, 49315]}, {\"line\": {\"color\": \"#00ffdf\"}, \"name\": \"Kanoa Igarashi\", \"type\": \"scatter\", \"visible\": false, \"x\": [\"Points after event 1\", \"Points after event 2\", \"Points after event 3\", \"Points after event 4\", \"Points after event 5\", \"Points after event 6\", \"Points after event 7\", \"Points after event 8\", \"Points after event 9\", \"Points after event 10\", \"Points after event 11\"], \"y\": [3320, 6640, 16640, 19960, 24705, 29450, 30780, 34100, 35430, 41515, 42845]}, {\"line\": {\"color\": \"#ff6700\"}, \"name\": \"John John Florence\", \"type\": \"scatter\", \"visible\": false, \"x\": [\"Points after event 1\", \"Points after event 2\", \"Points after event 3\", \"Points after event 4\", \"Points after event 5\", \"Points after event 6\", \"Points after event 7\", \"Points after event 8\", \"Points after event 9\", \"Points after event 10\", \"Points after event 11\"], \"y\": [6085, 16085, 17415, 27415, 32160, 32425, 32690, 32955, 33220, 33485, 38230]}, {\"line\": {\"color\": \"#9bff85\"}, \"name\": \"Kelly Slater\", \"type\": \"scatter\", \"visible\": false, \"x\": [\"Points after event 1\", \"Points after event 2\", \"Points after event 3\", \"Points after event 4\", \"Points after event 5\", \"Points after event 6\", \"Points after event 7\", \"Points after event 8\", \"Points after event 9\", \"Points after event 10\", \"Points after event 11\"], \"y\": [265, 5010, 11095, 14415, 17735, 21055, 22385, 25705, 27035, 30355, 36440]}, {\"line\": {\"color\": \"#ff85f4\"}, \"name\": \"Owen Wright\", \"type\": \"scatter\", \"visible\": false, \"x\": [\"Points after event 1\", \"Points after event 2\", \"Points after event 3\", \"Points after event 4\", \"Points after event 5\", \"Points after event 6\", \"Points after event 7\", \"Points after event 8\", \"Points after event 9\", \"Points after event 10\", \"Points after event 11\"], \"y\": [3320, 6640, 7970, 11290, 12620, 17365, 27365, 33450, 34780, 36110, 37440]}, {\"line\": {\"color\": \"#9aa6ff\"}, \"name\": \"Jeremy Flores\", \"type\": \"scatter\", \"visible\": false, \"x\": [\"Points after event 1\", \"Points after event 2\", \"Points after event 3\", \"Points after event 4\", \"Points after event 5\", \"Points after event 6\", \"Points after event 7\", \"Points after event 8\", \"Points after event 9\", \"Points after event 10\", \"Points after event 11\"], \"y\": [1330, 4650, 12450, 13780, 14045, 15375, 20120, 21450, 31450, 32780, 33045]}],\n",
       "                        {\"template\": {\"data\": {\"bar\": [{\"error_x\": {\"color\": \"#2a3f5f\"}, \"error_y\": {\"color\": \"#2a3f5f\"}, \"marker\": {\"line\": {\"color\": \"#E5ECF6\", \"width\": 0.5}}, \"type\": \"bar\"}], \"barpolar\": [{\"marker\": {\"line\": {\"color\": \"#E5ECF6\", \"width\": 0.5}}, \"type\": \"barpolar\"}], \"carpet\": [{\"aaxis\": {\"endlinecolor\": \"#2a3f5f\", \"gridcolor\": \"white\", \"linecolor\": \"white\", \"minorgridcolor\": \"white\", \"startlinecolor\": \"#2a3f5f\"}, \"baxis\": {\"endlinecolor\": \"#2a3f5f\", \"gridcolor\": \"white\", \"linecolor\": \"white\", \"minorgridcolor\": \"white\", \"startlinecolor\": \"#2a3f5f\"}, \"type\": \"carpet\"}], \"choropleth\": [{\"colorbar\": {\"outlinewidth\": 0, \"ticks\": \"\"}, \"type\": \"choropleth\"}], \"contour\": [{\"colorbar\": {\"outlinewidth\": 0, \"ticks\": \"\"}, \"colorscale\": [[0.0, \"#0d0887\"], [0.1111111111111111, \"#46039f\"], [0.2222222222222222, \"#7201a8\"], [0.3333333333333333, \"#9c179e\"], [0.4444444444444444, \"#bd3786\"], [0.5555555555555556, \"#d8576b\"], [0.6666666666666666, \"#ed7953\"], [0.7777777777777778, \"#fb9f3a\"], [0.8888888888888888, \"#fdca26\"], [1.0, \"#f0f921\"]], \"type\": \"contour\"}], \"contourcarpet\": [{\"colorbar\": {\"outlinewidth\": 0, \"ticks\": \"\"}, \"type\": \"contourcarpet\"}], \"heatmap\": [{\"colorbar\": {\"outlinewidth\": 0, \"ticks\": \"\"}, \"colorscale\": [[0.0, \"#0d0887\"], [0.1111111111111111, \"#46039f\"], [0.2222222222222222, \"#7201a8\"], [0.3333333333333333, \"#9c179e\"], [0.4444444444444444, \"#bd3786\"], [0.5555555555555556, \"#d8576b\"], [0.6666666666666666, \"#ed7953\"], [0.7777777777777778, \"#fb9f3a\"], [0.8888888888888888, \"#fdca26\"], [1.0, \"#f0f921\"]], \"type\": \"heatmap\"}], \"heatmapgl\": [{\"colorbar\": {\"outlinewidth\": 0, \"ticks\": \"\"}, \"colorscale\": [[0.0, \"#0d0887\"], [0.1111111111111111, \"#46039f\"], [0.2222222222222222, \"#7201a8\"], [0.3333333333333333, \"#9c179e\"], [0.4444444444444444, \"#bd3786\"], [0.5555555555555556, \"#d8576b\"], [0.6666666666666666, \"#ed7953\"], [0.7777777777777778, \"#fb9f3a\"], [0.8888888888888888, \"#fdca26\"], [1.0, \"#f0f921\"]], \"type\": \"heatmapgl\"}], \"histogram\": [{\"marker\": {\"colorbar\": {\"outlinewidth\": 0, \"ticks\": \"\"}}, \"type\": \"histogram\"}], \"histogram2d\": [{\"colorbar\": {\"outlinewidth\": 0, \"ticks\": \"\"}, \"colorscale\": [[0.0, \"#0d0887\"], [0.1111111111111111, \"#46039f\"], [0.2222222222222222, \"#7201a8\"], [0.3333333333333333, \"#9c179e\"], [0.4444444444444444, \"#bd3786\"], [0.5555555555555556, \"#d8576b\"], [0.6666666666666666, \"#ed7953\"], [0.7777777777777778, \"#fb9f3a\"], [0.8888888888888888, \"#fdca26\"], [1.0, \"#f0f921\"]], \"type\": \"histogram2d\"}], \"histogram2dcontour\": [{\"colorbar\": {\"outlinewidth\": 0, \"ticks\": \"\"}, \"colorscale\": [[0.0, \"#0d0887\"], [0.1111111111111111, \"#46039f\"], [0.2222222222222222, \"#7201a8\"], [0.3333333333333333, \"#9c179e\"], [0.4444444444444444, \"#bd3786\"], [0.5555555555555556, \"#d8576b\"], [0.6666666666666666, \"#ed7953\"], [0.7777777777777778, \"#fb9f3a\"], [0.8888888888888888, \"#fdca26\"], [1.0, \"#f0f921\"]], \"type\": \"histogram2dcontour\"}], \"mesh3d\": [{\"colorbar\": {\"outlinewidth\": 0, \"ticks\": \"\"}, \"type\": \"mesh3d\"}], \"parcoords\": [{\"line\": {\"colorbar\": {\"outlinewidth\": 0, \"ticks\": \"\"}}, \"type\": \"parcoords\"}], \"pie\": [{\"automargin\": true, \"type\": \"pie\"}], \"scatter\": [{\"marker\": {\"colorbar\": {\"outlinewidth\": 0, \"ticks\": \"\"}}, \"type\": \"scatter\"}], \"scatter3d\": [{\"line\": {\"colorbar\": {\"outlinewidth\": 0, \"ticks\": \"\"}}, \"marker\": {\"colorbar\": {\"outlinewidth\": 0, \"ticks\": \"\"}}, \"type\": \"scatter3d\"}], \"scattercarpet\": [{\"marker\": {\"colorbar\": {\"outlinewidth\": 0, \"ticks\": \"\"}}, \"type\": \"scattercarpet\"}], \"scattergeo\": [{\"marker\": {\"colorbar\": {\"outlinewidth\": 0, \"ticks\": \"\"}}, \"type\": \"scattergeo\"}], \"scattergl\": [{\"marker\": {\"colorbar\": {\"outlinewidth\": 0, \"ticks\": \"\"}}, \"type\": \"scattergl\"}], \"scattermapbox\": [{\"marker\": {\"colorbar\": {\"outlinewidth\": 0, \"ticks\": \"\"}}, \"type\": \"scattermapbox\"}], \"scatterpolar\": [{\"marker\": {\"colorbar\": {\"outlinewidth\": 0, \"ticks\": \"\"}}, \"type\": \"scatterpolar\"}], \"scatterpolargl\": [{\"marker\": {\"colorbar\": {\"outlinewidth\": 0, \"ticks\": \"\"}}, \"type\": \"scatterpolargl\"}], \"scatterternary\": [{\"marker\": {\"colorbar\": {\"outlinewidth\": 0, \"ticks\": \"\"}}, \"type\": \"scatterternary\"}], \"surface\": [{\"colorbar\": {\"outlinewidth\": 0, \"ticks\": \"\"}, \"colorscale\": [[0.0, \"#0d0887\"], [0.1111111111111111, \"#46039f\"], [0.2222222222222222, \"#7201a8\"], [0.3333333333333333, \"#9c179e\"], [0.4444444444444444, \"#bd3786\"], [0.5555555555555556, \"#d8576b\"], [0.6666666666666666, \"#ed7953\"], [0.7777777777777778, \"#fb9f3a\"], [0.8888888888888888, \"#fdca26\"], [1.0, \"#f0f921\"]], \"type\": \"surface\"}], \"table\": [{\"cells\": {\"fill\": {\"color\": \"#EBF0F8\"}, \"line\": {\"color\": \"white\"}}, \"header\": {\"fill\": {\"color\": \"#C8D4E3\"}, \"line\": {\"color\": \"white\"}}, \"type\": \"table\"}]}, \"layout\": {\"annotationdefaults\": {\"arrowcolor\": \"#2a3f5f\", \"arrowhead\": 0, \"arrowwidth\": 1}, \"coloraxis\": {\"colorbar\": {\"outlinewidth\": 0, \"ticks\": \"\"}}, \"colorscale\": {\"diverging\": [[0, \"#8e0152\"], [0.1, \"#c51b7d\"], [0.2, \"#de77ae\"], [0.3, \"#f1b6da\"], [0.4, \"#fde0ef\"], [0.5, \"#f7f7f7\"], [0.6, \"#e6f5d0\"], [0.7, \"#b8e186\"], [0.8, \"#7fbc41\"], [0.9, \"#4d9221\"], [1, \"#276419\"]], \"sequential\": [[0.0, \"#0d0887\"], [0.1111111111111111, \"#46039f\"], [0.2222222222222222, \"#7201a8\"], [0.3333333333333333, \"#9c179e\"], [0.4444444444444444, \"#bd3786\"], [0.5555555555555556, \"#d8576b\"], [0.6666666666666666, \"#ed7953\"], [0.7777777777777778, \"#fb9f3a\"], [0.8888888888888888, \"#fdca26\"], [1.0, \"#f0f921\"]], \"sequentialminus\": [[0.0, \"#0d0887\"], [0.1111111111111111, \"#46039f\"], [0.2222222222222222, \"#7201a8\"], [0.3333333333333333, \"#9c179e\"], [0.4444444444444444, \"#bd3786\"], [0.5555555555555556, \"#d8576b\"], [0.6666666666666666, \"#ed7953\"], [0.7777777777777778, \"#fb9f3a\"], [0.8888888888888888, \"#fdca26\"], [1.0, \"#f0f921\"]]}, \"colorway\": [\"#636efa\", \"#EF553B\", \"#00cc96\", \"#ab63fa\", \"#FFA15A\", \"#19d3f3\", \"#FF6692\", \"#B6E880\", \"#FF97FF\", \"#FECB52\"], \"font\": {\"color\": \"#2a3f5f\"}, \"geo\": {\"bgcolor\": \"white\", \"lakecolor\": \"white\", \"landcolor\": \"#E5ECF6\", \"showlakes\": true, \"showland\": true, \"subunitcolor\": \"white\"}, \"hoverlabel\": {\"align\": \"left\"}, \"hovermode\": \"closest\", \"mapbox\": {\"style\": \"light\"}, \"paper_bgcolor\": \"white\", \"plot_bgcolor\": \"#E5ECF6\", \"polar\": {\"angularaxis\": {\"gridcolor\": \"white\", \"linecolor\": \"white\", \"ticks\": \"\"}, \"bgcolor\": \"#E5ECF6\", \"radialaxis\": {\"gridcolor\": \"white\", \"linecolor\": \"white\", \"ticks\": \"\"}}, \"scene\": {\"xaxis\": {\"backgroundcolor\": \"#E5ECF6\", \"gridcolor\": \"white\", \"gridwidth\": 2, \"linecolor\": \"white\", \"showbackground\": true, \"ticks\": \"\", \"zerolinecolor\": \"white\"}, \"yaxis\": {\"backgroundcolor\": \"#E5ECF6\", \"gridcolor\": \"white\", \"gridwidth\": 2, \"linecolor\": \"white\", \"showbackground\": true, \"ticks\": \"\", \"zerolinecolor\": \"white\"}, \"zaxis\": {\"backgroundcolor\": \"#E5ECF6\", \"gridcolor\": \"white\", \"gridwidth\": 2, \"linecolor\": \"white\", \"showbackground\": true, \"ticks\": \"\", \"zerolinecolor\": \"white\"}}, \"shapedefaults\": {\"line\": {\"color\": \"#2a3f5f\"}}, \"ternary\": {\"aaxis\": {\"gridcolor\": \"white\", \"linecolor\": \"white\", \"ticks\": \"\"}, \"baxis\": {\"gridcolor\": \"white\", \"linecolor\": \"white\", \"ticks\": \"\"}, \"bgcolor\": \"#E5ECF6\", \"caxis\": {\"gridcolor\": \"white\", \"linecolor\": \"white\", \"ticks\": \"\"}}, \"title\": {\"x\": 0.05}, \"xaxis\": {\"automargin\": true, \"gridcolor\": \"white\", \"linecolor\": \"white\", \"ticks\": \"\", \"title\": {\"standoff\": 15}, \"zerolinecolor\": \"white\", \"zerolinewidth\": 2}, \"yaxis\": {\"automargin\": true, \"gridcolor\": \"white\", \"linecolor\": \"white\", \"ticks\": \"\", \"title\": {\"standoff\": 15}, \"zerolinecolor\": \"white\", \"zerolinewidth\": 2}}}, \"title\": {\"text\": \"Cummulative points Top 5\"}, \"updatemenus\": [{\"active\": 0, \"buttons\": [{\"args\": [{\"visible\": [true, true, true, true, true, false, false, false, false, false]}, {\"annotations\": [], \"title\": \"Cummulative points Top 5\"}], \"label\": \"Top 5 athletes\", \"method\": \"update\"}, {\"args\": [{\"visible\": [true, true, true, true, true, true, true, true, true, true]}, {\"annotations\": [], \"title\": \"Cummulative points Top 10\"}], \"label\": \"Top 10 athletes\", \"method\": \"update\"}], \"direction\": \"right\", \"type\": \"buttons\", \"x\": 0.65, \"y\": 1.2}], \"xaxis\": {\"domain\": [0.05, 1.0]}},\n",
       "                        {\"responsive\": true}\n",
       "                    ).then(function(){\n",
       "                            \n",
       "var gd = document.getElementById('98b89cf8-1c48-4637-bb32-97de9f7ae469');\n",
       "var x = new MutationObserver(function (mutations, observer) {{\n",
       "        var display = window.getComputedStyle(gd).display;\n",
       "        if (!display || display === 'none') {{\n",
       "            console.log([gd, 'removed!']);\n",
       "            Plotly.purge(gd);\n",
       "            observer.disconnect();\n",
       "        }}\n",
       "}});\n",
       "\n",
       "// Listen for the removal of the full notebook cells\n",
       "var notebookContainer = gd.closest('#notebook-container');\n",
       "if (notebookContainer) {{\n",
       "    x.observe(notebookContainer, {childList: true});\n",
       "}}\n",
       "\n",
       "// Listen for the clearing of the current output cell\n",
       "var outputEl = gd.closest('.output');\n",
       "if (outputEl) {{\n",
       "    x.observe(outputEl, {childList: true});\n",
       "}}\n",
       "\n",
       "                        })\n",
       "                };\n",
       "                });\n",
       "            </script>\n",
       "        </div>"
      ]
     },
     "metadata": {},
     "output_type": "display_data"
    }
   ],
   "source": [
    "# Initialize figure\n",
    "fig = go.Figure()\n",
    "\n",
    "# Add Traces\n",
    "\n",
    "fig.add_trace(\n",
    "    go.Scatter(x=list(top10.index),\n",
    "               y=list(top10.loc[:,'Italo Ferreira']),\n",
    "               name=\"Italo Ferreira\",\n",
    "               line=dict(color=\"#f2a81a\")))\n",
    "\n",
    "fig.add_trace(\n",
    "    go.Scatter(x=list(top10.index),\n",
    "               y=list(top10.loc[:,'Gabriel Medina']),\n",
    "               name=\"Gabriel Medina\",\n",
    "               line=dict(color=\"#ff0000\")))\n",
    "\n",
    "fig.add_trace(\n",
    "    go.Scatter(x=list(top10.index),\n",
    "               y=list(top10.loc[:,'Jordy Smith']),\n",
    "               name=\"Jordy Smith\",\n",
    "               line=dict(color=\"#0051ff\")))\n",
    "\n",
    "fig.add_trace(\n",
    "    go.Scatter(x=list(top10.index),\n",
    "               y=list(top10.loc[:,'Filipe Toledo']),\n",
    "               name=\"Filipe Toledo\",\n",
    "               line=dict(color=\"#1ddb00\")))\n",
    "\n",
    "fig.add_trace(\n",
    "    go.Scatter(x=list(top10.index),\n",
    "               y=list(top10.loc[:,'Kolohe Andino']),\n",
    "               name=\"Kolohe Andino\",\n",
    "               line=dict(color=\"#db00d1\")))\n",
    "\n",
    "fig.add_trace(\n",
    "    go.Scatter(x=list(top10.index),\n",
    "               y=list(top10.loc[:,'Kanoa Igarashi']),\n",
    "               name=\"Kanoa Igarashi\",\n",
    "               visible=False,\n",
    "               line=dict(color=\"#00ffdf\")))\n",
    "\n",
    "fig.add_trace(\n",
    "    go.Scatter(x=list(top10.index),\n",
    "               y=list(top10.loc[:,'John John Florence']),\n",
    "               name=\"John John Florence\",\n",
    "               visible=False,\n",
    "               line=dict(color=\"#ff6700\")))\n",
    "\n",
    "fig.add_trace(\n",
    "    go.Scatter(x=list(top10.index),\n",
    "               y=list(top10.loc[:,'Kelly Slater']),\n",
    "               name=\"Kelly Slater\",\n",
    "               visible=False,\n",
    "               line=dict(color=\"#9bff85\")))\n",
    "\n",
    "fig.add_trace(\n",
    "    go.Scatter(x=list(top10.index),\n",
    "               y=list(top10.loc[:,'Owen Wright']),\n",
    "               name=\"Owen Wright\",\n",
    "               visible=False,\n",
    "               line=dict(color=\"#ff85f4\")))\n",
    "\n",
    "fig.add_trace(\n",
    "    go.Scatter(x=list(top10.index),\n",
    "               y=list(top10.loc[:,'Jeremy Flores']),\n",
    "               name=\"Jeremy Flores\",\n",
    "               visible=False,\n",
    "               line=dict(color=\"#9aa6ff\")))\n",
    "\n",
    "# Add Annotations and Buttons\n",
    "\n",
    "fig.update_layout(\n",
    "    updatemenus=[\n",
    "        go.layout.Updatemenu(\n",
    "            type=\"buttons\",\n",
    "            direction=\"right\",\n",
    "            active=0,\n",
    "            x=0.65,\n",
    "            y=1.2,\n",
    "            buttons=list([\n",
    "                dict(label=\"Top 5 athletes\",\n",
    "                     method=\"update\",\n",
    "                     args=[{\"visible\": [True, True, True, True, True, False, False, False, False, False]},\n",
    "                           {\"title\": \"Cummulative points Top 5\",\n",
    "                            \"annotations\": []}]),\n",
    "                 dict(label=\"Top 10 athletes\",\n",
    "                     method=\"update\",\n",
    "                     args=[{\"visible\": [True, True, True, True, True, True, True, True, True, True]},\n",
    "                           {\"title\": \"Cummulative points Top 10\",\n",
    "                            \"annotations\": []}]),\n",
    "            ]),\n",
    "        )\n",
    "    ])\n",
    "\n",
    "# Set title\n",
    "fig.update_layout(\n",
    "    title_text=\"Cummulative points Top 5\",\n",
    "    xaxis_domain=[0.05, 1.0]\n",
    ")\n",
    "\n",
    "fig.show()"
   ]
  },
  {
   "cell_type": "markdown",
   "metadata": {},
   "source": [
    "When inspecting the plot for Top 5 athletes, that the winner of this year (Italo Ferreira) was placed last out of these 5 surfers after events 7 and 8 and won the whole competition by winning last two events. \n",
    "\n",
    "When observing the plot for the Top 10 athletes, we can see a significantly better results for John John Florence until event 5. This surfer quickly gained a lead, but was injured during event 5. This caused his absence on 5 out of 6 remaining events and he came back for the last event 11. Neverthless, John John Florence managed to rank 7th in the whole championship even after missing 5/11 events and participate on 2/11 injured. "
   ]
  },
  {
   "cell_type": "code",
   "execution_count": 25,
   "metadata": {},
   "outputs": [
    {
     "data": {
      "application/vnd.plotly.v1+json": {
       "config": {
        "plotlyServerURL": "https://plot.ly"
       },
       "data": [
        {
         "alignmentgroup": "True",
         "hoverlabel": {
          "namelength": 0
         },
         "hovertemplate": "Athlete=Mikey Wright<br>Stance=%{x}<br>y=%{y}",
         "legendgroup": "Athlete=Mikey Wright",
         "marker": {
          "color": "#636efa"
         },
         "name": "Athlete=Mikey Wright",
         "offsetgroup": "Athlete=Mikey Wright",
         "orientation": "v",
         "showlegend": true,
         "textposition": "auto",
         "type": "bar",
         "x": [
          "Regular"
         ],
         "xaxis": "x",
         "y": [
          8100
         ],
         "yaxis": "y"
        },
        {
         "alignmentgroup": "True",
         "hoverlabel": {
          "namelength": 0
         },
         "hovertemplate": "Athlete=Adriano de Souza<br>Stance=%{x}<br>y=%{y}",
         "legendgroup": "Athlete=Adriano de Souza",
         "marker": {
          "color": "#EF553B"
         },
         "name": "Athlete=Adriano de Souza",
         "offsetgroup": "Athlete=Adriano de Souza",
         "orientation": "v",
         "showlegend": true,
         "textposition": "auto",
         "type": "bar",
         "x": [
          "Regular"
         ],
         "xaxis": "x",
         "y": [
          9525
         ],
         "yaxis": "y"
        },
        {
         "alignmentgroup": "True",
         "hoverlabel": {
          "namelength": 0
         },
         "hovertemplate": "Athlete=Frederico Morais<br>Stance=%{x}<br>y=%{y}",
         "legendgroup": "Athlete=Frederico Morais",
         "marker": {
          "color": "#00cc96"
         },
         "name": "Athlete=Frederico Morais",
         "offsetgroup": "Athlete=Frederico Morais",
         "orientation": "v",
         "showlegend": true,
         "textposition": "auto",
         "type": "bar",
         "x": [
          "Regular"
         ],
         "xaxis": "x",
         "y": [
          10870
         ],
         "yaxis": "y"
        },
        {
         "alignmentgroup": "True",
         "hoverlabel": {
          "namelength": 0
         },
         "hovertemplate": "Athlete=Ricardo Christie<br>Stance=%{x}<br>y=%{y}",
         "legendgroup": "Athlete=Ricardo Christie",
         "marker": {
          "color": "#ab63fa"
         },
         "name": "Athlete=Ricardo Christie",
         "offsetgroup": "Athlete=Ricardo Christie",
         "orientation": "v",
         "showlegend": true,
         "textposition": "auto",
         "type": "bar",
         "x": [
          "Regular"
         ],
         "xaxis": "x",
         "y": [
          14490
         ],
         "yaxis": "y"
        },
        {
         "alignmentgroup": "True",
         "hoverlabel": {
          "namelength": 0
         },
         "hovertemplate": "Athlete=Jadson Andre<br>Stance=%{x}<br>y=%{y}",
         "legendgroup": "Athlete=Jadson Andre",
         "marker": {
          "color": "#FFA15A"
         },
         "name": "Athlete=Jadson Andre",
         "offsetgroup": "Athlete=Jadson Andre",
         "orientation": "v",
         "showlegend": true,
         "textposition": "auto",
         "type": "bar",
         "x": [
          "Goofy"
         ],
         "xaxis": "x",
         "y": [
          14850
         ],
         "yaxis": "y"
        },
        {
         "alignmentgroup": "True",
         "hoverlabel": {
          "namelength": 0
         },
         "hovertemplate": "Athlete=Leonardo Fioravanti<br>Stance=%{x}<br>y=%{y}",
         "legendgroup": "Athlete=Leonardo Fioravanti",
         "marker": {
          "color": "#19d3f3"
         },
         "name": "Athlete=Leonardo Fioravanti",
         "offsetgroup": "Athlete=Leonardo Fioravanti",
         "orientation": "v",
         "showlegend": true,
         "textposition": "auto",
         "type": "bar",
         "x": [
          "Regular"
         ],
         "xaxis": "x",
         "y": [
          14985
         ],
         "yaxis": "y"
        },
        {
         "alignmentgroup": "True",
         "hoverlabel": {
          "namelength": 0
         },
         "hovertemplate": "Athlete=Soli Bailey<br>Stance=%{x}<br>y=%{y}",
         "legendgroup": "Athlete=Soli Bailey",
         "marker": {
          "color": "#FF6692"
         },
         "name": "Athlete=Soli Bailey",
         "offsetgroup": "Athlete=Soli Bailey",
         "orientation": "v",
         "showlegend": true,
         "textposition": "auto",
         "type": "bar",
         "x": [
          "Regular"
         ],
         "xaxis": "x",
         "y": [
          17545
         ],
         "yaxis": "y"
        },
        {
         "alignmentgroup": "True",
         "hoverlabel": {
          "namelength": 0
         },
         "hovertemplate": "Athlete=Ezekiel Lau<br>Stance=%{x}<br>y=%{y}",
         "legendgroup": "Athlete=Ezekiel Lau",
         "marker": {
          "color": "#B6E880"
         },
         "name": "Athlete=Ezekiel Lau",
         "offsetgroup": "Athlete=Ezekiel Lau",
         "orientation": "v",
         "showlegend": true,
         "textposition": "auto",
         "type": "bar",
         "x": [
          "Regular"
         ],
         "xaxis": "x",
         "y": [
          18470
         ],
         "yaxis": "y"
        },
        {
         "alignmentgroup": "True",
         "hoverlabel": {
          "namelength": 0
         },
         "hovertemplate": "Athlete=Sebastian Zietz<br>Stance=%{x}<br>y=%{y}",
         "legendgroup": "Athlete=Sebastian Zietz",
         "marker": {
          "color": "#FF97FF"
         },
         "name": "Athlete=Sebastian Zietz",
         "offsetgroup": "Athlete=Sebastian Zietz",
         "orientation": "v",
         "showlegend": true,
         "textposition": "auto",
         "type": "bar",
         "x": [
          "Regular"
         ],
         "xaxis": "x",
         "y": [
          18830
         ],
         "yaxis": "y"
        },
        {
         "alignmentgroup": "True",
         "hoverlabel": {
          "namelength": 0
         },
         "hovertemplate": "Athlete=Joan Duru<br>Stance=%{x}<br>y=%{y}",
         "legendgroup": "Athlete=Joan Duru",
         "marker": {
          "color": "#FECB52"
         },
         "name": "Athlete=Joan Duru",
         "offsetgroup": "Athlete=Joan Duru",
         "orientation": "v",
         "showlegend": true,
         "textposition": "auto",
         "type": "bar",
         "x": [
          "Goofy"
         ],
         "xaxis": "x",
         "y": [
          19535
         ],
         "yaxis": "y"
        },
        {
         "alignmentgroup": "True",
         "hoverlabel": {
          "namelength": 0
         },
         "hovertemplate": "Athlete=Michael Rodrigues<br>Stance=%{x}<br>y=%{y}",
         "legendgroup": "Athlete=Michael Rodrigues",
         "marker": {
          "color": "#636efa"
         },
         "name": "Athlete=Michael Rodrigues",
         "offsetgroup": "Athlete=Michael Rodrigues",
         "orientation": "v",
         "showlegend": true,
         "textposition": "auto",
         "type": "bar",
         "x": [
          "Regular"
         ],
         "xaxis": "x",
         "y": [
          20170
         ],
         "yaxis": "y"
        },
        {
         "alignmentgroup": "True",
         "hoverlabel": {
          "namelength": 0
         },
         "hovertemplate": "Athlete=Jesse Mendes<br>Stance=%{x}<br>y=%{y}",
         "legendgroup": "Athlete=Jesse Mendes",
         "marker": {
          "color": "#EF553B"
         },
         "name": "Athlete=Jesse Mendes",
         "offsetgroup": "Athlete=Jesse Mendes",
         "orientation": "v",
         "showlegend": true,
         "textposition": "auto",
         "type": "bar",
         "x": [
          "Goofy"
         ],
         "xaxis": "x",
         "y": [
          20460
         ],
         "yaxis": "y"
        },
        {
         "alignmentgroup": "True",
         "hoverlabel": {
          "namelength": 0
         },
         "hovertemplate": "Athlete=Willian Cardoso<br>Stance=%{x}<br>y=%{y}",
         "legendgroup": "Athlete=Willian Cardoso",
         "marker": {
          "color": "#00cc96"
         },
         "name": "Athlete=Willian Cardoso",
         "offsetgroup": "Athlete=Willian Cardoso",
         "orientation": "v",
         "showlegend": true,
         "textposition": "auto",
         "type": "bar",
         "x": [
          "Regular"
         ],
         "xaxis": "x",
         "y": [
          22590
         ],
         "yaxis": "y"
        },
        {
         "alignmentgroup": "True",
         "hoverlabel": {
          "namelength": 0
         },
         "hovertemplate": "Athlete=Deivid Silva<br>Stance=%{x}<br>y=%{y}",
         "legendgroup": "Athlete=Deivid Silva",
         "marker": {
          "color": "#ab63fa"
         },
         "name": "Athlete=Deivid Silva",
         "offsetgroup": "Athlete=Deivid Silva",
         "orientation": "v",
         "showlegend": true,
         "textposition": "auto",
         "type": "bar",
         "x": [
          "Goofy"
         ],
         "xaxis": "x",
         "y": [
          23515
         ],
         "yaxis": "y"
        },
        {
         "alignmentgroup": "True",
         "hoverlabel": {
          "namelength": 0
         },
         "hovertemplate": "Athlete=Peterson Crisanto<br>Stance=%{x}<br>y=%{y}",
         "legendgroup": "Athlete=Peterson Crisanto",
         "marker": {
          "color": "#FFA15A"
         },
         "name": "Athlete=Peterson Crisanto",
         "offsetgroup": "Athlete=Peterson Crisanto",
         "orientation": "v",
         "showlegend": true,
         "textposition": "auto",
         "type": "bar",
         "x": [
          "Regular"
         ],
         "xaxis": "x",
         "y": [
          23875
         ],
         "yaxis": "y"
        },
        {
         "alignmentgroup": "True",
         "hoverlabel": {
          "namelength": 0
         },
         "hovertemplate": "Athlete=Yago Dora<br>Stance=%{x}<br>y=%{y}",
         "legendgroup": "Athlete=Yago Dora",
         "marker": {
          "color": "#19d3f3"
         },
         "name": "Athlete=Yago Dora",
         "offsetgroup": "Athlete=Yago Dora",
         "orientation": "v",
         "showlegend": true,
         "textposition": "auto",
         "type": "bar",
         "x": [
          "Goofy"
         ],
         "xaxis": "x",
         "y": [
          25440
         ],
         "yaxis": "y"
        },
        {
         "alignmentgroup": "True",
         "hoverlabel": {
          "namelength": 0
         },
         "hovertemplate": "Athlete=Conner Coffin<br>Stance=%{x}<br>y=%{y}",
         "legendgroup": "Athlete=Conner Coffin",
         "marker": {
          "color": "#FF6692"
         },
         "name": "Athlete=Conner Coffin",
         "offsetgroup": "Athlete=Conner Coffin",
         "orientation": "v",
         "showlegend": true,
         "textposition": "auto",
         "type": "bar",
         "x": [
          "Regular"
         ],
         "xaxis": "x",
         "y": [
          26005
         ],
         "yaxis": "y"
        },
        {
         "alignmentgroup": "True",
         "hoverlabel": {
          "namelength": 0
         },
         "hovertemplate": "Athlete=Adrian Buchan<br>Stance=%{x}<br>y=%{y}",
         "legendgroup": "Athlete=Adrian Buchan",
         "marker": {
          "color": "#B6E880"
         },
         "name": "Athlete=Adrian Buchan",
         "offsetgroup": "Athlete=Adrian Buchan",
         "orientation": "v",
         "showlegend": true,
         "textposition": "auto",
         "type": "bar",
         "x": [
          "Goofy"
         ],
         "xaxis": "x",
         "y": [
          26160
         ],
         "yaxis": "y"
        },
        {
         "alignmentgroup": "True",
         "hoverlabel": {
          "namelength": 0
         },
         "hovertemplate": "Athlete=Wade Carmichael<br>Stance=%{x}<br>y=%{y}",
         "legendgroup": "Athlete=Wade Carmichael",
         "marker": {
          "color": "#FF97FF"
         },
         "name": "Athlete=Wade Carmichael",
         "offsetgroup": "Athlete=Wade Carmichael",
         "orientation": "v",
         "showlegend": true,
         "textposition": "auto",
         "type": "bar",
         "x": [
          "Regular"
         ],
         "xaxis": "x",
         "y": [
          28355
         ],
         "yaxis": "y"
        },
        {
         "alignmentgroup": "True",
         "hoverlabel": {
          "namelength": 0
         },
         "hovertemplate": "Athlete=Caio Ibelli<br>Stance=%{x}<br>y=%{y}",
         "legendgroup": "Athlete=Caio Ibelli",
         "marker": {
          "color": "#FECB52"
         },
         "name": "Athlete=Caio Ibelli",
         "offsetgroup": "Athlete=Caio Ibelli",
         "orientation": "v",
         "showlegend": true,
         "textposition": "auto",
         "type": "bar",
         "x": [
          "Regular"
         ],
         "xaxis": "x",
         "y": [
          28480
         ],
         "yaxis": "y"
        },
        {
         "alignmentgroup": "True",
         "hoverlabel": {
          "namelength": 0
         },
         "hovertemplate": "Athlete=Griffin Colapinto<br>Stance=%{x}<br>y=%{y}",
         "legendgroup": "Athlete=Griffin Colapinto",
         "marker": {
          "color": "#636efa"
         },
         "name": "Athlete=Griffin Colapinto",
         "offsetgroup": "Athlete=Griffin Colapinto",
         "orientation": "v",
         "showlegend": true,
         "textposition": "auto",
         "type": "bar",
         "x": [
          "Regular"
         ],
         "xaxis": "x",
         "y": [
          29045
         ],
         "yaxis": "y"
        },
        {
         "alignmentgroup": "True",
         "hoverlabel": {
          "namelength": 0
         },
         "hovertemplate": "Athlete=Ryan Callinan<br>Stance=%{x}<br>y=%{y}",
         "legendgroup": "Athlete=Ryan Callinan",
         "marker": {
          "color": "#EF553B"
         },
         "name": "Athlete=Ryan Callinan",
         "offsetgroup": "Athlete=Ryan Callinan",
         "orientation": "v",
         "showlegend": true,
         "textposition": "auto",
         "type": "bar",
         "x": [
          "Goofy"
         ],
         "xaxis": "x",
         "y": [
          29130
         ],
         "yaxis": "y"
        },
        {
         "alignmentgroup": "True",
         "hoverlabel": {
          "namelength": 0
         },
         "hovertemplate": "Athlete=Jack Freestone<br>Stance=%{x}<br>y=%{y}",
         "legendgroup": "Athlete=Jack Freestone",
         "marker": {
          "color": "#00cc96"
         },
         "name": "Athlete=Jack Freestone",
         "offsetgroup": "Athlete=Jack Freestone",
         "orientation": "v",
         "showlegend": true,
         "textposition": "auto",
         "type": "bar",
         "x": [
          "Regular"
         ],
         "xaxis": "x",
         "y": [
          30195
         ],
         "yaxis": "y"
        },
        {
         "alignmentgroup": "True",
         "hoverlabel": {
          "namelength": 0
         },
         "hovertemplate": "Athlete=Michel Bourez<br>Stance=%{x}<br>y=%{y}",
         "legendgroup": "Athlete=Michel Bourez",
         "marker": {
          "color": "#ab63fa"
         },
         "name": "Athlete=Michel Bourez",
         "offsetgroup": "Athlete=Michel Bourez",
         "orientation": "v",
         "showlegend": true,
         "textposition": "auto",
         "type": "bar",
         "x": [
          "Regular"
         ],
         "xaxis": "x",
         "y": [
          30910
         ],
         "yaxis": "y"
        },
        {
         "alignmentgroup": "True",
         "hoverlabel": {
          "namelength": 0
         },
         "hovertemplate": "Athlete=Seth Moniz<br>Stance=%{x}<br>y=%{y}",
         "legendgroup": "Athlete=Seth Moniz",
         "marker": {
          "color": "#FFA15A"
         },
         "name": "Athlete=Seth Moniz",
         "offsetgroup": "Athlete=Seth Moniz",
         "orientation": "v",
         "showlegend": true,
         "textposition": "auto",
         "type": "bar",
         "x": [
          "Regular"
         ],
         "xaxis": "x",
         "y": [
          31120
         ],
         "yaxis": "y"
        },
        {
         "alignmentgroup": "True",
         "hoverlabel": {
          "namelength": 0
         },
         "hovertemplate": "Athlete=Jeremy Flores<br>Stance=%{x}<br>y=%{y}",
         "legendgroup": "Athlete=Jeremy Flores",
         "marker": {
          "color": "#19d3f3"
         },
         "name": "Athlete=Jeremy Flores",
         "offsetgroup": "Athlete=Jeremy Flores",
         "orientation": "v",
         "showlegend": true,
         "textposition": "auto",
         "type": "bar",
         "x": [
          "Regular"
         ],
         "xaxis": "x",
         "y": [
          33045
         ],
         "yaxis": "y"
        },
        {
         "alignmentgroup": "True",
         "hoverlabel": {
          "namelength": 0
         },
         "hovertemplate": "Athlete=Julian Wilson<br>Stance=%{x}<br>y=%{y}",
         "legendgroup": "Athlete=Julian Wilson",
         "marker": {
          "color": "#FF6692"
         },
         "name": "Athlete=Julian Wilson",
         "offsetgroup": "Athlete=Julian Wilson",
         "orientation": "v",
         "showlegend": true,
         "textposition": "auto",
         "type": "bar",
         "x": [
          "Regular"
         ],
         "xaxis": "x",
         "y": [
          34175
         ],
         "yaxis": "y"
        },
        {
         "alignmentgroup": "True",
         "hoverlabel": {
          "namelength": 0
         },
         "hovertemplate": "Athlete=Kelly Slater<br>Stance=%{x}<br>y=%{y}",
         "legendgroup": "Athlete=Kelly Slater",
         "marker": {
          "color": "#B6E880"
         },
         "name": "Athlete=Kelly Slater",
         "offsetgroup": "Athlete=Kelly Slater",
         "orientation": "v",
         "showlegend": true,
         "textposition": "auto",
         "type": "bar",
         "x": [
          "Regular"
         ],
         "xaxis": "x",
         "y": [
          36440
         ],
         "yaxis": "y"
        },
        {
         "alignmentgroup": "True",
         "hoverlabel": {
          "namelength": 0
         },
         "hovertemplate": "Athlete=Owen Wright<br>Stance=%{x}<br>y=%{y}",
         "legendgroup": "Athlete=Owen Wright",
         "marker": {
          "color": "#FF97FF"
         },
         "name": "Athlete=Owen Wright",
         "offsetgroup": "Athlete=Owen Wright",
         "orientation": "v",
         "showlegend": true,
         "textposition": "auto",
         "type": "bar",
         "x": [
          "Goofy"
         ],
         "xaxis": "x",
         "y": [
          37440
         ],
         "yaxis": "y"
        },
        {
         "alignmentgroup": "True",
         "hoverlabel": {
          "namelength": 0
         },
         "hovertemplate": "Athlete=John John Florence<br>Stance=%{x}<br>y=%{y}",
         "legendgroup": "Athlete=John John Florence",
         "marker": {
          "color": "#FECB52"
         },
         "name": "Athlete=John John Florence",
         "offsetgroup": "Athlete=John John Florence",
         "orientation": "v",
         "showlegend": true,
         "textposition": "auto",
         "type": "bar",
         "x": [
          "Regular"
         ],
         "xaxis": "x",
         "y": [
          38230
         ],
         "yaxis": "y"
        },
        {
         "alignmentgroup": "True",
         "hoverlabel": {
          "namelength": 0
         },
         "hovertemplate": "Athlete=Kanoa Igarashi<br>Stance=%{x}<br>y=%{y}",
         "legendgroup": "Athlete=Kanoa Igarashi",
         "marker": {
          "color": "#636efa"
         },
         "name": "Athlete=Kanoa Igarashi",
         "offsetgroup": "Athlete=Kanoa Igarashi",
         "orientation": "v",
         "showlegend": true,
         "textposition": "auto",
         "type": "bar",
         "x": [
          "Regular"
         ],
         "xaxis": "x",
         "y": [
          42845
         ],
         "yaxis": "y"
        },
        {
         "alignmentgroup": "True",
         "hoverlabel": {
          "namelength": 0
         },
         "hovertemplate": "Athlete=Kolohe Andino<br>Stance=%{x}<br>y=%{y}",
         "legendgroup": "Athlete=Kolohe Andino",
         "marker": {
          "color": "#EF553B"
         },
         "name": "Athlete=Kolohe Andino",
         "offsetgroup": "Athlete=Kolohe Andino",
         "orientation": "v",
         "showlegend": true,
         "textposition": "auto",
         "type": "bar",
         "x": [
          "Regular"
         ],
         "xaxis": "x",
         "y": [
          49315
         ],
         "yaxis": "y"
        },
        {
         "alignmentgroup": "True",
         "hoverlabel": {
          "namelength": 0
         },
         "hovertemplate": "Athlete=Filipe Toledo<br>Stance=%{x}<br>y=%{y}",
         "legendgroup": "Athlete=Filipe Toledo",
         "marker": {
          "color": "#00cc96"
         },
         "name": "Athlete=Filipe Toledo",
         "offsetgroup": "Athlete=Filipe Toledo",
         "orientation": "v",
         "showlegend": true,
         "textposition": "auto",
         "type": "bar",
         "x": [
          "Regular"
         ],
         "xaxis": "x",
         "y": [
          51805
         ],
         "yaxis": "y"
        },
        {
         "alignmentgroup": "True",
         "hoverlabel": {
          "namelength": 0
         },
         "hovertemplate": "Athlete=Jordy Smith<br>Stance=%{x}<br>y=%{y}",
         "legendgroup": "Athlete=Jordy Smith",
         "marker": {
          "color": "#ab63fa"
         },
         "name": "Athlete=Jordy Smith",
         "offsetgroup": "Athlete=Jordy Smith",
         "orientation": "v",
         "showlegend": true,
         "textposition": "auto",
         "type": "bar",
         "x": [
          "Regular"
         ],
         "xaxis": "x",
         "y": [
          52645
         ],
         "yaxis": "y"
        },
        {
         "alignmentgroup": "True",
         "hoverlabel": {
          "namelength": 0
         },
         "hovertemplate": "Athlete=Gabriel Medina<br>Stance=%{x}<br>y=%{y}",
         "legendgroup": "Athlete=Gabriel Medina",
         "marker": {
          "color": "#FFA15A"
         },
         "name": "Athlete=Gabriel Medina",
         "offsetgroup": "Athlete=Gabriel Medina",
         "orientation": "v",
         "showlegend": true,
         "textposition": "auto",
         "type": "bar",
         "x": [
          "Goofy"
         ],
         "xaxis": "x",
         "y": [
          59135
         ],
         "yaxis": "y"
        },
        {
         "alignmentgroup": "True",
         "hoverlabel": {
          "namelength": 0
         },
         "hovertemplate": "Athlete=Italo Ferreira<br>Stance=%{x}<br>y=%{y}",
         "legendgroup": "Athlete=Italo Ferreira",
         "marker": {
          "color": "#19d3f3"
         },
         "name": "Athlete=Italo Ferreira",
         "offsetgroup": "Athlete=Italo Ferreira",
         "orientation": "v",
         "showlegend": true,
         "textposition": "auto",
         "type": "bar",
         "x": [
          "Goofy"
         ],
         "xaxis": "x",
         "y": [
          62400
         ],
         "yaxis": "y"
        }
       ],
       "layout": {
        "barmode": "relative",
        "legend": {
         "tracegroupgap": 0
        },
        "template": {
         "data": {
          "bar": [
           {
            "error_x": {
             "color": "#2a3f5f"
            },
            "error_y": {
             "color": "#2a3f5f"
            },
            "marker": {
             "line": {
              "color": "#E5ECF6",
              "width": 0.5
             }
            },
            "type": "bar"
           }
          ],
          "barpolar": [
           {
            "marker": {
             "line": {
              "color": "#E5ECF6",
              "width": 0.5
             }
            },
            "type": "barpolar"
           }
          ],
          "carpet": [
           {
            "aaxis": {
             "endlinecolor": "#2a3f5f",
             "gridcolor": "white",
             "linecolor": "white",
             "minorgridcolor": "white",
             "startlinecolor": "#2a3f5f"
            },
            "baxis": {
             "endlinecolor": "#2a3f5f",
             "gridcolor": "white",
             "linecolor": "white",
             "minorgridcolor": "white",
             "startlinecolor": "#2a3f5f"
            },
            "type": "carpet"
           }
          ],
          "choropleth": [
           {
            "colorbar": {
             "outlinewidth": 0,
             "ticks": ""
            },
            "type": "choropleth"
           }
          ],
          "contour": [
           {
            "colorbar": {
             "outlinewidth": 0,
             "ticks": ""
            },
            "colorscale": [
             [
              0,
              "#0d0887"
             ],
             [
              0.1111111111111111,
              "#46039f"
             ],
             [
              0.2222222222222222,
              "#7201a8"
             ],
             [
              0.3333333333333333,
              "#9c179e"
             ],
             [
              0.4444444444444444,
              "#bd3786"
             ],
             [
              0.5555555555555556,
              "#d8576b"
             ],
             [
              0.6666666666666666,
              "#ed7953"
             ],
             [
              0.7777777777777778,
              "#fb9f3a"
             ],
             [
              0.8888888888888888,
              "#fdca26"
             ],
             [
              1,
              "#f0f921"
             ]
            ],
            "type": "contour"
           }
          ],
          "contourcarpet": [
           {
            "colorbar": {
             "outlinewidth": 0,
             "ticks": ""
            },
            "type": "contourcarpet"
           }
          ],
          "heatmap": [
           {
            "colorbar": {
             "outlinewidth": 0,
             "ticks": ""
            },
            "colorscale": [
             [
              0,
              "#0d0887"
             ],
             [
              0.1111111111111111,
              "#46039f"
             ],
             [
              0.2222222222222222,
              "#7201a8"
             ],
             [
              0.3333333333333333,
              "#9c179e"
             ],
             [
              0.4444444444444444,
              "#bd3786"
             ],
             [
              0.5555555555555556,
              "#d8576b"
             ],
             [
              0.6666666666666666,
              "#ed7953"
             ],
             [
              0.7777777777777778,
              "#fb9f3a"
             ],
             [
              0.8888888888888888,
              "#fdca26"
             ],
             [
              1,
              "#f0f921"
             ]
            ],
            "type": "heatmap"
           }
          ],
          "heatmapgl": [
           {
            "colorbar": {
             "outlinewidth": 0,
             "ticks": ""
            },
            "colorscale": [
             [
              0,
              "#0d0887"
             ],
             [
              0.1111111111111111,
              "#46039f"
             ],
             [
              0.2222222222222222,
              "#7201a8"
             ],
             [
              0.3333333333333333,
              "#9c179e"
             ],
             [
              0.4444444444444444,
              "#bd3786"
             ],
             [
              0.5555555555555556,
              "#d8576b"
             ],
             [
              0.6666666666666666,
              "#ed7953"
             ],
             [
              0.7777777777777778,
              "#fb9f3a"
             ],
             [
              0.8888888888888888,
              "#fdca26"
             ],
             [
              1,
              "#f0f921"
             ]
            ],
            "type": "heatmapgl"
           }
          ],
          "histogram": [
           {
            "marker": {
             "colorbar": {
              "outlinewidth": 0,
              "ticks": ""
             }
            },
            "type": "histogram"
           }
          ],
          "histogram2d": [
           {
            "colorbar": {
             "outlinewidth": 0,
             "ticks": ""
            },
            "colorscale": [
             [
              0,
              "#0d0887"
             ],
             [
              0.1111111111111111,
              "#46039f"
             ],
             [
              0.2222222222222222,
              "#7201a8"
             ],
             [
              0.3333333333333333,
              "#9c179e"
             ],
             [
              0.4444444444444444,
              "#bd3786"
             ],
             [
              0.5555555555555556,
              "#d8576b"
             ],
             [
              0.6666666666666666,
              "#ed7953"
             ],
             [
              0.7777777777777778,
              "#fb9f3a"
             ],
             [
              0.8888888888888888,
              "#fdca26"
             ],
             [
              1,
              "#f0f921"
             ]
            ],
            "type": "histogram2d"
           }
          ],
          "histogram2dcontour": [
           {
            "colorbar": {
             "outlinewidth": 0,
             "ticks": ""
            },
            "colorscale": [
             [
              0,
              "#0d0887"
             ],
             [
              0.1111111111111111,
              "#46039f"
             ],
             [
              0.2222222222222222,
              "#7201a8"
             ],
             [
              0.3333333333333333,
              "#9c179e"
             ],
             [
              0.4444444444444444,
              "#bd3786"
             ],
             [
              0.5555555555555556,
              "#d8576b"
             ],
             [
              0.6666666666666666,
              "#ed7953"
             ],
             [
              0.7777777777777778,
              "#fb9f3a"
             ],
             [
              0.8888888888888888,
              "#fdca26"
             ],
             [
              1,
              "#f0f921"
             ]
            ],
            "type": "histogram2dcontour"
           }
          ],
          "mesh3d": [
           {
            "colorbar": {
             "outlinewidth": 0,
             "ticks": ""
            },
            "type": "mesh3d"
           }
          ],
          "parcoords": [
           {
            "line": {
             "colorbar": {
              "outlinewidth": 0,
              "ticks": ""
             }
            },
            "type": "parcoords"
           }
          ],
          "pie": [
           {
            "automargin": true,
            "type": "pie"
           }
          ],
          "scatter": [
           {
            "marker": {
             "colorbar": {
              "outlinewidth": 0,
              "ticks": ""
             }
            },
            "type": "scatter"
           }
          ],
          "scatter3d": [
           {
            "line": {
             "colorbar": {
              "outlinewidth": 0,
              "ticks": ""
             }
            },
            "marker": {
             "colorbar": {
              "outlinewidth": 0,
              "ticks": ""
             }
            },
            "type": "scatter3d"
           }
          ],
          "scattercarpet": [
           {
            "marker": {
             "colorbar": {
              "outlinewidth": 0,
              "ticks": ""
             }
            },
            "type": "scattercarpet"
           }
          ],
          "scattergeo": [
           {
            "marker": {
             "colorbar": {
              "outlinewidth": 0,
              "ticks": ""
             }
            },
            "type": "scattergeo"
           }
          ],
          "scattergl": [
           {
            "marker": {
             "colorbar": {
              "outlinewidth": 0,
              "ticks": ""
             }
            },
            "type": "scattergl"
           }
          ],
          "scattermapbox": [
           {
            "marker": {
             "colorbar": {
              "outlinewidth": 0,
              "ticks": ""
             }
            },
            "type": "scattermapbox"
           }
          ],
          "scatterpolar": [
           {
            "marker": {
             "colorbar": {
              "outlinewidth": 0,
              "ticks": ""
             }
            },
            "type": "scatterpolar"
           }
          ],
          "scatterpolargl": [
           {
            "marker": {
             "colorbar": {
              "outlinewidth": 0,
              "ticks": ""
             }
            },
            "type": "scatterpolargl"
           }
          ],
          "scatterternary": [
           {
            "marker": {
             "colorbar": {
              "outlinewidth": 0,
              "ticks": ""
             }
            },
            "type": "scatterternary"
           }
          ],
          "surface": [
           {
            "colorbar": {
             "outlinewidth": 0,
             "ticks": ""
            },
            "colorscale": [
             [
              0,
              "#0d0887"
             ],
             [
              0.1111111111111111,
              "#46039f"
             ],
             [
              0.2222222222222222,
              "#7201a8"
             ],
             [
              0.3333333333333333,
              "#9c179e"
             ],
             [
              0.4444444444444444,
              "#bd3786"
             ],
             [
              0.5555555555555556,
              "#d8576b"
             ],
             [
              0.6666666666666666,
              "#ed7953"
             ],
             [
              0.7777777777777778,
              "#fb9f3a"
             ],
             [
              0.8888888888888888,
              "#fdca26"
             ],
             [
              1,
              "#f0f921"
             ]
            ],
            "type": "surface"
           }
          ],
          "table": [
           {
            "cells": {
             "fill": {
              "color": "#EBF0F8"
             },
             "line": {
              "color": "white"
             }
            },
            "header": {
             "fill": {
              "color": "#C8D4E3"
             },
             "line": {
              "color": "white"
             }
            },
            "type": "table"
           }
          ]
         },
         "layout": {
          "annotationdefaults": {
           "arrowcolor": "#2a3f5f",
           "arrowhead": 0,
           "arrowwidth": 1
          },
          "coloraxis": {
           "colorbar": {
            "outlinewidth": 0,
            "ticks": ""
           }
          },
          "colorscale": {
           "diverging": [
            [
             0,
             "#8e0152"
            ],
            [
             0.1,
             "#c51b7d"
            ],
            [
             0.2,
             "#de77ae"
            ],
            [
             0.3,
             "#f1b6da"
            ],
            [
             0.4,
             "#fde0ef"
            ],
            [
             0.5,
             "#f7f7f7"
            ],
            [
             0.6,
             "#e6f5d0"
            ],
            [
             0.7,
             "#b8e186"
            ],
            [
             0.8,
             "#7fbc41"
            ],
            [
             0.9,
             "#4d9221"
            ],
            [
             1,
             "#276419"
            ]
           ],
           "sequential": [
            [
             0,
             "#0d0887"
            ],
            [
             0.1111111111111111,
             "#46039f"
            ],
            [
             0.2222222222222222,
             "#7201a8"
            ],
            [
             0.3333333333333333,
             "#9c179e"
            ],
            [
             0.4444444444444444,
             "#bd3786"
            ],
            [
             0.5555555555555556,
             "#d8576b"
            ],
            [
             0.6666666666666666,
             "#ed7953"
            ],
            [
             0.7777777777777778,
             "#fb9f3a"
            ],
            [
             0.8888888888888888,
             "#fdca26"
            ],
            [
             1,
             "#f0f921"
            ]
           ],
           "sequentialminus": [
            [
             0,
             "#0d0887"
            ],
            [
             0.1111111111111111,
             "#46039f"
            ],
            [
             0.2222222222222222,
             "#7201a8"
            ],
            [
             0.3333333333333333,
             "#9c179e"
            ],
            [
             0.4444444444444444,
             "#bd3786"
            ],
            [
             0.5555555555555556,
             "#d8576b"
            ],
            [
             0.6666666666666666,
             "#ed7953"
            ],
            [
             0.7777777777777778,
             "#fb9f3a"
            ],
            [
             0.8888888888888888,
             "#fdca26"
            ],
            [
             1,
             "#f0f921"
            ]
           ]
          },
          "colorway": [
           "#636efa",
           "#EF553B",
           "#00cc96",
           "#ab63fa",
           "#FFA15A",
           "#19d3f3",
           "#FF6692",
           "#B6E880",
           "#FF97FF",
           "#FECB52"
          ],
          "font": {
           "color": "#2a3f5f"
          },
          "geo": {
           "bgcolor": "white",
           "lakecolor": "white",
           "landcolor": "#E5ECF6",
           "showlakes": true,
           "showland": true,
           "subunitcolor": "white"
          },
          "hoverlabel": {
           "align": "left"
          },
          "hovermode": "closest",
          "mapbox": {
           "style": "light"
          },
          "paper_bgcolor": "white",
          "plot_bgcolor": "#E5ECF6",
          "polar": {
           "angularaxis": {
            "gridcolor": "white",
            "linecolor": "white",
            "ticks": ""
           },
           "bgcolor": "#E5ECF6",
           "radialaxis": {
            "gridcolor": "white",
            "linecolor": "white",
            "ticks": ""
           }
          },
          "scene": {
           "xaxis": {
            "backgroundcolor": "#E5ECF6",
            "gridcolor": "white",
            "gridwidth": 2,
            "linecolor": "white",
            "showbackground": true,
            "ticks": "",
            "zerolinecolor": "white"
           },
           "yaxis": {
            "backgroundcolor": "#E5ECF6",
            "gridcolor": "white",
            "gridwidth": 2,
            "linecolor": "white",
            "showbackground": true,
            "ticks": "",
            "zerolinecolor": "white"
           },
           "zaxis": {
            "backgroundcolor": "#E5ECF6",
            "gridcolor": "white",
            "gridwidth": 2,
            "linecolor": "white",
            "showbackground": true,
            "ticks": "",
            "zerolinecolor": "white"
           }
          },
          "shapedefaults": {
           "line": {
            "color": "#2a3f5f"
           }
          },
          "ternary": {
           "aaxis": {
            "gridcolor": "white",
            "linecolor": "white",
            "ticks": ""
           },
           "baxis": {
            "gridcolor": "white",
            "linecolor": "white",
            "ticks": ""
           },
           "bgcolor": "#E5ECF6",
           "caxis": {
            "gridcolor": "white",
            "linecolor": "white",
            "ticks": ""
           }
          },
          "title": {
           "x": 0.05
          },
          "xaxis": {
           "automargin": true,
           "gridcolor": "white",
           "linecolor": "white",
           "ticks": "",
           "title": {
            "standoff": 15
           },
           "zerolinecolor": "white",
           "zerolinewidth": 2
          },
          "yaxis": {
           "automargin": true,
           "gridcolor": "white",
           "linecolor": "white",
           "ticks": "",
           "title": {
            "standoff": 15
           },
           "zerolinecolor": "white",
           "zerolinewidth": 2
          }
         }
        },
        "title": {
         "text": "The effect of the stance on the individual total season score"
        },
        "xaxis": {
         "anchor": "y",
         "domain": [
          0,
          1
         ],
         "title": {
          "text": "Stance"
         }
        },
        "yaxis": {
         "anchor": "x",
         "domain": [
          0,
          1
         ],
         "title": {
          "text": "y"
         }
        }
       }
      },
      "text/html": [
       "<div>\n",
       "        \n",
       "        \n",
       "            <div id=\"68b96e92-08b9-4cd9-8147-441b185c0d50\" class=\"plotly-graph-div\" style=\"height:525px; width:100%;\"></div>\n",
       "            <script type=\"text/javascript\">\n",
       "                require([\"plotly\"], function(Plotly) {\n",
       "                    window.PLOTLYENV=window.PLOTLYENV || {};\n",
       "                    \n",
       "                if (document.getElementById(\"68b96e92-08b9-4cd9-8147-441b185c0d50\")) {\n",
       "                    Plotly.newPlot(\n",
       "                        '68b96e92-08b9-4cd9-8147-441b185c0d50',\n",
       "                        [{\"alignmentgroup\": \"True\", \"hoverlabel\": {\"namelength\": 0}, \"hovertemplate\": \"Athlete=Mikey Wright<br>Stance=%{x}<br>y=%{y}\", \"legendgroup\": \"Athlete=Mikey Wright\", \"marker\": {\"color\": \"#636efa\"}, \"name\": \"Athlete=Mikey Wright\", \"offsetgroup\": \"Athlete=Mikey Wright\", \"orientation\": \"v\", \"showlegend\": true, \"textposition\": \"auto\", \"type\": \"bar\", \"x\": [\"Regular\"], \"xaxis\": \"x\", \"y\": [8100], \"yaxis\": \"y\"}, {\"alignmentgroup\": \"True\", \"hoverlabel\": {\"namelength\": 0}, \"hovertemplate\": \"Athlete=Adriano de Souza<br>Stance=%{x}<br>y=%{y}\", \"legendgroup\": \"Athlete=Adriano de Souza\", \"marker\": {\"color\": \"#EF553B\"}, \"name\": \"Athlete=Adriano de Souza\", \"offsetgroup\": \"Athlete=Adriano de Souza\", \"orientation\": \"v\", \"showlegend\": true, \"textposition\": \"auto\", \"type\": \"bar\", \"x\": [\"Regular\"], \"xaxis\": \"x\", \"y\": [9525], \"yaxis\": \"y\"}, {\"alignmentgroup\": \"True\", \"hoverlabel\": {\"namelength\": 0}, \"hovertemplate\": \"Athlete=Frederico Morais<br>Stance=%{x}<br>y=%{y}\", \"legendgroup\": \"Athlete=Frederico Morais\", \"marker\": {\"color\": \"#00cc96\"}, \"name\": \"Athlete=Frederico Morais\", \"offsetgroup\": \"Athlete=Frederico Morais\", \"orientation\": \"v\", \"showlegend\": true, \"textposition\": \"auto\", \"type\": \"bar\", \"x\": [\"Regular\"], \"xaxis\": \"x\", \"y\": [10870], \"yaxis\": \"y\"}, {\"alignmentgroup\": \"True\", \"hoverlabel\": {\"namelength\": 0}, \"hovertemplate\": \"Athlete=Ricardo Christie<br>Stance=%{x}<br>y=%{y}\", \"legendgroup\": \"Athlete=Ricardo Christie\", \"marker\": {\"color\": \"#ab63fa\"}, \"name\": \"Athlete=Ricardo Christie\", \"offsetgroup\": \"Athlete=Ricardo Christie\", \"orientation\": \"v\", \"showlegend\": true, \"textposition\": \"auto\", \"type\": \"bar\", \"x\": [\"Regular\"], \"xaxis\": \"x\", \"y\": [14490], \"yaxis\": \"y\"}, {\"alignmentgroup\": \"True\", \"hoverlabel\": {\"namelength\": 0}, \"hovertemplate\": \"Athlete=Jadson Andre<br>Stance=%{x}<br>y=%{y}\", \"legendgroup\": \"Athlete=Jadson Andre\", \"marker\": {\"color\": \"#FFA15A\"}, \"name\": \"Athlete=Jadson Andre\", \"offsetgroup\": \"Athlete=Jadson Andre\", \"orientation\": \"v\", \"showlegend\": true, \"textposition\": \"auto\", \"type\": \"bar\", \"x\": [\"Goofy\"], \"xaxis\": \"x\", \"y\": [14850], \"yaxis\": \"y\"}, {\"alignmentgroup\": \"True\", \"hoverlabel\": {\"namelength\": 0}, \"hovertemplate\": \"Athlete=Leonardo Fioravanti<br>Stance=%{x}<br>y=%{y}\", \"legendgroup\": \"Athlete=Leonardo Fioravanti\", \"marker\": {\"color\": \"#19d3f3\"}, \"name\": \"Athlete=Leonardo Fioravanti\", \"offsetgroup\": \"Athlete=Leonardo Fioravanti\", \"orientation\": \"v\", \"showlegend\": true, \"textposition\": \"auto\", \"type\": \"bar\", \"x\": [\"Regular\"], \"xaxis\": \"x\", \"y\": [14985], \"yaxis\": \"y\"}, {\"alignmentgroup\": \"True\", \"hoverlabel\": {\"namelength\": 0}, \"hovertemplate\": \"Athlete=Soli Bailey<br>Stance=%{x}<br>y=%{y}\", \"legendgroup\": \"Athlete=Soli Bailey\", \"marker\": {\"color\": \"#FF6692\"}, \"name\": \"Athlete=Soli Bailey\", \"offsetgroup\": \"Athlete=Soli Bailey\", \"orientation\": \"v\", \"showlegend\": true, \"textposition\": \"auto\", \"type\": \"bar\", \"x\": [\"Regular\"], \"xaxis\": \"x\", \"y\": [17545], \"yaxis\": \"y\"}, {\"alignmentgroup\": \"True\", \"hoverlabel\": {\"namelength\": 0}, \"hovertemplate\": \"Athlete=Ezekiel Lau<br>Stance=%{x}<br>y=%{y}\", \"legendgroup\": \"Athlete=Ezekiel Lau\", \"marker\": {\"color\": \"#B6E880\"}, \"name\": \"Athlete=Ezekiel Lau\", \"offsetgroup\": \"Athlete=Ezekiel Lau\", \"orientation\": \"v\", \"showlegend\": true, \"textposition\": \"auto\", \"type\": \"bar\", \"x\": [\"Regular\"], \"xaxis\": \"x\", \"y\": [18470], \"yaxis\": \"y\"}, {\"alignmentgroup\": \"True\", \"hoverlabel\": {\"namelength\": 0}, \"hovertemplate\": \"Athlete=Sebastian Zietz<br>Stance=%{x}<br>y=%{y}\", \"legendgroup\": \"Athlete=Sebastian Zietz\", \"marker\": {\"color\": \"#FF97FF\"}, \"name\": \"Athlete=Sebastian Zietz\", \"offsetgroup\": \"Athlete=Sebastian Zietz\", \"orientation\": \"v\", \"showlegend\": true, \"textposition\": \"auto\", \"type\": \"bar\", \"x\": [\"Regular\"], \"xaxis\": \"x\", \"y\": [18830], \"yaxis\": \"y\"}, {\"alignmentgroup\": \"True\", \"hoverlabel\": {\"namelength\": 0}, \"hovertemplate\": \"Athlete=Joan Duru<br>Stance=%{x}<br>y=%{y}\", \"legendgroup\": \"Athlete=Joan Duru\", \"marker\": {\"color\": \"#FECB52\"}, \"name\": \"Athlete=Joan Duru\", \"offsetgroup\": \"Athlete=Joan Duru\", \"orientation\": \"v\", \"showlegend\": true, \"textposition\": \"auto\", \"type\": \"bar\", \"x\": [\"Goofy\"], \"xaxis\": \"x\", \"y\": [19535], \"yaxis\": \"y\"}, {\"alignmentgroup\": \"True\", \"hoverlabel\": {\"namelength\": 0}, \"hovertemplate\": \"Athlete=Michael Rodrigues<br>Stance=%{x}<br>y=%{y}\", \"legendgroup\": \"Athlete=Michael Rodrigues\", \"marker\": {\"color\": \"#636efa\"}, \"name\": \"Athlete=Michael Rodrigues\", \"offsetgroup\": \"Athlete=Michael Rodrigues\", \"orientation\": \"v\", \"showlegend\": true, \"textposition\": \"auto\", \"type\": \"bar\", \"x\": [\"Regular\"], \"xaxis\": \"x\", \"y\": [20170], \"yaxis\": \"y\"}, {\"alignmentgroup\": \"True\", \"hoverlabel\": {\"namelength\": 0}, \"hovertemplate\": \"Athlete=Jesse Mendes<br>Stance=%{x}<br>y=%{y}\", \"legendgroup\": \"Athlete=Jesse Mendes\", \"marker\": {\"color\": \"#EF553B\"}, \"name\": \"Athlete=Jesse Mendes\", \"offsetgroup\": \"Athlete=Jesse Mendes\", \"orientation\": \"v\", \"showlegend\": true, \"textposition\": \"auto\", \"type\": \"bar\", \"x\": [\"Goofy\"], \"xaxis\": \"x\", \"y\": [20460], \"yaxis\": \"y\"}, {\"alignmentgroup\": \"True\", \"hoverlabel\": {\"namelength\": 0}, \"hovertemplate\": \"Athlete=Willian Cardoso<br>Stance=%{x}<br>y=%{y}\", \"legendgroup\": \"Athlete=Willian Cardoso\", \"marker\": {\"color\": \"#00cc96\"}, \"name\": \"Athlete=Willian Cardoso\", \"offsetgroup\": \"Athlete=Willian Cardoso\", \"orientation\": \"v\", \"showlegend\": true, \"textposition\": \"auto\", \"type\": \"bar\", \"x\": [\"Regular\"], \"xaxis\": \"x\", \"y\": [22590], \"yaxis\": \"y\"}, {\"alignmentgroup\": \"True\", \"hoverlabel\": {\"namelength\": 0}, \"hovertemplate\": \"Athlete=Deivid Silva<br>Stance=%{x}<br>y=%{y}\", \"legendgroup\": \"Athlete=Deivid Silva\", \"marker\": {\"color\": \"#ab63fa\"}, \"name\": \"Athlete=Deivid Silva\", \"offsetgroup\": \"Athlete=Deivid Silva\", \"orientation\": \"v\", \"showlegend\": true, \"textposition\": \"auto\", \"type\": \"bar\", \"x\": [\"Goofy\"], \"xaxis\": \"x\", \"y\": [23515], \"yaxis\": \"y\"}, {\"alignmentgroup\": \"True\", \"hoverlabel\": {\"namelength\": 0}, \"hovertemplate\": \"Athlete=Peterson Crisanto<br>Stance=%{x}<br>y=%{y}\", \"legendgroup\": \"Athlete=Peterson Crisanto\", \"marker\": {\"color\": \"#FFA15A\"}, \"name\": \"Athlete=Peterson Crisanto\", \"offsetgroup\": \"Athlete=Peterson Crisanto\", \"orientation\": \"v\", \"showlegend\": true, \"textposition\": \"auto\", \"type\": \"bar\", \"x\": [\"Regular\"], \"xaxis\": \"x\", \"y\": [23875], \"yaxis\": \"y\"}, {\"alignmentgroup\": \"True\", \"hoverlabel\": {\"namelength\": 0}, \"hovertemplate\": \"Athlete=Yago Dora<br>Stance=%{x}<br>y=%{y}\", \"legendgroup\": \"Athlete=Yago Dora\", \"marker\": {\"color\": \"#19d3f3\"}, \"name\": \"Athlete=Yago Dora\", \"offsetgroup\": \"Athlete=Yago Dora\", \"orientation\": \"v\", \"showlegend\": true, \"textposition\": \"auto\", \"type\": \"bar\", \"x\": [\"Goofy\"], \"xaxis\": \"x\", \"y\": [25440], \"yaxis\": \"y\"}, {\"alignmentgroup\": \"True\", \"hoverlabel\": {\"namelength\": 0}, \"hovertemplate\": \"Athlete=Conner Coffin<br>Stance=%{x}<br>y=%{y}\", \"legendgroup\": \"Athlete=Conner Coffin\", \"marker\": {\"color\": \"#FF6692\"}, \"name\": \"Athlete=Conner Coffin\", \"offsetgroup\": \"Athlete=Conner Coffin\", \"orientation\": \"v\", \"showlegend\": true, \"textposition\": \"auto\", \"type\": \"bar\", \"x\": [\"Regular\"], \"xaxis\": \"x\", \"y\": [26005], \"yaxis\": \"y\"}, {\"alignmentgroup\": \"True\", \"hoverlabel\": {\"namelength\": 0}, \"hovertemplate\": \"Athlete=Adrian Buchan<br>Stance=%{x}<br>y=%{y}\", \"legendgroup\": \"Athlete=Adrian Buchan\", \"marker\": {\"color\": \"#B6E880\"}, \"name\": \"Athlete=Adrian Buchan\", \"offsetgroup\": \"Athlete=Adrian Buchan\", \"orientation\": \"v\", \"showlegend\": true, \"textposition\": \"auto\", \"type\": \"bar\", \"x\": [\"Goofy\"], \"xaxis\": \"x\", \"y\": [26160], \"yaxis\": \"y\"}, {\"alignmentgroup\": \"True\", \"hoverlabel\": {\"namelength\": 0}, \"hovertemplate\": \"Athlete=Wade Carmichael<br>Stance=%{x}<br>y=%{y}\", \"legendgroup\": \"Athlete=Wade Carmichael\", \"marker\": {\"color\": \"#FF97FF\"}, \"name\": \"Athlete=Wade Carmichael\", \"offsetgroup\": \"Athlete=Wade Carmichael\", \"orientation\": \"v\", \"showlegend\": true, \"textposition\": \"auto\", \"type\": \"bar\", \"x\": [\"Regular\"], \"xaxis\": \"x\", \"y\": [28355], \"yaxis\": \"y\"}, {\"alignmentgroup\": \"True\", \"hoverlabel\": {\"namelength\": 0}, \"hovertemplate\": \"Athlete=Caio Ibelli<br>Stance=%{x}<br>y=%{y}\", \"legendgroup\": \"Athlete=Caio Ibelli\", \"marker\": {\"color\": \"#FECB52\"}, \"name\": \"Athlete=Caio Ibelli\", \"offsetgroup\": \"Athlete=Caio Ibelli\", \"orientation\": \"v\", \"showlegend\": true, \"textposition\": \"auto\", \"type\": \"bar\", \"x\": [\"Regular\"], \"xaxis\": \"x\", \"y\": [28480], \"yaxis\": \"y\"}, {\"alignmentgroup\": \"True\", \"hoverlabel\": {\"namelength\": 0}, \"hovertemplate\": \"Athlete=Griffin Colapinto<br>Stance=%{x}<br>y=%{y}\", \"legendgroup\": \"Athlete=Griffin Colapinto\", \"marker\": {\"color\": \"#636efa\"}, \"name\": \"Athlete=Griffin Colapinto\", \"offsetgroup\": \"Athlete=Griffin Colapinto\", \"orientation\": \"v\", \"showlegend\": true, \"textposition\": \"auto\", \"type\": \"bar\", \"x\": [\"Regular\"], \"xaxis\": \"x\", \"y\": [29045], \"yaxis\": \"y\"}, {\"alignmentgroup\": \"True\", \"hoverlabel\": {\"namelength\": 0}, \"hovertemplate\": \"Athlete=Ryan Callinan<br>Stance=%{x}<br>y=%{y}\", \"legendgroup\": \"Athlete=Ryan Callinan\", \"marker\": {\"color\": \"#EF553B\"}, \"name\": \"Athlete=Ryan Callinan\", \"offsetgroup\": \"Athlete=Ryan Callinan\", \"orientation\": \"v\", \"showlegend\": true, \"textposition\": \"auto\", \"type\": \"bar\", \"x\": [\"Goofy\"], \"xaxis\": \"x\", \"y\": [29130], \"yaxis\": \"y\"}, {\"alignmentgroup\": \"True\", \"hoverlabel\": {\"namelength\": 0}, \"hovertemplate\": \"Athlete=Jack Freestone<br>Stance=%{x}<br>y=%{y}\", \"legendgroup\": \"Athlete=Jack Freestone\", \"marker\": {\"color\": \"#00cc96\"}, \"name\": \"Athlete=Jack Freestone\", \"offsetgroup\": \"Athlete=Jack Freestone\", \"orientation\": \"v\", \"showlegend\": true, \"textposition\": \"auto\", \"type\": \"bar\", \"x\": [\"Regular\"], \"xaxis\": \"x\", \"y\": [30195], \"yaxis\": \"y\"}, {\"alignmentgroup\": \"True\", \"hoverlabel\": {\"namelength\": 0}, \"hovertemplate\": \"Athlete=Michel Bourez<br>Stance=%{x}<br>y=%{y}\", \"legendgroup\": \"Athlete=Michel Bourez\", \"marker\": {\"color\": \"#ab63fa\"}, \"name\": \"Athlete=Michel Bourez\", \"offsetgroup\": \"Athlete=Michel Bourez\", \"orientation\": \"v\", \"showlegend\": true, \"textposition\": \"auto\", \"type\": \"bar\", \"x\": [\"Regular\"], \"xaxis\": \"x\", \"y\": [30910], \"yaxis\": \"y\"}, {\"alignmentgroup\": \"True\", \"hoverlabel\": {\"namelength\": 0}, \"hovertemplate\": \"Athlete=Seth Moniz<br>Stance=%{x}<br>y=%{y}\", \"legendgroup\": \"Athlete=Seth Moniz\", \"marker\": {\"color\": \"#FFA15A\"}, \"name\": \"Athlete=Seth Moniz\", \"offsetgroup\": \"Athlete=Seth Moniz\", \"orientation\": \"v\", \"showlegend\": true, \"textposition\": \"auto\", \"type\": \"bar\", \"x\": [\"Regular\"], \"xaxis\": \"x\", \"y\": [31120], \"yaxis\": \"y\"}, {\"alignmentgroup\": \"True\", \"hoverlabel\": {\"namelength\": 0}, \"hovertemplate\": \"Athlete=Jeremy Flores<br>Stance=%{x}<br>y=%{y}\", \"legendgroup\": \"Athlete=Jeremy Flores\", \"marker\": {\"color\": \"#19d3f3\"}, \"name\": \"Athlete=Jeremy Flores\", \"offsetgroup\": \"Athlete=Jeremy Flores\", \"orientation\": \"v\", \"showlegend\": true, \"textposition\": \"auto\", \"type\": \"bar\", \"x\": [\"Regular\"], \"xaxis\": \"x\", \"y\": [33045], \"yaxis\": \"y\"}, {\"alignmentgroup\": \"True\", \"hoverlabel\": {\"namelength\": 0}, \"hovertemplate\": \"Athlete=Julian Wilson<br>Stance=%{x}<br>y=%{y}\", \"legendgroup\": \"Athlete=Julian Wilson\", \"marker\": {\"color\": \"#FF6692\"}, \"name\": \"Athlete=Julian Wilson\", \"offsetgroup\": \"Athlete=Julian Wilson\", \"orientation\": \"v\", \"showlegend\": true, \"textposition\": \"auto\", \"type\": \"bar\", \"x\": [\"Regular\"], \"xaxis\": \"x\", \"y\": [34175], \"yaxis\": \"y\"}, {\"alignmentgroup\": \"True\", \"hoverlabel\": {\"namelength\": 0}, \"hovertemplate\": \"Athlete=Kelly Slater<br>Stance=%{x}<br>y=%{y}\", \"legendgroup\": \"Athlete=Kelly Slater\", \"marker\": {\"color\": \"#B6E880\"}, \"name\": \"Athlete=Kelly Slater\", \"offsetgroup\": \"Athlete=Kelly Slater\", \"orientation\": \"v\", \"showlegend\": true, \"textposition\": \"auto\", \"type\": \"bar\", \"x\": [\"Regular\"], \"xaxis\": \"x\", \"y\": [36440], \"yaxis\": \"y\"}, {\"alignmentgroup\": \"True\", \"hoverlabel\": {\"namelength\": 0}, \"hovertemplate\": \"Athlete=Owen Wright<br>Stance=%{x}<br>y=%{y}\", \"legendgroup\": \"Athlete=Owen Wright\", \"marker\": {\"color\": \"#FF97FF\"}, \"name\": \"Athlete=Owen Wright\", \"offsetgroup\": \"Athlete=Owen Wright\", \"orientation\": \"v\", \"showlegend\": true, \"textposition\": \"auto\", \"type\": \"bar\", \"x\": [\"Goofy\"], \"xaxis\": \"x\", \"y\": [37440], \"yaxis\": \"y\"}, {\"alignmentgroup\": \"True\", \"hoverlabel\": {\"namelength\": 0}, \"hovertemplate\": \"Athlete=John John Florence<br>Stance=%{x}<br>y=%{y}\", \"legendgroup\": \"Athlete=John John Florence\", \"marker\": {\"color\": \"#FECB52\"}, \"name\": \"Athlete=John John Florence\", \"offsetgroup\": \"Athlete=John John Florence\", \"orientation\": \"v\", \"showlegend\": true, \"textposition\": \"auto\", \"type\": \"bar\", \"x\": [\"Regular\"], \"xaxis\": \"x\", \"y\": [38230], \"yaxis\": \"y\"}, {\"alignmentgroup\": \"True\", \"hoverlabel\": {\"namelength\": 0}, \"hovertemplate\": \"Athlete=Kanoa Igarashi<br>Stance=%{x}<br>y=%{y}\", \"legendgroup\": \"Athlete=Kanoa Igarashi\", \"marker\": {\"color\": \"#636efa\"}, \"name\": \"Athlete=Kanoa Igarashi\", \"offsetgroup\": \"Athlete=Kanoa Igarashi\", \"orientation\": \"v\", \"showlegend\": true, \"textposition\": \"auto\", \"type\": \"bar\", \"x\": [\"Regular\"], \"xaxis\": \"x\", \"y\": [42845], \"yaxis\": \"y\"}, {\"alignmentgroup\": \"True\", \"hoverlabel\": {\"namelength\": 0}, \"hovertemplate\": \"Athlete=Kolohe Andino<br>Stance=%{x}<br>y=%{y}\", \"legendgroup\": \"Athlete=Kolohe Andino\", \"marker\": {\"color\": \"#EF553B\"}, \"name\": \"Athlete=Kolohe Andino\", \"offsetgroup\": \"Athlete=Kolohe Andino\", \"orientation\": \"v\", \"showlegend\": true, \"textposition\": \"auto\", \"type\": \"bar\", \"x\": [\"Regular\"], \"xaxis\": \"x\", \"y\": [49315], \"yaxis\": \"y\"}, {\"alignmentgroup\": \"True\", \"hoverlabel\": {\"namelength\": 0}, \"hovertemplate\": \"Athlete=Filipe Toledo<br>Stance=%{x}<br>y=%{y}\", \"legendgroup\": \"Athlete=Filipe Toledo\", \"marker\": {\"color\": \"#00cc96\"}, \"name\": \"Athlete=Filipe Toledo\", \"offsetgroup\": \"Athlete=Filipe Toledo\", \"orientation\": \"v\", \"showlegend\": true, \"textposition\": \"auto\", \"type\": \"bar\", \"x\": [\"Regular\"], \"xaxis\": \"x\", \"y\": [51805], \"yaxis\": \"y\"}, {\"alignmentgroup\": \"True\", \"hoverlabel\": {\"namelength\": 0}, \"hovertemplate\": \"Athlete=Jordy Smith<br>Stance=%{x}<br>y=%{y}\", \"legendgroup\": \"Athlete=Jordy Smith\", \"marker\": {\"color\": \"#ab63fa\"}, \"name\": \"Athlete=Jordy Smith\", \"offsetgroup\": \"Athlete=Jordy Smith\", \"orientation\": \"v\", \"showlegend\": true, \"textposition\": \"auto\", \"type\": \"bar\", \"x\": [\"Regular\"], \"xaxis\": \"x\", \"y\": [52645], \"yaxis\": \"y\"}, {\"alignmentgroup\": \"True\", \"hoverlabel\": {\"namelength\": 0}, \"hovertemplate\": \"Athlete=Gabriel Medina<br>Stance=%{x}<br>y=%{y}\", \"legendgroup\": \"Athlete=Gabriel Medina\", \"marker\": {\"color\": \"#FFA15A\"}, \"name\": \"Athlete=Gabriel Medina\", \"offsetgroup\": \"Athlete=Gabriel Medina\", \"orientation\": \"v\", \"showlegend\": true, \"textposition\": \"auto\", \"type\": \"bar\", \"x\": [\"Goofy\"], \"xaxis\": \"x\", \"y\": [59135], \"yaxis\": \"y\"}, {\"alignmentgroup\": \"True\", \"hoverlabel\": {\"namelength\": 0}, \"hovertemplate\": \"Athlete=Italo Ferreira<br>Stance=%{x}<br>y=%{y}\", \"legendgroup\": \"Athlete=Italo Ferreira\", \"marker\": {\"color\": \"#19d3f3\"}, \"name\": \"Athlete=Italo Ferreira\", \"offsetgroup\": \"Athlete=Italo Ferreira\", \"orientation\": \"v\", \"showlegend\": true, \"textposition\": \"auto\", \"type\": \"bar\", \"x\": [\"Goofy\"], \"xaxis\": \"x\", \"y\": [62400], \"yaxis\": \"y\"}],\n",
       "                        {\"barmode\": \"relative\", \"legend\": {\"tracegroupgap\": 0}, \"template\": {\"data\": {\"bar\": [{\"error_x\": {\"color\": \"#2a3f5f\"}, \"error_y\": {\"color\": \"#2a3f5f\"}, \"marker\": {\"line\": {\"color\": \"#E5ECF6\", \"width\": 0.5}}, \"type\": \"bar\"}], \"barpolar\": [{\"marker\": {\"line\": {\"color\": \"#E5ECF6\", \"width\": 0.5}}, \"type\": \"barpolar\"}], \"carpet\": [{\"aaxis\": {\"endlinecolor\": \"#2a3f5f\", \"gridcolor\": \"white\", \"linecolor\": \"white\", \"minorgridcolor\": \"white\", \"startlinecolor\": \"#2a3f5f\"}, \"baxis\": {\"endlinecolor\": \"#2a3f5f\", \"gridcolor\": \"white\", \"linecolor\": \"white\", \"minorgridcolor\": \"white\", \"startlinecolor\": \"#2a3f5f\"}, \"type\": \"carpet\"}], \"choropleth\": [{\"colorbar\": {\"outlinewidth\": 0, \"ticks\": \"\"}, \"type\": \"choropleth\"}], \"contour\": [{\"colorbar\": {\"outlinewidth\": 0, \"ticks\": \"\"}, \"colorscale\": [[0.0, \"#0d0887\"], [0.1111111111111111, \"#46039f\"], [0.2222222222222222, \"#7201a8\"], [0.3333333333333333, \"#9c179e\"], [0.4444444444444444, \"#bd3786\"], [0.5555555555555556, \"#d8576b\"], [0.6666666666666666, \"#ed7953\"], [0.7777777777777778, \"#fb9f3a\"], [0.8888888888888888, \"#fdca26\"], [1.0, \"#f0f921\"]], \"type\": \"contour\"}], \"contourcarpet\": [{\"colorbar\": {\"outlinewidth\": 0, \"ticks\": \"\"}, \"type\": \"contourcarpet\"}], \"heatmap\": [{\"colorbar\": {\"outlinewidth\": 0, \"ticks\": \"\"}, \"colorscale\": [[0.0, \"#0d0887\"], [0.1111111111111111, \"#46039f\"], [0.2222222222222222, \"#7201a8\"], [0.3333333333333333, \"#9c179e\"], [0.4444444444444444, \"#bd3786\"], [0.5555555555555556, \"#d8576b\"], [0.6666666666666666, \"#ed7953\"], [0.7777777777777778, \"#fb9f3a\"], [0.8888888888888888, \"#fdca26\"], [1.0, \"#f0f921\"]], \"type\": \"heatmap\"}], \"heatmapgl\": [{\"colorbar\": {\"outlinewidth\": 0, \"ticks\": \"\"}, \"colorscale\": [[0.0, \"#0d0887\"], [0.1111111111111111, \"#46039f\"], [0.2222222222222222, \"#7201a8\"], [0.3333333333333333, \"#9c179e\"], [0.4444444444444444, \"#bd3786\"], [0.5555555555555556, \"#d8576b\"], [0.6666666666666666, \"#ed7953\"], [0.7777777777777778, \"#fb9f3a\"], [0.8888888888888888, \"#fdca26\"], [1.0, \"#f0f921\"]], \"type\": \"heatmapgl\"}], \"histogram\": [{\"marker\": {\"colorbar\": {\"outlinewidth\": 0, \"ticks\": \"\"}}, \"type\": \"histogram\"}], \"histogram2d\": [{\"colorbar\": {\"outlinewidth\": 0, \"ticks\": \"\"}, \"colorscale\": [[0.0, \"#0d0887\"], [0.1111111111111111, \"#46039f\"], [0.2222222222222222, \"#7201a8\"], [0.3333333333333333, \"#9c179e\"], [0.4444444444444444, \"#bd3786\"], [0.5555555555555556, \"#d8576b\"], [0.6666666666666666, \"#ed7953\"], [0.7777777777777778, \"#fb9f3a\"], [0.8888888888888888, \"#fdca26\"], [1.0, \"#f0f921\"]], \"type\": \"histogram2d\"}], \"histogram2dcontour\": [{\"colorbar\": {\"outlinewidth\": 0, \"ticks\": \"\"}, \"colorscale\": [[0.0, \"#0d0887\"], [0.1111111111111111, \"#46039f\"], [0.2222222222222222, \"#7201a8\"], [0.3333333333333333, \"#9c179e\"], [0.4444444444444444, \"#bd3786\"], [0.5555555555555556, \"#d8576b\"], [0.6666666666666666, \"#ed7953\"], [0.7777777777777778, \"#fb9f3a\"], [0.8888888888888888, \"#fdca26\"], [1.0, \"#f0f921\"]], \"type\": \"histogram2dcontour\"}], \"mesh3d\": [{\"colorbar\": {\"outlinewidth\": 0, \"ticks\": \"\"}, \"type\": \"mesh3d\"}], \"parcoords\": [{\"line\": {\"colorbar\": {\"outlinewidth\": 0, \"ticks\": \"\"}}, \"type\": \"parcoords\"}], \"pie\": [{\"automargin\": true, \"type\": \"pie\"}], \"scatter\": [{\"marker\": {\"colorbar\": {\"outlinewidth\": 0, \"ticks\": \"\"}}, \"type\": \"scatter\"}], \"scatter3d\": [{\"line\": {\"colorbar\": {\"outlinewidth\": 0, \"ticks\": \"\"}}, \"marker\": {\"colorbar\": {\"outlinewidth\": 0, \"ticks\": \"\"}}, \"type\": \"scatter3d\"}], \"scattercarpet\": [{\"marker\": {\"colorbar\": {\"outlinewidth\": 0, \"ticks\": \"\"}}, \"type\": \"scattercarpet\"}], \"scattergeo\": [{\"marker\": {\"colorbar\": {\"outlinewidth\": 0, \"ticks\": \"\"}}, \"type\": \"scattergeo\"}], \"scattergl\": [{\"marker\": {\"colorbar\": {\"outlinewidth\": 0, \"ticks\": \"\"}}, \"type\": \"scattergl\"}], \"scattermapbox\": [{\"marker\": {\"colorbar\": {\"outlinewidth\": 0, \"ticks\": \"\"}}, \"type\": \"scattermapbox\"}], \"scatterpolar\": [{\"marker\": {\"colorbar\": {\"outlinewidth\": 0, \"ticks\": \"\"}}, \"type\": \"scatterpolar\"}], \"scatterpolargl\": [{\"marker\": {\"colorbar\": {\"outlinewidth\": 0, \"ticks\": \"\"}}, \"type\": \"scatterpolargl\"}], \"scatterternary\": [{\"marker\": {\"colorbar\": {\"outlinewidth\": 0, \"ticks\": \"\"}}, \"type\": \"scatterternary\"}], \"surface\": [{\"colorbar\": {\"outlinewidth\": 0, \"ticks\": \"\"}, \"colorscale\": [[0.0, \"#0d0887\"], [0.1111111111111111, \"#46039f\"], [0.2222222222222222, \"#7201a8\"], [0.3333333333333333, \"#9c179e\"], [0.4444444444444444, \"#bd3786\"], [0.5555555555555556, \"#d8576b\"], [0.6666666666666666, \"#ed7953\"], [0.7777777777777778, \"#fb9f3a\"], [0.8888888888888888, \"#fdca26\"], [1.0, \"#f0f921\"]], \"type\": \"surface\"}], \"table\": [{\"cells\": {\"fill\": {\"color\": \"#EBF0F8\"}, \"line\": {\"color\": \"white\"}}, \"header\": {\"fill\": {\"color\": \"#C8D4E3\"}, \"line\": {\"color\": \"white\"}}, \"type\": \"table\"}]}, \"layout\": {\"annotationdefaults\": {\"arrowcolor\": \"#2a3f5f\", \"arrowhead\": 0, \"arrowwidth\": 1}, \"coloraxis\": {\"colorbar\": {\"outlinewidth\": 0, \"ticks\": \"\"}}, \"colorscale\": {\"diverging\": [[0, \"#8e0152\"], [0.1, \"#c51b7d\"], [0.2, \"#de77ae\"], [0.3, \"#f1b6da\"], [0.4, \"#fde0ef\"], [0.5, \"#f7f7f7\"], [0.6, \"#e6f5d0\"], [0.7, \"#b8e186\"], [0.8, \"#7fbc41\"], [0.9, \"#4d9221\"], [1, \"#276419\"]], \"sequential\": [[0.0, \"#0d0887\"], [0.1111111111111111, \"#46039f\"], [0.2222222222222222, \"#7201a8\"], [0.3333333333333333, \"#9c179e\"], [0.4444444444444444, \"#bd3786\"], [0.5555555555555556, \"#d8576b\"], [0.6666666666666666, \"#ed7953\"], [0.7777777777777778, \"#fb9f3a\"], [0.8888888888888888, \"#fdca26\"], [1.0, \"#f0f921\"]], \"sequentialminus\": [[0.0, \"#0d0887\"], [0.1111111111111111, \"#46039f\"], [0.2222222222222222, \"#7201a8\"], [0.3333333333333333, \"#9c179e\"], [0.4444444444444444, \"#bd3786\"], [0.5555555555555556, \"#d8576b\"], [0.6666666666666666, \"#ed7953\"], [0.7777777777777778, \"#fb9f3a\"], [0.8888888888888888, \"#fdca26\"], [1.0, \"#f0f921\"]]}, \"colorway\": [\"#636efa\", \"#EF553B\", \"#00cc96\", \"#ab63fa\", \"#FFA15A\", \"#19d3f3\", \"#FF6692\", \"#B6E880\", \"#FF97FF\", \"#FECB52\"], \"font\": {\"color\": \"#2a3f5f\"}, \"geo\": {\"bgcolor\": \"white\", \"lakecolor\": \"white\", \"landcolor\": \"#E5ECF6\", \"showlakes\": true, \"showland\": true, \"subunitcolor\": \"white\"}, \"hoverlabel\": {\"align\": \"left\"}, \"hovermode\": \"closest\", \"mapbox\": {\"style\": \"light\"}, \"paper_bgcolor\": \"white\", \"plot_bgcolor\": \"#E5ECF6\", \"polar\": {\"angularaxis\": {\"gridcolor\": \"white\", \"linecolor\": \"white\", \"ticks\": \"\"}, \"bgcolor\": \"#E5ECF6\", \"radialaxis\": {\"gridcolor\": \"white\", \"linecolor\": \"white\", \"ticks\": \"\"}}, \"scene\": {\"xaxis\": {\"backgroundcolor\": \"#E5ECF6\", \"gridcolor\": \"white\", \"gridwidth\": 2, \"linecolor\": \"white\", \"showbackground\": true, \"ticks\": \"\", \"zerolinecolor\": \"white\"}, \"yaxis\": {\"backgroundcolor\": \"#E5ECF6\", \"gridcolor\": \"white\", \"gridwidth\": 2, \"linecolor\": \"white\", \"showbackground\": true, \"ticks\": \"\", \"zerolinecolor\": \"white\"}, \"zaxis\": {\"backgroundcolor\": \"#E5ECF6\", \"gridcolor\": \"white\", \"gridwidth\": 2, \"linecolor\": \"white\", \"showbackground\": true, \"ticks\": \"\", \"zerolinecolor\": \"white\"}}, \"shapedefaults\": {\"line\": {\"color\": \"#2a3f5f\"}}, \"ternary\": {\"aaxis\": {\"gridcolor\": \"white\", \"linecolor\": \"white\", \"ticks\": \"\"}, \"baxis\": {\"gridcolor\": \"white\", \"linecolor\": \"white\", \"ticks\": \"\"}, \"bgcolor\": \"#E5ECF6\", \"caxis\": {\"gridcolor\": \"white\", \"linecolor\": \"white\", \"ticks\": \"\"}}, \"title\": {\"x\": 0.05}, \"xaxis\": {\"automargin\": true, \"gridcolor\": \"white\", \"linecolor\": \"white\", \"ticks\": \"\", \"title\": {\"standoff\": 15}, \"zerolinecolor\": \"white\", \"zerolinewidth\": 2}, \"yaxis\": {\"automargin\": true, \"gridcolor\": \"white\", \"linecolor\": \"white\", \"ticks\": \"\", \"title\": {\"standoff\": 15}, \"zerolinecolor\": \"white\", \"zerolinewidth\": 2}}}, \"title\": {\"text\": \"The effect of the stance on the individual total season score\"}, \"xaxis\": {\"anchor\": \"y\", \"domain\": [0.0, 1.0], \"title\": {\"text\": \"Stance\"}}, \"yaxis\": {\"anchor\": \"x\", \"domain\": [0.0, 1.0], \"title\": {\"text\": \"y\"}}},\n",
       "                        {\"responsive\": true}\n",
       "                    ).then(function(){\n",
       "                            \n",
       "var gd = document.getElementById('68b96e92-08b9-4cd9-8147-441b185c0d50');\n",
       "var x = new MutationObserver(function (mutations, observer) {{\n",
       "        var display = window.getComputedStyle(gd).display;\n",
       "        if (!display || display === 'none') {{\n",
       "            console.log([gd, 'removed!']);\n",
       "            Plotly.purge(gd);\n",
       "            observer.disconnect();\n",
       "        }}\n",
       "}});\n",
       "\n",
       "// Listen for the removal of the full notebook cells\n",
       "var notebookContainer = gd.closest('#notebook-container');\n",
       "if (notebookContainer) {{\n",
       "    x.observe(notebookContainer, {childList: true});\n",
       "}}\n",
       "\n",
       "// Listen for the clearing of the current output cell\n",
       "var outputEl = gd.closest('.output');\n",
       "if (outputEl) {{\n",
       "    x.observe(outputEl, {childList: true});\n",
       "}}\n",
       "\n",
       "                        })\n",
       "                };\n",
       "                });\n",
       "            </script>\n",
       "        </div>"
      ]
     },
     "metadata": {},
     "output_type": "display_data"
    }
   ],
   "source": [
    "data_bar = eee.reset_index().groupby('Total Points')['Country', 'Athlete', 'Stance'].sum()\n",
    "data_bar\n",
    "\n",
    "fig = px.bar(data_bar, x=\"Stance\", y=list(data_bar.index), color=\"Athlete\", barmode='relative', title = \"The effect of the stance on the individual total season score\" )\n",
    "             \n",
    "fig.show()\n"
   ]
  },
  {
   "cell_type": "markdown",
   "metadata": {},
   "source": [
    "From the bar chart above is visible, that it is not a coinsidance that regular stance is called regular and most of the pro surfers prefer to surf at their regular stance. Although, two highest total scores for last season (Italo Ferreira, Gabriel Medina) were achieved by goofy riders."
   ]
  }
 ],
 "metadata": {
  "kernelspec": {
   "display_name": "Python 3",
   "language": "python",
   "name": "python3"
  },
  "language_info": {
   "codemirror_mode": {
    "name": "ipython",
    "version": 3
   },
   "file_extension": ".py",
   "mimetype": "text/x-python",
   "name": "python",
   "nbconvert_exporter": "python",
   "pygments_lexer": "ipython3",
   "version": "3.7.3"
  }
 },
 "nbformat": 4,
 "nbformat_minor": 2
}

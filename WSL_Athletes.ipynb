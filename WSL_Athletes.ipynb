{
 "cells": [
  {
   "cell_type": "code",
   "execution_count": 6,
   "metadata": {},
   "outputs": [],
   "source": [
    "%matplotlib inline\n",
    "import requests\n",
    "import re\n",
    "import numpy as np\n",
    "import pandas as pd\n",
    "from bs4 import BeautifulSoup as bs"
   ]
  },
  {
   "cell_type": "code",
   "execution_count": 7,
   "metadata": {},
   "outputs": [],
   "source": [
    "class Athlete():\n",
    "    def __init__(self,link):\n",
    "        self.link = link\n",
    "        self.request = requests.get(link)\n",
    "        self.request.encoding='UTF-8'\n",
    "        self.soup = bs(self.request.text,'lxml')\n",
    "        self.name = self.soup.find('span',{'class':'athlete-name'}).text\n",
    "        self.country = self.soup.find('div',{'class':'country-name'}).text\n",
    "        \n",
    "        self.characteristics = self.getChars()    \n",
    "        self.stats = self.getStats()   \n",
    "        self.events = self.getEvents()\n",
    "    \n",
    "    def getChars(self):\n",
    "        \n",
    "        labels = ['Stance','First season','Age','Height (cm)','Weight (kg)','Country']\n",
    "        values=[]\n",
    "        \n",
    "        lis = self.soup.find('div',{'class':'new-athlete-bio-stats'}).find_all('li')\n",
    "        i = 1\n",
    "        \n",
    "        for li in lis:\n",
    "            value = None\n",
    "            if i == 3:\n",
    "                value = int(li.find_all('div')[1].text.split('\\n')[1].replace(\" \",\"\"))\n",
    "            elif i == 4:\n",
    "                value = int(li.find_all('div')[1].text.split('\\n')[-1].replace(\" \",\"\").replace('cm',''))\n",
    "            elif i == 5:\n",
    "                value = int(li.find_all('div')[1].text.split('lbs')[-1].replace(\" \",\"\").replace('kg',''))\n",
    "            elif i == 6:\n",
    "                value = str(self.country)\n",
    "            else:\n",
    "                value = li.find_all('div')[1].text\n",
    "            values.append(value)\n",
    "            i+=1\n",
    "         \n",
    "        d = {}\n",
    "        for i in range(0, 6):\n",
    "            d[labels[i]] = values[i]\n",
    "        chars = pd.Series(d)\n",
    "        chars.loc['Athlete'] = self.name\n",
    "        return chars\n",
    "\n",
    "    def getStats(self):\n",
    "        \n",
    "        labels = [\"Men's CT 2019 Ranking\", \"Heat wins\", \"Avg. heat score\", \"Rookie year\"]\n",
    "        values = []\n",
    "        \n",
    "        lis = self.soup.find('ul',{'class':'new-athlete-stat-bar__stats stat-bar__stats'}).find_all('li')\n",
    "        for li in lis:\n",
    "            values.append(li.find('div',{'class':'value'}).text)\n",
    "       \n",
    "        d = {}\n",
    "        for i in range(0, 4):\n",
    "            if i == 0:\n",
    "                d[labels[i]] = int(str(values[i]).replace('#',''))\n",
    "            elif i == 1:\n",
    "                d[labels[i]] = int(values[i])\n",
    "            else:\n",
    "                d[labels[i]] = float(values[i])\n",
    "        stats = pd.Series(d)\n",
    "        stats.loc['Athlete'] = self.name\n",
    "        return stats\n",
    "\n",
    "    \n",
    "    def getEvents(self):\n",
    "        labels1 = ['Event {}: Place'.format(i) for i in range(1, 12)]\n",
    "        labels2 = ['Event {}: Points'.format(i) for i in range(1, 12)]\n",
    "        values1 = []\n",
    "        values2 = []\n",
    "        \n",
    "                \n",
    "        div = self.soup.find('div',{'class':'table-wrap table-wrap--athletes'})\n",
    "        trs = self.soup.find('div',{'class':'table-wrap table-wrap--athletes'}).find_all('tr')[1:]\n",
    "\n",
    "        codes = [2908,2909,2912,2913,2916,2917,2919,2920,2923,2924,2927]\n",
    "\n",
    "        j=0\n",
    "        matching = []\n",
    "\n",
    "        for i in range(0, 11):\n",
    "\n",
    "            matching.append('athlete-event-{}'.format(codes[i]) in str(div))\n",
    "\n",
    "            if matching[i]:              \n",
    "                if 'INJ' in trs[j].find_all('td')[1].text:\n",
    "                    values1.append('INJ')\n",
    "                else:\n",
    "                    values1.append(str(trs[j].find_all('td')[1].text))\n",
    "                values2.append(int(str(trs[j].find_all('td')[2].text).replace(',','')))\n",
    "                j+=1\n",
    "            else:\n",
    "                values1.append(\"-\")\n",
    "                values2.append(0)\n",
    "                           \n",
    "        labels = labels1+labels2\n",
    "        values = values1+values2\n",
    "        \n",
    "        d = {}\n",
    "        for i in range(0, 22):\n",
    "            d[labels[i]] = values[i]\n",
    "        events = pd.Series(d)\n",
    "        events.loc['Athlete'] = self.name\n",
    "                           \n",
    "        return events"
   ]
  },
  {
   "cell_type": "markdown",
   "metadata": {},
   "source": [
    "### LATER ON, USE THIS FOR ALL ATHLETES:"
   ]
  },
  {
   "cell_type": "code",
   "execution_count": 8,
   "metadata": {},
   "outputs": [],
   "source": [
    "r = requests.get('https://www.worldsurfleague.com/athletes/tour/mct?year=2019')"
   ]
  },
  {
   "cell_type": "code",
   "execution_count": 27,
   "metadata": {},
   "outputs": [
    {
     "name": "stdout",
     "output_type": "stream",
     "text": [
      "Success: Italo Ferreira, Brazil, (0)\n",
      "Success: Gabriel Medina, Brazil, (1)\n",
      "Success: Jordy Smith, South Africa, (2)\n",
      "Success: Filipe Toledo, Brazil, (3)\n",
      "Success: Kolohe Andino, United States, (4)\n",
      "Success: Kanoa Igarashi, Japan, (5)\n",
      "Success: John John Florence, Hawaii, (6)\n",
      "Success: Kelly Slater, United States, (7)\n",
      "Success: Owen Wright, Australia, (8)\n",
      "Success: Jeremy Flores, France, (9)\n",
      "Success: Julian Wilson, Australia, (10)\n",
      "Success: Seth Moniz, Hawaii, (11)\n",
      "Success: Michel Bourez, France, (12)\n",
      "Success: Ryan Callinan, Australia, (13)\n",
      "Success: Jack Freestone, Australia, (14)\n",
      "Success: Griffin Colapinto, United States, (15)\n",
      "Success: Caio Ibelli, Brazil, (16)\n",
      "Success: Wade Carmichael, Australia, (17)\n",
      "Success: Adrian Buchan, Australia, (18)\n",
      "Success: Conner Coffin, United States, (19)\n",
      "Success: Peterson Crisanto, Brazil, (20)\n",
      "Success: Yago Dora, Brazil, (21)\n",
      "Success: Deivid Silva, Brazil, (22)\n",
      "Success: Willian Cardoso, Brazil, (23)\n",
      "Success: Jesse Mendes, Brazil, (24)\n",
      "Success: Michael Rodrigues, Brazil, (25)\n",
      "Success: Sebastian Zietz, Hawaii, (26)\n",
      "Success: Ezekiel Lau, Hawaii, (27)\n",
      "Success: Joan Duru, France, (28)\n",
      "Success: Soli Bailey, Australia, (29)\n",
      "Success: Leonardo Fioravanti, Italy, (30)\n",
      "Success: Jadson Andre, Brazil, (31)\n",
      "Success: Ricardo Christie, New Zealand, (32)\n",
      "Success: Frederico Morais, Portugal, (33)\n",
      "Success: Adriano de Souza, Brazil, (34)\n",
      "Success: Mikey Wright, Australia, (35)\n"
     ]
    }
   ],
   "source": [
    "r.encoding = 'UTF-8'\n",
    "soup = bs(r.text,'lxml')\n",
    "tds = soup.find_all('td',{'class':'athlete-headshot-and-name'})\n",
    "links = ['http://www.worldsurfleague.com' + td.a['href'] for td in tds]\n",
    "\n",
    "athletes = []\n",
    "lchars = []\n",
    "lstats = []\n",
    "levents = []\n",
    "\n",
    "i=0\n",
    "for link in links[0:36]:     \n",
    "    ath = Athlete(link)\n",
    "    athletes.append(ath.name)\n",
    "    lstats.append(ath.stats)\n",
    "    levents.append(ath.events)\n",
    "    lchars.append(ath.characteristics)\n",
    "    print('Success: {}, {}, ({})'.format(ath.name,ath.country,i))\n",
    "    i += 1\n",
    "\n",
    "#ccc = pd.concat([pd.Series(lchars),pd.Series(lstats),pd.Series(levents)],axis=1).T\n",
    "    \n",
    "aaa = pd.concat(lstats,axis=1).T\n",
    "bbb = pd.concat(lchars,axis=1).T\n",
    "ccc = pd.concat(levents,axis=1).T\n",
    "\n",
    "ddd = pd.merge(aaa,bbb, how='outer')\n",
    "eee = pd.merge(ddd,ccc, how='outer')\n",
    "\n",
    "eee = eee.set_index('Athlete')\n",
    "fff = pd.merge(ddd,ccc, how='outer')"
   ]
  },
  {
   "cell_type": "markdown",
   "metadata": {},
   "source": [
    "## Data preparation:"
   ]
  },
  {
   "cell_type": "code",
   "execution_count": 154,
   "metadata": {},
   "outputs": [
    {
     "data": {
      "text/html": [
       "<div>\n",
       "<style scoped>\n",
       "    .dataframe tbody tr th:only-of-type {\n",
       "        vertical-align: middle;\n",
       "    }\n",
       "\n",
       "    .dataframe tbody tr th {\n",
       "        vertical-align: top;\n",
       "    }\n",
       "\n",
       "    .dataframe thead th {\n",
       "        text-align: right;\n",
       "    }\n",
       "</style>\n",
       "<table border=\"1\" class=\"dataframe\">\n",
       "  <thead>\n",
       "    <tr style=\"text-align: right;\">\n",
       "      <th></th>\n",
       "      <th>Men's CT 2019 Ranking</th>\n",
       "      <th>Heat wins</th>\n",
       "      <th>Avg. heat score</th>\n",
       "      <th>Rookie year</th>\n",
       "      <th>Stance</th>\n",
       "      <th>First season</th>\n",
       "      <th>Age</th>\n",
       "      <th>Height (cm)</th>\n",
       "      <th>Weight (kg)</th>\n",
       "      <th>Country</th>\n",
       "      <th>...</th>\n",
       "      <th>Event 2: Points</th>\n",
       "      <th>Event 3: Points</th>\n",
       "      <th>Event 4: Points</th>\n",
       "      <th>Event 5: Points</th>\n",
       "      <th>Event 6: Points</th>\n",
       "      <th>Event 7: Points</th>\n",
       "      <th>Event 8: Points</th>\n",
       "      <th>Event 9: Points</th>\n",
       "      <th>Event 10: Points</th>\n",
       "      <th>Event 11: Points</th>\n",
       "    </tr>\n",
       "    <tr>\n",
       "      <th>Athlete</th>\n",
       "      <th></th>\n",
       "      <th></th>\n",
       "      <th></th>\n",
       "      <th></th>\n",
       "      <th></th>\n",
       "      <th></th>\n",
       "      <th></th>\n",
       "      <th></th>\n",
       "      <th></th>\n",
       "      <th></th>\n",
       "      <th></th>\n",
       "      <th></th>\n",
       "      <th></th>\n",
       "      <th></th>\n",
       "      <th></th>\n",
       "      <th></th>\n",
       "      <th></th>\n",
       "      <th></th>\n",
       "      <th></th>\n",
       "      <th></th>\n",
       "      <th></th>\n",
       "    </tr>\n",
       "  </thead>\n",
       "  <tbody>\n",
       "    <tr>\n",
       "      <th>Italo Ferreira</th>\n",
       "      <td>1</td>\n",
       "      <td>33</td>\n",
       "      <td>13.35</td>\n",
       "      <td>2015</td>\n",
       "      <td>Goofy</td>\n",
       "      <td>2009 Men's QS</td>\n",
       "      <td>25</td>\n",
       "      <td>168</td>\n",
       "      <td>68</td>\n",
       "      <td>Brazil</td>\n",
       "      <td>...</td>\n",
       "      <td>4745</td>\n",
       "      <td>1330</td>\n",
       "      <td>4745</td>\n",
       "      <td>1330</td>\n",
       "      <td>7800</td>\n",
       "      <td>1330</td>\n",
       "      <td>3320</td>\n",
       "      <td>7800</td>\n",
       "      <td>10000</td>\n",
       "      <td>10000</td>\n",
       "    </tr>\n",
       "    <tr>\n",
       "      <th>Gabriel Medina</th>\n",
       "      <td>2</td>\n",
       "      <td>31</td>\n",
       "      <td>13.64</td>\n",
       "      <td>2012</td>\n",
       "      <td>Goofy</td>\n",
       "      <td>2008 Men's QS</td>\n",
       "      <td>26</td>\n",
       "      <td>180</td>\n",
       "      <td>77</td>\n",
       "      <td>Brazil</td>\n",
       "      <td>...</td>\n",
       "      <td>4745</td>\n",
       "      <td>1330</td>\n",
       "      <td>1330</td>\n",
       "      <td>4745</td>\n",
       "      <td>10000</td>\n",
       "      <td>7800</td>\n",
       "      <td>10000</td>\n",
       "      <td>3320</td>\n",
       "      <td>3320</td>\n",
       "      <td>7800</td>\n",
       "    </tr>\n",
       "    <tr>\n",
       "      <th>Jordy Smith</th>\n",
       "      <td>3</td>\n",
       "      <td>25</td>\n",
       "      <td>12.1</td>\n",
       "      <td>2008</td>\n",
       "      <td>Regular</td>\n",
       "      <td>2006 Men's CT</td>\n",
       "      <td>31</td>\n",
       "      <td>190</td>\n",
       "      <td>88</td>\n",
       "      <td>South Africa</td>\n",
       "      <td>...</td>\n",
       "      <td>6085</td>\n",
       "      <td>1330</td>\n",
       "      <td>4745</td>\n",
       "      <td>7800</td>\n",
       "      <td>3320</td>\n",
       "      <td>6085</td>\n",
       "      <td>4745</td>\n",
       "      <td>3320</td>\n",
       "      <td>7800</td>\n",
       "      <td>1330</td>\n",
       "    </tr>\n",
       "    <tr>\n",
       "      <th>Filipe Toledo</th>\n",
       "      <td>4</td>\n",
       "      <td>27</td>\n",
       "      <td>13.62</td>\n",
       "      <td>2013</td>\n",
       "      <td>Regular</td>\n",
       "      <td>2009 Men's QS</td>\n",
       "      <td>24</td>\n",
       "      <td>175</td>\n",
       "      <td>70</td>\n",
       "      <td>Brazil</td>\n",
       "      <td>...</td>\n",
       "      <td>7800</td>\n",
       "      <td>4745</td>\n",
       "      <td>1330</td>\n",
       "      <td>10000</td>\n",
       "      <td>6085</td>\n",
       "      <td>3320</td>\n",
       "      <td>7800</td>\n",
       "      <td>1330</td>\n",
       "      <td>4745</td>\n",
       "      <td>1330</td>\n",
       "    </tr>\n",
       "    <tr>\n",
       "      <th>Kolohe Andino</th>\n",
       "      <td>5</td>\n",
       "      <td>28</td>\n",
       "      <td>11.98</td>\n",
       "      <td>2012</td>\n",
       "      <td>Regular</td>\n",
       "      <td>2008 Men's QS</td>\n",
       "      <td>25</td>\n",
       "      <td>180</td>\n",
       "      <td>79</td>\n",
       "      <td>United States</td>\n",
       "      <td>...</td>\n",
       "      <td>1330</td>\n",
       "      <td>4745</td>\n",
       "      <td>7800</td>\n",
       "      <td>6085</td>\n",
       "      <td>6085</td>\n",
       "      <td>1330</td>\n",
       "      <td>1330</td>\n",
       "      <td>4745</td>\n",
       "      <td>4745</td>\n",
       "      <td>3320</td>\n",
       "    </tr>\n",
       "  </tbody>\n",
       "</table>\n",
       "<p>5 rows × 32 columns</p>\n",
       "</div>"
      ],
      "text/plain": [
       "               Men's CT 2019 Ranking Heat wins Avg. heat score Rookie year  \\\n",
       "Athlete                                                                      \n",
       "Italo Ferreira                     1        33           13.35        2015   \n",
       "Gabriel Medina                     2        31           13.64        2012   \n",
       "Jordy Smith                        3        25            12.1        2008   \n",
       "Filipe Toledo                      4        27           13.62        2013   \n",
       "Kolohe Andino                      5        28           11.98        2012   \n",
       "\n",
       "                 Stance   First season Age Height (cm) Weight (kg)  \\\n",
       "Athlete                                                              \n",
       "Italo Ferreira    Goofy  2009 Men's QS  25         168          68   \n",
       "Gabriel Medina    Goofy  2008 Men's QS  26         180          77   \n",
       "Jordy Smith     Regular  2006 Men's CT  31         190          88   \n",
       "Filipe Toledo   Regular  2009 Men's QS  24         175          70   \n",
       "Kolohe Andino   Regular  2008 Men's QS  25         180          79   \n",
       "\n",
       "                      Country  ... Event 2: Points Event 3: Points  \\\n",
       "Athlete                        ...                                   \n",
       "Italo Ferreira         Brazil  ...            4745            1330   \n",
       "Gabriel Medina         Brazil  ...            4745            1330   \n",
       "Jordy Smith      South Africa  ...            6085            1330   \n",
       "Filipe Toledo          Brazil  ...            7800            4745   \n",
       "Kolohe Andino   United States  ...            1330            4745   \n",
       "\n",
       "               Event 4: Points Event 5: Points Event 6: Points  \\\n",
       "Athlete                                                          \n",
       "Italo Ferreira            4745            1330            7800   \n",
       "Gabriel Medina            1330            4745           10000   \n",
       "Jordy Smith               4745            7800            3320   \n",
       "Filipe Toledo             1330           10000            6085   \n",
       "Kolohe Andino             7800            6085            6085   \n",
       "\n",
       "               Event 7: Points Event 8: Points Event 9: Points  \\\n",
       "Athlete                                                          \n",
       "Italo Ferreira            1330            3320            7800   \n",
       "Gabriel Medina            7800           10000            3320   \n",
       "Jordy Smith               6085            4745            3320   \n",
       "Filipe Toledo             3320            7800            1330   \n",
       "Kolohe Andino             1330            1330            4745   \n",
       "\n",
       "               Event 10: Points Event 11: Points  \n",
       "Athlete                                           \n",
       "Italo Ferreira            10000            10000  \n",
       "Gabriel Medina             3320             7800  \n",
       "Jordy Smith                7800             1330  \n",
       "Filipe Toledo              4745             1330  \n",
       "Kolohe Andino              4745             3320  \n",
       "\n",
       "[5 rows x 32 columns]"
      ]
     },
     "execution_count": 154,
     "metadata": {},
     "output_type": "execute_result"
    }
   ],
   "source": [
    "eee.head()"
   ]
  },
  {
   "cell_type": "code",
   "execution_count": 158,
   "metadata": {},
   "outputs": [
    {
     "data": {
      "text/html": [
       "<div>\n",
       "<style scoped>\n",
       "    .dataframe tbody tr th:only-of-type {\n",
       "        vertical-align: middle;\n",
       "    }\n",
       "\n",
       "    .dataframe tbody tr th {\n",
       "        vertical-align: top;\n",
       "    }\n",
       "\n",
       "    .dataframe thead th {\n",
       "        text-align: right;\n",
       "    }\n",
       "</style>\n",
       "<table border=\"1\" class=\"dataframe\">\n",
       "  <thead>\n",
       "    <tr style=\"text-align: right;\">\n",
       "      <th></th>\n",
       "      <th>Men's CT 2019 Ranking</th>\n",
       "      <th>Heat wins</th>\n",
       "      <th>Avg. heat score</th>\n",
       "      <th>Rookie year</th>\n",
       "      <th>Stance</th>\n",
       "      <th>First season</th>\n",
       "      <th>Age</th>\n",
       "      <th>Height (cm)</th>\n",
       "      <th>Weight (kg)</th>\n",
       "      <th>Country</th>\n",
       "      <th>...</th>\n",
       "      <th>Event 2: Points</th>\n",
       "      <th>Event 3: Points</th>\n",
       "      <th>Event 4: Points</th>\n",
       "      <th>Event 5: Points</th>\n",
       "      <th>Event 6: Points</th>\n",
       "      <th>Event 7: Points</th>\n",
       "      <th>Event 8: Points</th>\n",
       "      <th>Event 9: Points</th>\n",
       "      <th>Event 10: Points</th>\n",
       "      <th>Event 11: Points</th>\n",
       "    </tr>\n",
       "    <tr>\n",
       "      <th>Athlete</th>\n",
       "      <th></th>\n",
       "      <th></th>\n",
       "      <th></th>\n",
       "      <th></th>\n",
       "      <th></th>\n",
       "      <th></th>\n",
       "      <th></th>\n",
       "      <th></th>\n",
       "      <th></th>\n",
       "      <th></th>\n",
       "      <th></th>\n",
       "      <th></th>\n",
       "      <th></th>\n",
       "      <th></th>\n",
       "      <th></th>\n",
       "      <th></th>\n",
       "      <th></th>\n",
       "      <th></th>\n",
       "      <th></th>\n",
       "      <th></th>\n",
       "      <th></th>\n",
       "    </tr>\n",
       "  </thead>\n",
       "  <tbody>\n",
       "    <tr>\n",
       "      <th>Jadson Andre</th>\n",
       "      <td>32</td>\n",
       "      <td>4</td>\n",
       "      <td>9.98</td>\n",
       "      <td>2010</td>\n",
       "      <td>Goofy</td>\n",
       "      <td>2008 Men's QS</td>\n",
       "      <td>29</td>\n",
       "      <td>170</td>\n",
       "      <td>70</td>\n",
       "      <td>Brazil</td>\n",
       "      <td>...</td>\n",
       "      <td>1330</td>\n",
       "      <td>1330</td>\n",
       "      <td>1330</td>\n",
       "      <td>1330</td>\n",
       "      <td>265</td>\n",
       "      <td>4745</td>\n",
       "      <td>1330</td>\n",
       "      <td>265</td>\n",
       "      <td>1330</td>\n",
       "      <td>1330</td>\n",
       "    </tr>\n",
       "    <tr>\n",
       "      <th>Ricardo Christie</th>\n",
       "      <td>123</td>\n",
       "      <td>1</td>\n",
       "      <td>11.17</td>\n",
       "      <td>3.56</td>\n",
       "      <td>Regular</td>\n",
       "      <td>2008 Men's QS</td>\n",
       "      <td>31</td>\n",
       "      <td>185</td>\n",
       "      <td>84</td>\n",
       "      <td>New Zealand</td>\n",
       "      <td>...</td>\n",
       "      <td>1330</td>\n",
       "      <td>1330</td>\n",
       "      <td>1330</td>\n",
       "      <td>1330</td>\n",
       "      <td>1330</td>\n",
       "      <td>1330</td>\n",
       "      <td>1330</td>\n",
       "      <td>265</td>\n",
       "      <td>265</td>\n",
       "      <td>3320</td>\n",
       "    </tr>\n",
       "    <tr>\n",
       "      <th>Frederico Morais</th>\n",
       "      <td>34</td>\n",
       "      <td>3</td>\n",
       "      <td>10.4</td>\n",
       "      <td>2.99</td>\n",
       "      <td>Regular</td>\n",
       "      <td>2008 Men's QS</td>\n",
       "      <td>28</td>\n",
       "      <td>185</td>\n",
       "      <td>81</td>\n",
       "      <td>Portugal</td>\n",
       "      <td>...</td>\n",
       "      <td>0</td>\n",
       "      <td>0</td>\n",
       "      <td>265</td>\n",
       "      <td>6085</td>\n",
       "      <td>1330</td>\n",
       "      <td>265</td>\n",
       "      <td>0</td>\n",
       "      <td>1330</td>\n",
       "      <td>1330</td>\n",
       "      <td>265</td>\n",
       "    </tr>\n",
       "    <tr>\n",
       "      <th>Adriano de Souza</th>\n",
       "      <td>35</td>\n",
       "      <td>2</td>\n",
       "      <td>11.03</td>\n",
       "      <td>2005</td>\n",
       "      <td>Regular</td>\n",
       "      <td>2006 Men's CT</td>\n",
       "      <td>32</td>\n",
       "      <td>170</td>\n",
       "      <td>66</td>\n",
       "      <td>Brazil</td>\n",
       "      <td>...</td>\n",
       "      <td>265</td>\n",
       "      <td>265</td>\n",
       "      <td>265</td>\n",
       "      <td>1330</td>\n",
       "      <td>1330</td>\n",
       "      <td>4745</td>\n",
       "      <td>265</td>\n",
       "      <td>265</td>\n",
       "      <td>265</td>\n",
       "      <td>265</td>\n",
       "    </tr>\n",
       "    <tr>\n",
       "      <th>Mikey Wright</th>\n",
       "      <td>36</td>\n",
       "      <td>3</td>\n",
       "      <td>10.66</td>\n",
       "      <td>2.74</td>\n",
       "      <td>Regular</td>\n",
       "      <td>2012 Men's JUN</td>\n",
       "      <td>23</td>\n",
       "      <td>183</td>\n",
       "      <td>80</td>\n",
       "      <td>Australia</td>\n",
       "      <td>...</td>\n",
       "      <td>1330</td>\n",
       "      <td>1330</td>\n",
       "      <td>265</td>\n",
       "      <td>265</td>\n",
       "      <td>265</td>\n",
       "      <td>265</td>\n",
       "      <td>265</td>\n",
       "      <td>265</td>\n",
       "      <td>265</td>\n",
       "      <td>265</td>\n",
       "    </tr>\n",
       "  </tbody>\n",
       "</table>\n",
       "<p>5 rows × 32 columns</p>\n",
       "</div>"
      ],
      "text/plain": [
       "                 Men's CT 2019 Ranking Heat wins Avg. heat score Rookie year  \\\n",
       "Athlete                                                                        \n",
       "Jadson Andre                        32         4            9.98        2010   \n",
       "Ricardo Christie                   123         1           11.17        3.56   \n",
       "Frederico Morais                    34         3            10.4        2.99   \n",
       "Adriano de Souza                    35         2           11.03        2005   \n",
       "Mikey Wright                        36         3           10.66        2.74   \n",
       "\n",
       "                   Stance    First season Age Height (cm) Weight (kg)  \\\n",
       "Athlete                                                                 \n",
       "Jadson Andre        Goofy   2008 Men's QS  29         170          70   \n",
       "Ricardo Christie  Regular   2008 Men's QS  31         185          84   \n",
       "Frederico Morais  Regular   2008 Men's QS  28         185          81   \n",
       "Adriano de Souza  Regular   2006 Men's CT  32         170          66   \n",
       "Mikey Wright      Regular  2012 Men's JUN  23         183          80   \n",
       "\n",
       "                      Country  ... Event 2: Points Event 3: Points  \\\n",
       "Athlete                        ...                                   \n",
       "Jadson Andre           Brazil  ...            1330            1330   \n",
       "Ricardo Christie  New Zealand  ...            1330            1330   \n",
       "Frederico Morais     Portugal  ...               0               0   \n",
       "Adriano de Souza       Brazil  ...             265             265   \n",
       "Mikey Wright        Australia  ...            1330            1330   \n",
       "\n",
       "                 Event 4: Points Event 5: Points Event 6: Points  \\\n",
       "Athlete                                                            \n",
       "Jadson Andre                1330            1330             265   \n",
       "Ricardo Christie            1330            1330            1330   \n",
       "Frederico Morais             265            6085            1330   \n",
       "Adriano de Souza             265            1330            1330   \n",
       "Mikey Wright                 265             265             265   \n",
       "\n",
       "                 Event 7: Points Event 8: Points Event 9: Points  \\\n",
       "Athlete                                                            \n",
       "Jadson Andre                4745            1330             265   \n",
       "Ricardo Christie            1330            1330             265   \n",
       "Frederico Morais             265               0            1330   \n",
       "Adriano de Souza            4745             265             265   \n",
       "Mikey Wright                 265             265             265   \n",
       "\n",
       "                 Event 10: Points Event 11: Points  \n",
       "Athlete                                             \n",
       "Jadson Andre                 1330             1330  \n",
       "Ricardo Christie              265             3320  \n",
       "Frederico Morais             1330              265  \n",
       "Adriano de Souza              265              265  \n",
       "Mikey Wright                  265              265  \n",
       "\n",
       "[5 rows x 32 columns]"
      ]
     },
     "execution_count": 158,
     "metadata": {},
     "output_type": "execute_result"
    }
   ],
   "source": [
    "eee.tail()"
   ]
  },
  {
   "cell_type": "code",
   "execution_count": 153,
   "metadata": {},
   "outputs": [
    {
     "name": "stdout",
     "output_type": "stream",
     "text": [
      "<class 'pandas.core.frame.DataFrame'>\n",
      "Index: 36 entries, Italo Ferreira to Mikey Wright\n",
      "Data columns (total 32 columns):\n",
      "Men's CT 2019 Ranking    36 non-null object\n",
      "Heat wins                36 non-null object\n",
      "Avg. heat score          36 non-null object\n",
      "Rookie year              36 non-null object\n",
      "Stance                   36 non-null object\n",
      "First season             36 non-null object\n",
      "Age                      36 non-null object\n",
      "Height (cm)              36 non-null object\n",
      "Weight (kg)              36 non-null object\n",
      "Country                  36 non-null object\n",
      "Event 1: Place           36 non-null object\n",
      "Event 2: Place           36 non-null object\n",
      "Event 3: Place           36 non-null object\n",
      "Event 4: Place           36 non-null object\n",
      "Event 5: Place           36 non-null object\n",
      "Event 6: Place           36 non-null object\n",
      "Event 7: Place           36 non-null object\n",
      "Event 8: Place           36 non-null object\n",
      "Event 9: Place           36 non-null object\n",
      "Event 10: Place          36 non-null object\n",
      "Event 11: Place          36 non-null object\n",
      "Event 1: Points          36 non-null object\n",
      "Event 2: Points          36 non-null object\n",
      "Event 3: Points          36 non-null object\n",
      "Event 4: Points          36 non-null object\n",
      "Event 5: Points          36 non-null object\n",
      "Event 6: Points          36 non-null object\n",
      "Event 7: Points          36 non-null object\n",
      "Event 8: Points          36 non-null object\n",
      "Event 9: Points          36 non-null object\n",
      "Event 10: Points         36 non-null object\n",
      "Event 11: Points         36 non-null object\n",
      "dtypes: object(32)\n",
      "memory usage: 10.5+ KB\n"
     ]
    }
   ],
   "source": [
    "eee.info()"
   ]
  },
  {
   "cell_type": "code",
   "execution_count": 162,
   "metadata": {},
   "outputs": [
    {
     "data": {
      "text/html": [
       "<div>\n",
       "<style scoped>\n",
       "    .dataframe tbody tr th:only-of-type {\n",
       "        vertical-align: middle;\n",
       "    }\n",
       "\n",
       "    .dataframe tbody tr th {\n",
       "        vertical-align: top;\n",
       "    }\n",
       "\n",
       "    .dataframe thead th {\n",
       "        text-align: right;\n",
       "    }\n",
       "</style>\n",
       "<table border=\"1\" class=\"dataframe\">\n",
       "  <thead>\n",
       "    <tr style=\"text-align: right;\">\n",
       "      <th></th>\n",
       "      <th>Men's CT 2019 Ranking</th>\n",
       "      <th>Heat wins</th>\n",
       "      <th>Avg. heat score</th>\n",
       "      <th>Rookie year</th>\n",
       "      <th>Age</th>\n",
       "      <th>Height (cm)</th>\n",
       "      <th>Weight (kg)</th>\n",
       "      <th>Event 1: Points</th>\n",
       "      <th>Event 2: Points</th>\n",
       "      <th>Event 3: Points</th>\n",
       "      <th>Event 4: Points</th>\n",
       "      <th>Event 5: Points</th>\n",
       "      <th>Event 6: Points</th>\n",
       "      <th>Event 7: Points</th>\n",
       "      <th>Event 8: Points</th>\n",
       "      <th>Event 9: Points</th>\n",
       "      <th>Event 10: Points</th>\n",
       "      <th>Event 11: Points</th>\n",
       "    </tr>\n",
       "  </thead>\n",
       "  <tbody>\n",
       "    <tr>\n",
       "      <th>count</th>\n",
       "      <td>36.000000</td>\n",
       "      <td>36.000000</td>\n",
       "      <td>36.000000</td>\n",
       "      <td>36.000000</td>\n",
       "      <td>36.000000</td>\n",
       "      <td>36.000000</td>\n",
       "      <td>36.000000</td>\n",
       "      <td>36.000000</td>\n",
       "      <td>36.000000</td>\n",
       "      <td>36.000000</td>\n",
       "      <td>36.000000</td>\n",
       "      <td>36.000000</td>\n",
       "      <td>36.000000</td>\n",
       "      <td>36.000000</td>\n",
       "      <td>36.000000</td>\n",
       "      <td>36.000000</td>\n",
       "      <td>36.000000</td>\n",
       "      <td>36.000000</td>\n",
       "    </tr>\n",
       "    <tr>\n",
       "      <th>mean</th>\n",
       "      <td>18.500000</td>\n",
       "      <td>12.138889</td>\n",
       "      <td>11.378611</td>\n",
       "      <td>1062.444444</td>\n",
       "      <td>27.805556</td>\n",
       "      <td>178.388889</td>\n",
       "      <td>77.666667</td>\n",
       "      <td>2596.250000</td>\n",
       "      <td>2556.666667</td>\n",
       "      <td>2681.111111</td>\n",
       "      <td>2633.194444</td>\n",
       "      <td>2688.472222</td>\n",
       "      <td>2688.472222</td>\n",
       "      <td>2633.194444</td>\n",
       "      <td>2592.361111</td>\n",
       "      <td>2534.444444</td>\n",
       "      <td>2629.305556</td>\n",
       "      <td>2658.888889</td>\n",
       "    </tr>\n",
       "    <tr>\n",
       "      <th>std</th>\n",
       "      <td>10.535654</td>\n",
       "      <td>8.903138</td>\n",
       "      <td>1.026270</td>\n",
       "      <td>1016.528362</td>\n",
       "      <td>5.001825</td>\n",
       "      <td>6.634446</td>\n",
       "      <td>6.628941</td>\n",
       "      <td>2307.363794</td>\n",
       "      <td>2281.526744</td>\n",
       "      <td>2275.128289</td>\n",
       "      <td>2275.027206</td>\n",
       "      <td>2266.618570</td>\n",
       "      <td>2266.618570</td>\n",
       "      <td>2275.027206</td>\n",
       "      <td>2347.765042</td>\n",
       "      <td>2296.781530</td>\n",
       "      <td>2316.056424</td>\n",
       "      <td>2291.667238</td>\n",
       "    </tr>\n",
       "    <tr>\n",
       "      <th>min</th>\n",
       "      <td>1.000000</td>\n",
       "      <td>1.000000</td>\n",
       "      <td>9.730000</td>\n",
       "      <td>2.000000</td>\n",
       "      <td>21.000000</td>\n",
       "      <td>166.000000</td>\n",
       "      <td>66.000000</td>\n",
       "      <td>0.000000</td>\n",
       "      <td>0.000000</td>\n",
       "      <td>0.000000</td>\n",
       "      <td>265.000000</td>\n",
       "      <td>265.000000</td>\n",
       "      <td>265.000000</td>\n",
       "      <td>265.000000</td>\n",
       "      <td>0.000000</td>\n",
       "      <td>265.000000</td>\n",
       "      <td>265.000000</td>\n",
       "      <td>265.000000</td>\n",
       "    </tr>\n",
       "    <tr>\n",
       "      <th>25%</th>\n",
       "      <td>9.750000</td>\n",
       "      <td>3.750000</td>\n",
       "      <td>10.737500</td>\n",
       "      <td>3.000000</td>\n",
       "      <td>24.750000</td>\n",
       "      <td>174.500000</td>\n",
       "      <td>72.750000</td>\n",
       "      <td>1330.000000</td>\n",
       "      <td>1330.000000</td>\n",
       "      <td>1330.000000</td>\n",
       "      <td>1330.000000</td>\n",
       "      <td>1330.000000</td>\n",
       "      <td>1330.000000</td>\n",
       "      <td>1330.000000</td>\n",
       "      <td>1330.000000</td>\n",
       "      <td>1330.000000</td>\n",
       "      <td>1330.000000</td>\n",
       "      <td>1330.000000</td>\n",
       "    </tr>\n",
       "    <tr>\n",
       "      <th>50%</th>\n",
       "      <td>18.500000</td>\n",
       "      <td>11.000000</td>\n",
       "      <td>11.125000</td>\n",
       "      <td>1997.500000</td>\n",
       "      <td>27.000000</td>\n",
       "      <td>180.000000</td>\n",
       "      <td>77.500000</td>\n",
       "      <td>1330.000000</td>\n",
       "      <td>1330.000000</td>\n",
       "      <td>1330.000000</td>\n",
       "      <td>1330.000000</td>\n",
       "      <td>1330.000000</td>\n",
       "      <td>1330.000000</td>\n",
       "      <td>1330.000000</td>\n",
       "      <td>1330.000000</td>\n",
       "      <td>1330.000000</td>\n",
       "      <td>1330.000000</td>\n",
       "      <td>1330.000000</td>\n",
       "    </tr>\n",
       "    <tr>\n",
       "      <th>75%</th>\n",
       "      <td>27.250000</td>\n",
       "      <td>16.250000</td>\n",
       "      <td>11.982500</td>\n",
       "      <td>2012.000000</td>\n",
       "      <td>31.000000</td>\n",
       "      <td>183.000000</td>\n",
       "      <td>80.250000</td>\n",
       "      <td>3320.000000</td>\n",
       "      <td>3320.000000</td>\n",
       "      <td>3320.000000</td>\n",
       "      <td>3320.000000</td>\n",
       "      <td>3320.000000</td>\n",
       "      <td>3320.000000</td>\n",
       "      <td>3320.000000</td>\n",
       "      <td>3320.000000</td>\n",
       "      <td>3320.000000</td>\n",
       "      <td>3320.000000</td>\n",
       "      <td>3320.000000</td>\n",
       "    </tr>\n",
       "    <tr>\n",
       "      <th>max</th>\n",
       "      <td>36.000000</td>\n",
       "      <td>33.000000</td>\n",
       "      <td>13.640000</td>\n",
       "      <td>2016.000000</td>\n",
       "      <td>47.000000</td>\n",
       "      <td>190.000000</td>\n",
       "      <td>95.000000</td>\n",
       "      <td>10000.000000</td>\n",
       "      <td>10000.000000</td>\n",
       "      <td>10000.000000</td>\n",
       "      <td>10000.000000</td>\n",
       "      <td>10000.000000</td>\n",
       "      <td>10000.000000</td>\n",
       "      <td>10000.000000</td>\n",
       "      <td>10000.000000</td>\n",
       "      <td>10000.000000</td>\n",
       "      <td>10000.000000</td>\n",
       "      <td>10000.000000</td>\n",
       "    </tr>\n",
       "  </tbody>\n",
       "</table>\n",
       "</div>"
      ],
      "text/plain": [
       "       Men's CT 2019 Ranking  Heat wins  Avg. heat score  Rookie year  \\\n",
       "count              36.000000  36.000000        36.000000    36.000000   \n",
       "mean               18.500000  12.138889        11.378611  1062.444444   \n",
       "std                10.535654   8.903138         1.026270  1016.528362   \n",
       "min                 1.000000   1.000000         9.730000     2.000000   \n",
       "25%                 9.750000   3.750000        10.737500     3.000000   \n",
       "50%                18.500000  11.000000        11.125000  1997.500000   \n",
       "75%                27.250000  16.250000        11.982500  2012.000000   \n",
       "max                36.000000  33.000000        13.640000  2016.000000   \n",
       "\n",
       "             Age  Height (cm)  Weight (kg)  Event 1: Points  Event 2: Points  \\\n",
       "count  36.000000    36.000000    36.000000        36.000000        36.000000   \n",
       "mean   27.805556   178.388889    77.666667      2596.250000      2556.666667   \n",
       "std     5.001825     6.634446     6.628941      2307.363794      2281.526744   \n",
       "min    21.000000   166.000000    66.000000         0.000000         0.000000   \n",
       "25%    24.750000   174.500000    72.750000      1330.000000      1330.000000   \n",
       "50%    27.000000   180.000000    77.500000      1330.000000      1330.000000   \n",
       "75%    31.000000   183.000000    80.250000      3320.000000      3320.000000   \n",
       "max    47.000000   190.000000    95.000000     10000.000000     10000.000000   \n",
       "\n",
       "       Event 3: Points  Event 4: Points  Event 5: Points  Event 6: Points  \\\n",
       "count        36.000000        36.000000        36.000000        36.000000   \n",
       "mean       2681.111111      2633.194444      2688.472222      2688.472222   \n",
       "std        2275.128289      2275.027206      2266.618570      2266.618570   \n",
       "min           0.000000       265.000000       265.000000       265.000000   \n",
       "25%        1330.000000      1330.000000      1330.000000      1330.000000   \n",
       "50%        1330.000000      1330.000000      1330.000000      1330.000000   \n",
       "75%        3320.000000      3320.000000      3320.000000      3320.000000   \n",
       "max       10000.000000     10000.000000     10000.000000     10000.000000   \n",
       "\n",
       "       Event 7: Points  Event 8: Points  Event 9: Points  Event 10: Points  \\\n",
       "count        36.000000        36.000000        36.000000         36.000000   \n",
       "mean       2633.194444      2592.361111      2534.444444       2629.305556   \n",
       "std        2275.027206      2347.765042      2296.781530       2316.056424   \n",
       "min         265.000000         0.000000       265.000000        265.000000   \n",
       "25%        1330.000000      1330.000000      1330.000000       1330.000000   \n",
       "50%        1330.000000      1330.000000      1330.000000       1330.000000   \n",
       "75%        3320.000000      3320.000000      3320.000000       3320.000000   \n",
       "max       10000.000000     10000.000000     10000.000000      10000.000000   \n",
       "\n",
       "       Event 11: Points  \n",
       "count         36.000000  \n",
       "mean        2658.888889  \n",
       "std         2291.667238  \n",
       "min          265.000000  \n",
       "25%         1330.000000  \n",
       "50%         1330.000000  \n",
       "75%         3320.000000  \n",
       "max        10000.000000  "
      ]
     },
     "execution_count": 162,
     "metadata": {},
     "output_type": "execute_result"
    }
   ],
   "source": [
    "eee.describe()"
   ]
  },
  {
   "cell_type": "code",
   "execution_count": 163,
   "metadata": {},
   "outputs": [
    {
     "data": {
      "text/html": [
       "<div>\n",
       "<style scoped>\n",
       "    .dataframe tbody tr th:only-of-type {\n",
       "        vertical-align: middle;\n",
       "    }\n",
       "\n",
       "    .dataframe tbody tr th {\n",
       "        vertical-align: top;\n",
       "    }\n",
       "\n",
       "    .dataframe thead th {\n",
       "        text-align: right;\n",
       "    }\n",
       "</style>\n",
       "<table border=\"1\" class=\"dataframe\">\n",
       "  <thead>\n",
       "    <tr style=\"text-align: right;\">\n",
       "      <th></th>\n",
       "      <th>Stance</th>\n",
       "      <th>First season</th>\n",
       "      <th>Country</th>\n",
       "      <th>Event 1: Place</th>\n",
       "      <th>Event 2: Place</th>\n",
       "      <th>Event 3: Place</th>\n",
       "      <th>Event 4: Place</th>\n",
       "      <th>Event 5: Place</th>\n",
       "      <th>Event 6: Place</th>\n",
       "      <th>Event 7: Place</th>\n",
       "      <th>Event 8: Place</th>\n",
       "      <th>Event 9: Place</th>\n",
       "      <th>Event 10: Place</th>\n",
       "      <th>Event 11: Place</th>\n",
       "    </tr>\n",
       "  </thead>\n",
       "  <tbody>\n",
       "    <tr>\n",
       "      <th>count</th>\n",
       "      <td>36</td>\n",
       "      <td>36</td>\n",
       "      <td>36</td>\n",
       "      <td>36</td>\n",
       "      <td>36</td>\n",
       "      <td>36</td>\n",
       "      <td>36</td>\n",
       "      <td>36</td>\n",
       "      <td>36</td>\n",
       "      <td>36</td>\n",
       "      <td>36</td>\n",
       "      <td>36</td>\n",
       "      <td>36</td>\n",
       "      <td>36</td>\n",
       "    </tr>\n",
       "    <tr>\n",
       "      <th>unique</th>\n",
       "      <td>2</td>\n",
       "      <td>9</td>\n",
       "      <td>10</td>\n",
       "      <td>9</td>\n",
       "      <td>10</td>\n",
       "      <td>9</td>\n",
       "      <td>8</td>\n",
       "      <td>8</td>\n",
       "      <td>8</td>\n",
       "      <td>8</td>\n",
       "      <td>9</td>\n",
       "      <td>8</td>\n",
       "      <td>8</td>\n",
       "      <td>8</td>\n",
       "    </tr>\n",
       "    <tr>\n",
       "      <th>top</th>\n",
       "      <td>Regular</td>\n",
       "      <td>2008 Men's QS</td>\n",
       "      <td>Brazil</td>\n",
       "      <td>17th</td>\n",
       "      <td>17th</td>\n",
       "      <td>17th</td>\n",
       "      <td>17th</td>\n",
       "      <td>17th</td>\n",
       "      <td>17th</td>\n",
       "      <td>17th</td>\n",
       "      <td>17th</td>\n",
       "      <td>17th</td>\n",
       "      <td>17th</td>\n",
       "      <td>17th</td>\n",
       "    </tr>\n",
       "    <tr>\n",
       "      <th>freq</th>\n",
       "      <td>26</td>\n",
       "      <td>13</td>\n",
       "      <td>12</td>\n",
       "      <td>15</td>\n",
       "      <td>15</td>\n",
       "      <td>15</td>\n",
       "      <td>15</td>\n",
       "      <td>15</td>\n",
       "      <td>15</td>\n",
       "      <td>16</td>\n",
       "      <td>12</td>\n",
       "      <td>14</td>\n",
       "      <td>13</td>\n",
       "      <td>14</td>\n",
       "    </tr>\n",
       "  </tbody>\n",
       "</table>\n",
       "</div>"
      ],
      "text/plain": [
       "         Stance   First season Country Event 1: Place Event 2: Place  \\\n",
       "count        36             36      36             36             36   \n",
       "unique        2              9      10              9             10   \n",
       "top     Regular  2008 Men's QS  Brazil           17th           17th   \n",
       "freq         26             13      12             15             15   \n",
       "\n",
       "       Event 3: Place Event 4: Place Event 5: Place Event 6: Place  \\\n",
       "count              36             36             36             36   \n",
       "unique              9              8              8              8   \n",
       "top              17th           17th           17th           17th   \n",
       "freq               15             15             15             15   \n",
       "\n",
       "       Event 7: Place Event 8: Place Event 9: Place Event 10: Place  \\\n",
       "count              36             36             36              36   \n",
       "unique              8              9              8               8   \n",
       "top              17th           17th           17th            17th   \n",
       "freq               16             12             14              13   \n",
       "\n",
       "       Event 11: Place  \n",
       "count               36  \n",
       "unique               8  \n",
       "top               17th  \n",
       "freq                14  "
      ]
     },
     "execution_count": 163,
     "metadata": {},
     "output_type": "execute_result"
    }
   ],
   "source": [
    "eee.describe(include='object')"
   ]
  },
  {
   "cell_type": "code",
   "execution_count": 159,
   "metadata": {},
   "outputs": [],
   "source": [
    "eee[['Avg. heat score']]=eee[['Avg. heat score']].astype(float)\n",
    "eee[['Event {}: Points'.format(i) for i in range(1, 12)]]=eee[['Event {}: Points'.format(i) for i in range(1, 12)]].astype(int)\n",
    "eee[[\"Men's CT 2019 Ranking\", 'Heat wins', 'Rookie year', 'Age', 'Height (cm)', 'Weight (kg)']]=eee[[\"Men's CT 2019 Ranking\", 'Heat wins', 'Rookie year', 'Age', 'Height (cm)', 'Weight (kg)']].astype(int)\n",
    "eee[[\"Men's CT 2019 Ranking\"]]=[i for i in range(1, 37)]"
   ]
  },
  {
   "cell_type": "code",
   "execution_count": 17,
   "metadata": {},
   "outputs": [
    {
     "data": {
      "text/html": [
       "<div>\n",
       "<style scoped>\n",
       "    .dataframe tbody tr th:only-of-type {\n",
       "        vertical-align: middle;\n",
       "    }\n",
       "\n",
       "    .dataframe tbody tr th {\n",
       "        vertical-align: top;\n",
       "    }\n",
       "\n",
       "    .dataframe thead th {\n",
       "        text-align: right;\n",
       "    }\n",
       "</style>\n",
       "<table border=\"1\" class=\"dataframe\">\n",
       "  <thead>\n",
       "    <tr style=\"text-align: right;\">\n",
       "      <th></th>\n",
       "      <th>Men's CT 2019 Ranking</th>\n",
       "      <th>Heat wins</th>\n",
       "      <th>Avg. heat score</th>\n",
       "      <th>Rookie year</th>\n",
       "      <th>Stance</th>\n",
       "      <th>First season</th>\n",
       "      <th>Age</th>\n",
       "      <th>Height (cm)</th>\n",
       "      <th>Weight (kg)</th>\n",
       "      <th>Country</th>\n",
       "      <th>...</th>\n",
       "      <th>Event 2: Points</th>\n",
       "      <th>Event 3: Points</th>\n",
       "      <th>Event 4: Points</th>\n",
       "      <th>Event 5: Points</th>\n",
       "      <th>Event 6: Points</th>\n",
       "      <th>Event 7: Points</th>\n",
       "      <th>Event 8: Points</th>\n",
       "      <th>Event 9: Points</th>\n",
       "      <th>Event 10: Points</th>\n",
       "      <th>Event 11: Points</th>\n",
       "    </tr>\n",
       "    <tr>\n",
       "      <th>Athlete</th>\n",
       "      <th></th>\n",
       "      <th></th>\n",
       "      <th></th>\n",
       "      <th></th>\n",
       "      <th></th>\n",
       "      <th></th>\n",
       "      <th></th>\n",
       "      <th></th>\n",
       "      <th></th>\n",
       "      <th></th>\n",
       "      <th></th>\n",
       "      <th></th>\n",
       "      <th></th>\n",
       "      <th></th>\n",
       "      <th></th>\n",
       "      <th></th>\n",
       "      <th></th>\n",
       "      <th></th>\n",
       "      <th></th>\n",
       "      <th></th>\n",
       "      <th></th>\n",
       "    </tr>\n",
       "  </thead>\n",
       "  <tbody>\n",
       "    <tr>\n",
       "      <th>Italo Ferreira</th>\n",
       "      <td>1</td>\n",
       "      <td>33</td>\n",
       "      <td>13.35</td>\n",
       "      <td>2015</td>\n",
       "      <td>Goofy</td>\n",
       "      <td>2009 Men's QS</td>\n",
       "      <td>25</td>\n",
       "      <td>168</td>\n",
       "      <td>68</td>\n",
       "      <td>Brazil</td>\n",
       "      <td>...</td>\n",
       "      <td>4745</td>\n",
       "      <td>1330</td>\n",
       "      <td>4745</td>\n",
       "      <td>1330</td>\n",
       "      <td>7800</td>\n",
       "      <td>1330</td>\n",
       "      <td>3320</td>\n",
       "      <td>7800</td>\n",
       "      <td>10000</td>\n",
       "      <td>10000</td>\n",
       "    </tr>\n",
       "    <tr>\n",
       "      <th>Gabriel Medina</th>\n",
       "      <td>2</td>\n",
       "      <td>31</td>\n",
       "      <td>13.64</td>\n",
       "      <td>2012</td>\n",
       "      <td>Goofy</td>\n",
       "      <td>2008 Men's QS</td>\n",
       "      <td>26</td>\n",
       "      <td>180</td>\n",
       "      <td>77</td>\n",
       "      <td>Brazil</td>\n",
       "      <td>...</td>\n",
       "      <td>4745</td>\n",
       "      <td>1330</td>\n",
       "      <td>1330</td>\n",
       "      <td>4745</td>\n",
       "      <td>10000</td>\n",
       "      <td>7800</td>\n",
       "      <td>10000</td>\n",
       "      <td>3320</td>\n",
       "      <td>3320</td>\n",
       "      <td>7800</td>\n",
       "    </tr>\n",
       "    <tr>\n",
       "      <th>Jordy Smith</th>\n",
       "      <td>3</td>\n",
       "      <td>25</td>\n",
       "      <td>12.10</td>\n",
       "      <td>2008</td>\n",
       "      <td>Regular</td>\n",
       "      <td>2006 Men's CT</td>\n",
       "      <td>31</td>\n",
       "      <td>190</td>\n",
       "      <td>88</td>\n",
       "      <td>South Africa</td>\n",
       "      <td>...</td>\n",
       "      <td>6085</td>\n",
       "      <td>1330</td>\n",
       "      <td>4745</td>\n",
       "      <td>7800</td>\n",
       "      <td>3320</td>\n",
       "      <td>6085</td>\n",
       "      <td>4745</td>\n",
       "      <td>3320</td>\n",
       "      <td>7800</td>\n",
       "      <td>1330</td>\n",
       "    </tr>\n",
       "    <tr>\n",
       "      <th>Filipe Toledo</th>\n",
       "      <td>4</td>\n",
       "      <td>27</td>\n",
       "      <td>13.62</td>\n",
       "      <td>2013</td>\n",
       "      <td>Regular</td>\n",
       "      <td>2009 Men's QS</td>\n",
       "      <td>24</td>\n",
       "      <td>175</td>\n",
       "      <td>70</td>\n",
       "      <td>Brazil</td>\n",
       "      <td>...</td>\n",
       "      <td>7800</td>\n",
       "      <td>4745</td>\n",
       "      <td>1330</td>\n",
       "      <td>10000</td>\n",
       "      <td>6085</td>\n",
       "      <td>3320</td>\n",
       "      <td>7800</td>\n",
       "      <td>1330</td>\n",
       "      <td>4745</td>\n",
       "      <td>1330</td>\n",
       "    </tr>\n",
       "    <tr>\n",
       "      <th>Kolohe Andino</th>\n",
       "      <td>5</td>\n",
       "      <td>28</td>\n",
       "      <td>11.98</td>\n",
       "      <td>2012</td>\n",
       "      <td>Regular</td>\n",
       "      <td>2008 Men's QS</td>\n",
       "      <td>25</td>\n",
       "      <td>180</td>\n",
       "      <td>79</td>\n",
       "      <td>United States</td>\n",
       "      <td>...</td>\n",
       "      <td>1330</td>\n",
       "      <td>4745</td>\n",
       "      <td>7800</td>\n",
       "      <td>6085</td>\n",
       "      <td>6085</td>\n",
       "      <td>1330</td>\n",
       "      <td>1330</td>\n",
       "      <td>4745</td>\n",
       "      <td>4745</td>\n",
       "      <td>3320</td>\n",
       "    </tr>\n",
       "  </tbody>\n",
       "</table>\n",
       "<p>5 rows × 32 columns</p>\n",
       "</div>"
      ],
      "text/plain": [
       "                Men's CT 2019 Ranking  Heat wins  Avg. heat score  \\\n",
       "Athlete                                                             \n",
       "Italo Ferreira                      1         33            13.35   \n",
       "Gabriel Medina                      2         31            13.64   \n",
       "Jordy Smith                         3         25            12.10   \n",
       "Filipe Toledo                       4         27            13.62   \n",
       "Kolohe Andino                       5         28            11.98   \n",
       "\n",
       "                Rookie year   Stance   First season  Age  Height (cm)  \\\n",
       "Athlete                                                                 \n",
       "Italo Ferreira         2015    Goofy  2009 Men's QS   25          168   \n",
       "Gabriel Medina         2012    Goofy  2008 Men's QS   26          180   \n",
       "Jordy Smith            2008  Regular  2006 Men's CT   31          190   \n",
       "Filipe Toledo          2013  Regular  2009 Men's QS   24          175   \n",
       "Kolohe Andino          2012  Regular  2008 Men's QS   25          180   \n",
       "\n",
       "                Weight (kg)        Country  ... Event 2: Points  \\\n",
       "Athlete                                     ...                   \n",
       "Italo Ferreira           68         Brazil  ...            4745   \n",
       "Gabriel Medina           77         Brazil  ...            4745   \n",
       "Jordy Smith              88   South Africa  ...            6085   \n",
       "Filipe Toledo            70         Brazil  ...            7800   \n",
       "Kolohe Andino            79  United States  ...            1330   \n",
       "\n",
       "               Event 3: Points Event 4: Points Event 5: Points  \\\n",
       "Athlete                                                          \n",
       "Italo Ferreira            1330            4745            1330   \n",
       "Gabriel Medina            1330            1330            4745   \n",
       "Jordy Smith               1330            4745            7800   \n",
       "Filipe Toledo             4745            1330           10000   \n",
       "Kolohe Andino             4745            7800            6085   \n",
       "\n",
       "               Event 6: Points Event 7: Points Event 8: Points  \\\n",
       "Athlete                                                          \n",
       "Italo Ferreira            7800            1330            3320   \n",
       "Gabriel Medina           10000            7800           10000   \n",
       "Jordy Smith               3320            6085            4745   \n",
       "Filipe Toledo             6085            3320            7800   \n",
       "Kolohe Andino             6085            1330            1330   \n",
       "\n",
       "               Event 9: Points Event 10: Points Event 11: Points  \n",
       "Athlete                                                           \n",
       "Italo Ferreira            7800            10000            10000  \n",
       "Gabriel Medina            3320             3320             7800  \n",
       "Jordy Smith               3320             7800             1330  \n",
       "Filipe Toledo             1330             4745             1330  \n",
       "Kolohe Andino             4745             4745             3320  \n",
       "\n",
       "[5 rows x 32 columns]"
      ]
     },
     "execution_count": 17,
     "metadata": {},
     "output_type": "execute_result"
    }
   ],
   "source": [
    "eee.head()"
   ]
  },
  {
   "cell_type": "code",
   "execution_count": 49,
   "metadata": {},
   "outputs": [
    {
     "data": {
      "text/html": [
       "<div>\n",
       "<style scoped>\n",
       "    .dataframe tbody tr th:only-of-type {\n",
       "        vertical-align: middle;\n",
       "    }\n",
       "\n",
       "    .dataframe tbody tr th {\n",
       "        vertical-align: top;\n",
       "    }\n",
       "\n",
       "    .dataframe thead th {\n",
       "        text-align: right;\n",
       "    }\n",
       "</style>\n",
       "<table border=\"1\" class=\"dataframe\">\n",
       "  <thead>\n",
       "    <tr style=\"text-align: right;\">\n",
       "      <th></th>\n",
       "      <th>Men's CT 2019 Ranking</th>\n",
       "      <th>Heat wins</th>\n",
       "      <th>Avg. heat score</th>\n",
       "      <th>Rookie year</th>\n",
       "      <th>Stance</th>\n",
       "      <th>First season</th>\n",
       "      <th>Age</th>\n",
       "      <th>Height (cm)</th>\n",
       "      <th>Weight (kg)</th>\n",
       "      <th>Country</th>\n",
       "      <th>...</th>\n",
       "      <th>Event 2: Points</th>\n",
       "      <th>Event 3: Points</th>\n",
       "      <th>Event 4: Points</th>\n",
       "      <th>Event 5: Points</th>\n",
       "      <th>Event 6: Points</th>\n",
       "      <th>Event 7: Points</th>\n",
       "      <th>Event 8: Points</th>\n",
       "      <th>Event 9: Points</th>\n",
       "      <th>Event 10: Points</th>\n",
       "      <th>Event 11: Points</th>\n",
       "    </tr>\n",
       "  </thead>\n",
       "  <tbody>\n",
       "    <tr>\n",
       "      <th>count</th>\n",
       "      <td>36.000000</td>\n",
       "      <td>36.000000</td>\n",
       "      <td>36.000000</td>\n",
       "      <td>36.000000</td>\n",
       "      <td>36</td>\n",
       "      <td>36</td>\n",
       "      <td>36.000000</td>\n",
       "      <td>36.000000</td>\n",
       "      <td>36.000000</td>\n",
       "      <td>36</td>\n",
       "      <td>...</td>\n",
       "      <td>36.000000</td>\n",
       "      <td>36.000000</td>\n",
       "      <td>36.000000</td>\n",
       "      <td>36.000000</td>\n",
       "      <td>36.000000</td>\n",
       "      <td>36.000000</td>\n",
       "      <td>36.000000</td>\n",
       "      <td>36.000000</td>\n",
       "      <td>36.000000</td>\n",
       "      <td>36.000000</td>\n",
       "    </tr>\n",
       "    <tr>\n",
       "      <th>unique</th>\n",
       "      <td>NaN</td>\n",
       "      <td>NaN</td>\n",
       "      <td>NaN</td>\n",
       "      <td>NaN</td>\n",
       "      <td>2</td>\n",
       "      <td>9</td>\n",
       "      <td>NaN</td>\n",
       "      <td>NaN</td>\n",
       "      <td>NaN</td>\n",
       "      <td>10</td>\n",
       "      <td>...</td>\n",
       "      <td>NaN</td>\n",
       "      <td>NaN</td>\n",
       "      <td>NaN</td>\n",
       "      <td>NaN</td>\n",
       "      <td>NaN</td>\n",
       "      <td>NaN</td>\n",
       "      <td>NaN</td>\n",
       "      <td>NaN</td>\n",
       "      <td>NaN</td>\n",
       "      <td>NaN</td>\n",
       "    </tr>\n",
       "    <tr>\n",
       "      <th>top</th>\n",
       "      <td>NaN</td>\n",
       "      <td>NaN</td>\n",
       "      <td>NaN</td>\n",
       "      <td>NaN</td>\n",
       "      <td>Regular</td>\n",
       "      <td>2008 Men's QS</td>\n",
       "      <td>NaN</td>\n",
       "      <td>NaN</td>\n",
       "      <td>NaN</td>\n",
       "      <td>Brazil</td>\n",
       "      <td>...</td>\n",
       "      <td>NaN</td>\n",
       "      <td>NaN</td>\n",
       "      <td>NaN</td>\n",
       "      <td>NaN</td>\n",
       "      <td>NaN</td>\n",
       "      <td>NaN</td>\n",
       "      <td>NaN</td>\n",
       "      <td>NaN</td>\n",
       "      <td>NaN</td>\n",
       "      <td>NaN</td>\n",
       "    </tr>\n",
       "    <tr>\n",
       "      <th>freq</th>\n",
       "      <td>NaN</td>\n",
       "      <td>NaN</td>\n",
       "      <td>NaN</td>\n",
       "      <td>NaN</td>\n",
       "      <td>26</td>\n",
       "      <td>13</td>\n",
       "      <td>NaN</td>\n",
       "      <td>NaN</td>\n",
       "      <td>NaN</td>\n",
       "      <td>12</td>\n",
       "      <td>...</td>\n",
       "      <td>NaN</td>\n",
       "      <td>NaN</td>\n",
       "      <td>NaN</td>\n",
       "      <td>NaN</td>\n",
       "      <td>NaN</td>\n",
       "      <td>NaN</td>\n",
       "      <td>NaN</td>\n",
       "      <td>NaN</td>\n",
       "      <td>NaN</td>\n",
       "      <td>NaN</td>\n",
       "    </tr>\n",
       "    <tr>\n",
       "      <th>mean</th>\n",
       "      <td>18.500000</td>\n",
       "      <td>12.138889</td>\n",
       "      <td>11.378611</td>\n",
       "      <td>1062.444444</td>\n",
       "      <td>NaN</td>\n",
       "      <td>NaN</td>\n",
       "      <td>27.805556</td>\n",
       "      <td>178.388889</td>\n",
       "      <td>77.666667</td>\n",
       "      <td>NaN</td>\n",
       "      <td>...</td>\n",
       "      <td>2556.666667</td>\n",
       "      <td>2681.111111</td>\n",
       "      <td>2633.194444</td>\n",
       "      <td>2688.472222</td>\n",
       "      <td>2688.472222</td>\n",
       "      <td>2633.194444</td>\n",
       "      <td>2592.361111</td>\n",
       "      <td>2534.444444</td>\n",
       "      <td>2629.305556</td>\n",
       "      <td>2658.888889</td>\n",
       "    </tr>\n",
       "    <tr>\n",
       "      <th>std</th>\n",
       "      <td>10.535654</td>\n",
       "      <td>8.903138</td>\n",
       "      <td>1.026270</td>\n",
       "      <td>1016.528362</td>\n",
       "      <td>NaN</td>\n",
       "      <td>NaN</td>\n",
       "      <td>5.001825</td>\n",
       "      <td>6.634446</td>\n",
       "      <td>6.628941</td>\n",
       "      <td>NaN</td>\n",
       "      <td>...</td>\n",
       "      <td>2281.526744</td>\n",
       "      <td>2275.128289</td>\n",
       "      <td>2275.027206</td>\n",
       "      <td>2266.618570</td>\n",
       "      <td>2266.618570</td>\n",
       "      <td>2275.027206</td>\n",
       "      <td>2347.765042</td>\n",
       "      <td>2296.781530</td>\n",
       "      <td>2316.056424</td>\n",
       "      <td>2291.667238</td>\n",
       "    </tr>\n",
       "    <tr>\n",
       "      <th>min</th>\n",
       "      <td>1.000000</td>\n",
       "      <td>1.000000</td>\n",
       "      <td>9.730000</td>\n",
       "      <td>2.000000</td>\n",
       "      <td>NaN</td>\n",
       "      <td>NaN</td>\n",
       "      <td>21.000000</td>\n",
       "      <td>166.000000</td>\n",
       "      <td>66.000000</td>\n",
       "      <td>NaN</td>\n",
       "      <td>...</td>\n",
       "      <td>0.000000</td>\n",
       "      <td>0.000000</td>\n",
       "      <td>265.000000</td>\n",
       "      <td>265.000000</td>\n",
       "      <td>265.000000</td>\n",
       "      <td>265.000000</td>\n",
       "      <td>0.000000</td>\n",
       "      <td>265.000000</td>\n",
       "      <td>265.000000</td>\n",
       "      <td>265.000000</td>\n",
       "    </tr>\n",
       "    <tr>\n",
       "      <th>25%</th>\n",
       "      <td>9.750000</td>\n",
       "      <td>3.750000</td>\n",
       "      <td>10.737500</td>\n",
       "      <td>3.000000</td>\n",
       "      <td>NaN</td>\n",
       "      <td>NaN</td>\n",
       "      <td>24.750000</td>\n",
       "      <td>174.500000</td>\n",
       "      <td>72.750000</td>\n",
       "      <td>NaN</td>\n",
       "      <td>...</td>\n",
       "      <td>1330.000000</td>\n",
       "      <td>1330.000000</td>\n",
       "      <td>1330.000000</td>\n",
       "      <td>1330.000000</td>\n",
       "      <td>1330.000000</td>\n",
       "      <td>1330.000000</td>\n",
       "      <td>1330.000000</td>\n",
       "      <td>1330.000000</td>\n",
       "      <td>1330.000000</td>\n",
       "      <td>1330.000000</td>\n",
       "    </tr>\n",
       "    <tr>\n",
       "      <th>50%</th>\n",
       "      <td>18.500000</td>\n",
       "      <td>11.000000</td>\n",
       "      <td>11.125000</td>\n",
       "      <td>1997.500000</td>\n",
       "      <td>NaN</td>\n",
       "      <td>NaN</td>\n",
       "      <td>27.000000</td>\n",
       "      <td>180.000000</td>\n",
       "      <td>77.500000</td>\n",
       "      <td>NaN</td>\n",
       "      <td>...</td>\n",
       "      <td>1330.000000</td>\n",
       "      <td>1330.000000</td>\n",
       "      <td>1330.000000</td>\n",
       "      <td>1330.000000</td>\n",
       "      <td>1330.000000</td>\n",
       "      <td>1330.000000</td>\n",
       "      <td>1330.000000</td>\n",
       "      <td>1330.000000</td>\n",
       "      <td>1330.000000</td>\n",
       "      <td>1330.000000</td>\n",
       "    </tr>\n",
       "    <tr>\n",
       "      <th>75%</th>\n",
       "      <td>27.250000</td>\n",
       "      <td>16.250000</td>\n",
       "      <td>11.982500</td>\n",
       "      <td>2012.000000</td>\n",
       "      <td>NaN</td>\n",
       "      <td>NaN</td>\n",
       "      <td>31.000000</td>\n",
       "      <td>183.000000</td>\n",
       "      <td>80.250000</td>\n",
       "      <td>NaN</td>\n",
       "      <td>...</td>\n",
       "      <td>3320.000000</td>\n",
       "      <td>3320.000000</td>\n",
       "      <td>3320.000000</td>\n",
       "      <td>3320.000000</td>\n",
       "      <td>3320.000000</td>\n",
       "      <td>3320.000000</td>\n",
       "      <td>3320.000000</td>\n",
       "      <td>3320.000000</td>\n",
       "      <td>3320.000000</td>\n",
       "      <td>3320.000000</td>\n",
       "    </tr>\n",
       "    <tr>\n",
       "      <th>max</th>\n",
       "      <td>36.000000</td>\n",
       "      <td>33.000000</td>\n",
       "      <td>13.640000</td>\n",
       "      <td>2016.000000</td>\n",
       "      <td>NaN</td>\n",
       "      <td>NaN</td>\n",
       "      <td>47.000000</td>\n",
       "      <td>190.000000</td>\n",
       "      <td>95.000000</td>\n",
       "      <td>NaN</td>\n",
       "      <td>...</td>\n",
       "      <td>10000.000000</td>\n",
       "      <td>10000.000000</td>\n",
       "      <td>10000.000000</td>\n",
       "      <td>10000.000000</td>\n",
       "      <td>10000.000000</td>\n",
       "      <td>10000.000000</td>\n",
       "      <td>10000.000000</td>\n",
       "      <td>10000.000000</td>\n",
       "      <td>10000.000000</td>\n",
       "      <td>10000.000000</td>\n",
       "    </tr>\n",
       "  </tbody>\n",
       "</table>\n",
       "<p>11 rows × 32 columns</p>\n",
       "</div>"
      ],
      "text/plain": [
       "        Men's CT 2019 Ranking  Heat wins  Avg. heat score  Rookie year  \\\n",
       "count               36.000000  36.000000        36.000000    36.000000   \n",
       "unique                    NaN        NaN              NaN          NaN   \n",
       "top                       NaN        NaN              NaN          NaN   \n",
       "freq                      NaN        NaN              NaN          NaN   \n",
       "mean                18.500000  12.138889        11.378611  1062.444444   \n",
       "std                 10.535654   8.903138         1.026270  1016.528362   \n",
       "min                  1.000000   1.000000         9.730000     2.000000   \n",
       "25%                  9.750000   3.750000        10.737500     3.000000   \n",
       "50%                 18.500000  11.000000        11.125000  1997.500000   \n",
       "75%                 27.250000  16.250000        11.982500  2012.000000   \n",
       "max                 36.000000  33.000000        13.640000  2016.000000   \n",
       "\n",
       "         Stance   First season        Age  Height (cm)  Weight (kg) Country  \\\n",
       "count        36             36  36.000000    36.000000    36.000000      36   \n",
       "unique        2              9        NaN          NaN          NaN      10   \n",
       "top     Regular  2008 Men's QS        NaN          NaN          NaN  Brazil   \n",
       "freq         26             13        NaN          NaN          NaN      12   \n",
       "mean        NaN            NaN  27.805556   178.388889    77.666667     NaN   \n",
       "std         NaN            NaN   5.001825     6.634446     6.628941     NaN   \n",
       "min         NaN            NaN  21.000000   166.000000    66.000000     NaN   \n",
       "25%         NaN            NaN  24.750000   174.500000    72.750000     NaN   \n",
       "50%         NaN            NaN  27.000000   180.000000    77.500000     NaN   \n",
       "75%         NaN            NaN  31.000000   183.000000    80.250000     NaN   \n",
       "max         NaN            NaN  47.000000   190.000000    95.000000     NaN   \n",
       "\n",
       "        ... Event 2: Points Event 3: Points Event 4: Points Event 5: Points  \\\n",
       "count   ...       36.000000       36.000000       36.000000       36.000000   \n",
       "unique  ...             NaN             NaN             NaN             NaN   \n",
       "top     ...             NaN             NaN             NaN             NaN   \n",
       "freq    ...             NaN             NaN             NaN             NaN   \n",
       "mean    ...     2556.666667     2681.111111     2633.194444     2688.472222   \n",
       "std     ...     2281.526744     2275.128289     2275.027206     2266.618570   \n",
       "min     ...        0.000000        0.000000      265.000000      265.000000   \n",
       "25%     ...     1330.000000     1330.000000     1330.000000     1330.000000   \n",
       "50%     ...     1330.000000     1330.000000     1330.000000     1330.000000   \n",
       "75%     ...     3320.000000     3320.000000     3320.000000     3320.000000   \n",
       "max     ...    10000.000000    10000.000000    10000.000000    10000.000000   \n",
       "\n",
       "       Event 6: Points Event 7: Points Event 8: Points Event 9: Points  \\\n",
       "count        36.000000       36.000000       36.000000       36.000000   \n",
       "unique             NaN             NaN             NaN             NaN   \n",
       "top                NaN             NaN             NaN             NaN   \n",
       "freq               NaN             NaN             NaN             NaN   \n",
       "mean       2688.472222     2633.194444     2592.361111     2534.444444   \n",
       "std        2266.618570     2275.027206     2347.765042     2296.781530   \n",
       "min         265.000000      265.000000        0.000000      265.000000   \n",
       "25%        1330.000000     1330.000000     1330.000000     1330.000000   \n",
       "50%        1330.000000     1330.000000     1330.000000     1330.000000   \n",
       "75%        3320.000000     3320.000000     3320.000000     3320.000000   \n",
       "max       10000.000000    10000.000000    10000.000000    10000.000000   \n",
       "\n",
       "       Event 10: Points Event 11: Points  \n",
       "count         36.000000        36.000000  \n",
       "unique              NaN              NaN  \n",
       "top                 NaN              NaN  \n",
       "freq                NaN              NaN  \n",
       "mean        2629.305556      2658.888889  \n",
       "std         2316.056424      2291.667238  \n",
       "min          265.000000       265.000000  \n",
       "25%         1330.000000      1330.000000  \n",
       "50%         1330.000000      1330.000000  \n",
       "75%         3320.000000      3320.000000  \n",
       "max        10000.000000     10000.000000  \n",
       "\n",
       "[11 rows x 32 columns]"
      ]
     },
     "execution_count": 49,
     "metadata": {},
     "output_type": "execute_result"
    }
   ],
   "source": [
    "#eee.describe(include=['object'])\n",
    "eee.describe(include='all')"
   ]
  },
  {
   "cell_type": "code",
   "execution_count": 34,
   "metadata": {},
   "outputs": [
    {
     "data": {
      "text/html": [
       "<div>\n",
       "<style scoped>\n",
       "    .dataframe tbody tr th:only-of-type {\n",
       "        vertical-align: middle;\n",
       "    }\n",
       "\n",
       "    .dataframe tbody tr th {\n",
       "        vertical-align: top;\n",
       "    }\n",
       "\n",
       "    .dataframe thead th {\n",
       "        text-align: right;\n",
       "    }\n",
       "</style>\n",
       "<table border=\"1\" class=\"dataframe\">\n",
       "  <thead>\n",
       "    <tr style=\"text-align: right;\">\n",
       "      <th></th>\n",
       "      <th>Men's CT 2019 Ranking</th>\n",
       "      <th>Heat wins</th>\n",
       "      <th>Avg. heat score</th>\n",
       "      <th>Rookie year</th>\n",
       "      <th>Stance</th>\n",
       "      <th>First season</th>\n",
       "      <th>Age</th>\n",
       "      <th>Height (cm)</th>\n",
       "      <th>Weight (kg)</th>\n",
       "      <th>Event 1: Place</th>\n",
       "      <th>...</th>\n",
       "      <th>Event 2: Points</th>\n",
       "      <th>Event 3: Points</th>\n",
       "      <th>Event 4: Points</th>\n",
       "      <th>Event 5: Points</th>\n",
       "      <th>Event 6: Points</th>\n",
       "      <th>Event 7: Points</th>\n",
       "      <th>Event 8: Points</th>\n",
       "      <th>Event 9: Points</th>\n",
       "      <th>Event 10: Points</th>\n",
       "      <th>Event 11: Points</th>\n",
       "    </tr>\n",
       "    <tr>\n",
       "      <th>Country</th>\n",
       "      <th></th>\n",
       "      <th></th>\n",
       "      <th></th>\n",
       "      <th></th>\n",
       "      <th></th>\n",
       "      <th></th>\n",
       "      <th></th>\n",
       "      <th></th>\n",
       "      <th></th>\n",
       "      <th></th>\n",
       "      <th></th>\n",
       "      <th></th>\n",
       "      <th></th>\n",
       "      <th></th>\n",
       "      <th></th>\n",
       "      <th></th>\n",
       "      <th></th>\n",
       "      <th></th>\n",
       "      <th></th>\n",
       "      <th></th>\n",
       "      <th></th>\n",
       "    </tr>\n",
       "  </thead>\n",
       "  <tbody>\n",
       "    <tr>\n",
       "      <th>Australia</th>\n",
       "      <td>8</td>\n",
       "      <td>8</td>\n",
       "      <td>8</td>\n",
       "      <td>8</td>\n",
       "      <td>8</td>\n",
       "      <td>8</td>\n",
       "      <td>8</td>\n",
       "      <td>8</td>\n",
       "      <td>8</td>\n",
       "      <td>8</td>\n",
       "      <td>...</td>\n",
       "      <td>8</td>\n",
       "      <td>8</td>\n",
       "      <td>8</td>\n",
       "      <td>8</td>\n",
       "      <td>8</td>\n",
       "      <td>8</td>\n",
       "      <td>8</td>\n",
       "      <td>8</td>\n",
       "      <td>8</td>\n",
       "      <td>8</td>\n",
       "    </tr>\n",
       "    <tr>\n",
       "      <th>Brazil</th>\n",
       "      <td>12</td>\n",
       "      <td>12</td>\n",
       "      <td>12</td>\n",
       "      <td>12</td>\n",
       "      <td>12</td>\n",
       "      <td>12</td>\n",
       "      <td>12</td>\n",
       "      <td>12</td>\n",
       "      <td>12</td>\n",
       "      <td>12</td>\n",
       "      <td>...</td>\n",
       "      <td>12</td>\n",
       "      <td>12</td>\n",
       "      <td>12</td>\n",
       "      <td>12</td>\n",
       "      <td>12</td>\n",
       "      <td>12</td>\n",
       "      <td>12</td>\n",
       "      <td>12</td>\n",
       "      <td>12</td>\n",
       "      <td>12</td>\n",
       "    </tr>\n",
       "    <tr>\n",
       "      <th>France</th>\n",
       "      <td>3</td>\n",
       "      <td>3</td>\n",
       "      <td>3</td>\n",
       "      <td>3</td>\n",
       "      <td>3</td>\n",
       "      <td>3</td>\n",
       "      <td>3</td>\n",
       "      <td>3</td>\n",
       "      <td>3</td>\n",
       "      <td>3</td>\n",
       "      <td>...</td>\n",
       "      <td>3</td>\n",
       "      <td>3</td>\n",
       "      <td>3</td>\n",
       "      <td>3</td>\n",
       "      <td>3</td>\n",
       "      <td>3</td>\n",
       "      <td>3</td>\n",
       "      <td>3</td>\n",
       "      <td>3</td>\n",
       "      <td>3</td>\n",
       "    </tr>\n",
       "    <tr>\n",
       "      <th>Hawaii</th>\n",
       "      <td>4</td>\n",
       "      <td>4</td>\n",
       "      <td>4</td>\n",
       "      <td>4</td>\n",
       "      <td>4</td>\n",
       "      <td>4</td>\n",
       "      <td>4</td>\n",
       "      <td>4</td>\n",
       "      <td>4</td>\n",
       "      <td>4</td>\n",
       "      <td>...</td>\n",
       "      <td>4</td>\n",
       "      <td>4</td>\n",
       "      <td>4</td>\n",
       "      <td>4</td>\n",
       "      <td>4</td>\n",
       "      <td>4</td>\n",
       "      <td>4</td>\n",
       "      <td>4</td>\n",
       "      <td>4</td>\n",
       "      <td>4</td>\n",
       "    </tr>\n",
       "    <tr>\n",
       "      <th>Italy</th>\n",
       "      <td>1</td>\n",
       "      <td>1</td>\n",
       "      <td>1</td>\n",
       "      <td>1</td>\n",
       "      <td>1</td>\n",
       "      <td>1</td>\n",
       "      <td>1</td>\n",
       "      <td>1</td>\n",
       "      <td>1</td>\n",
       "      <td>1</td>\n",
       "      <td>...</td>\n",
       "      <td>1</td>\n",
       "      <td>1</td>\n",
       "      <td>1</td>\n",
       "      <td>1</td>\n",
       "      <td>1</td>\n",
       "      <td>1</td>\n",
       "      <td>1</td>\n",
       "      <td>1</td>\n",
       "      <td>1</td>\n",
       "      <td>1</td>\n",
       "    </tr>\n",
       "    <tr>\n",
       "      <th>Japan</th>\n",
       "      <td>1</td>\n",
       "      <td>1</td>\n",
       "      <td>1</td>\n",
       "      <td>1</td>\n",
       "      <td>1</td>\n",
       "      <td>1</td>\n",
       "      <td>1</td>\n",
       "      <td>1</td>\n",
       "      <td>1</td>\n",
       "      <td>1</td>\n",
       "      <td>...</td>\n",
       "      <td>1</td>\n",
       "      <td>1</td>\n",
       "      <td>1</td>\n",
       "      <td>1</td>\n",
       "      <td>1</td>\n",
       "      <td>1</td>\n",
       "      <td>1</td>\n",
       "      <td>1</td>\n",
       "      <td>1</td>\n",
       "      <td>1</td>\n",
       "    </tr>\n",
       "    <tr>\n",
       "      <th>New Zealand</th>\n",
       "      <td>1</td>\n",
       "      <td>1</td>\n",
       "      <td>1</td>\n",
       "      <td>1</td>\n",
       "      <td>1</td>\n",
       "      <td>1</td>\n",
       "      <td>1</td>\n",
       "      <td>1</td>\n",
       "      <td>1</td>\n",
       "      <td>1</td>\n",
       "      <td>...</td>\n",
       "      <td>1</td>\n",
       "      <td>1</td>\n",
       "      <td>1</td>\n",
       "      <td>1</td>\n",
       "      <td>1</td>\n",
       "      <td>1</td>\n",
       "      <td>1</td>\n",
       "      <td>1</td>\n",
       "      <td>1</td>\n",
       "      <td>1</td>\n",
       "    </tr>\n",
       "    <tr>\n",
       "      <th>Portugal</th>\n",
       "      <td>1</td>\n",
       "      <td>1</td>\n",
       "      <td>1</td>\n",
       "      <td>1</td>\n",
       "      <td>1</td>\n",
       "      <td>1</td>\n",
       "      <td>1</td>\n",
       "      <td>1</td>\n",
       "      <td>1</td>\n",
       "      <td>1</td>\n",
       "      <td>...</td>\n",
       "      <td>1</td>\n",
       "      <td>1</td>\n",
       "      <td>1</td>\n",
       "      <td>1</td>\n",
       "      <td>1</td>\n",
       "      <td>1</td>\n",
       "      <td>1</td>\n",
       "      <td>1</td>\n",
       "      <td>1</td>\n",
       "      <td>1</td>\n",
       "    </tr>\n",
       "    <tr>\n",
       "      <th>South Africa</th>\n",
       "      <td>1</td>\n",
       "      <td>1</td>\n",
       "      <td>1</td>\n",
       "      <td>1</td>\n",
       "      <td>1</td>\n",
       "      <td>1</td>\n",
       "      <td>1</td>\n",
       "      <td>1</td>\n",
       "      <td>1</td>\n",
       "      <td>1</td>\n",
       "      <td>...</td>\n",
       "      <td>1</td>\n",
       "      <td>1</td>\n",
       "      <td>1</td>\n",
       "      <td>1</td>\n",
       "      <td>1</td>\n",
       "      <td>1</td>\n",
       "      <td>1</td>\n",
       "      <td>1</td>\n",
       "      <td>1</td>\n",
       "      <td>1</td>\n",
       "    </tr>\n",
       "    <tr>\n",
       "      <th>United States</th>\n",
       "      <td>4</td>\n",
       "      <td>4</td>\n",
       "      <td>4</td>\n",
       "      <td>4</td>\n",
       "      <td>4</td>\n",
       "      <td>4</td>\n",
       "      <td>4</td>\n",
       "      <td>4</td>\n",
       "      <td>4</td>\n",
       "      <td>4</td>\n",
       "      <td>...</td>\n",
       "      <td>4</td>\n",
       "      <td>4</td>\n",
       "      <td>4</td>\n",
       "      <td>4</td>\n",
       "      <td>4</td>\n",
       "      <td>4</td>\n",
       "      <td>4</td>\n",
       "      <td>4</td>\n",
       "      <td>4</td>\n",
       "      <td>4</td>\n",
       "    </tr>\n",
       "  </tbody>\n",
       "</table>\n",
       "<p>10 rows × 31 columns</p>\n",
       "</div>"
      ],
      "text/plain": [
       "               Men's CT 2019 Ranking  Heat wins  Avg. heat score  Rookie year  \\\n",
       "Country                                                                         \n",
       "Australia                          8          8                8            8   \n",
       "Brazil                            12         12               12           12   \n",
       "France                             3          3                3            3   \n",
       "Hawaii                             4          4                4            4   \n",
       "Italy                              1          1                1            1   \n",
       "Japan                              1          1                1            1   \n",
       "New Zealand                        1          1                1            1   \n",
       "Portugal                           1          1                1            1   \n",
       "South Africa                       1          1                1            1   \n",
       "United States                      4          4                4            4   \n",
       "\n",
       "               Stance  First season  Age  Height (cm)  Weight (kg)  \\\n",
       "Country                                                              \n",
       "Australia           8             8    8            8            8   \n",
       "Brazil             12            12   12           12           12   \n",
       "France              3             3    3            3            3   \n",
       "Hawaii              4             4    4            4            4   \n",
       "Italy               1             1    1            1            1   \n",
       "Japan               1             1    1            1            1   \n",
       "New Zealand         1             1    1            1            1   \n",
       "Portugal            1             1    1            1            1   \n",
       "South Africa        1             1    1            1            1   \n",
       "United States       4             4    4            4            4   \n",
       "\n",
       "               Event 1: Place  ...  Event 2: Points  Event 3: Points  \\\n",
       "Country                        ...                                     \n",
       "Australia                   8  ...                8                8   \n",
       "Brazil                     12  ...               12               12   \n",
       "France                      3  ...                3                3   \n",
       "Hawaii                      4  ...                4                4   \n",
       "Italy                       1  ...                1                1   \n",
       "Japan                       1  ...                1                1   \n",
       "New Zealand                 1  ...                1                1   \n",
       "Portugal                    1  ...                1                1   \n",
       "South Africa                1  ...                1                1   \n",
       "United States               4  ...                4                4   \n",
       "\n",
       "               Event 4: Points  Event 5: Points  Event 6: Points  \\\n",
       "Country                                                            \n",
       "Australia                    8                8                8   \n",
       "Brazil                      12               12               12   \n",
       "France                       3                3                3   \n",
       "Hawaii                       4                4                4   \n",
       "Italy                        1                1                1   \n",
       "Japan                        1                1                1   \n",
       "New Zealand                  1                1                1   \n",
       "Portugal                     1                1                1   \n",
       "South Africa                 1                1                1   \n",
       "United States                4                4                4   \n",
       "\n",
       "               Event 7: Points  Event 8: Points  Event 9: Points  \\\n",
       "Country                                                            \n",
       "Australia                    8                8                8   \n",
       "Brazil                      12               12               12   \n",
       "France                       3                3                3   \n",
       "Hawaii                       4                4                4   \n",
       "Italy                        1                1                1   \n",
       "Japan                        1                1                1   \n",
       "New Zealand                  1                1                1   \n",
       "Portugal                     1                1                1   \n",
       "South Africa                 1                1                1   \n",
       "United States                4                4                4   \n",
       "\n",
       "               Event 10: Points  Event 11: Points  \n",
       "Country                                            \n",
       "Australia                     8                 8  \n",
       "Brazil                       12                12  \n",
       "France                        3                 3  \n",
       "Hawaii                        4                 4  \n",
       "Italy                         1                 1  \n",
       "Japan                         1                 1  \n",
       "New Zealand                   1                 1  \n",
       "Portugal                      1                 1  \n",
       "South Africa                  1                 1  \n",
       "United States                 4                 4  \n",
       "\n",
       "[10 rows x 31 columns]"
      ]
     },
     "execution_count": 34,
     "metadata": {},
     "output_type": "execute_result"
    }
   ],
   "source": [
    "eee.groupby('Country').count()"
   ]
  },
  {
   "cell_type": "code",
   "execution_count": 57,
   "metadata": {},
   "outputs": [
    {
     "name": "stdout",
     "output_type": "stream",
     "text": [
      "               Country\n",
      "Brazil              12\n",
      "Australia            8\n",
      "United States        4\n",
      "Hawaii               4\n",
      "France               3\n",
      "Portugal             1\n",
      "South Africa         1\n",
      "New Zealand          1\n",
      "Japan                1\n",
      "Italy                1\n",
      "Brazil           12\n",
      "Australia         8\n",
      "United States     4\n",
      "Hawaii            4\n",
      "France            3\n",
      "Portugal          1\n",
      "South Africa      1\n",
      "New Zealand       1\n",
      "Japan             1\n",
      "Italy             1\n",
      "Name: Country, dtype: int64\n"
     ]
    },
    {
     "data": {
      "text/plain": [
       "Index(['Brazil', 'Australia', 'United States', 'Hawaii', 'France', 'Portugal',\n",
       "       'South Africa', 'New Zealand', 'Japan', 'Italy'],\n",
       "      dtype='object')"
      ]
     },
     "execution_count": 57,
     "metadata": {},
     "output_type": "execute_result"
    }
   ],
   "source": [
    "df = pd.DataFrame(fff['Country'].value_counts())\n",
    "print(df)\n",
    "\n",
    "print(df.loc[:,'Country'])\n",
    "df.index\n",
    "\n"
   ]
  },
  {
   "cell_type": "code",
   "execution_count": 18,
   "metadata": {},
   "outputs": [
    {
     "name": "stdout",
     "output_type": "stream",
     "text": [
      "<class 'pandas.core.frame.DataFrame'>\n",
      "Index: 36 entries, Italo Ferreira to Mikey Wright\n",
      "Data columns (total 32 columns):\n",
      "Men's CT 2019 Ranking    36 non-null int64\n",
      "Heat wins                36 non-null int32\n",
      "Avg. heat score          36 non-null float64\n",
      "Rookie year              36 non-null int32\n",
      "Stance                   36 non-null object\n",
      "First season             36 non-null object\n",
      "Age                      36 non-null int32\n",
      "Height (cm)              36 non-null int32\n",
      "Weight (kg)              36 non-null int32\n",
      "Country                  36 non-null object\n",
      "Event 1: Place           36 non-null object\n",
      "Event 2: Place           36 non-null object\n",
      "Event 3: Place           36 non-null object\n",
      "Event 4: Place           36 non-null object\n",
      "Event 5: Place           36 non-null object\n",
      "Event 6: Place           36 non-null object\n",
      "Event 7: Place           36 non-null object\n",
      "Event 8: Place           36 non-null object\n",
      "Event 9: Place           36 non-null object\n",
      "Event 10: Place          36 non-null object\n",
      "Event 11: Place          36 non-null object\n",
      "Event 1: Points          36 non-null int32\n",
      "Event 2: Points          36 non-null int32\n",
      "Event 3: Points          36 non-null int32\n",
      "Event 4: Points          36 non-null int32\n",
      "Event 5: Points          36 non-null int32\n",
      "Event 6: Points          36 non-null int32\n",
      "Event 7: Points          36 non-null int32\n",
      "Event 8: Points          36 non-null int32\n",
      "Event 9: Points          36 non-null int32\n",
      "Event 10: Points         36 non-null int32\n",
      "Event 11: Points         36 non-null int32\n",
      "dtypes: float64(1), int32(16), int64(1), object(14)\n",
      "memory usage: 8.3+ KB\n"
     ]
    }
   ],
   "source": [
    "eee.info()"
   ]
  },
  {
   "cell_type": "markdown",
   "metadata": {},
   "source": [
    "## Data Visualisation:"
   ]
  },
  {
   "cell_type": "code",
   "execution_count": 65,
   "metadata": {},
   "outputs": [],
   "source": [
    "import plotly.express as px\n",
    "import plotly.graph_objects as go"
   ]
  },
  {
   "cell_type": "code",
   "execution_count": 60,
   "metadata": {},
   "outputs": [
    {
     "data": {
      "application/vnd.plotly.v1+json": {
       "config": {
        "plotlyServerURL": "https://plot.ly"
       },
       "data": [
        {
         "hoverlabel": {
          "namelength": 0
         },
         "hovertemplate": "Athlete=Italo Ferreira<br>Country=%{x}<br>Heat wins=%{y}",
         "legendgroup": "Athlete=Italo Ferreira",
         "marker": {
          "color": "#636efa",
          "symbol": "circle"
         },
         "mode": "markers",
         "name": "Athlete=Italo Ferreira",
         "showlegend": true,
         "type": "scatter",
         "x": [
          "Brazil"
         ],
         "xaxis": "x",
         "y": [
          33
         ],
         "yaxis": "y"
        },
        {
         "hoverlabel": {
          "namelength": 0
         },
         "hovertemplate": "Athlete=Gabriel Medina<br>Country=%{x}<br>Heat wins=%{y}",
         "legendgroup": "Athlete=Gabriel Medina",
         "marker": {
          "color": "#EF553B",
          "symbol": "circle"
         },
         "mode": "markers",
         "name": "Athlete=Gabriel Medina",
         "showlegend": true,
         "type": "scatter",
         "x": [
          "Brazil"
         ],
         "xaxis": "x",
         "y": [
          31
         ],
         "yaxis": "y"
        },
        {
         "hoverlabel": {
          "namelength": 0
         },
         "hovertemplate": "Athlete=Jordy Smith<br>Country=%{x}<br>Heat wins=%{y}",
         "legendgroup": "Athlete=Jordy Smith",
         "marker": {
          "color": "#00cc96",
          "symbol": "circle"
         },
         "mode": "markers",
         "name": "Athlete=Jordy Smith",
         "showlegend": true,
         "type": "scatter",
         "x": [
          "South Africa"
         ],
         "xaxis": "x",
         "y": [
          25
         ],
         "yaxis": "y"
        },
        {
         "hoverlabel": {
          "namelength": 0
         },
         "hovertemplate": "Athlete=Filipe Toledo<br>Country=%{x}<br>Heat wins=%{y}",
         "legendgroup": "Athlete=Filipe Toledo",
         "marker": {
          "color": "#ab63fa",
          "symbol": "circle"
         },
         "mode": "markers",
         "name": "Athlete=Filipe Toledo",
         "showlegend": true,
         "type": "scatter",
         "x": [
          "Brazil"
         ],
         "xaxis": "x",
         "y": [
          27
         ],
         "yaxis": "y"
        },
        {
         "hoverlabel": {
          "namelength": 0
         },
         "hovertemplate": "Athlete=Kolohe Andino<br>Country=%{x}<br>Heat wins=%{y}",
         "legendgroup": "Athlete=Kolohe Andino",
         "marker": {
          "color": "#FFA15A",
          "symbol": "circle"
         },
         "mode": "markers",
         "name": "Athlete=Kolohe Andino",
         "showlegend": true,
         "type": "scatter",
         "x": [
          "United States"
         ],
         "xaxis": "x",
         "y": [
          28
         ],
         "yaxis": "y"
        },
        {
         "hoverlabel": {
          "namelength": 0
         },
         "hovertemplate": "Athlete=Kanoa Igarashi<br>Country=%{x}<br>Heat wins=%{y}",
         "legendgroup": "Athlete=Kanoa Igarashi",
         "marker": {
          "color": "#19d3f3",
          "symbol": "circle"
         },
         "mode": "markers",
         "name": "Athlete=Kanoa Igarashi",
         "showlegend": true,
         "type": "scatter",
         "x": [
          "Japan"
         ],
         "xaxis": "x",
         "y": [
          22
         ],
         "yaxis": "y"
        },
        {
         "hoverlabel": {
          "namelength": 0
         },
         "hovertemplate": "Athlete=John John Florence<br>Country=%{x}<br>Heat wins=%{y}",
         "legendgroup": "Athlete=John John Florence",
         "marker": {
          "color": "#FF6692",
          "symbol": "circle"
         },
         "mode": "markers",
         "name": "Athlete=John John Florence",
         "showlegend": true,
         "type": "scatter",
         "x": [
          "Hawaii"
         ],
         "xaxis": "x",
         "y": [
          22
         ],
         "yaxis": "y"
        },
        {
         "hoverlabel": {
          "namelength": 0
         },
         "hovertemplate": "Athlete=Kelly Slater<br>Country=%{x}<br>Heat wins=%{y}",
         "legendgroup": "Athlete=Kelly Slater",
         "marker": {
          "color": "#B6E880",
          "symbol": "circle"
         },
         "mode": "markers",
         "name": "Athlete=Kelly Slater",
         "showlegend": true,
         "type": "scatter",
         "x": [
          "United States"
         ],
         "xaxis": "x",
         "y": [
          17
         ],
         "yaxis": "y"
        },
        {
         "hoverlabel": {
          "namelength": 0
         },
         "hovertemplate": "Athlete=Owen Wright<br>Country=%{x}<br>Heat wins=%{y}",
         "legendgroup": "Athlete=Owen Wright",
         "marker": {
          "color": "#FF97FF",
          "symbol": "circle"
         },
         "mode": "markers",
         "name": "Athlete=Owen Wright",
         "showlegend": true,
         "type": "scatter",
         "x": [
          "Australia"
         ],
         "xaxis": "x",
         "y": [
          18
         ],
         "yaxis": "y"
        },
        {
         "hoverlabel": {
          "namelength": 0
         },
         "hovertemplate": "Athlete=Jeremy Flores<br>Country=%{x}<br>Heat wins=%{y}",
         "legendgroup": "Athlete=Jeremy Flores",
         "marker": {
          "color": "#FECB52",
          "symbol": "circle"
         },
         "mode": "markers",
         "name": "Athlete=Jeremy Flores",
         "showlegend": true,
         "type": "scatter",
         "x": [
          "France"
         ],
         "xaxis": "x",
         "y": [
          13
         ],
         "yaxis": "y"
        },
        {
         "hoverlabel": {
          "namelength": 0
         },
         "hovertemplate": "Athlete=Julian Wilson<br>Country=%{x}<br>Heat wins=%{y}",
         "legendgroup": "Athlete=Julian Wilson",
         "marker": {
          "color": "#636efa",
          "symbol": "circle"
         },
         "mode": "markers",
         "name": "Athlete=Julian Wilson",
         "showlegend": true,
         "type": "scatter",
         "x": [
          "Australia"
         ],
         "xaxis": "x",
         "y": [
          15
         ],
         "yaxis": "y"
        },
        {
         "hoverlabel": {
          "namelength": 0
         },
         "hovertemplate": "Athlete=Seth Moniz<br>Country=%{x}<br>Heat wins=%{y}",
         "legendgroup": "Athlete=Seth Moniz",
         "marker": {
          "color": "#EF553B",
          "symbol": "circle"
         },
         "mode": "markers",
         "name": "Athlete=Seth Moniz",
         "showlegend": true,
         "type": "scatter",
         "x": [
          "Hawaii"
         ],
         "xaxis": "x",
         "y": [
          16
         ],
         "yaxis": "y"
        },
        {
         "hoverlabel": {
          "namelength": 0
         },
         "hovertemplate": "Athlete=Michel Bourez<br>Country=%{x}<br>Heat wins=%{y}",
         "legendgroup": "Athlete=Michel Bourez",
         "marker": {
          "color": "#00cc96",
          "symbol": "circle"
         },
         "mode": "markers",
         "name": "Athlete=Michel Bourez",
         "showlegend": true,
         "type": "scatter",
         "x": [
          "France"
         ],
         "xaxis": "x",
         "y": [
          14
         ],
         "yaxis": "y"
        },
        {
         "hoverlabel": {
          "namelength": 0
         },
         "hovertemplate": "Athlete=Ryan Callinan<br>Country=%{x}<br>Heat wins=%{y}",
         "legendgroup": "Athlete=Ryan Callinan",
         "marker": {
          "color": "#ab63fa",
          "symbol": "circle"
         },
         "mode": "markers",
         "name": "Athlete=Ryan Callinan",
         "showlegend": true,
         "type": "scatter",
         "x": [
          "Australia"
         ],
         "xaxis": "x",
         "y": [
          13
         ],
         "yaxis": "y"
        },
        {
         "hoverlabel": {
          "namelength": 0
         },
         "hovertemplate": "Athlete=Jack Freestone<br>Country=%{x}<br>Heat wins=%{y}",
         "legendgroup": "Athlete=Jack Freestone",
         "marker": {
          "color": "#FFA15A",
          "symbol": "circle"
         },
         "mode": "markers",
         "name": "Athlete=Jack Freestone",
         "showlegend": true,
         "type": "scatter",
         "x": [
          "Australia"
         ],
         "xaxis": "x",
         "y": [
          13
         ],
         "yaxis": "y"
        },
        {
         "hoverlabel": {
          "namelength": 0
         },
         "hovertemplate": "Athlete=Griffin Colapinto<br>Country=%{x}<br>Heat wins=%{y}",
         "legendgroup": "Athlete=Griffin Colapinto",
         "marker": {
          "color": "#19d3f3",
          "symbol": "circle"
         },
         "mode": "markers",
         "name": "Athlete=Griffin Colapinto",
         "showlegend": true,
         "type": "scatter",
         "x": [
          "United States"
         ],
         "xaxis": "x",
         "y": [
          11
         ],
         "yaxis": "y"
        },
        {
         "hoverlabel": {
          "namelength": 0
         },
         "hovertemplate": "Athlete=Caio Ibelli<br>Country=%{x}<br>Heat wins=%{y}",
         "legendgroup": "Athlete=Caio Ibelli",
         "marker": {
          "color": "#FF6692",
          "symbol": "circle"
         },
         "mode": "markers",
         "name": "Athlete=Caio Ibelli",
         "showlegend": true,
         "type": "scatter",
         "x": [
          "Brazil"
         ],
         "xaxis": "x",
         "y": [
          10
         ],
         "yaxis": "y"
        },
        {
         "hoverlabel": {
          "namelength": 0
         },
         "hovertemplate": "Athlete=Wade Carmichael<br>Country=%{x}<br>Heat wins=%{y}",
         "legendgroup": "Athlete=Wade Carmichael",
         "marker": {
          "color": "#B6E880",
          "symbol": "circle"
         },
         "mode": "markers",
         "name": "Athlete=Wade Carmichael",
         "showlegend": true,
         "type": "scatter",
         "x": [
          "Australia"
         ],
         "xaxis": "x",
         "y": [
          9
         ],
         "yaxis": "y"
        },
        {
         "hoverlabel": {
          "namelength": 0
         },
         "hovertemplate": "Athlete=Adrian Buchan<br>Country=%{x}<br>Heat wins=%{y}",
         "legendgroup": "Athlete=Adrian Buchan",
         "marker": {
          "color": "#FF97FF",
          "symbol": "circle"
         },
         "mode": "markers",
         "name": "Athlete=Adrian Buchan",
         "showlegend": true,
         "type": "scatter",
         "x": [
          "Australia"
         ],
         "xaxis": "x",
         "y": [
          11
         ],
         "yaxis": "y"
        },
        {
         "hoverlabel": {
          "namelength": 0
         },
         "hovertemplate": "Athlete=Conner Coffin<br>Country=%{x}<br>Heat wins=%{y}",
         "legendgroup": "Athlete=Conner Coffin",
         "marker": {
          "color": "#FECB52",
          "symbol": "circle"
         },
         "mode": "markers",
         "name": "Athlete=Conner Coffin",
         "showlegend": true,
         "type": "scatter",
         "x": [
          "United States"
         ],
         "xaxis": "x",
         "y": [
          11
         ],
         "yaxis": "y"
        },
        {
         "hoverlabel": {
          "namelength": 0
         },
         "hovertemplate": "Athlete=Peterson Crisanto<br>Country=%{x}<br>Heat wins=%{y}",
         "legendgroup": "Athlete=Peterson Crisanto",
         "marker": {
          "color": "#636efa",
          "symbol": "circle"
         },
         "mode": "markers",
         "name": "Athlete=Peterson Crisanto",
         "showlegend": true,
         "type": "scatter",
         "x": [
          "Brazil"
         ],
         "xaxis": "x",
         "y": [
          13
         ],
         "yaxis": "y"
        },
        {
         "hoverlabel": {
          "namelength": 0
         },
         "hovertemplate": "Athlete=Yago Dora<br>Country=%{x}<br>Heat wins=%{y}",
         "legendgroup": "Athlete=Yago Dora",
         "marker": {
          "color": "#EF553B",
          "symbol": "circle"
         },
         "mode": "markers",
         "name": "Athlete=Yago Dora",
         "showlegend": true,
         "type": "scatter",
         "x": [
          "Brazil"
         ],
         "xaxis": "x",
         "y": [
          11
         ],
         "yaxis": "y"
        },
        {
         "hoverlabel": {
          "namelength": 0
         },
         "hovertemplate": "Athlete=Deivid Silva<br>Country=%{x}<br>Heat wins=%{y}",
         "legendgroup": "Athlete=Deivid Silva",
         "marker": {
          "color": "#00cc96",
          "symbol": "circle"
         },
         "mode": "markers",
         "name": "Athlete=Deivid Silva",
         "showlegend": true,
         "type": "scatter",
         "x": [
          "Brazil"
         ],
         "xaxis": "x",
         "y": [
          6
         ],
         "yaxis": "y"
        },
        {
         "hoverlabel": {
          "namelength": 0
         },
         "hovertemplate": "Athlete=Willian Cardoso<br>Country=%{x}<br>Heat wins=%{y}",
         "legendgroup": "Athlete=Willian Cardoso",
         "marker": {
          "color": "#ab63fa",
          "symbol": "circle"
         },
         "mode": "markers",
         "name": "Athlete=Willian Cardoso",
         "showlegend": true,
         "type": "scatter",
         "x": [
          "Brazil"
         ],
         "xaxis": "x",
         "y": [
          1
         ],
         "yaxis": "y"
        },
        {
         "hoverlabel": {
          "namelength": 0
         },
         "hovertemplate": "Athlete=Jesse Mendes<br>Country=%{x}<br>Heat wins=%{y}",
         "legendgroup": "Athlete=Jesse Mendes",
         "marker": {
          "color": "#FFA15A",
          "symbol": "circle"
         },
         "mode": "markers",
         "name": "Athlete=Jesse Mendes",
         "showlegend": true,
         "type": "scatter",
         "x": [
          "Brazil"
         ],
         "xaxis": "x",
         "y": [
          10
         ],
         "yaxis": "y"
        },
        {
         "hoverlabel": {
          "namelength": 0
         },
         "hovertemplate": "Athlete=Michael Rodrigues<br>Country=%{x}<br>Heat wins=%{y}",
         "legendgroup": "Athlete=Michael Rodrigues",
         "marker": {
          "color": "#19d3f3",
          "symbol": "circle"
         },
         "mode": "markers",
         "name": "Athlete=Michael Rodrigues",
         "showlegend": true,
         "type": "scatter",
         "x": [
          "Brazil"
         ],
         "xaxis": "x",
         "y": [
          3
         ],
         "yaxis": "y"
        },
        {
         "hoverlabel": {
          "namelength": 0
         },
         "hovertemplate": "Athlete=Sebastian Zietz<br>Country=%{x}<br>Heat wins=%{y}",
         "legendgroup": "Athlete=Sebastian Zietz",
         "marker": {
          "color": "#FF6692",
          "symbol": "circle"
         },
         "mode": "markers",
         "name": "Athlete=Sebastian Zietz",
         "showlegend": true,
         "type": "scatter",
         "x": [
          "Hawaii"
         ],
         "xaxis": "x",
         "y": [
          3
         ],
         "yaxis": "y"
        },
        {
         "hoverlabel": {
          "namelength": 0
         },
         "hovertemplate": "Athlete=Ezekiel Lau<br>Country=%{x}<br>Heat wins=%{y}",
         "legendgroup": "Athlete=Ezekiel Lau",
         "marker": {
          "color": "#B6E880",
          "symbol": "circle"
         },
         "mode": "markers",
         "name": "Athlete=Ezekiel Lau",
         "showlegend": true,
         "type": "scatter",
         "x": [
          "Hawaii"
         ],
         "xaxis": "x",
         "y": [
          7
         ],
         "yaxis": "y"
        },
        {
         "hoverlabel": {
          "namelength": 0
         },
         "hovertemplate": "Athlete=Joan Duru<br>Country=%{x}<br>Heat wins=%{y}",
         "legendgroup": "Athlete=Joan Duru",
         "marker": {
          "color": "#FF97FF",
          "symbol": "circle"
         },
         "mode": "markers",
         "name": "Athlete=Joan Duru",
         "showlegend": true,
         "type": "scatter",
         "x": [
          "France"
         ],
         "xaxis": "x",
         "y": [
          2
         ],
         "yaxis": "y"
        },
        {
         "hoverlabel": {
          "namelength": 0
         },
         "hovertemplate": "Athlete=Soli Bailey<br>Country=%{x}<br>Heat wins=%{y}",
         "legendgroup": "Athlete=Soli Bailey",
         "marker": {
          "color": "#FECB52",
          "symbol": "circle"
         },
         "mode": "markers",
         "name": "Athlete=Soli Bailey",
         "showlegend": true,
         "type": "scatter",
         "x": [
          "Australia"
         ],
         "xaxis": "x",
         "y": [
          3
         ],
         "yaxis": "y"
        },
        {
         "hoverlabel": {
          "namelength": 0
         },
         "hovertemplate": "Athlete=Leonardo Fioravanti<br>Country=%{x}<br>Heat wins=%{y}",
         "legendgroup": "Athlete=Leonardo Fioravanti",
         "marker": {
          "color": "#636efa",
          "symbol": "circle"
         },
         "mode": "markers",
         "name": "Athlete=Leonardo Fioravanti",
         "showlegend": true,
         "type": "scatter",
         "x": [
          "Italy"
         ],
         "xaxis": "x",
         "y": [
          6
         ],
         "yaxis": "y"
        },
        {
         "hoverlabel": {
          "namelength": 0
         },
         "hovertemplate": "Athlete=Jadson Andre<br>Country=%{x}<br>Heat wins=%{y}",
         "legendgroup": "Athlete=Jadson Andre",
         "marker": {
          "color": "#EF553B",
          "symbol": "circle"
         },
         "mode": "markers",
         "name": "Athlete=Jadson Andre",
         "showlegend": true,
         "type": "scatter",
         "x": [
          "Brazil"
         ],
         "xaxis": "x",
         "y": [
          4
         ],
         "yaxis": "y"
        },
        {
         "hoverlabel": {
          "namelength": 0
         },
         "hovertemplate": "Athlete=Ricardo Christie<br>Country=%{x}<br>Heat wins=%{y}",
         "legendgroup": "Athlete=Ricardo Christie",
         "marker": {
          "color": "#00cc96",
          "symbol": "circle"
         },
         "mode": "markers",
         "name": "Athlete=Ricardo Christie",
         "showlegend": true,
         "type": "scatter",
         "x": [
          "New Zealand"
         ],
         "xaxis": "x",
         "y": [
          1
         ],
         "yaxis": "y"
        },
        {
         "hoverlabel": {
          "namelength": 0
         },
         "hovertemplate": "Athlete=Frederico Morais<br>Country=%{x}<br>Heat wins=%{y}",
         "legendgroup": "Athlete=Frederico Morais",
         "marker": {
          "color": "#ab63fa",
          "symbol": "circle"
         },
         "mode": "markers",
         "name": "Athlete=Frederico Morais",
         "showlegend": true,
         "type": "scatter",
         "x": [
          "Portugal"
         ],
         "xaxis": "x",
         "y": [
          3
         ],
         "yaxis": "y"
        },
        {
         "hoverlabel": {
          "namelength": 0
         },
         "hovertemplate": "Athlete=Adriano de Souza<br>Country=%{x}<br>Heat wins=%{y}",
         "legendgroup": "Athlete=Adriano de Souza",
         "marker": {
          "color": "#FFA15A",
          "symbol": "circle"
         },
         "mode": "markers",
         "name": "Athlete=Adriano de Souza",
         "showlegend": true,
         "type": "scatter",
         "x": [
          "Brazil"
         ],
         "xaxis": "x",
         "y": [
          2
         ],
         "yaxis": "y"
        },
        {
         "hoverlabel": {
          "namelength": 0
         },
         "hovertemplate": "Athlete=Mikey Wright<br>Country=%{x}<br>Heat wins=%{y}",
         "legendgroup": "Athlete=Mikey Wright",
         "marker": {
          "color": "#19d3f3",
          "symbol": "circle"
         },
         "mode": "markers",
         "name": "Athlete=Mikey Wright",
         "showlegend": true,
         "type": "scatter",
         "x": [
          "Australia"
         ],
         "xaxis": "x",
         "y": [
          3
         ],
         "yaxis": "y"
        }
       ],
       "layout": {
        "legend": {
         "tracegroupgap": 0
        },
        "template": {
         "data": {
          "bar": [
           {
            "error_x": {
             "color": "#2a3f5f"
            },
            "error_y": {
             "color": "#2a3f5f"
            },
            "marker": {
             "line": {
              "color": "#E5ECF6",
              "width": 0.5
             }
            },
            "type": "bar"
           }
          ],
          "barpolar": [
           {
            "marker": {
             "line": {
              "color": "#E5ECF6",
              "width": 0.5
             }
            },
            "type": "barpolar"
           }
          ],
          "carpet": [
           {
            "aaxis": {
             "endlinecolor": "#2a3f5f",
             "gridcolor": "white",
             "linecolor": "white",
             "minorgridcolor": "white",
             "startlinecolor": "#2a3f5f"
            },
            "baxis": {
             "endlinecolor": "#2a3f5f",
             "gridcolor": "white",
             "linecolor": "white",
             "minorgridcolor": "white",
             "startlinecolor": "#2a3f5f"
            },
            "type": "carpet"
           }
          ],
          "choropleth": [
           {
            "colorbar": {
             "outlinewidth": 0,
             "ticks": ""
            },
            "type": "choropleth"
           }
          ],
          "contour": [
           {
            "colorbar": {
             "outlinewidth": 0,
             "ticks": ""
            },
            "colorscale": [
             [
              0,
              "#0d0887"
             ],
             [
              0.1111111111111111,
              "#46039f"
             ],
             [
              0.2222222222222222,
              "#7201a8"
             ],
             [
              0.3333333333333333,
              "#9c179e"
             ],
             [
              0.4444444444444444,
              "#bd3786"
             ],
             [
              0.5555555555555556,
              "#d8576b"
             ],
             [
              0.6666666666666666,
              "#ed7953"
             ],
             [
              0.7777777777777778,
              "#fb9f3a"
             ],
             [
              0.8888888888888888,
              "#fdca26"
             ],
             [
              1,
              "#f0f921"
             ]
            ],
            "type": "contour"
           }
          ],
          "contourcarpet": [
           {
            "colorbar": {
             "outlinewidth": 0,
             "ticks": ""
            },
            "type": "contourcarpet"
           }
          ],
          "heatmap": [
           {
            "colorbar": {
             "outlinewidth": 0,
             "ticks": ""
            },
            "colorscale": [
             [
              0,
              "#0d0887"
             ],
             [
              0.1111111111111111,
              "#46039f"
             ],
             [
              0.2222222222222222,
              "#7201a8"
             ],
             [
              0.3333333333333333,
              "#9c179e"
             ],
             [
              0.4444444444444444,
              "#bd3786"
             ],
             [
              0.5555555555555556,
              "#d8576b"
             ],
             [
              0.6666666666666666,
              "#ed7953"
             ],
             [
              0.7777777777777778,
              "#fb9f3a"
             ],
             [
              0.8888888888888888,
              "#fdca26"
             ],
             [
              1,
              "#f0f921"
             ]
            ],
            "type": "heatmap"
           }
          ],
          "heatmapgl": [
           {
            "colorbar": {
             "outlinewidth": 0,
             "ticks": ""
            },
            "colorscale": [
             [
              0,
              "#0d0887"
             ],
             [
              0.1111111111111111,
              "#46039f"
             ],
             [
              0.2222222222222222,
              "#7201a8"
             ],
             [
              0.3333333333333333,
              "#9c179e"
             ],
             [
              0.4444444444444444,
              "#bd3786"
             ],
             [
              0.5555555555555556,
              "#d8576b"
             ],
             [
              0.6666666666666666,
              "#ed7953"
             ],
             [
              0.7777777777777778,
              "#fb9f3a"
             ],
             [
              0.8888888888888888,
              "#fdca26"
             ],
             [
              1,
              "#f0f921"
             ]
            ],
            "type": "heatmapgl"
           }
          ],
          "histogram": [
           {
            "marker": {
             "colorbar": {
              "outlinewidth": 0,
              "ticks": ""
             }
            },
            "type": "histogram"
           }
          ],
          "histogram2d": [
           {
            "colorbar": {
             "outlinewidth": 0,
             "ticks": ""
            },
            "colorscale": [
             [
              0,
              "#0d0887"
             ],
             [
              0.1111111111111111,
              "#46039f"
             ],
             [
              0.2222222222222222,
              "#7201a8"
             ],
             [
              0.3333333333333333,
              "#9c179e"
             ],
             [
              0.4444444444444444,
              "#bd3786"
             ],
             [
              0.5555555555555556,
              "#d8576b"
             ],
             [
              0.6666666666666666,
              "#ed7953"
             ],
             [
              0.7777777777777778,
              "#fb9f3a"
             ],
             [
              0.8888888888888888,
              "#fdca26"
             ],
             [
              1,
              "#f0f921"
             ]
            ],
            "type": "histogram2d"
           }
          ],
          "histogram2dcontour": [
           {
            "colorbar": {
             "outlinewidth": 0,
             "ticks": ""
            },
            "colorscale": [
             [
              0,
              "#0d0887"
             ],
             [
              0.1111111111111111,
              "#46039f"
             ],
             [
              0.2222222222222222,
              "#7201a8"
             ],
             [
              0.3333333333333333,
              "#9c179e"
             ],
             [
              0.4444444444444444,
              "#bd3786"
             ],
             [
              0.5555555555555556,
              "#d8576b"
             ],
             [
              0.6666666666666666,
              "#ed7953"
             ],
             [
              0.7777777777777778,
              "#fb9f3a"
             ],
             [
              0.8888888888888888,
              "#fdca26"
             ],
             [
              1,
              "#f0f921"
             ]
            ],
            "type": "histogram2dcontour"
           }
          ],
          "mesh3d": [
           {
            "colorbar": {
             "outlinewidth": 0,
             "ticks": ""
            },
            "type": "mesh3d"
           }
          ],
          "parcoords": [
           {
            "line": {
             "colorbar": {
              "outlinewidth": 0,
              "ticks": ""
             }
            },
            "type": "parcoords"
           }
          ],
          "pie": [
           {
            "automargin": true,
            "type": "pie"
           }
          ],
          "scatter": [
           {
            "marker": {
             "colorbar": {
              "outlinewidth": 0,
              "ticks": ""
             }
            },
            "type": "scatter"
           }
          ],
          "scatter3d": [
           {
            "line": {
             "colorbar": {
              "outlinewidth": 0,
              "ticks": ""
             }
            },
            "marker": {
             "colorbar": {
              "outlinewidth": 0,
              "ticks": ""
             }
            },
            "type": "scatter3d"
           }
          ],
          "scattercarpet": [
           {
            "marker": {
             "colorbar": {
              "outlinewidth": 0,
              "ticks": ""
             }
            },
            "type": "scattercarpet"
           }
          ],
          "scattergeo": [
           {
            "marker": {
             "colorbar": {
              "outlinewidth": 0,
              "ticks": ""
             }
            },
            "type": "scattergeo"
           }
          ],
          "scattergl": [
           {
            "marker": {
             "colorbar": {
              "outlinewidth": 0,
              "ticks": ""
             }
            },
            "type": "scattergl"
           }
          ],
          "scattermapbox": [
           {
            "marker": {
             "colorbar": {
              "outlinewidth": 0,
              "ticks": ""
             }
            },
            "type": "scattermapbox"
           }
          ],
          "scatterpolar": [
           {
            "marker": {
             "colorbar": {
              "outlinewidth": 0,
              "ticks": ""
             }
            },
            "type": "scatterpolar"
           }
          ],
          "scatterpolargl": [
           {
            "marker": {
             "colorbar": {
              "outlinewidth": 0,
              "ticks": ""
             }
            },
            "type": "scatterpolargl"
           }
          ],
          "scatterternary": [
           {
            "marker": {
             "colorbar": {
              "outlinewidth": 0,
              "ticks": ""
             }
            },
            "type": "scatterternary"
           }
          ],
          "surface": [
           {
            "colorbar": {
             "outlinewidth": 0,
             "ticks": ""
            },
            "colorscale": [
             [
              0,
              "#0d0887"
             ],
             [
              0.1111111111111111,
              "#46039f"
             ],
             [
              0.2222222222222222,
              "#7201a8"
             ],
             [
              0.3333333333333333,
              "#9c179e"
             ],
             [
              0.4444444444444444,
              "#bd3786"
             ],
             [
              0.5555555555555556,
              "#d8576b"
             ],
             [
              0.6666666666666666,
              "#ed7953"
             ],
             [
              0.7777777777777778,
              "#fb9f3a"
             ],
             [
              0.8888888888888888,
              "#fdca26"
             ],
             [
              1,
              "#f0f921"
             ]
            ],
            "type": "surface"
           }
          ],
          "table": [
           {
            "cells": {
             "fill": {
              "color": "#EBF0F8"
             },
             "line": {
              "color": "white"
             }
            },
            "header": {
             "fill": {
              "color": "#C8D4E3"
             },
             "line": {
              "color": "white"
             }
            },
            "type": "table"
           }
          ]
         },
         "layout": {
          "annotationdefaults": {
           "arrowcolor": "#2a3f5f",
           "arrowhead": 0,
           "arrowwidth": 1
          },
          "coloraxis": {
           "colorbar": {
            "outlinewidth": 0,
            "ticks": ""
           }
          },
          "colorscale": {
           "diverging": [
            [
             0,
             "#8e0152"
            ],
            [
             0.1,
             "#c51b7d"
            ],
            [
             0.2,
             "#de77ae"
            ],
            [
             0.3,
             "#f1b6da"
            ],
            [
             0.4,
             "#fde0ef"
            ],
            [
             0.5,
             "#f7f7f7"
            ],
            [
             0.6,
             "#e6f5d0"
            ],
            [
             0.7,
             "#b8e186"
            ],
            [
             0.8,
             "#7fbc41"
            ],
            [
             0.9,
             "#4d9221"
            ],
            [
             1,
             "#276419"
            ]
           ],
           "sequential": [
            [
             0,
             "#0d0887"
            ],
            [
             0.1111111111111111,
             "#46039f"
            ],
            [
             0.2222222222222222,
             "#7201a8"
            ],
            [
             0.3333333333333333,
             "#9c179e"
            ],
            [
             0.4444444444444444,
             "#bd3786"
            ],
            [
             0.5555555555555556,
             "#d8576b"
            ],
            [
             0.6666666666666666,
             "#ed7953"
            ],
            [
             0.7777777777777778,
             "#fb9f3a"
            ],
            [
             0.8888888888888888,
             "#fdca26"
            ],
            [
             1,
             "#f0f921"
            ]
           ],
           "sequentialminus": [
            [
             0,
             "#0d0887"
            ],
            [
             0.1111111111111111,
             "#46039f"
            ],
            [
             0.2222222222222222,
             "#7201a8"
            ],
            [
             0.3333333333333333,
             "#9c179e"
            ],
            [
             0.4444444444444444,
             "#bd3786"
            ],
            [
             0.5555555555555556,
             "#d8576b"
            ],
            [
             0.6666666666666666,
             "#ed7953"
            ],
            [
             0.7777777777777778,
             "#fb9f3a"
            ],
            [
             0.8888888888888888,
             "#fdca26"
            ],
            [
             1,
             "#f0f921"
            ]
           ]
          },
          "colorway": [
           "#636efa",
           "#EF553B",
           "#00cc96",
           "#ab63fa",
           "#FFA15A",
           "#19d3f3",
           "#FF6692",
           "#B6E880",
           "#FF97FF",
           "#FECB52"
          ],
          "font": {
           "color": "#2a3f5f"
          },
          "geo": {
           "bgcolor": "white",
           "lakecolor": "white",
           "landcolor": "#E5ECF6",
           "showlakes": true,
           "showland": true,
           "subunitcolor": "white"
          },
          "hoverlabel": {
           "align": "left"
          },
          "hovermode": "closest",
          "mapbox": {
           "style": "light"
          },
          "paper_bgcolor": "white",
          "plot_bgcolor": "#E5ECF6",
          "polar": {
           "angularaxis": {
            "gridcolor": "white",
            "linecolor": "white",
            "ticks": ""
           },
           "bgcolor": "#E5ECF6",
           "radialaxis": {
            "gridcolor": "white",
            "linecolor": "white",
            "ticks": ""
           }
          },
          "scene": {
           "xaxis": {
            "backgroundcolor": "#E5ECF6",
            "gridcolor": "white",
            "gridwidth": 2,
            "linecolor": "white",
            "showbackground": true,
            "ticks": "",
            "zerolinecolor": "white"
           },
           "yaxis": {
            "backgroundcolor": "#E5ECF6",
            "gridcolor": "white",
            "gridwidth": 2,
            "linecolor": "white",
            "showbackground": true,
            "ticks": "",
            "zerolinecolor": "white"
           },
           "zaxis": {
            "backgroundcolor": "#E5ECF6",
            "gridcolor": "white",
            "gridwidth": 2,
            "linecolor": "white",
            "showbackground": true,
            "ticks": "",
            "zerolinecolor": "white"
           }
          },
          "shapedefaults": {
           "line": {
            "color": "#2a3f5f"
           }
          },
          "ternary": {
           "aaxis": {
            "gridcolor": "white",
            "linecolor": "white",
            "ticks": ""
           },
           "baxis": {
            "gridcolor": "white",
            "linecolor": "white",
            "ticks": ""
           },
           "bgcolor": "#E5ECF6",
           "caxis": {
            "gridcolor": "white",
            "linecolor": "white",
            "ticks": ""
           }
          },
          "title": {
           "x": 0.05
          },
          "xaxis": {
           "automargin": true,
           "gridcolor": "white",
           "linecolor": "white",
           "ticks": "",
           "title": {
            "standoff": 15
           },
           "zerolinecolor": "white",
           "zerolinewidth": 2
          },
          "yaxis": {
           "automargin": true,
           "gridcolor": "white",
           "linecolor": "white",
           "ticks": "",
           "title": {
            "standoff": 15
           },
           "zerolinecolor": "white",
           "zerolinewidth": 2
          }
         }
        },
        "title": {
         "text": "Heat wins by Country and Athlete"
        },
        "xaxis": {
         "anchor": "y",
         "domain": [
          0,
          1
         ],
         "title": {
          "text": "Country"
         }
        },
        "yaxis": {
         "anchor": "x",
         "domain": [
          0,
          1
         ],
         "title": {
          "text": "Heat wins"
         }
        }
       }
      },
      "text/html": [
       "<div>\n",
       "        \n",
       "        \n",
       "            <div id=\"a19a172c-2e9b-4997-a040-6c2d5ef95db4\" class=\"plotly-graph-div\" style=\"height:525px; width:100%;\"></div>\n",
       "            <script type=\"text/javascript\">\n",
       "                require([\"plotly\"], function(Plotly) {\n",
       "                    window.PLOTLYENV=window.PLOTLYENV || {};\n",
       "                    \n",
       "                if (document.getElementById(\"a19a172c-2e9b-4997-a040-6c2d5ef95db4\")) {\n",
       "                    Plotly.newPlot(\n",
       "                        'a19a172c-2e9b-4997-a040-6c2d5ef95db4',\n",
       "                        [{\"hoverlabel\": {\"namelength\": 0}, \"hovertemplate\": \"Athlete=Italo Ferreira<br>Country=%{x}<br>Heat wins=%{y}\", \"legendgroup\": \"Athlete=Italo Ferreira\", \"marker\": {\"color\": \"#636efa\", \"symbol\": \"circle\"}, \"mode\": \"markers\", \"name\": \"Athlete=Italo Ferreira\", \"showlegend\": true, \"type\": \"scatter\", \"x\": [\"Brazil\"], \"xaxis\": \"x\", \"y\": [33.0], \"yaxis\": \"y\"}, {\"hoverlabel\": {\"namelength\": 0}, \"hovertemplate\": \"Athlete=Gabriel Medina<br>Country=%{x}<br>Heat wins=%{y}\", \"legendgroup\": \"Athlete=Gabriel Medina\", \"marker\": {\"color\": \"#EF553B\", \"symbol\": \"circle\"}, \"mode\": \"markers\", \"name\": \"Athlete=Gabriel Medina\", \"showlegend\": true, \"type\": \"scatter\", \"x\": [\"Brazil\"], \"xaxis\": \"x\", \"y\": [31.0], \"yaxis\": \"y\"}, {\"hoverlabel\": {\"namelength\": 0}, \"hovertemplate\": \"Athlete=Jordy Smith<br>Country=%{x}<br>Heat wins=%{y}\", \"legendgroup\": \"Athlete=Jordy Smith\", \"marker\": {\"color\": \"#00cc96\", \"symbol\": \"circle\"}, \"mode\": \"markers\", \"name\": \"Athlete=Jordy Smith\", \"showlegend\": true, \"type\": \"scatter\", \"x\": [\"South Africa\"], \"xaxis\": \"x\", \"y\": [25.0], \"yaxis\": \"y\"}, {\"hoverlabel\": {\"namelength\": 0}, \"hovertemplate\": \"Athlete=Filipe Toledo<br>Country=%{x}<br>Heat wins=%{y}\", \"legendgroup\": \"Athlete=Filipe Toledo\", \"marker\": {\"color\": \"#ab63fa\", \"symbol\": \"circle\"}, \"mode\": \"markers\", \"name\": \"Athlete=Filipe Toledo\", \"showlegend\": true, \"type\": \"scatter\", \"x\": [\"Brazil\"], \"xaxis\": \"x\", \"y\": [27.0], \"yaxis\": \"y\"}, {\"hoverlabel\": {\"namelength\": 0}, \"hovertemplate\": \"Athlete=Kolohe Andino<br>Country=%{x}<br>Heat wins=%{y}\", \"legendgroup\": \"Athlete=Kolohe Andino\", \"marker\": {\"color\": \"#FFA15A\", \"symbol\": \"circle\"}, \"mode\": \"markers\", \"name\": \"Athlete=Kolohe Andino\", \"showlegend\": true, \"type\": \"scatter\", \"x\": [\"United States\"], \"xaxis\": \"x\", \"y\": [28.0], \"yaxis\": \"y\"}, {\"hoverlabel\": {\"namelength\": 0}, \"hovertemplate\": \"Athlete=Kanoa Igarashi<br>Country=%{x}<br>Heat wins=%{y}\", \"legendgroup\": \"Athlete=Kanoa Igarashi\", \"marker\": {\"color\": \"#19d3f3\", \"symbol\": \"circle\"}, \"mode\": \"markers\", \"name\": \"Athlete=Kanoa Igarashi\", \"showlegend\": true, \"type\": \"scatter\", \"x\": [\"Japan\"], \"xaxis\": \"x\", \"y\": [22.0], \"yaxis\": \"y\"}, {\"hoverlabel\": {\"namelength\": 0}, \"hovertemplate\": \"Athlete=John John Florence<br>Country=%{x}<br>Heat wins=%{y}\", \"legendgroup\": \"Athlete=John John Florence\", \"marker\": {\"color\": \"#FF6692\", \"symbol\": \"circle\"}, \"mode\": \"markers\", \"name\": \"Athlete=John John Florence\", \"showlegend\": true, \"type\": \"scatter\", \"x\": [\"Hawaii\"], \"xaxis\": \"x\", \"y\": [22.0], \"yaxis\": \"y\"}, {\"hoverlabel\": {\"namelength\": 0}, \"hovertemplate\": \"Athlete=Kelly Slater<br>Country=%{x}<br>Heat wins=%{y}\", \"legendgroup\": \"Athlete=Kelly Slater\", \"marker\": {\"color\": \"#B6E880\", \"symbol\": \"circle\"}, \"mode\": \"markers\", \"name\": \"Athlete=Kelly Slater\", \"showlegend\": true, \"type\": \"scatter\", \"x\": [\"United States\"], \"xaxis\": \"x\", \"y\": [17.0], \"yaxis\": \"y\"}, {\"hoverlabel\": {\"namelength\": 0}, \"hovertemplate\": \"Athlete=Owen Wright<br>Country=%{x}<br>Heat wins=%{y}\", \"legendgroup\": \"Athlete=Owen Wright\", \"marker\": {\"color\": \"#FF97FF\", \"symbol\": \"circle\"}, \"mode\": \"markers\", \"name\": \"Athlete=Owen Wright\", \"showlegend\": true, \"type\": \"scatter\", \"x\": [\"Australia\"], \"xaxis\": \"x\", \"y\": [18.0], \"yaxis\": \"y\"}, {\"hoverlabel\": {\"namelength\": 0}, \"hovertemplate\": \"Athlete=Jeremy Flores<br>Country=%{x}<br>Heat wins=%{y}\", \"legendgroup\": \"Athlete=Jeremy Flores\", \"marker\": {\"color\": \"#FECB52\", \"symbol\": \"circle\"}, \"mode\": \"markers\", \"name\": \"Athlete=Jeremy Flores\", \"showlegend\": true, \"type\": \"scatter\", \"x\": [\"France\"], \"xaxis\": \"x\", \"y\": [13.0], \"yaxis\": \"y\"}, {\"hoverlabel\": {\"namelength\": 0}, \"hovertemplate\": \"Athlete=Julian Wilson<br>Country=%{x}<br>Heat wins=%{y}\", \"legendgroup\": \"Athlete=Julian Wilson\", \"marker\": {\"color\": \"#636efa\", \"symbol\": \"circle\"}, \"mode\": \"markers\", \"name\": \"Athlete=Julian Wilson\", \"showlegend\": true, \"type\": \"scatter\", \"x\": [\"Australia\"], \"xaxis\": \"x\", \"y\": [15.0], \"yaxis\": \"y\"}, {\"hoverlabel\": {\"namelength\": 0}, \"hovertemplate\": \"Athlete=Seth Moniz<br>Country=%{x}<br>Heat wins=%{y}\", \"legendgroup\": \"Athlete=Seth Moniz\", \"marker\": {\"color\": \"#EF553B\", \"symbol\": \"circle\"}, \"mode\": \"markers\", \"name\": \"Athlete=Seth Moniz\", \"showlegend\": true, \"type\": \"scatter\", \"x\": [\"Hawaii\"], \"xaxis\": \"x\", \"y\": [16.0], \"yaxis\": \"y\"}, {\"hoverlabel\": {\"namelength\": 0}, \"hovertemplate\": \"Athlete=Michel Bourez<br>Country=%{x}<br>Heat wins=%{y}\", \"legendgroup\": \"Athlete=Michel Bourez\", \"marker\": {\"color\": \"#00cc96\", \"symbol\": \"circle\"}, \"mode\": \"markers\", \"name\": \"Athlete=Michel Bourez\", \"showlegend\": true, \"type\": \"scatter\", \"x\": [\"France\"], \"xaxis\": \"x\", \"y\": [14.0], \"yaxis\": \"y\"}, {\"hoverlabel\": {\"namelength\": 0}, \"hovertemplate\": \"Athlete=Ryan Callinan<br>Country=%{x}<br>Heat wins=%{y}\", \"legendgroup\": \"Athlete=Ryan Callinan\", \"marker\": {\"color\": \"#ab63fa\", \"symbol\": \"circle\"}, \"mode\": \"markers\", \"name\": \"Athlete=Ryan Callinan\", \"showlegend\": true, \"type\": \"scatter\", \"x\": [\"Australia\"], \"xaxis\": \"x\", \"y\": [13.0], \"yaxis\": \"y\"}, {\"hoverlabel\": {\"namelength\": 0}, \"hovertemplate\": \"Athlete=Jack Freestone<br>Country=%{x}<br>Heat wins=%{y}\", \"legendgroup\": \"Athlete=Jack Freestone\", \"marker\": {\"color\": \"#FFA15A\", \"symbol\": \"circle\"}, \"mode\": \"markers\", \"name\": \"Athlete=Jack Freestone\", \"showlegend\": true, \"type\": \"scatter\", \"x\": [\"Australia\"], \"xaxis\": \"x\", \"y\": [13.0], \"yaxis\": \"y\"}, {\"hoverlabel\": {\"namelength\": 0}, \"hovertemplate\": \"Athlete=Griffin Colapinto<br>Country=%{x}<br>Heat wins=%{y}\", \"legendgroup\": \"Athlete=Griffin Colapinto\", \"marker\": {\"color\": \"#19d3f3\", \"symbol\": \"circle\"}, \"mode\": \"markers\", \"name\": \"Athlete=Griffin Colapinto\", \"showlegend\": true, \"type\": \"scatter\", \"x\": [\"United States\"], \"xaxis\": \"x\", \"y\": [11.0], \"yaxis\": \"y\"}, {\"hoverlabel\": {\"namelength\": 0}, \"hovertemplate\": \"Athlete=Caio Ibelli<br>Country=%{x}<br>Heat wins=%{y}\", \"legendgroup\": \"Athlete=Caio Ibelli\", \"marker\": {\"color\": \"#FF6692\", \"symbol\": \"circle\"}, \"mode\": \"markers\", \"name\": \"Athlete=Caio Ibelli\", \"showlegend\": true, \"type\": \"scatter\", \"x\": [\"Brazil\"], \"xaxis\": \"x\", \"y\": [10.0], \"yaxis\": \"y\"}, {\"hoverlabel\": {\"namelength\": 0}, \"hovertemplate\": \"Athlete=Wade Carmichael<br>Country=%{x}<br>Heat wins=%{y}\", \"legendgroup\": \"Athlete=Wade Carmichael\", \"marker\": {\"color\": \"#B6E880\", \"symbol\": \"circle\"}, \"mode\": \"markers\", \"name\": \"Athlete=Wade Carmichael\", \"showlegend\": true, \"type\": \"scatter\", \"x\": [\"Australia\"], \"xaxis\": \"x\", \"y\": [9.0], \"yaxis\": \"y\"}, {\"hoverlabel\": {\"namelength\": 0}, \"hovertemplate\": \"Athlete=Adrian Buchan<br>Country=%{x}<br>Heat wins=%{y}\", \"legendgroup\": \"Athlete=Adrian Buchan\", \"marker\": {\"color\": \"#FF97FF\", \"symbol\": \"circle\"}, \"mode\": \"markers\", \"name\": \"Athlete=Adrian Buchan\", \"showlegend\": true, \"type\": \"scatter\", \"x\": [\"Australia\"], \"xaxis\": \"x\", \"y\": [11.0], \"yaxis\": \"y\"}, {\"hoverlabel\": {\"namelength\": 0}, \"hovertemplate\": \"Athlete=Conner Coffin<br>Country=%{x}<br>Heat wins=%{y}\", \"legendgroup\": \"Athlete=Conner Coffin\", \"marker\": {\"color\": \"#FECB52\", \"symbol\": \"circle\"}, \"mode\": \"markers\", \"name\": \"Athlete=Conner Coffin\", \"showlegend\": true, \"type\": \"scatter\", \"x\": [\"United States\"], \"xaxis\": \"x\", \"y\": [11.0], \"yaxis\": \"y\"}, {\"hoverlabel\": {\"namelength\": 0}, \"hovertemplate\": \"Athlete=Peterson Crisanto<br>Country=%{x}<br>Heat wins=%{y}\", \"legendgroup\": \"Athlete=Peterson Crisanto\", \"marker\": {\"color\": \"#636efa\", \"symbol\": \"circle\"}, \"mode\": \"markers\", \"name\": \"Athlete=Peterson Crisanto\", \"showlegend\": true, \"type\": \"scatter\", \"x\": [\"Brazil\"], \"xaxis\": \"x\", \"y\": [13.0], \"yaxis\": \"y\"}, {\"hoverlabel\": {\"namelength\": 0}, \"hovertemplate\": \"Athlete=Yago Dora<br>Country=%{x}<br>Heat wins=%{y}\", \"legendgroup\": \"Athlete=Yago Dora\", \"marker\": {\"color\": \"#EF553B\", \"symbol\": \"circle\"}, \"mode\": \"markers\", \"name\": \"Athlete=Yago Dora\", \"showlegend\": true, \"type\": \"scatter\", \"x\": [\"Brazil\"], \"xaxis\": \"x\", \"y\": [11.0], \"yaxis\": \"y\"}, {\"hoverlabel\": {\"namelength\": 0}, \"hovertemplate\": \"Athlete=Deivid Silva<br>Country=%{x}<br>Heat wins=%{y}\", \"legendgroup\": \"Athlete=Deivid Silva\", \"marker\": {\"color\": \"#00cc96\", \"symbol\": \"circle\"}, \"mode\": \"markers\", \"name\": \"Athlete=Deivid Silva\", \"showlegend\": true, \"type\": \"scatter\", \"x\": [\"Brazil\"], \"xaxis\": \"x\", \"y\": [6.0], \"yaxis\": \"y\"}, {\"hoverlabel\": {\"namelength\": 0}, \"hovertemplate\": \"Athlete=Willian Cardoso<br>Country=%{x}<br>Heat wins=%{y}\", \"legendgroup\": \"Athlete=Willian Cardoso\", \"marker\": {\"color\": \"#ab63fa\", \"symbol\": \"circle\"}, \"mode\": \"markers\", \"name\": \"Athlete=Willian Cardoso\", \"showlegend\": true, \"type\": \"scatter\", \"x\": [\"Brazil\"], \"xaxis\": \"x\", \"y\": [1.0], \"yaxis\": \"y\"}, {\"hoverlabel\": {\"namelength\": 0}, \"hovertemplate\": \"Athlete=Jesse Mendes<br>Country=%{x}<br>Heat wins=%{y}\", \"legendgroup\": \"Athlete=Jesse Mendes\", \"marker\": {\"color\": \"#FFA15A\", \"symbol\": \"circle\"}, \"mode\": \"markers\", \"name\": \"Athlete=Jesse Mendes\", \"showlegend\": true, \"type\": \"scatter\", \"x\": [\"Brazil\"], \"xaxis\": \"x\", \"y\": [10.0], \"yaxis\": \"y\"}, {\"hoverlabel\": {\"namelength\": 0}, \"hovertemplate\": \"Athlete=Michael Rodrigues<br>Country=%{x}<br>Heat wins=%{y}\", \"legendgroup\": \"Athlete=Michael Rodrigues\", \"marker\": {\"color\": \"#19d3f3\", \"symbol\": \"circle\"}, \"mode\": \"markers\", \"name\": \"Athlete=Michael Rodrigues\", \"showlegend\": true, \"type\": \"scatter\", \"x\": [\"Brazil\"], \"xaxis\": \"x\", \"y\": [3.0], \"yaxis\": \"y\"}, {\"hoverlabel\": {\"namelength\": 0}, \"hovertemplate\": \"Athlete=Sebastian Zietz<br>Country=%{x}<br>Heat wins=%{y}\", \"legendgroup\": \"Athlete=Sebastian Zietz\", \"marker\": {\"color\": \"#FF6692\", \"symbol\": \"circle\"}, \"mode\": \"markers\", \"name\": \"Athlete=Sebastian Zietz\", \"showlegend\": true, \"type\": \"scatter\", \"x\": [\"Hawaii\"], \"xaxis\": \"x\", \"y\": [3.0], \"yaxis\": \"y\"}, {\"hoverlabel\": {\"namelength\": 0}, \"hovertemplate\": \"Athlete=Ezekiel Lau<br>Country=%{x}<br>Heat wins=%{y}\", \"legendgroup\": \"Athlete=Ezekiel Lau\", \"marker\": {\"color\": \"#B6E880\", \"symbol\": \"circle\"}, \"mode\": \"markers\", \"name\": \"Athlete=Ezekiel Lau\", \"showlegend\": true, \"type\": \"scatter\", \"x\": [\"Hawaii\"], \"xaxis\": \"x\", \"y\": [7.0], \"yaxis\": \"y\"}, {\"hoverlabel\": {\"namelength\": 0}, \"hovertemplate\": \"Athlete=Joan Duru<br>Country=%{x}<br>Heat wins=%{y}\", \"legendgroup\": \"Athlete=Joan Duru\", \"marker\": {\"color\": \"#FF97FF\", \"symbol\": \"circle\"}, \"mode\": \"markers\", \"name\": \"Athlete=Joan Duru\", \"showlegend\": true, \"type\": \"scatter\", \"x\": [\"France\"], \"xaxis\": \"x\", \"y\": [2.0], \"yaxis\": \"y\"}, {\"hoverlabel\": {\"namelength\": 0}, \"hovertemplate\": \"Athlete=Soli Bailey<br>Country=%{x}<br>Heat wins=%{y}\", \"legendgroup\": \"Athlete=Soli Bailey\", \"marker\": {\"color\": \"#FECB52\", \"symbol\": \"circle\"}, \"mode\": \"markers\", \"name\": \"Athlete=Soli Bailey\", \"showlegend\": true, \"type\": \"scatter\", \"x\": [\"Australia\"], \"xaxis\": \"x\", \"y\": [3.0], \"yaxis\": \"y\"}, {\"hoverlabel\": {\"namelength\": 0}, \"hovertemplate\": \"Athlete=Leonardo Fioravanti<br>Country=%{x}<br>Heat wins=%{y}\", \"legendgroup\": \"Athlete=Leonardo Fioravanti\", \"marker\": {\"color\": \"#636efa\", \"symbol\": \"circle\"}, \"mode\": \"markers\", \"name\": \"Athlete=Leonardo Fioravanti\", \"showlegend\": true, \"type\": \"scatter\", \"x\": [\"Italy\"], \"xaxis\": \"x\", \"y\": [6.0], \"yaxis\": \"y\"}, {\"hoverlabel\": {\"namelength\": 0}, \"hovertemplate\": \"Athlete=Jadson Andre<br>Country=%{x}<br>Heat wins=%{y}\", \"legendgroup\": \"Athlete=Jadson Andre\", \"marker\": {\"color\": \"#EF553B\", \"symbol\": \"circle\"}, \"mode\": \"markers\", \"name\": \"Athlete=Jadson Andre\", \"showlegend\": true, \"type\": \"scatter\", \"x\": [\"Brazil\"], \"xaxis\": \"x\", \"y\": [4.0], \"yaxis\": \"y\"}, {\"hoverlabel\": {\"namelength\": 0}, \"hovertemplate\": \"Athlete=Ricardo Christie<br>Country=%{x}<br>Heat wins=%{y}\", \"legendgroup\": \"Athlete=Ricardo Christie\", \"marker\": {\"color\": \"#00cc96\", \"symbol\": \"circle\"}, \"mode\": \"markers\", \"name\": \"Athlete=Ricardo Christie\", \"showlegend\": true, \"type\": \"scatter\", \"x\": [\"New Zealand\"], \"xaxis\": \"x\", \"y\": [1.0], \"yaxis\": \"y\"}, {\"hoverlabel\": {\"namelength\": 0}, \"hovertemplate\": \"Athlete=Frederico Morais<br>Country=%{x}<br>Heat wins=%{y}\", \"legendgroup\": \"Athlete=Frederico Morais\", \"marker\": {\"color\": \"#ab63fa\", \"symbol\": \"circle\"}, \"mode\": \"markers\", \"name\": \"Athlete=Frederico Morais\", \"showlegend\": true, \"type\": \"scatter\", \"x\": [\"Portugal\"], \"xaxis\": \"x\", \"y\": [3.0], \"yaxis\": \"y\"}, {\"hoverlabel\": {\"namelength\": 0}, \"hovertemplate\": \"Athlete=Adriano de Souza<br>Country=%{x}<br>Heat wins=%{y}\", \"legendgroup\": \"Athlete=Adriano de Souza\", \"marker\": {\"color\": \"#FFA15A\", \"symbol\": \"circle\"}, \"mode\": \"markers\", \"name\": \"Athlete=Adriano de Souza\", \"showlegend\": true, \"type\": \"scatter\", \"x\": [\"Brazil\"], \"xaxis\": \"x\", \"y\": [2.0], \"yaxis\": \"y\"}, {\"hoverlabel\": {\"namelength\": 0}, \"hovertemplate\": \"Athlete=Mikey Wright<br>Country=%{x}<br>Heat wins=%{y}\", \"legendgroup\": \"Athlete=Mikey Wright\", \"marker\": {\"color\": \"#19d3f3\", \"symbol\": \"circle\"}, \"mode\": \"markers\", \"name\": \"Athlete=Mikey Wright\", \"showlegend\": true, \"type\": \"scatter\", \"x\": [\"Australia\"], \"xaxis\": \"x\", \"y\": [3.0], \"yaxis\": \"y\"}],\n",
       "                        {\"legend\": {\"tracegroupgap\": 0}, \"template\": {\"data\": {\"bar\": [{\"error_x\": {\"color\": \"#2a3f5f\"}, \"error_y\": {\"color\": \"#2a3f5f\"}, \"marker\": {\"line\": {\"color\": \"#E5ECF6\", \"width\": 0.5}}, \"type\": \"bar\"}], \"barpolar\": [{\"marker\": {\"line\": {\"color\": \"#E5ECF6\", \"width\": 0.5}}, \"type\": \"barpolar\"}], \"carpet\": [{\"aaxis\": {\"endlinecolor\": \"#2a3f5f\", \"gridcolor\": \"white\", \"linecolor\": \"white\", \"minorgridcolor\": \"white\", \"startlinecolor\": \"#2a3f5f\"}, \"baxis\": {\"endlinecolor\": \"#2a3f5f\", \"gridcolor\": \"white\", \"linecolor\": \"white\", \"minorgridcolor\": \"white\", \"startlinecolor\": \"#2a3f5f\"}, \"type\": \"carpet\"}], \"choropleth\": [{\"colorbar\": {\"outlinewidth\": 0, \"ticks\": \"\"}, \"type\": \"choropleth\"}], \"contour\": [{\"colorbar\": {\"outlinewidth\": 0, \"ticks\": \"\"}, \"colorscale\": [[0.0, \"#0d0887\"], [0.1111111111111111, \"#46039f\"], [0.2222222222222222, \"#7201a8\"], [0.3333333333333333, \"#9c179e\"], [0.4444444444444444, \"#bd3786\"], [0.5555555555555556, \"#d8576b\"], [0.6666666666666666, \"#ed7953\"], [0.7777777777777778, \"#fb9f3a\"], [0.8888888888888888, \"#fdca26\"], [1.0, \"#f0f921\"]], \"type\": \"contour\"}], \"contourcarpet\": [{\"colorbar\": {\"outlinewidth\": 0, \"ticks\": \"\"}, \"type\": \"contourcarpet\"}], \"heatmap\": [{\"colorbar\": {\"outlinewidth\": 0, \"ticks\": \"\"}, \"colorscale\": [[0.0, \"#0d0887\"], [0.1111111111111111, \"#46039f\"], [0.2222222222222222, \"#7201a8\"], [0.3333333333333333, \"#9c179e\"], [0.4444444444444444, \"#bd3786\"], [0.5555555555555556, \"#d8576b\"], [0.6666666666666666, \"#ed7953\"], [0.7777777777777778, \"#fb9f3a\"], [0.8888888888888888, \"#fdca26\"], [1.0, \"#f0f921\"]], \"type\": \"heatmap\"}], \"heatmapgl\": [{\"colorbar\": {\"outlinewidth\": 0, \"ticks\": \"\"}, \"colorscale\": [[0.0, \"#0d0887\"], [0.1111111111111111, \"#46039f\"], [0.2222222222222222, \"#7201a8\"], [0.3333333333333333, \"#9c179e\"], [0.4444444444444444, \"#bd3786\"], [0.5555555555555556, \"#d8576b\"], [0.6666666666666666, \"#ed7953\"], [0.7777777777777778, \"#fb9f3a\"], [0.8888888888888888, \"#fdca26\"], [1.0, \"#f0f921\"]], \"type\": \"heatmapgl\"}], \"histogram\": [{\"marker\": {\"colorbar\": {\"outlinewidth\": 0, \"ticks\": \"\"}}, \"type\": \"histogram\"}], \"histogram2d\": [{\"colorbar\": {\"outlinewidth\": 0, \"ticks\": \"\"}, \"colorscale\": [[0.0, \"#0d0887\"], [0.1111111111111111, \"#46039f\"], [0.2222222222222222, \"#7201a8\"], [0.3333333333333333, \"#9c179e\"], [0.4444444444444444, \"#bd3786\"], [0.5555555555555556, \"#d8576b\"], [0.6666666666666666, \"#ed7953\"], [0.7777777777777778, \"#fb9f3a\"], [0.8888888888888888, \"#fdca26\"], [1.0, \"#f0f921\"]], \"type\": \"histogram2d\"}], \"histogram2dcontour\": [{\"colorbar\": {\"outlinewidth\": 0, \"ticks\": \"\"}, \"colorscale\": [[0.0, \"#0d0887\"], [0.1111111111111111, \"#46039f\"], [0.2222222222222222, \"#7201a8\"], [0.3333333333333333, \"#9c179e\"], [0.4444444444444444, \"#bd3786\"], [0.5555555555555556, \"#d8576b\"], [0.6666666666666666, \"#ed7953\"], [0.7777777777777778, \"#fb9f3a\"], [0.8888888888888888, \"#fdca26\"], [1.0, \"#f0f921\"]], \"type\": \"histogram2dcontour\"}], \"mesh3d\": [{\"colorbar\": {\"outlinewidth\": 0, \"ticks\": \"\"}, \"type\": \"mesh3d\"}], \"parcoords\": [{\"line\": {\"colorbar\": {\"outlinewidth\": 0, \"ticks\": \"\"}}, \"type\": \"parcoords\"}], \"pie\": [{\"automargin\": true, \"type\": \"pie\"}], \"scatter\": [{\"marker\": {\"colorbar\": {\"outlinewidth\": 0, \"ticks\": \"\"}}, \"type\": \"scatter\"}], \"scatter3d\": [{\"line\": {\"colorbar\": {\"outlinewidth\": 0, \"ticks\": \"\"}}, \"marker\": {\"colorbar\": {\"outlinewidth\": 0, \"ticks\": \"\"}}, \"type\": \"scatter3d\"}], \"scattercarpet\": [{\"marker\": {\"colorbar\": {\"outlinewidth\": 0, \"ticks\": \"\"}}, \"type\": \"scattercarpet\"}], \"scattergeo\": [{\"marker\": {\"colorbar\": {\"outlinewidth\": 0, \"ticks\": \"\"}}, \"type\": \"scattergeo\"}], \"scattergl\": [{\"marker\": {\"colorbar\": {\"outlinewidth\": 0, \"ticks\": \"\"}}, \"type\": \"scattergl\"}], \"scattermapbox\": [{\"marker\": {\"colorbar\": {\"outlinewidth\": 0, \"ticks\": \"\"}}, \"type\": \"scattermapbox\"}], \"scatterpolar\": [{\"marker\": {\"colorbar\": {\"outlinewidth\": 0, \"ticks\": \"\"}}, \"type\": \"scatterpolar\"}], \"scatterpolargl\": [{\"marker\": {\"colorbar\": {\"outlinewidth\": 0, \"ticks\": \"\"}}, \"type\": \"scatterpolargl\"}], \"scatterternary\": [{\"marker\": {\"colorbar\": {\"outlinewidth\": 0, \"ticks\": \"\"}}, \"type\": \"scatterternary\"}], \"surface\": [{\"colorbar\": {\"outlinewidth\": 0, \"ticks\": \"\"}, \"colorscale\": [[0.0, \"#0d0887\"], [0.1111111111111111, \"#46039f\"], [0.2222222222222222, \"#7201a8\"], [0.3333333333333333, \"#9c179e\"], [0.4444444444444444, \"#bd3786\"], [0.5555555555555556, \"#d8576b\"], [0.6666666666666666, \"#ed7953\"], [0.7777777777777778, \"#fb9f3a\"], [0.8888888888888888, \"#fdca26\"], [1.0, \"#f0f921\"]], \"type\": \"surface\"}], \"table\": [{\"cells\": {\"fill\": {\"color\": \"#EBF0F8\"}, \"line\": {\"color\": \"white\"}}, \"header\": {\"fill\": {\"color\": \"#C8D4E3\"}, \"line\": {\"color\": \"white\"}}, \"type\": \"table\"}]}, \"layout\": {\"annotationdefaults\": {\"arrowcolor\": \"#2a3f5f\", \"arrowhead\": 0, \"arrowwidth\": 1}, \"coloraxis\": {\"colorbar\": {\"outlinewidth\": 0, \"ticks\": \"\"}}, \"colorscale\": {\"diverging\": [[0, \"#8e0152\"], [0.1, \"#c51b7d\"], [0.2, \"#de77ae\"], [0.3, \"#f1b6da\"], [0.4, \"#fde0ef\"], [0.5, \"#f7f7f7\"], [0.6, \"#e6f5d0\"], [0.7, \"#b8e186\"], [0.8, \"#7fbc41\"], [0.9, \"#4d9221\"], [1, \"#276419\"]], \"sequential\": [[0.0, \"#0d0887\"], [0.1111111111111111, \"#46039f\"], [0.2222222222222222, \"#7201a8\"], [0.3333333333333333, \"#9c179e\"], [0.4444444444444444, \"#bd3786\"], [0.5555555555555556, \"#d8576b\"], [0.6666666666666666, \"#ed7953\"], [0.7777777777777778, \"#fb9f3a\"], [0.8888888888888888, \"#fdca26\"], [1.0, \"#f0f921\"]], \"sequentialminus\": [[0.0, \"#0d0887\"], [0.1111111111111111, \"#46039f\"], [0.2222222222222222, \"#7201a8\"], [0.3333333333333333, \"#9c179e\"], [0.4444444444444444, \"#bd3786\"], [0.5555555555555556, \"#d8576b\"], [0.6666666666666666, \"#ed7953\"], [0.7777777777777778, \"#fb9f3a\"], [0.8888888888888888, \"#fdca26\"], [1.0, \"#f0f921\"]]}, \"colorway\": [\"#636efa\", \"#EF553B\", \"#00cc96\", \"#ab63fa\", \"#FFA15A\", \"#19d3f3\", \"#FF6692\", \"#B6E880\", \"#FF97FF\", \"#FECB52\"], \"font\": {\"color\": \"#2a3f5f\"}, \"geo\": {\"bgcolor\": \"white\", \"lakecolor\": \"white\", \"landcolor\": \"#E5ECF6\", \"showlakes\": true, \"showland\": true, \"subunitcolor\": \"white\"}, \"hoverlabel\": {\"align\": \"left\"}, \"hovermode\": \"closest\", \"mapbox\": {\"style\": \"light\"}, \"paper_bgcolor\": \"white\", \"plot_bgcolor\": \"#E5ECF6\", \"polar\": {\"angularaxis\": {\"gridcolor\": \"white\", \"linecolor\": \"white\", \"ticks\": \"\"}, \"bgcolor\": \"#E5ECF6\", \"radialaxis\": {\"gridcolor\": \"white\", \"linecolor\": \"white\", \"ticks\": \"\"}}, \"scene\": {\"xaxis\": {\"backgroundcolor\": \"#E5ECF6\", \"gridcolor\": \"white\", \"gridwidth\": 2, \"linecolor\": \"white\", \"showbackground\": true, \"ticks\": \"\", \"zerolinecolor\": \"white\"}, \"yaxis\": {\"backgroundcolor\": \"#E5ECF6\", \"gridcolor\": \"white\", \"gridwidth\": 2, \"linecolor\": \"white\", \"showbackground\": true, \"ticks\": \"\", \"zerolinecolor\": \"white\"}, \"zaxis\": {\"backgroundcolor\": \"#E5ECF6\", \"gridcolor\": \"white\", \"gridwidth\": 2, \"linecolor\": \"white\", \"showbackground\": true, \"ticks\": \"\", \"zerolinecolor\": \"white\"}}, \"shapedefaults\": {\"line\": {\"color\": \"#2a3f5f\"}}, \"ternary\": {\"aaxis\": {\"gridcolor\": \"white\", \"linecolor\": \"white\", \"ticks\": \"\"}, \"baxis\": {\"gridcolor\": \"white\", \"linecolor\": \"white\", \"ticks\": \"\"}, \"bgcolor\": \"#E5ECF6\", \"caxis\": {\"gridcolor\": \"white\", \"linecolor\": \"white\", \"ticks\": \"\"}}, \"title\": {\"x\": 0.05}, \"xaxis\": {\"automargin\": true, \"gridcolor\": \"white\", \"linecolor\": \"white\", \"ticks\": \"\", \"title\": {\"standoff\": 15}, \"zerolinecolor\": \"white\", \"zerolinewidth\": 2}, \"yaxis\": {\"automargin\": true, \"gridcolor\": \"white\", \"linecolor\": \"white\", \"ticks\": \"\", \"title\": {\"standoff\": 15}, \"zerolinecolor\": \"white\", \"zerolinewidth\": 2}}}, \"title\": {\"text\": \"Heat wins by Country and Athlete\"}, \"xaxis\": {\"anchor\": \"y\", \"domain\": [0.0, 1.0], \"title\": {\"text\": \"Country\"}}, \"yaxis\": {\"anchor\": \"x\", \"domain\": [0.0, 1.0], \"title\": {\"text\": \"Heat wins\"}}},\n",
       "                        {\"responsive\": true}\n",
       "                    ).then(function(){\n",
       "                            \n",
       "var gd = document.getElementById('a19a172c-2e9b-4997-a040-6c2d5ef95db4');\n",
       "var x = new MutationObserver(function (mutations, observer) {{\n",
       "        var display = window.getComputedStyle(gd).display;\n",
       "        if (!display || display === 'none') {{\n",
       "            console.log([gd, 'removed!']);\n",
       "            Plotly.purge(gd);\n",
       "            observer.disconnect();\n",
       "        }}\n",
       "}});\n",
       "\n",
       "// Listen for the removal of the full notebook cells\n",
       "var notebookContainer = gd.closest('#notebook-container');\n",
       "if (notebookContainer) {{\n",
       "    x.observe(notebookContainer, {childList: true});\n",
       "}}\n",
       "\n",
       "// Listen for the clearing of the current output cell\n",
       "var outputEl = gd.closest('.output');\n",
       "if (outputEl) {{\n",
       "    x.observe(outputEl, {childList: true});\n",
       "}}\n",
       "\n",
       "                        })\n",
       "                };\n",
       "                });\n",
       "            </script>\n",
       "        </div>"
      ]
     },
     "metadata": {},
     "output_type": "display_data"
    }
   ],
   "source": [
    "fig = px.scatter(fff, x='Country',y='Heat wins', color='Athlete', title='Heat wins by Country and Athlete')\n",
    "fig.show()"
   ]
  },
  {
   "cell_type": "code",
   "execution_count": 58,
   "metadata": {},
   "outputs": [
    {
     "data": {
      "application/vnd.plotly.v1+json": {
       "config": {
        "plotlyServerURL": "https://plot.ly"
       },
       "data": [
        {
         "domain": {
          "x": [
           0,
           1
          ],
          "y": [
           0,
           1
          ]
         },
         "hoverlabel": {
          "namelength": 0
         },
         "hovertemplate": "label=%{label}<br>Country=%{value}",
         "labels": [
          "Brazil",
          "Australia",
          "United States",
          "Hawaii",
          "France",
          "Portugal",
          "South Africa",
          "New Zealand",
          "Japan",
          "Italy"
         ],
         "legendgroup": "",
         "name": "",
         "showlegend": true,
         "type": "pie",
         "values": [
          12,
          8,
          4,
          4,
          3,
          1,
          1,
          1,
          1,
          1
         ]
        }
       ],
       "layout": {
        "legend": {
         "tracegroupgap": 0
        },
        "template": {
         "data": {
          "bar": [
           {
            "error_x": {
             "color": "#2a3f5f"
            },
            "error_y": {
             "color": "#2a3f5f"
            },
            "marker": {
             "line": {
              "color": "#E5ECF6",
              "width": 0.5
             }
            },
            "type": "bar"
           }
          ],
          "barpolar": [
           {
            "marker": {
             "line": {
              "color": "#E5ECF6",
              "width": 0.5
             }
            },
            "type": "barpolar"
           }
          ],
          "carpet": [
           {
            "aaxis": {
             "endlinecolor": "#2a3f5f",
             "gridcolor": "white",
             "linecolor": "white",
             "minorgridcolor": "white",
             "startlinecolor": "#2a3f5f"
            },
            "baxis": {
             "endlinecolor": "#2a3f5f",
             "gridcolor": "white",
             "linecolor": "white",
             "minorgridcolor": "white",
             "startlinecolor": "#2a3f5f"
            },
            "type": "carpet"
           }
          ],
          "choropleth": [
           {
            "colorbar": {
             "outlinewidth": 0,
             "ticks": ""
            },
            "type": "choropleth"
           }
          ],
          "contour": [
           {
            "colorbar": {
             "outlinewidth": 0,
             "ticks": ""
            },
            "colorscale": [
             [
              0,
              "#0d0887"
             ],
             [
              0.1111111111111111,
              "#46039f"
             ],
             [
              0.2222222222222222,
              "#7201a8"
             ],
             [
              0.3333333333333333,
              "#9c179e"
             ],
             [
              0.4444444444444444,
              "#bd3786"
             ],
             [
              0.5555555555555556,
              "#d8576b"
             ],
             [
              0.6666666666666666,
              "#ed7953"
             ],
             [
              0.7777777777777778,
              "#fb9f3a"
             ],
             [
              0.8888888888888888,
              "#fdca26"
             ],
             [
              1,
              "#f0f921"
             ]
            ],
            "type": "contour"
           }
          ],
          "contourcarpet": [
           {
            "colorbar": {
             "outlinewidth": 0,
             "ticks": ""
            },
            "type": "contourcarpet"
           }
          ],
          "heatmap": [
           {
            "colorbar": {
             "outlinewidth": 0,
             "ticks": ""
            },
            "colorscale": [
             [
              0,
              "#0d0887"
             ],
             [
              0.1111111111111111,
              "#46039f"
             ],
             [
              0.2222222222222222,
              "#7201a8"
             ],
             [
              0.3333333333333333,
              "#9c179e"
             ],
             [
              0.4444444444444444,
              "#bd3786"
             ],
             [
              0.5555555555555556,
              "#d8576b"
             ],
             [
              0.6666666666666666,
              "#ed7953"
             ],
             [
              0.7777777777777778,
              "#fb9f3a"
             ],
             [
              0.8888888888888888,
              "#fdca26"
             ],
             [
              1,
              "#f0f921"
             ]
            ],
            "type": "heatmap"
           }
          ],
          "heatmapgl": [
           {
            "colorbar": {
             "outlinewidth": 0,
             "ticks": ""
            },
            "colorscale": [
             [
              0,
              "#0d0887"
             ],
             [
              0.1111111111111111,
              "#46039f"
             ],
             [
              0.2222222222222222,
              "#7201a8"
             ],
             [
              0.3333333333333333,
              "#9c179e"
             ],
             [
              0.4444444444444444,
              "#bd3786"
             ],
             [
              0.5555555555555556,
              "#d8576b"
             ],
             [
              0.6666666666666666,
              "#ed7953"
             ],
             [
              0.7777777777777778,
              "#fb9f3a"
             ],
             [
              0.8888888888888888,
              "#fdca26"
             ],
             [
              1,
              "#f0f921"
             ]
            ],
            "type": "heatmapgl"
           }
          ],
          "histogram": [
           {
            "marker": {
             "colorbar": {
              "outlinewidth": 0,
              "ticks": ""
             }
            },
            "type": "histogram"
           }
          ],
          "histogram2d": [
           {
            "colorbar": {
             "outlinewidth": 0,
             "ticks": ""
            },
            "colorscale": [
             [
              0,
              "#0d0887"
             ],
             [
              0.1111111111111111,
              "#46039f"
             ],
             [
              0.2222222222222222,
              "#7201a8"
             ],
             [
              0.3333333333333333,
              "#9c179e"
             ],
             [
              0.4444444444444444,
              "#bd3786"
             ],
             [
              0.5555555555555556,
              "#d8576b"
             ],
             [
              0.6666666666666666,
              "#ed7953"
             ],
             [
              0.7777777777777778,
              "#fb9f3a"
             ],
             [
              0.8888888888888888,
              "#fdca26"
             ],
             [
              1,
              "#f0f921"
             ]
            ],
            "type": "histogram2d"
           }
          ],
          "histogram2dcontour": [
           {
            "colorbar": {
             "outlinewidth": 0,
             "ticks": ""
            },
            "colorscale": [
             [
              0,
              "#0d0887"
             ],
             [
              0.1111111111111111,
              "#46039f"
             ],
             [
              0.2222222222222222,
              "#7201a8"
             ],
             [
              0.3333333333333333,
              "#9c179e"
             ],
             [
              0.4444444444444444,
              "#bd3786"
             ],
             [
              0.5555555555555556,
              "#d8576b"
             ],
             [
              0.6666666666666666,
              "#ed7953"
             ],
             [
              0.7777777777777778,
              "#fb9f3a"
             ],
             [
              0.8888888888888888,
              "#fdca26"
             ],
             [
              1,
              "#f0f921"
             ]
            ],
            "type": "histogram2dcontour"
           }
          ],
          "mesh3d": [
           {
            "colorbar": {
             "outlinewidth": 0,
             "ticks": ""
            },
            "type": "mesh3d"
           }
          ],
          "parcoords": [
           {
            "line": {
             "colorbar": {
              "outlinewidth": 0,
              "ticks": ""
             }
            },
            "type": "parcoords"
           }
          ],
          "pie": [
           {
            "automargin": true,
            "type": "pie"
           }
          ],
          "scatter": [
           {
            "marker": {
             "colorbar": {
              "outlinewidth": 0,
              "ticks": ""
             }
            },
            "type": "scatter"
           }
          ],
          "scatter3d": [
           {
            "line": {
             "colorbar": {
              "outlinewidth": 0,
              "ticks": ""
             }
            },
            "marker": {
             "colorbar": {
              "outlinewidth": 0,
              "ticks": ""
             }
            },
            "type": "scatter3d"
           }
          ],
          "scattercarpet": [
           {
            "marker": {
             "colorbar": {
              "outlinewidth": 0,
              "ticks": ""
             }
            },
            "type": "scattercarpet"
           }
          ],
          "scattergeo": [
           {
            "marker": {
             "colorbar": {
              "outlinewidth": 0,
              "ticks": ""
             }
            },
            "type": "scattergeo"
           }
          ],
          "scattergl": [
           {
            "marker": {
             "colorbar": {
              "outlinewidth": 0,
              "ticks": ""
             }
            },
            "type": "scattergl"
           }
          ],
          "scattermapbox": [
           {
            "marker": {
             "colorbar": {
              "outlinewidth": 0,
              "ticks": ""
             }
            },
            "type": "scattermapbox"
           }
          ],
          "scatterpolar": [
           {
            "marker": {
             "colorbar": {
              "outlinewidth": 0,
              "ticks": ""
             }
            },
            "type": "scatterpolar"
           }
          ],
          "scatterpolargl": [
           {
            "marker": {
             "colorbar": {
              "outlinewidth": 0,
              "ticks": ""
             }
            },
            "type": "scatterpolargl"
           }
          ],
          "scatterternary": [
           {
            "marker": {
             "colorbar": {
              "outlinewidth": 0,
              "ticks": ""
             }
            },
            "type": "scatterternary"
           }
          ],
          "surface": [
           {
            "colorbar": {
             "outlinewidth": 0,
             "ticks": ""
            },
            "colorscale": [
             [
              0,
              "#0d0887"
             ],
             [
              0.1111111111111111,
              "#46039f"
             ],
             [
              0.2222222222222222,
              "#7201a8"
             ],
             [
              0.3333333333333333,
              "#9c179e"
             ],
             [
              0.4444444444444444,
              "#bd3786"
             ],
             [
              0.5555555555555556,
              "#d8576b"
             ],
             [
              0.6666666666666666,
              "#ed7953"
             ],
             [
              0.7777777777777778,
              "#fb9f3a"
             ],
             [
              0.8888888888888888,
              "#fdca26"
             ],
             [
              1,
              "#f0f921"
             ]
            ],
            "type": "surface"
           }
          ],
          "table": [
           {
            "cells": {
             "fill": {
              "color": "#EBF0F8"
             },
             "line": {
              "color": "white"
             }
            },
            "header": {
             "fill": {
              "color": "#C8D4E3"
             },
             "line": {
              "color": "white"
             }
            },
            "type": "table"
           }
          ]
         },
         "layout": {
          "annotationdefaults": {
           "arrowcolor": "#2a3f5f",
           "arrowhead": 0,
           "arrowwidth": 1
          },
          "coloraxis": {
           "colorbar": {
            "outlinewidth": 0,
            "ticks": ""
           }
          },
          "colorscale": {
           "diverging": [
            [
             0,
             "#8e0152"
            ],
            [
             0.1,
             "#c51b7d"
            ],
            [
             0.2,
             "#de77ae"
            ],
            [
             0.3,
             "#f1b6da"
            ],
            [
             0.4,
             "#fde0ef"
            ],
            [
             0.5,
             "#f7f7f7"
            ],
            [
             0.6,
             "#e6f5d0"
            ],
            [
             0.7,
             "#b8e186"
            ],
            [
             0.8,
             "#7fbc41"
            ],
            [
             0.9,
             "#4d9221"
            ],
            [
             1,
             "#276419"
            ]
           ],
           "sequential": [
            [
             0,
             "#0d0887"
            ],
            [
             0.1111111111111111,
             "#46039f"
            ],
            [
             0.2222222222222222,
             "#7201a8"
            ],
            [
             0.3333333333333333,
             "#9c179e"
            ],
            [
             0.4444444444444444,
             "#bd3786"
            ],
            [
             0.5555555555555556,
             "#d8576b"
            ],
            [
             0.6666666666666666,
             "#ed7953"
            ],
            [
             0.7777777777777778,
             "#fb9f3a"
            ],
            [
             0.8888888888888888,
             "#fdca26"
            ],
            [
             1,
             "#f0f921"
            ]
           ],
           "sequentialminus": [
            [
             0,
             "#0d0887"
            ],
            [
             0.1111111111111111,
             "#46039f"
            ],
            [
             0.2222222222222222,
             "#7201a8"
            ],
            [
             0.3333333333333333,
             "#9c179e"
            ],
            [
             0.4444444444444444,
             "#bd3786"
            ],
            [
             0.5555555555555556,
             "#d8576b"
            ],
            [
             0.6666666666666666,
             "#ed7953"
            ],
            [
             0.7777777777777778,
             "#fb9f3a"
            ],
            [
             0.8888888888888888,
             "#fdca26"
            ],
            [
             1,
             "#f0f921"
            ]
           ]
          },
          "colorway": [
           "#636efa",
           "#EF553B",
           "#00cc96",
           "#ab63fa",
           "#FFA15A",
           "#19d3f3",
           "#FF6692",
           "#B6E880",
           "#FF97FF",
           "#FECB52"
          ],
          "font": {
           "color": "#2a3f5f"
          },
          "geo": {
           "bgcolor": "white",
           "lakecolor": "white",
           "landcolor": "#E5ECF6",
           "showlakes": true,
           "showland": true,
           "subunitcolor": "white"
          },
          "hoverlabel": {
           "align": "left"
          },
          "hovermode": "closest",
          "mapbox": {
           "style": "light"
          },
          "paper_bgcolor": "white",
          "plot_bgcolor": "#E5ECF6",
          "polar": {
           "angularaxis": {
            "gridcolor": "white",
            "linecolor": "white",
            "ticks": ""
           },
           "bgcolor": "#E5ECF6",
           "radialaxis": {
            "gridcolor": "white",
            "linecolor": "white",
            "ticks": ""
           }
          },
          "scene": {
           "xaxis": {
            "backgroundcolor": "#E5ECF6",
            "gridcolor": "white",
            "gridwidth": 2,
            "linecolor": "white",
            "showbackground": true,
            "ticks": "",
            "zerolinecolor": "white"
           },
           "yaxis": {
            "backgroundcolor": "#E5ECF6",
            "gridcolor": "white",
            "gridwidth": 2,
            "linecolor": "white",
            "showbackground": true,
            "ticks": "",
            "zerolinecolor": "white"
           },
           "zaxis": {
            "backgroundcolor": "#E5ECF6",
            "gridcolor": "white",
            "gridwidth": 2,
            "linecolor": "white",
            "showbackground": true,
            "ticks": "",
            "zerolinecolor": "white"
           }
          },
          "shapedefaults": {
           "line": {
            "color": "#2a3f5f"
           }
          },
          "ternary": {
           "aaxis": {
            "gridcolor": "white",
            "linecolor": "white",
            "ticks": ""
           },
           "baxis": {
            "gridcolor": "white",
            "linecolor": "white",
            "ticks": ""
           },
           "bgcolor": "#E5ECF6",
           "caxis": {
            "gridcolor": "white",
            "linecolor": "white",
            "ticks": ""
           }
          },
          "title": {
           "x": 0.05
          },
          "xaxis": {
           "automargin": true,
           "gridcolor": "white",
           "linecolor": "white",
           "ticks": "",
           "title": {
            "standoff": 15
           },
           "zerolinecolor": "white",
           "zerolinewidth": 2
          },
          "yaxis": {
           "automargin": true,
           "gridcolor": "white",
           "linecolor": "white",
           "ticks": "",
           "title": {
            "standoff": 15
           },
           "zerolinecolor": "white",
           "zerolinewidth": 2
          }
         }
        },
        "title": {
         "text": "Country counts"
        }
       }
      },
      "text/html": [
       "<div>\n",
       "        \n",
       "        \n",
       "            <div id=\"36773148-2591-4223-bd33-91514f567b85\" class=\"plotly-graph-div\" style=\"height:525px; width:100%;\"></div>\n",
       "            <script type=\"text/javascript\">\n",
       "                require([\"plotly\"], function(Plotly) {\n",
       "                    window.PLOTLYENV=window.PLOTLYENV || {};\n",
       "                    \n",
       "                if (document.getElementById(\"36773148-2591-4223-bd33-91514f567b85\")) {\n",
       "                    Plotly.newPlot(\n",
       "                        '36773148-2591-4223-bd33-91514f567b85',\n",
       "                        [{\"domain\": {\"x\": [0.0, 1.0], \"y\": [0.0, 1.0]}, \"hoverlabel\": {\"namelength\": 0}, \"hovertemplate\": \"label=%{label}<br>Country=%{value}\", \"labels\": [\"Brazil\", \"Australia\", \"United States\", \"Hawaii\", \"France\", \"Portugal\", \"South Africa\", \"New Zealand\", \"Japan\", \"Italy\"], \"legendgroup\": \"\", \"name\": \"\", \"showlegend\": true, \"type\": \"pie\", \"values\": [12, 8, 4, 4, 3, 1, 1, 1, 1, 1]}],\n",
       "                        {\"legend\": {\"tracegroupgap\": 0}, \"template\": {\"data\": {\"bar\": [{\"error_x\": {\"color\": \"#2a3f5f\"}, \"error_y\": {\"color\": \"#2a3f5f\"}, \"marker\": {\"line\": {\"color\": \"#E5ECF6\", \"width\": 0.5}}, \"type\": \"bar\"}], \"barpolar\": [{\"marker\": {\"line\": {\"color\": \"#E5ECF6\", \"width\": 0.5}}, \"type\": \"barpolar\"}], \"carpet\": [{\"aaxis\": {\"endlinecolor\": \"#2a3f5f\", \"gridcolor\": \"white\", \"linecolor\": \"white\", \"minorgridcolor\": \"white\", \"startlinecolor\": \"#2a3f5f\"}, \"baxis\": {\"endlinecolor\": \"#2a3f5f\", \"gridcolor\": \"white\", \"linecolor\": \"white\", \"minorgridcolor\": \"white\", \"startlinecolor\": \"#2a3f5f\"}, \"type\": \"carpet\"}], \"choropleth\": [{\"colorbar\": {\"outlinewidth\": 0, \"ticks\": \"\"}, \"type\": \"choropleth\"}], \"contour\": [{\"colorbar\": {\"outlinewidth\": 0, \"ticks\": \"\"}, \"colorscale\": [[0.0, \"#0d0887\"], [0.1111111111111111, \"#46039f\"], [0.2222222222222222, \"#7201a8\"], [0.3333333333333333, \"#9c179e\"], [0.4444444444444444, \"#bd3786\"], [0.5555555555555556, \"#d8576b\"], [0.6666666666666666, \"#ed7953\"], [0.7777777777777778, \"#fb9f3a\"], [0.8888888888888888, \"#fdca26\"], [1.0, \"#f0f921\"]], \"type\": \"contour\"}], \"contourcarpet\": [{\"colorbar\": {\"outlinewidth\": 0, \"ticks\": \"\"}, \"type\": \"contourcarpet\"}], \"heatmap\": [{\"colorbar\": {\"outlinewidth\": 0, \"ticks\": \"\"}, \"colorscale\": [[0.0, \"#0d0887\"], [0.1111111111111111, \"#46039f\"], [0.2222222222222222, \"#7201a8\"], [0.3333333333333333, \"#9c179e\"], [0.4444444444444444, \"#bd3786\"], [0.5555555555555556, \"#d8576b\"], [0.6666666666666666, \"#ed7953\"], [0.7777777777777778, \"#fb9f3a\"], [0.8888888888888888, \"#fdca26\"], [1.0, \"#f0f921\"]], \"type\": \"heatmap\"}], \"heatmapgl\": [{\"colorbar\": {\"outlinewidth\": 0, \"ticks\": \"\"}, \"colorscale\": [[0.0, \"#0d0887\"], [0.1111111111111111, \"#46039f\"], [0.2222222222222222, \"#7201a8\"], [0.3333333333333333, \"#9c179e\"], [0.4444444444444444, \"#bd3786\"], [0.5555555555555556, \"#d8576b\"], [0.6666666666666666, \"#ed7953\"], [0.7777777777777778, \"#fb9f3a\"], [0.8888888888888888, \"#fdca26\"], [1.0, \"#f0f921\"]], \"type\": \"heatmapgl\"}], \"histogram\": [{\"marker\": {\"colorbar\": {\"outlinewidth\": 0, \"ticks\": \"\"}}, \"type\": \"histogram\"}], \"histogram2d\": [{\"colorbar\": {\"outlinewidth\": 0, \"ticks\": \"\"}, \"colorscale\": [[0.0, \"#0d0887\"], [0.1111111111111111, \"#46039f\"], [0.2222222222222222, \"#7201a8\"], [0.3333333333333333, \"#9c179e\"], [0.4444444444444444, \"#bd3786\"], [0.5555555555555556, \"#d8576b\"], [0.6666666666666666, \"#ed7953\"], [0.7777777777777778, \"#fb9f3a\"], [0.8888888888888888, \"#fdca26\"], [1.0, \"#f0f921\"]], \"type\": \"histogram2d\"}], \"histogram2dcontour\": [{\"colorbar\": {\"outlinewidth\": 0, \"ticks\": \"\"}, \"colorscale\": [[0.0, \"#0d0887\"], [0.1111111111111111, \"#46039f\"], [0.2222222222222222, \"#7201a8\"], [0.3333333333333333, \"#9c179e\"], [0.4444444444444444, \"#bd3786\"], [0.5555555555555556, \"#d8576b\"], [0.6666666666666666, \"#ed7953\"], [0.7777777777777778, \"#fb9f3a\"], [0.8888888888888888, \"#fdca26\"], [1.0, \"#f0f921\"]], \"type\": \"histogram2dcontour\"}], \"mesh3d\": [{\"colorbar\": {\"outlinewidth\": 0, \"ticks\": \"\"}, \"type\": \"mesh3d\"}], \"parcoords\": [{\"line\": {\"colorbar\": {\"outlinewidth\": 0, \"ticks\": \"\"}}, \"type\": \"parcoords\"}], \"pie\": [{\"automargin\": true, \"type\": \"pie\"}], \"scatter\": [{\"marker\": {\"colorbar\": {\"outlinewidth\": 0, \"ticks\": \"\"}}, \"type\": \"scatter\"}], \"scatter3d\": [{\"line\": {\"colorbar\": {\"outlinewidth\": 0, \"ticks\": \"\"}}, \"marker\": {\"colorbar\": {\"outlinewidth\": 0, \"ticks\": \"\"}}, \"type\": \"scatter3d\"}], \"scattercarpet\": [{\"marker\": {\"colorbar\": {\"outlinewidth\": 0, \"ticks\": \"\"}}, \"type\": \"scattercarpet\"}], \"scattergeo\": [{\"marker\": {\"colorbar\": {\"outlinewidth\": 0, \"ticks\": \"\"}}, \"type\": \"scattergeo\"}], \"scattergl\": [{\"marker\": {\"colorbar\": {\"outlinewidth\": 0, \"ticks\": \"\"}}, \"type\": \"scattergl\"}], \"scattermapbox\": [{\"marker\": {\"colorbar\": {\"outlinewidth\": 0, \"ticks\": \"\"}}, \"type\": \"scattermapbox\"}], \"scatterpolar\": [{\"marker\": {\"colorbar\": {\"outlinewidth\": 0, \"ticks\": \"\"}}, \"type\": \"scatterpolar\"}], \"scatterpolargl\": [{\"marker\": {\"colorbar\": {\"outlinewidth\": 0, \"ticks\": \"\"}}, \"type\": \"scatterpolargl\"}], \"scatterternary\": [{\"marker\": {\"colorbar\": {\"outlinewidth\": 0, \"ticks\": \"\"}}, \"type\": \"scatterternary\"}], \"surface\": [{\"colorbar\": {\"outlinewidth\": 0, \"ticks\": \"\"}, \"colorscale\": [[0.0, \"#0d0887\"], [0.1111111111111111, \"#46039f\"], [0.2222222222222222, \"#7201a8\"], [0.3333333333333333, \"#9c179e\"], [0.4444444444444444, \"#bd3786\"], [0.5555555555555556, \"#d8576b\"], [0.6666666666666666, \"#ed7953\"], [0.7777777777777778, \"#fb9f3a\"], [0.8888888888888888, \"#fdca26\"], [1.0, \"#f0f921\"]], \"type\": \"surface\"}], \"table\": [{\"cells\": {\"fill\": {\"color\": \"#EBF0F8\"}, \"line\": {\"color\": \"white\"}}, \"header\": {\"fill\": {\"color\": \"#C8D4E3\"}, \"line\": {\"color\": \"white\"}}, \"type\": \"table\"}]}, \"layout\": {\"annotationdefaults\": {\"arrowcolor\": \"#2a3f5f\", \"arrowhead\": 0, \"arrowwidth\": 1}, \"coloraxis\": {\"colorbar\": {\"outlinewidth\": 0, \"ticks\": \"\"}}, \"colorscale\": {\"diverging\": [[0, \"#8e0152\"], [0.1, \"#c51b7d\"], [0.2, \"#de77ae\"], [0.3, \"#f1b6da\"], [0.4, \"#fde0ef\"], [0.5, \"#f7f7f7\"], [0.6, \"#e6f5d0\"], [0.7, \"#b8e186\"], [0.8, \"#7fbc41\"], [0.9, \"#4d9221\"], [1, \"#276419\"]], \"sequential\": [[0.0, \"#0d0887\"], [0.1111111111111111, \"#46039f\"], [0.2222222222222222, \"#7201a8\"], [0.3333333333333333, \"#9c179e\"], [0.4444444444444444, \"#bd3786\"], [0.5555555555555556, \"#d8576b\"], [0.6666666666666666, \"#ed7953\"], [0.7777777777777778, \"#fb9f3a\"], [0.8888888888888888, \"#fdca26\"], [1.0, \"#f0f921\"]], \"sequentialminus\": [[0.0, \"#0d0887\"], [0.1111111111111111, \"#46039f\"], [0.2222222222222222, \"#7201a8\"], [0.3333333333333333, \"#9c179e\"], [0.4444444444444444, \"#bd3786\"], [0.5555555555555556, \"#d8576b\"], [0.6666666666666666, \"#ed7953\"], [0.7777777777777778, \"#fb9f3a\"], [0.8888888888888888, \"#fdca26\"], [1.0, \"#f0f921\"]]}, \"colorway\": [\"#636efa\", \"#EF553B\", \"#00cc96\", \"#ab63fa\", \"#FFA15A\", \"#19d3f3\", \"#FF6692\", \"#B6E880\", \"#FF97FF\", \"#FECB52\"], \"font\": {\"color\": \"#2a3f5f\"}, \"geo\": {\"bgcolor\": \"white\", \"lakecolor\": \"white\", \"landcolor\": \"#E5ECF6\", \"showlakes\": true, \"showland\": true, \"subunitcolor\": \"white\"}, \"hoverlabel\": {\"align\": \"left\"}, \"hovermode\": \"closest\", \"mapbox\": {\"style\": \"light\"}, \"paper_bgcolor\": \"white\", \"plot_bgcolor\": \"#E5ECF6\", \"polar\": {\"angularaxis\": {\"gridcolor\": \"white\", \"linecolor\": \"white\", \"ticks\": \"\"}, \"bgcolor\": \"#E5ECF6\", \"radialaxis\": {\"gridcolor\": \"white\", \"linecolor\": \"white\", \"ticks\": \"\"}}, \"scene\": {\"xaxis\": {\"backgroundcolor\": \"#E5ECF6\", \"gridcolor\": \"white\", \"gridwidth\": 2, \"linecolor\": \"white\", \"showbackground\": true, \"ticks\": \"\", \"zerolinecolor\": \"white\"}, \"yaxis\": {\"backgroundcolor\": \"#E5ECF6\", \"gridcolor\": \"white\", \"gridwidth\": 2, \"linecolor\": \"white\", \"showbackground\": true, \"ticks\": \"\", \"zerolinecolor\": \"white\"}, \"zaxis\": {\"backgroundcolor\": \"#E5ECF6\", \"gridcolor\": \"white\", \"gridwidth\": 2, \"linecolor\": \"white\", \"showbackground\": true, \"ticks\": \"\", \"zerolinecolor\": \"white\"}}, \"shapedefaults\": {\"line\": {\"color\": \"#2a3f5f\"}}, \"ternary\": {\"aaxis\": {\"gridcolor\": \"white\", \"linecolor\": \"white\", \"ticks\": \"\"}, \"baxis\": {\"gridcolor\": \"white\", \"linecolor\": \"white\", \"ticks\": \"\"}, \"bgcolor\": \"#E5ECF6\", \"caxis\": {\"gridcolor\": \"white\", \"linecolor\": \"white\", \"ticks\": \"\"}}, \"title\": {\"x\": 0.05}, \"xaxis\": {\"automargin\": true, \"gridcolor\": \"white\", \"linecolor\": \"white\", \"ticks\": \"\", \"title\": {\"standoff\": 15}, \"zerolinecolor\": \"white\", \"zerolinewidth\": 2}, \"yaxis\": {\"automargin\": true, \"gridcolor\": \"white\", \"linecolor\": \"white\", \"ticks\": \"\", \"title\": {\"standoff\": 15}, \"zerolinecolor\": \"white\", \"zerolinewidth\": 2}}}, \"title\": {\"text\": \"Country counts\"}},\n",
       "                        {\"responsive\": true}\n",
       "                    ).then(function(){\n",
       "                            \n",
       "var gd = document.getElementById('36773148-2591-4223-bd33-91514f567b85');\n",
       "var x = new MutationObserver(function (mutations, observer) {{\n",
       "        var display = window.getComputedStyle(gd).display;\n",
       "        if (!display || display === 'none') {{\n",
       "            console.log([gd, 'removed!']);\n",
       "            Plotly.purge(gd);\n",
       "            observer.disconnect();\n",
       "        }}\n",
       "}});\n",
       "\n",
       "// Listen for the removal of the full notebook cells\n",
       "var notebookContainer = gd.closest('#notebook-container');\n",
       "if (notebookContainer) {{\n",
       "    x.observe(notebookContainer, {childList: true});\n",
       "}}\n",
       "\n",
       "// Listen for the clearing of the current output cell\n",
       "var outputEl = gd.closest('.output');\n",
       "if (outputEl) {{\n",
       "    x.observe(outputEl, {childList: true});\n",
       "}}\n",
       "\n",
       "                        })\n",
       "                };\n",
       "                });\n",
       "            </script>\n",
       "        </div>"
      ]
     },
     "metadata": {},
     "output_type": "display_data"
    }
   ],
   "source": [
    "fig = px.pie(df, values=df.loc[:,'Country'], names=df.index, title='Country counts')\n",
    "fig.show()"
   ]
  },
  {
   "cell_type": "code",
   "execution_count": 138,
   "metadata": {},
   "outputs": [],
   "source": [
    "popici = eee[['Event {}: Points'.format(i) for i in range(1, 12)]].T.cumsum().T\n",
    "\n",
    "top10=popici[:10]\n",
    "top10.columns=['Points after event {}'.format(i) for i in range(1, 12)]\n",
    "top10 = top10.T\n"
   ]
  },
  {
   "cell_type": "code",
   "execution_count": 152,
   "metadata": {},
   "outputs": [
    {
     "data": {
      "application/vnd.plotly.v1+json": {
       "config": {
        "plotlyServerURL": "https://plot.ly"
       },
       "data": [
        {
         "line": {
          "color": "#f2a81a"
         },
         "name": "Italo Ferreira",
         "type": "scatter",
         "x": [
          "Points after event 1",
          "Points after event 2",
          "Points after event 3",
          "Points after event 4",
          "Points after event 5",
          "Points after event 6",
          "Points after event 7",
          "Points after event 8",
          "Points after event 9",
          "Points after event 10",
          "Points after event 11"
         ],
         "y": [
          10000,
          14745,
          16075,
          20820,
          22150,
          29950,
          31280,
          34600,
          42400,
          52400,
          62400
         ]
        },
        {
         "line": {
          "color": "#ff0000"
         },
         "name": "Gabriel Medina",
         "type": "scatter",
         "x": [
          "Points after event 1",
          "Points after event 2",
          "Points after event 3",
          "Points after event 4",
          "Points after event 5",
          "Points after event 6",
          "Points after event 7",
          "Points after event 8",
          "Points after event 9",
          "Points after event 10",
          "Points after event 11"
         ],
         "y": [
          4745,
          9490,
          10820,
          12150,
          16895,
          26895,
          34695,
          44695,
          48015,
          51335,
          59135
         ]
        },
        {
         "line": {
          "color": "#0051ff"
         },
         "name": "Jordy Smith",
         "type": "scatter",
         "x": [
          "Points after event 1",
          "Points after event 2",
          "Points after event 3",
          "Points after event 4",
          "Points after event 5",
          "Points after event 6",
          "Points after event 7",
          "Points after event 8",
          "Points after event 9",
          "Points after event 10",
          "Points after event 11"
         ],
         "y": [
          6085,
          12170,
          13500,
          18245,
          26045,
          29365,
          35450,
          40195,
          43515,
          51315,
          52645
         ]
        },
        {
         "line": {
          "color": "#1ddb00"
         },
         "name": "Filipe Toledo",
         "type": "scatter",
         "x": [
          "Points after event 1",
          "Points after event 2",
          "Points after event 3",
          "Points after event 4",
          "Points after event 5",
          "Points after event 6",
          "Points after event 7",
          "Points after event 8",
          "Points after event 9",
          "Points after event 10",
          "Points after event 11"
         ],
         "y": [
          3320,
          11120,
          15865,
          17195,
          27195,
          33280,
          36600,
          44400,
          45730,
          50475,
          51805
         ]
        },
        {
         "line": {
          "color": "#db00d1"
         },
         "name": "Kolohe Andino",
         "type": "scatter",
         "x": [
          "Points after event 1",
          "Points after event 2",
          "Points after event 3",
          "Points after event 4",
          "Points after event 5",
          "Points after event 6",
          "Points after event 7",
          "Points after event 8",
          "Points after event 9",
          "Points after event 10",
          "Points after event 11"
         ],
         "y": [
          7800,
          9130,
          13875,
          21675,
          27760,
          33845,
          35175,
          36505,
          41250,
          45995,
          49315
         ]
        },
        {
         "line": {
          "color": "#00ffdf"
         },
         "name": "Kanoa Igarashi",
         "type": "scatter",
         "visible": false,
         "x": [
          "Points after event 1",
          "Points after event 2",
          "Points after event 3",
          "Points after event 4",
          "Points after event 5",
          "Points after event 6",
          "Points after event 7",
          "Points after event 8",
          "Points after event 9",
          "Points after event 10",
          "Points after event 11"
         ],
         "y": [
          3320,
          6640,
          16640,
          19960,
          24705,
          29450,
          30780,
          34100,
          35430,
          41515,
          42845
         ]
        },
        {
         "line": {
          "color": "#ff6700"
         },
         "name": "John John Florence",
         "type": "scatter",
         "visible": false,
         "x": [
          "Points after event 1",
          "Points after event 2",
          "Points after event 3",
          "Points after event 4",
          "Points after event 5",
          "Points after event 6",
          "Points after event 7",
          "Points after event 8",
          "Points after event 9",
          "Points after event 10",
          "Points after event 11"
         ],
         "y": [
          6085,
          16085,
          17415,
          27415,
          32160,
          32425,
          32690,
          32955,
          33220,
          33485,
          38230
         ]
        },
        {
         "line": {
          "color": "#9bff85"
         },
         "name": "Kelly Slater",
         "type": "scatter",
         "visible": false,
         "x": [
          "Points after event 1",
          "Points after event 2",
          "Points after event 3",
          "Points after event 4",
          "Points after event 5",
          "Points after event 6",
          "Points after event 7",
          "Points after event 8",
          "Points after event 9",
          "Points after event 10",
          "Points after event 11"
         ],
         "y": [
          265,
          5010,
          11095,
          14415,
          17735,
          21055,
          22385,
          25705,
          27035,
          30355,
          36440
         ]
        },
        {
         "line": {
          "color": "#ff85f4"
         },
         "name": "Owen Wright",
         "type": "scatter",
         "visible": false,
         "x": [
          "Points after event 1",
          "Points after event 2",
          "Points after event 3",
          "Points after event 4",
          "Points after event 5",
          "Points after event 6",
          "Points after event 7",
          "Points after event 8",
          "Points after event 9",
          "Points after event 10",
          "Points after event 11"
         ],
         "y": [
          3320,
          6640,
          7970,
          11290,
          12620,
          17365,
          27365,
          33450,
          34780,
          36110,
          37440
         ]
        },
        {
         "line": {
          "color": "#9aa6ff"
         },
         "name": "Jeremy Flores",
         "type": "scatter",
         "visible": false,
         "x": [
          "Points after event 1",
          "Points after event 2",
          "Points after event 3",
          "Points after event 4",
          "Points after event 5",
          "Points after event 6",
          "Points after event 7",
          "Points after event 8",
          "Points after event 9",
          "Points after event 10",
          "Points after event 11"
         ],
         "y": [
          1330,
          4650,
          12450,
          13780,
          14045,
          15375,
          20120,
          21450,
          31450,
          32780,
          33045
         ]
        }
       ],
       "layout": {
        "template": {
         "data": {
          "bar": [
           {
            "error_x": {
             "color": "#2a3f5f"
            },
            "error_y": {
             "color": "#2a3f5f"
            },
            "marker": {
             "line": {
              "color": "#E5ECF6",
              "width": 0.5
             }
            },
            "type": "bar"
           }
          ],
          "barpolar": [
           {
            "marker": {
             "line": {
              "color": "#E5ECF6",
              "width": 0.5
             }
            },
            "type": "barpolar"
           }
          ],
          "carpet": [
           {
            "aaxis": {
             "endlinecolor": "#2a3f5f",
             "gridcolor": "white",
             "linecolor": "white",
             "minorgridcolor": "white",
             "startlinecolor": "#2a3f5f"
            },
            "baxis": {
             "endlinecolor": "#2a3f5f",
             "gridcolor": "white",
             "linecolor": "white",
             "minorgridcolor": "white",
             "startlinecolor": "#2a3f5f"
            },
            "type": "carpet"
           }
          ],
          "choropleth": [
           {
            "colorbar": {
             "outlinewidth": 0,
             "ticks": ""
            },
            "type": "choropleth"
           }
          ],
          "contour": [
           {
            "colorbar": {
             "outlinewidth": 0,
             "ticks": ""
            },
            "colorscale": [
             [
              0,
              "#0d0887"
             ],
             [
              0.1111111111111111,
              "#46039f"
             ],
             [
              0.2222222222222222,
              "#7201a8"
             ],
             [
              0.3333333333333333,
              "#9c179e"
             ],
             [
              0.4444444444444444,
              "#bd3786"
             ],
             [
              0.5555555555555556,
              "#d8576b"
             ],
             [
              0.6666666666666666,
              "#ed7953"
             ],
             [
              0.7777777777777778,
              "#fb9f3a"
             ],
             [
              0.8888888888888888,
              "#fdca26"
             ],
             [
              1,
              "#f0f921"
             ]
            ],
            "type": "contour"
           }
          ],
          "contourcarpet": [
           {
            "colorbar": {
             "outlinewidth": 0,
             "ticks": ""
            },
            "type": "contourcarpet"
           }
          ],
          "heatmap": [
           {
            "colorbar": {
             "outlinewidth": 0,
             "ticks": ""
            },
            "colorscale": [
             [
              0,
              "#0d0887"
             ],
             [
              0.1111111111111111,
              "#46039f"
             ],
             [
              0.2222222222222222,
              "#7201a8"
             ],
             [
              0.3333333333333333,
              "#9c179e"
             ],
             [
              0.4444444444444444,
              "#bd3786"
             ],
             [
              0.5555555555555556,
              "#d8576b"
             ],
             [
              0.6666666666666666,
              "#ed7953"
             ],
             [
              0.7777777777777778,
              "#fb9f3a"
             ],
             [
              0.8888888888888888,
              "#fdca26"
             ],
             [
              1,
              "#f0f921"
             ]
            ],
            "type": "heatmap"
           }
          ],
          "heatmapgl": [
           {
            "colorbar": {
             "outlinewidth": 0,
             "ticks": ""
            },
            "colorscale": [
             [
              0,
              "#0d0887"
             ],
             [
              0.1111111111111111,
              "#46039f"
             ],
             [
              0.2222222222222222,
              "#7201a8"
             ],
             [
              0.3333333333333333,
              "#9c179e"
             ],
             [
              0.4444444444444444,
              "#bd3786"
             ],
             [
              0.5555555555555556,
              "#d8576b"
             ],
             [
              0.6666666666666666,
              "#ed7953"
             ],
             [
              0.7777777777777778,
              "#fb9f3a"
             ],
             [
              0.8888888888888888,
              "#fdca26"
             ],
             [
              1,
              "#f0f921"
             ]
            ],
            "type": "heatmapgl"
           }
          ],
          "histogram": [
           {
            "marker": {
             "colorbar": {
              "outlinewidth": 0,
              "ticks": ""
             }
            },
            "type": "histogram"
           }
          ],
          "histogram2d": [
           {
            "colorbar": {
             "outlinewidth": 0,
             "ticks": ""
            },
            "colorscale": [
             [
              0,
              "#0d0887"
             ],
             [
              0.1111111111111111,
              "#46039f"
             ],
             [
              0.2222222222222222,
              "#7201a8"
             ],
             [
              0.3333333333333333,
              "#9c179e"
             ],
             [
              0.4444444444444444,
              "#bd3786"
             ],
             [
              0.5555555555555556,
              "#d8576b"
             ],
             [
              0.6666666666666666,
              "#ed7953"
             ],
             [
              0.7777777777777778,
              "#fb9f3a"
             ],
             [
              0.8888888888888888,
              "#fdca26"
             ],
             [
              1,
              "#f0f921"
             ]
            ],
            "type": "histogram2d"
           }
          ],
          "histogram2dcontour": [
           {
            "colorbar": {
             "outlinewidth": 0,
             "ticks": ""
            },
            "colorscale": [
             [
              0,
              "#0d0887"
             ],
             [
              0.1111111111111111,
              "#46039f"
             ],
             [
              0.2222222222222222,
              "#7201a8"
             ],
             [
              0.3333333333333333,
              "#9c179e"
             ],
             [
              0.4444444444444444,
              "#bd3786"
             ],
             [
              0.5555555555555556,
              "#d8576b"
             ],
             [
              0.6666666666666666,
              "#ed7953"
             ],
             [
              0.7777777777777778,
              "#fb9f3a"
             ],
             [
              0.8888888888888888,
              "#fdca26"
             ],
             [
              1,
              "#f0f921"
             ]
            ],
            "type": "histogram2dcontour"
           }
          ],
          "mesh3d": [
           {
            "colorbar": {
             "outlinewidth": 0,
             "ticks": ""
            },
            "type": "mesh3d"
           }
          ],
          "parcoords": [
           {
            "line": {
             "colorbar": {
              "outlinewidth": 0,
              "ticks": ""
             }
            },
            "type": "parcoords"
           }
          ],
          "pie": [
           {
            "automargin": true,
            "type": "pie"
           }
          ],
          "scatter": [
           {
            "marker": {
             "colorbar": {
              "outlinewidth": 0,
              "ticks": ""
             }
            },
            "type": "scatter"
           }
          ],
          "scatter3d": [
           {
            "line": {
             "colorbar": {
              "outlinewidth": 0,
              "ticks": ""
             }
            },
            "marker": {
             "colorbar": {
              "outlinewidth": 0,
              "ticks": ""
             }
            },
            "type": "scatter3d"
           }
          ],
          "scattercarpet": [
           {
            "marker": {
             "colorbar": {
              "outlinewidth": 0,
              "ticks": ""
             }
            },
            "type": "scattercarpet"
           }
          ],
          "scattergeo": [
           {
            "marker": {
             "colorbar": {
              "outlinewidth": 0,
              "ticks": ""
             }
            },
            "type": "scattergeo"
           }
          ],
          "scattergl": [
           {
            "marker": {
             "colorbar": {
              "outlinewidth": 0,
              "ticks": ""
             }
            },
            "type": "scattergl"
           }
          ],
          "scattermapbox": [
           {
            "marker": {
             "colorbar": {
              "outlinewidth": 0,
              "ticks": ""
             }
            },
            "type": "scattermapbox"
           }
          ],
          "scatterpolar": [
           {
            "marker": {
             "colorbar": {
              "outlinewidth": 0,
              "ticks": ""
             }
            },
            "type": "scatterpolar"
           }
          ],
          "scatterpolargl": [
           {
            "marker": {
             "colorbar": {
              "outlinewidth": 0,
              "ticks": ""
             }
            },
            "type": "scatterpolargl"
           }
          ],
          "scatterternary": [
           {
            "marker": {
             "colorbar": {
              "outlinewidth": 0,
              "ticks": ""
             }
            },
            "type": "scatterternary"
           }
          ],
          "surface": [
           {
            "colorbar": {
             "outlinewidth": 0,
             "ticks": ""
            },
            "colorscale": [
             [
              0,
              "#0d0887"
             ],
             [
              0.1111111111111111,
              "#46039f"
             ],
             [
              0.2222222222222222,
              "#7201a8"
             ],
             [
              0.3333333333333333,
              "#9c179e"
             ],
             [
              0.4444444444444444,
              "#bd3786"
             ],
             [
              0.5555555555555556,
              "#d8576b"
             ],
             [
              0.6666666666666666,
              "#ed7953"
             ],
             [
              0.7777777777777778,
              "#fb9f3a"
             ],
             [
              0.8888888888888888,
              "#fdca26"
             ],
             [
              1,
              "#f0f921"
             ]
            ],
            "type": "surface"
           }
          ],
          "table": [
           {
            "cells": {
             "fill": {
              "color": "#EBF0F8"
             },
             "line": {
              "color": "white"
             }
            },
            "header": {
             "fill": {
              "color": "#C8D4E3"
             },
             "line": {
              "color": "white"
             }
            },
            "type": "table"
           }
          ]
         },
         "layout": {
          "annotationdefaults": {
           "arrowcolor": "#2a3f5f",
           "arrowhead": 0,
           "arrowwidth": 1
          },
          "coloraxis": {
           "colorbar": {
            "outlinewidth": 0,
            "ticks": ""
           }
          },
          "colorscale": {
           "diverging": [
            [
             0,
             "#8e0152"
            ],
            [
             0.1,
             "#c51b7d"
            ],
            [
             0.2,
             "#de77ae"
            ],
            [
             0.3,
             "#f1b6da"
            ],
            [
             0.4,
             "#fde0ef"
            ],
            [
             0.5,
             "#f7f7f7"
            ],
            [
             0.6,
             "#e6f5d0"
            ],
            [
             0.7,
             "#b8e186"
            ],
            [
             0.8,
             "#7fbc41"
            ],
            [
             0.9,
             "#4d9221"
            ],
            [
             1,
             "#276419"
            ]
           ],
           "sequential": [
            [
             0,
             "#0d0887"
            ],
            [
             0.1111111111111111,
             "#46039f"
            ],
            [
             0.2222222222222222,
             "#7201a8"
            ],
            [
             0.3333333333333333,
             "#9c179e"
            ],
            [
             0.4444444444444444,
             "#bd3786"
            ],
            [
             0.5555555555555556,
             "#d8576b"
            ],
            [
             0.6666666666666666,
             "#ed7953"
            ],
            [
             0.7777777777777778,
             "#fb9f3a"
            ],
            [
             0.8888888888888888,
             "#fdca26"
            ],
            [
             1,
             "#f0f921"
            ]
           ],
           "sequentialminus": [
            [
             0,
             "#0d0887"
            ],
            [
             0.1111111111111111,
             "#46039f"
            ],
            [
             0.2222222222222222,
             "#7201a8"
            ],
            [
             0.3333333333333333,
             "#9c179e"
            ],
            [
             0.4444444444444444,
             "#bd3786"
            ],
            [
             0.5555555555555556,
             "#d8576b"
            ],
            [
             0.6666666666666666,
             "#ed7953"
            ],
            [
             0.7777777777777778,
             "#fb9f3a"
            ],
            [
             0.8888888888888888,
             "#fdca26"
            ],
            [
             1,
             "#f0f921"
            ]
           ]
          },
          "colorway": [
           "#636efa",
           "#EF553B",
           "#00cc96",
           "#ab63fa",
           "#FFA15A",
           "#19d3f3",
           "#FF6692",
           "#B6E880",
           "#FF97FF",
           "#FECB52"
          ],
          "font": {
           "color": "#2a3f5f"
          },
          "geo": {
           "bgcolor": "white",
           "lakecolor": "white",
           "landcolor": "#E5ECF6",
           "showlakes": true,
           "showland": true,
           "subunitcolor": "white"
          },
          "hoverlabel": {
           "align": "left"
          },
          "hovermode": "closest",
          "mapbox": {
           "style": "light"
          },
          "paper_bgcolor": "white",
          "plot_bgcolor": "#E5ECF6",
          "polar": {
           "angularaxis": {
            "gridcolor": "white",
            "linecolor": "white",
            "ticks": ""
           },
           "bgcolor": "#E5ECF6",
           "radialaxis": {
            "gridcolor": "white",
            "linecolor": "white",
            "ticks": ""
           }
          },
          "scene": {
           "xaxis": {
            "backgroundcolor": "#E5ECF6",
            "gridcolor": "white",
            "gridwidth": 2,
            "linecolor": "white",
            "showbackground": true,
            "ticks": "",
            "zerolinecolor": "white"
           },
           "yaxis": {
            "backgroundcolor": "#E5ECF6",
            "gridcolor": "white",
            "gridwidth": 2,
            "linecolor": "white",
            "showbackground": true,
            "ticks": "",
            "zerolinecolor": "white"
           },
           "zaxis": {
            "backgroundcolor": "#E5ECF6",
            "gridcolor": "white",
            "gridwidth": 2,
            "linecolor": "white",
            "showbackground": true,
            "ticks": "",
            "zerolinecolor": "white"
           }
          },
          "shapedefaults": {
           "line": {
            "color": "#2a3f5f"
           }
          },
          "ternary": {
           "aaxis": {
            "gridcolor": "white",
            "linecolor": "white",
            "ticks": ""
           },
           "baxis": {
            "gridcolor": "white",
            "linecolor": "white",
            "ticks": ""
           },
           "bgcolor": "#E5ECF6",
           "caxis": {
            "gridcolor": "white",
            "linecolor": "white",
            "ticks": ""
           }
          },
          "title": {
           "x": 0.05
          },
          "xaxis": {
           "automargin": true,
           "gridcolor": "white",
           "linecolor": "white",
           "ticks": "",
           "title": {
            "standoff": 15
           },
           "zerolinecolor": "white",
           "zerolinewidth": 2
          },
          "yaxis": {
           "automargin": true,
           "gridcolor": "white",
           "linecolor": "white",
           "ticks": "",
           "title": {
            "standoff": 15
           },
           "zerolinecolor": "white",
           "zerolinewidth": 2
          }
         }
        },
        "title": {
         "text": "Cummulative points Top 5"
        },
        "updatemenus": [
         {
          "active": 0,
          "buttons": [
           {
            "args": [
             {
              "visible": [
               true,
               true,
               true,
               true,
               true,
               false,
               false,
               false,
               false,
               false
              ]
             },
             {
              "annotations": [],
              "title": "Cummulative points Top 5"
             }
            ],
            "label": "Top 5 athletes",
            "method": "update"
           },
           {
            "args": [
             {
              "visible": [
               true,
               true,
               true,
               true,
               true,
               true,
               true,
               true,
               true,
               true
              ]
             },
             {
              "annotations": [],
              "title": "Cummulative points Top 10"
             }
            ],
            "label": "Top 10 athletes",
            "method": "update"
           }
          ],
          "direction": "right",
          "type": "buttons",
          "x": 0.65,
          "y": 1.2
         }
        ],
        "xaxis": {
         "domain": [
          0.05,
          1
         ]
        }
       }
      },
      "text/html": [
       "<div>\n",
       "        \n",
       "        \n",
       "            <div id=\"bfbcef77-4d5b-4e3e-a9b6-25a7962ce683\" class=\"plotly-graph-div\" style=\"height:525px; width:100%;\"></div>\n",
       "            <script type=\"text/javascript\">\n",
       "                require([\"plotly\"], function(Plotly) {\n",
       "                    window.PLOTLYENV=window.PLOTLYENV || {};\n",
       "                    \n",
       "                if (document.getElementById(\"bfbcef77-4d5b-4e3e-a9b6-25a7962ce683\")) {\n",
       "                    Plotly.newPlot(\n",
       "                        'bfbcef77-4d5b-4e3e-a9b6-25a7962ce683',\n",
       "                        [{\"line\": {\"color\": \"#f2a81a\"}, \"name\": \"Italo Ferreira\", \"type\": \"scatter\", \"x\": [\"Points after event 1\", \"Points after event 2\", \"Points after event 3\", \"Points after event 4\", \"Points after event 5\", \"Points after event 6\", \"Points after event 7\", \"Points after event 8\", \"Points after event 9\", \"Points after event 10\", \"Points after event 11\"], \"y\": [10000, 14745, 16075, 20820, 22150, 29950, 31280, 34600, 42400, 52400, 62400]}, {\"line\": {\"color\": \"#ff0000\"}, \"name\": \"Gabriel Medina\", \"type\": \"scatter\", \"x\": [\"Points after event 1\", \"Points after event 2\", \"Points after event 3\", \"Points after event 4\", \"Points after event 5\", \"Points after event 6\", \"Points after event 7\", \"Points after event 8\", \"Points after event 9\", \"Points after event 10\", \"Points after event 11\"], \"y\": [4745, 9490, 10820, 12150, 16895, 26895, 34695, 44695, 48015, 51335, 59135]}, {\"line\": {\"color\": \"#0051ff\"}, \"name\": \"Jordy Smith\", \"type\": \"scatter\", \"x\": [\"Points after event 1\", \"Points after event 2\", \"Points after event 3\", \"Points after event 4\", \"Points after event 5\", \"Points after event 6\", \"Points after event 7\", \"Points after event 8\", \"Points after event 9\", \"Points after event 10\", \"Points after event 11\"], \"y\": [6085, 12170, 13500, 18245, 26045, 29365, 35450, 40195, 43515, 51315, 52645]}, {\"line\": {\"color\": \"#1ddb00\"}, \"name\": \"Filipe Toledo\", \"type\": \"scatter\", \"x\": [\"Points after event 1\", \"Points after event 2\", \"Points after event 3\", \"Points after event 4\", \"Points after event 5\", \"Points after event 6\", \"Points after event 7\", \"Points after event 8\", \"Points after event 9\", \"Points after event 10\", \"Points after event 11\"], \"y\": [3320, 11120, 15865, 17195, 27195, 33280, 36600, 44400, 45730, 50475, 51805]}, {\"line\": {\"color\": \"#db00d1\"}, \"name\": \"Kolohe Andino\", \"type\": \"scatter\", \"x\": [\"Points after event 1\", \"Points after event 2\", \"Points after event 3\", \"Points after event 4\", \"Points after event 5\", \"Points after event 6\", \"Points after event 7\", \"Points after event 8\", \"Points after event 9\", \"Points after event 10\", \"Points after event 11\"], \"y\": [7800, 9130, 13875, 21675, 27760, 33845, 35175, 36505, 41250, 45995, 49315]}, {\"line\": {\"color\": \"#00ffdf\"}, \"name\": \"Kanoa Igarashi\", \"type\": \"scatter\", \"visible\": false, \"x\": [\"Points after event 1\", \"Points after event 2\", \"Points after event 3\", \"Points after event 4\", \"Points after event 5\", \"Points after event 6\", \"Points after event 7\", \"Points after event 8\", \"Points after event 9\", \"Points after event 10\", \"Points after event 11\"], \"y\": [3320, 6640, 16640, 19960, 24705, 29450, 30780, 34100, 35430, 41515, 42845]}, {\"line\": {\"color\": \"#ff6700\"}, \"name\": \"John John Florence\", \"type\": \"scatter\", \"visible\": false, \"x\": [\"Points after event 1\", \"Points after event 2\", \"Points after event 3\", \"Points after event 4\", \"Points after event 5\", \"Points after event 6\", \"Points after event 7\", \"Points after event 8\", \"Points after event 9\", \"Points after event 10\", \"Points after event 11\"], \"y\": [6085, 16085, 17415, 27415, 32160, 32425, 32690, 32955, 33220, 33485, 38230]}, {\"line\": {\"color\": \"#9bff85\"}, \"name\": \"Kelly Slater\", \"type\": \"scatter\", \"visible\": false, \"x\": [\"Points after event 1\", \"Points after event 2\", \"Points after event 3\", \"Points after event 4\", \"Points after event 5\", \"Points after event 6\", \"Points after event 7\", \"Points after event 8\", \"Points after event 9\", \"Points after event 10\", \"Points after event 11\"], \"y\": [265, 5010, 11095, 14415, 17735, 21055, 22385, 25705, 27035, 30355, 36440]}, {\"line\": {\"color\": \"#ff85f4\"}, \"name\": \"Owen Wright\", \"type\": \"scatter\", \"visible\": false, \"x\": [\"Points after event 1\", \"Points after event 2\", \"Points after event 3\", \"Points after event 4\", \"Points after event 5\", \"Points after event 6\", \"Points after event 7\", \"Points after event 8\", \"Points after event 9\", \"Points after event 10\", \"Points after event 11\"], \"y\": [3320, 6640, 7970, 11290, 12620, 17365, 27365, 33450, 34780, 36110, 37440]}, {\"line\": {\"color\": \"#9aa6ff\"}, \"name\": \"Jeremy Flores\", \"type\": \"scatter\", \"visible\": false, \"x\": [\"Points after event 1\", \"Points after event 2\", \"Points after event 3\", \"Points after event 4\", \"Points after event 5\", \"Points after event 6\", \"Points after event 7\", \"Points after event 8\", \"Points after event 9\", \"Points after event 10\", \"Points after event 11\"], \"y\": [1330, 4650, 12450, 13780, 14045, 15375, 20120, 21450, 31450, 32780, 33045]}],\n",
       "                        {\"template\": {\"data\": {\"bar\": [{\"error_x\": {\"color\": \"#2a3f5f\"}, \"error_y\": {\"color\": \"#2a3f5f\"}, \"marker\": {\"line\": {\"color\": \"#E5ECF6\", \"width\": 0.5}}, \"type\": \"bar\"}], \"barpolar\": [{\"marker\": {\"line\": {\"color\": \"#E5ECF6\", \"width\": 0.5}}, \"type\": \"barpolar\"}], \"carpet\": [{\"aaxis\": {\"endlinecolor\": \"#2a3f5f\", \"gridcolor\": \"white\", \"linecolor\": \"white\", \"minorgridcolor\": \"white\", \"startlinecolor\": \"#2a3f5f\"}, \"baxis\": {\"endlinecolor\": \"#2a3f5f\", \"gridcolor\": \"white\", \"linecolor\": \"white\", \"minorgridcolor\": \"white\", \"startlinecolor\": \"#2a3f5f\"}, \"type\": \"carpet\"}], \"choropleth\": [{\"colorbar\": {\"outlinewidth\": 0, \"ticks\": \"\"}, \"type\": \"choropleth\"}], \"contour\": [{\"colorbar\": {\"outlinewidth\": 0, \"ticks\": \"\"}, \"colorscale\": [[0.0, \"#0d0887\"], [0.1111111111111111, \"#46039f\"], [0.2222222222222222, \"#7201a8\"], [0.3333333333333333, \"#9c179e\"], [0.4444444444444444, \"#bd3786\"], [0.5555555555555556, \"#d8576b\"], [0.6666666666666666, \"#ed7953\"], [0.7777777777777778, \"#fb9f3a\"], [0.8888888888888888, \"#fdca26\"], [1.0, \"#f0f921\"]], \"type\": \"contour\"}], \"contourcarpet\": [{\"colorbar\": {\"outlinewidth\": 0, \"ticks\": \"\"}, \"type\": \"contourcarpet\"}], \"heatmap\": [{\"colorbar\": {\"outlinewidth\": 0, \"ticks\": \"\"}, \"colorscale\": [[0.0, \"#0d0887\"], [0.1111111111111111, \"#46039f\"], [0.2222222222222222, \"#7201a8\"], [0.3333333333333333, \"#9c179e\"], [0.4444444444444444, \"#bd3786\"], [0.5555555555555556, \"#d8576b\"], [0.6666666666666666, \"#ed7953\"], [0.7777777777777778, \"#fb9f3a\"], [0.8888888888888888, \"#fdca26\"], [1.0, \"#f0f921\"]], \"type\": \"heatmap\"}], \"heatmapgl\": [{\"colorbar\": {\"outlinewidth\": 0, \"ticks\": \"\"}, \"colorscale\": [[0.0, \"#0d0887\"], [0.1111111111111111, \"#46039f\"], [0.2222222222222222, \"#7201a8\"], [0.3333333333333333, \"#9c179e\"], [0.4444444444444444, \"#bd3786\"], [0.5555555555555556, \"#d8576b\"], [0.6666666666666666, \"#ed7953\"], [0.7777777777777778, \"#fb9f3a\"], [0.8888888888888888, \"#fdca26\"], [1.0, \"#f0f921\"]], \"type\": \"heatmapgl\"}], \"histogram\": [{\"marker\": {\"colorbar\": {\"outlinewidth\": 0, \"ticks\": \"\"}}, \"type\": \"histogram\"}], \"histogram2d\": [{\"colorbar\": {\"outlinewidth\": 0, \"ticks\": \"\"}, \"colorscale\": [[0.0, \"#0d0887\"], [0.1111111111111111, \"#46039f\"], [0.2222222222222222, \"#7201a8\"], [0.3333333333333333, \"#9c179e\"], [0.4444444444444444, \"#bd3786\"], [0.5555555555555556, \"#d8576b\"], [0.6666666666666666, \"#ed7953\"], [0.7777777777777778, \"#fb9f3a\"], [0.8888888888888888, \"#fdca26\"], [1.0, \"#f0f921\"]], \"type\": \"histogram2d\"}], \"histogram2dcontour\": [{\"colorbar\": {\"outlinewidth\": 0, \"ticks\": \"\"}, \"colorscale\": [[0.0, \"#0d0887\"], [0.1111111111111111, \"#46039f\"], [0.2222222222222222, \"#7201a8\"], [0.3333333333333333, \"#9c179e\"], [0.4444444444444444, \"#bd3786\"], [0.5555555555555556, \"#d8576b\"], [0.6666666666666666, \"#ed7953\"], [0.7777777777777778, \"#fb9f3a\"], [0.8888888888888888, \"#fdca26\"], [1.0, \"#f0f921\"]], \"type\": \"histogram2dcontour\"}], \"mesh3d\": [{\"colorbar\": {\"outlinewidth\": 0, \"ticks\": \"\"}, \"type\": \"mesh3d\"}], \"parcoords\": [{\"line\": {\"colorbar\": {\"outlinewidth\": 0, \"ticks\": \"\"}}, \"type\": \"parcoords\"}], \"pie\": [{\"automargin\": true, \"type\": \"pie\"}], \"scatter\": [{\"marker\": {\"colorbar\": {\"outlinewidth\": 0, \"ticks\": \"\"}}, \"type\": \"scatter\"}], \"scatter3d\": [{\"line\": {\"colorbar\": {\"outlinewidth\": 0, \"ticks\": \"\"}}, \"marker\": {\"colorbar\": {\"outlinewidth\": 0, \"ticks\": \"\"}}, \"type\": \"scatter3d\"}], \"scattercarpet\": [{\"marker\": {\"colorbar\": {\"outlinewidth\": 0, \"ticks\": \"\"}}, \"type\": \"scattercarpet\"}], \"scattergeo\": [{\"marker\": {\"colorbar\": {\"outlinewidth\": 0, \"ticks\": \"\"}}, \"type\": \"scattergeo\"}], \"scattergl\": [{\"marker\": {\"colorbar\": {\"outlinewidth\": 0, \"ticks\": \"\"}}, \"type\": \"scattergl\"}], \"scattermapbox\": [{\"marker\": {\"colorbar\": {\"outlinewidth\": 0, \"ticks\": \"\"}}, \"type\": \"scattermapbox\"}], \"scatterpolar\": [{\"marker\": {\"colorbar\": {\"outlinewidth\": 0, \"ticks\": \"\"}}, \"type\": \"scatterpolar\"}], \"scatterpolargl\": [{\"marker\": {\"colorbar\": {\"outlinewidth\": 0, \"ticks\": \"\"}}, \"type\": \"scatterpolargl\"}], \"scatterternary\": [{\"marker\": {\"colorbar\": {\"outlinewidth\": 0, \"ticks\": \"\"}}, \"type\": \"scatterternary\"}], \"surface\": [{\"colorbar\": {\"outlinewidth\": 0, \"ticks\": \"\"}, \"colorscale\": [[0.0, \"#0d0887\"], [0.1111111111111111, \"#46039f\"], [0.2222222222222222, \"#7201a8\"], [0.3333333333333333, \"#9c179e\"], [0.4444444444444444, \"#bd3786\"], [0.5555555555555556, \"#d8576b\"], [0.6666666666666666, \"#ed7953\"], [0.7777777777777778, \"#fb9f3a\"], [0.8888888888888888, \"#fdca26\"], [1.0, \"#f0f921\"]], \"type\": \"surface\"}], \"table\": [{\"cells\": {\"fill\": {\"color\": \"#EBF0F8\"}, \"line\": {\"color\": \"white\"}}, \"header\": {\"fill\": {\"color\": \"#C8D4E3\"}, \"line\": {\"color\": \"white\"}}, \"type\": \"table\"}]}, \"layout\": {\"annotationdefaults\": {\"arrowcolor\": \"#2a3f5f\", \"arrowhead\": 0, \"arrowwidth\": 1}, \"coloraxis\": {\"colorbar\": {\"outlinewidth\": 0, \"ticks\": \"\"}}, \"colorscale\": {\"diverging\": [[0, \"#8e0152\"], [0.1, \"#c51b7d\"], [0.2, \"#de77ae\"], [0.3, \"#f1b6da\"], [0.4, \"#fde0ef\"], [0.5, \"#f7f7f7\"], [0.6, \"#e6f5d0\"], [0.7, \"#b8e186\"], [0.8, \"#7fbc41\"], [0.9, \"#4d9221\"], [1, \"#276419\"]], \"sequential\": [[0.0, \"#0d0887\"], [0.1111111111111111, \"#46039f\"], [0.2222222222222222, \"#7201a8\"], [0.3333333333333333, \"#9c179e\"], [0.4444444444444444, \"#bd3786\"], [0.5555555555555556, \"#d8576b\"], [0.6666666666666666, \"#ed7953\"], [0.7777777777777778, \"#fb9f3a\"], [0.8888888888888888, \"#fdca26\"], [1.0, \"#f0f921\"]], \"sequentialminus\": [[0.0, \"#0d0887\"], [0.1111111111111111, \"#46039f\"], [0.2222222222222222, \"#7201a8\"], [0.3333333333333333, \"#9c179e\"], [0.4444444444444444, \"#bd3786\"], [0.5555555555555556, \"#d8576b\"], [0.6666666666666666, \"#ed7953\"], [0.7777777777777778, \"#fb9f3a\"], [0.8888888888888888, \"#fdca26\"], [1.0, \"#f0f921\"]]}, \"colorway\": [\"#636efa\", \"#EF553B\", \"#00cc96\", \"#ab63fa\", \"#FFA15A\", \"#19d3f3\", \"#FF6692\", \"#B6E880\", \"#FF97FF\", \"#FECB52\"], \"font\": {\"color\": \"#2a3f5f\"}, \"geo\": {\"bgcolor\": \"white\", \"lakecolor\": \"white\", \"landcolor\": \"#E5ECF6\", \"showlakes\": true, \"showland\": true, \"subunitcolor\": \"white\"}, \"hoverlabel\": {\"align\": \"left\"}, \"hovermode\": \"closest\", \"mapbox\": {\"style\": \"light\"}, \"paper_bgcolor\": \"white\", \"plot_bgcolor\": \"#E5ECF6\", \"polar\": {\"angularaxis\": {\"gridcolor\": \"white\", \"linecolor\": \"white\", \"ticks\": \"\"}, \"bgcolor\": \"#E5ECF6\", \"radialaxis\": {\"gridcolor\": \"white\", \"linecolor\": \"white\", \"ticks\": \"\"}}, \"scene\": {\"xaxis\": {\"backgroundcolor\": \"#E5ECF6\", \"gridcolor\": \"white\", \"gridwidth\": 2, \"linecolor\": \"white\", \"showbackground\": true, \"ticks\": \"\", \"zerolinecolor\": \"white\"}, \"yaxis\": {\"backgroundcolor\": \"#E5ECF6\", \"gridcolor\": \"white\", \"gridwidth\": 2, \"linecolor\": \"white\", \"showbackground\": true, \"ticks\": \"\", \"zerolinecolor\": \"white\"}, \"zaxis\": {\"backgroundcolor\": \"#E5ECF6\", \"gridcolor\": \"white\", \"gridwidth\": 2, \"linecolor\": \"white\", \"showbackground\": true, \"ticks\": \"\", \"zerolinecolor\": \"white\"}}, \"shapedefaults\": {\"line\": {\"color\": \"#2a3f5f\"}}, \"ternary\": {\"aaxis\": {\"gridcolor\": \"white\", \"linecolor\": \"white\", \"ticks\": \"\"}, \"baxis\": {\"gridcolor\": \"white\", \"linecolor\": \"white\", \"ticks\": \"\"}, \"bgcolor\": \"#E5ECF6\", \"caxis\": {\"gridcolor\": \"white\", \"linecolor\": \"white\", \"ticks\": \"\"}}, \"title\": {\"x\": 0.05}, \"xaxis\": {\"automargin\": true, \"gridcolor\": \"white\", \"linecolor\": \"white\", \"ticks\": \"\", \"title\": {\"standoff\": 15}, \"zerolinecolor\": \"white\", \"zerolinewidth\": 2}, \"yaxis\": {\"automargin\": true, \"gridcolor\": \"white\", \"linecolor\": \"white\", \"ticks\": \"\", \"title\": {\"standoff\": 15}, \"zerolinecolor\": \"white\", \"zerolinewidth\": 2}}}, \"title\": {\"text\": \"Cummulative points Top 5\"}, \"updatemenus\": [{\"active\": 0, \"buttons\": [{\"args\": [{\"visible\": [true, true, true, true, true, false, false, false, false, false]}, {\"annotations\": [], \"title\": \"Cummulative points Top 5\"}], \"label\": \"Top 5 athletes\", \"method\": \"update\"}, {\"args\": [{\"visible\": [true, true, true, true, true, true, true, true, true, true]}, {\"annotations\": [], \"title\": \"Cummulative points Top 10\"}], \"label\": \"Top 10 athletes\", \"method\": \"update\"}], \"direction\": \"right\", \"type\": \"buttons\", \"x\": 0.65, \"y\": 1.2}], \"xaxis\": {\"domain\": [0.05, 1.0]}},\n",
       "                        {\"responsive\": true}\n",
       "                    ).then(function(){\n",
       "                            \n",
       "var gd = document.getElementById('bfbcef77-4d5b-4e3e-a9b6-25a7962ce683');\n",
       "var x = new MutationObserver(function (mutations, observer) {{\n",
       "        var display = window.getComputedStyle(gd).display;\n",
       "        if (!display || display === 'none') {{\n",
       "            console.log([gd, 'removed!']);\n",
       "            Plotly.purge(gd);\n",
       "            observer.disconnect();\n",
       "        }}\n",
       "}});\n",
       "\n",
       "// Listen for the removal of the full notebook cells\n",
       "var notebookContainer = gd.closest('#notebook-container');\n",
       "if (notebookContainer) {{\n",
       "    x.observe(notebookContainer, {childList: true});\n",
       "}}\n",
       "\n",
       "// Listen for the clearing of the current output cell\n",
       "var outputEl = gd.closest('.output');\n",
       "if (outputEl) {{\n",
       "    x.observe(outputEl, {childList: true});\n",
       "}}\n",
       "\n",
       "                        })\n",
       "                };\n",
       "                });\n",
       "            </script>\n",
       "        </div>"
      ]
     },
     "metadata": {},
     "output_type": "display_data"
    }
   ],
   "source": [
    "# Initialize figure\n",
    "fig = go.Figure()\n",
    "\n",
    "# Add Traces\n",
    "\n",
    "fig.add_trace(\n",
    "    go.Scatter(x=list(top10.index),\n",
    "               y=list(top10.loc[:,'Italo Ferreira']),\n",
    "               name=\"Italo Ferreira\",\n",
    "               line=dict(color=\"#f2a81a\")))\n",
    "\n",
    "fig.add_trace(\n",
    "    go.Scatter(x=list(top10.index),\n",
    "               y=list(top10.loc[:,'Gabriel Medina']),\n",
    "               name=\"Gabriel Medina\",\n",
    "               line=dict(color=\"#ff0000\")))\n",
    "\n",
    "fig.add_trace(\n",
    "    go.Scatter(x=list(top10.index),\n",
    "               y=list(top10.loc[:,'Jordy Smith']),\n",
    "               name=\"Jordy Smith\",\n",
    "               line=dict(color=\"#0051ff\")))\n",
    "\n",
    "fig.add_trace(\n",
    "    go.Scatter(x=list(top10.index),\n",
    "               y=list(top10.loc[:,'Filipe Toledo']),\n",
    "               name=\"Filipe Toledo\",\n",
    "               line=dict(color=\"#1ddb00\")))\n",
    "\n",
    "fig.add_trace(\n",
    "    go.Scatter(x=list(top10.index),\n",
    "               y=list(top10.loc[:,'Kolohe Andino']),\n",
    "               name=\"Kolohe Andino\",\n",
    "               line=dict(color=\"#db00d1\")))\n",
    "\n",
    "fig.add_trace(\n",
    "    go.Scatter(x=list(top10.index),\n",
    "               y=list(top10.loc[:,'Kanoa Igarashi']),\n",
    "               name=\"Kanoa Igarashi\",\n",
    "               visible=False,\n",
    "               line=dict(color=\"#00ffdf\")))\n",
    "\n",
    "fig.add_trace(\n",
    "    go.Scatter(x=list(top10.index),\n",
    "               y=list(top10.loc[:,'John John Florence']),\n",
    "               name=\"John John Florence\",\n",
    "               visible=False,\n",
    "               line=dict(color=\"#ff6700\")))\n",
    "\n",
    "fig.add_trace(\n",
    "    go.Scatter(x=list(top10.index),\n",
    "               y=list(top10.loc[:,'Kelly Slater']),\n",
    "               name=\"Kelly Slater\",\n",
    "               visible=False,\n",
    "               line=dict(color=\"#9bff85\")))\n",
    "\n",
    "fig.add_trace(\n",
    "    go.Scatter(x=list(top10.index),\n",
    "               y=list(top10.loc[:,'Owen Wright']),\n",
    "               name=\"Owen Wright\",\n",
    "               visible=False,\n",
    "               line=dict(color=\"#ff85f4\")))\n",
    "\n",
    "fig.add_trace(\n",
    "    go.Scatter(x=list(top10.index),\n",
    "               y=list(top10.loc[:,'Jeremy Flores']),\n",
    "               name=\"Jeremy Flores\",\n",
    "               visible=False,\n",
    "               line=dict(color=\"#9aa6ff\")))\n",
    "\n",
    "# Add Annotations and Buttons\n",
    "\n",
    "fig.update_layout(\n",
    "    updatemenus=[\n",
    "        go.layout.Updatemenu(\n",
    "            type=\"buttons\",\n",
    "            direction=\"right\",\n",
    "            active=0,\n",
    "            x=0.65,\n",
    "            y=1.2,\n",
    "            buttons=list([\n",
    "                dict(label=\"Top 5 athletes\",\n",
    "                     method=\"update\",\n",
    "                     args=[{\"visible\": [True, True, True, True, True, False, False, False, False, False]},\n",
    "                           {\"title\": \"Cummulative points Top 5\",\n",
    "                            \"annotations\": []}]),\n",
    "                 dict(label=\"Top 10 athletes\",\n",
    "                     method=\"update\",\n",
    "                     args=[{\"visible\": [True, True, True, True, True, True, True, True, True, True]},\n",
    "                           {\"title\": \"Cummulative points Top 10\",\n",
    "                            \"annotations\": []}]),\n",
    "            ]),\n",
    "        )\n",
    "    ])\n",
    "\n",
    "# Set title\n",
    "fig.update_layout(\n",
    "    title_text=\"Cummulative points Top 5\",\n",
    "    xaxis_domain=[0.05, 1.0]\n",
    ")\n",
    "\n",
    "fig.show()"
   ]
  }
 ],
 "metadata": {
  "kernelspec": {
   "display_name": "Python 3",
   "language": "python",
   "name": "python3"
  },
  "language_info": {
   "codemirror_mode": {
    "name": "ipython",
    "version": 3
   },
   "file_extension": ".py",
   "mimetype": "text/x-python",
   "name": "python",
   "nbconvert_exporter": "python",
   "pygments_lexer": "ipython3",
   "version": "3.7.3"
  }
 },
 "nbformat": 4,
 "nbformat_minor": 2
}
